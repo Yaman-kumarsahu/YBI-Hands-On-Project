{
  "nbformat": 4,
  "nbformat_minor": 0,
  "metadata": {
    "colab": {
      "name": "Movie Recommendation system",
      "provenance": [],
      "collapsed_sections": [
        "1yiejW9J1Dny",
        "485S1GsP1P-U",
        "VrnY8YLDpKzW",
        "NBK2cTLY2FAS",
        "UlRx6JNz2PI8",
        "Db8WnFCCrjm-",
        "geu8S9Om2dbD",
        "_NdHhlUZ44Wz",
        "472AnG27A9pl",
        "vb2o5dz0KR60"
      ]
    },
    "kernelspec": {
      "name": "python3",
      "display_name": "Python 3"
    },
    "language_info": {
      "name": "python"
    }
  },
  "cells": [
    {
      "cell_type": "markdown",
      "source": [
        "# **Movie Recommendation system**"
      ],
      "metadata": {
        "id": "hnjeXzSbv_D7"
      }
    },
    {
      "cell_type": "markdown",
      "source": [
        "**Recommender System** is a system that seeks to predicts or filter preference according to the user's choices. Recommender systems are utilized in a variety of areas including movies music,news, books, research articles, search quries, social tags, and producy in general Recommender system produce a list of recommendations in any of the two ways-\n",
        "\n",
        "**Collaborative filtering**: Collaobrative filtering approaches build a model from the user's past behaviour (i.e. items purchased or searched by the user) as well as similar decisions made by other users. This model is then used to predict items (or ratings for items) that users may have an interst in.\n",
        "\n",
        "**Content-based filtering**: Content based filtering approaches uses a series of descrete characterstics of an item in order to recommend additional items with similar properties. Content-based filtering methods are totally based on a description of the item and a profile of the user's preferences. It recommends item based on the user's past preferences.Let's develop a basic recommendation system using Python and Pandas.\n",
        "\n",
        "Lets develop a basic recommendation system by suggesting items that are most similar to a particular item, in the case, movies. It just tells what movies/items are most similar to the user's movie choice."
      ],
      "metadata": {
        "id": "Uzu4zz44wBOC"
      }
    },
    {
      "cell_type": "markdown",
      "source": [
        "##**Import Libary**"
      ],
      "metadata": {
        "id": "1yiejW9J1Dny"
      }
    },
    {
      "cell_type": "code",
      "source": [
        "import pandas as pd\n",
        "import numpy as np"
      ],
      "metadata": {
        "id": "3x93SbX81C4T"
      },
      "execution_count": null,
      "outputs": []
    },
    {
      "cell_type": "markdown",
      "source": [
        "##**Import Dataset**"
      ],
      "metadata": {
        "id": "485S1GsP1P-U"
      }
    },
    {
      "cell_type": "code",
      "source": [
        "df = pd.read_csv(r'https://raw.githubusercontent.com/YBI-Foundation/Dataset/main/Movies%20Recommendation.csv')"
      ],
      "metadata": {
        "id": "eA8bnFAe1TWj"
      },
      "execution_count": null,
      "outputs": []
    },
    {
      "cell_type": "markdown",
      "source": [
        "##**Get the First Five Rows of DataFrame**"
      ],
      "metadata": {
        "id": "VrnY8YLDpKzW"
      }
    },
    {
      "cell_type": "code",
      "source": [
        "df.head()"
      ],
      "metadata": {
        "colab": {
          "base_uri": "https://localhost:8080/"
        },
        "id": "tOLdFKvW1xpL",
        "outputId": "423293d9-6404-473e-fac6-fa21aed00ec6"
      },
      "execution_count": null,
      "outputs": [
        {
          "output_type": "execute_result",
          "data": {
            "text/plain": [
              "   Movie_ID      Movie_Title                       Movie_Genre Movie_Language  \\\n",
              "0         1       Four Rooms                      Crime Comedy             en   \n",
              "1         2        Star Wars  Adventure Action Science Fiction             en   \n",
              "2         3     Finding Nemo                  Animation Family             en   \n",
              "3         4     Forrest Gump              Comedy Drama Romance             en   \n",
              "4         5  American Beauty                             Drama             en   \n",
              "\n",
              "   Movie_Budget  Movie_Popularity Movie_Release_Date  Movie_Revenue  \\\n",
              "0       4000000         22.876230         09-12-1995        4300000   \n",
              "1      11000000        126.393695         25-05-1977      775398007   \n",
              "2      94000000         85.688789         30-05-2003      940335536   \n",
              "3      55000000        138.133331         06-07-1994      677945399   \n",
              "4      15000000         80.878605         15-09-1999      356296601   \n",
              "\n",
              "   Movie_Runtime  Movie_Vote  ...  \\\n",
              "0           98.0         6.5  ...   \n",
              "1          121.0         8.1  ...   \n",
              "2          100.0         7.6  ...   \n",
              "3          142.0         8.2  ...   \n",
              "4          122.0         7.9  ...   \n",
              "\n",
              "                                      Movie_Homepage  \\\n",
              "0                                                NaN   \n",
              "1  http://www.starwars.com/films/star-wars-episod...   \n",
              "2              http://movies.disney.com/finding-nemo   \n",
              "3                                                NaN   \n",
              "4                      http://www.dreamworks.com/ab/   \n",
              "\n",
              "                                      Movie_Keywords  \\\n",
              "0          hotel new year's eve witch bet hotel room   \n",
              "1        android galaxy hermit death star lightsaber   \n",
              "2  father son relationship harbor underwater fish...   \n",
              "3  vietnam veteran hippie mentally disabled runni...   \n",
              "4  male nudity female nudity adultery midlife cri...   \n",
              "\n",
              "                                      Movie_Overview  \\\n",
              "0  It's Ted the Bellhop's first night on the job....   \n",
              "1  Princess Leia is captured and held hostage by ...   \n",
              "2  Nemo, an adventurous young clownfish, is unexp...   \n",
              "3  A man with a low IQ has accomplished great thi...   \n",
              "4  Lester Burnham, a depressed suburban father in...   \n",
              "\n",
              "                              Movie_Production_House  \\\n",
              "0  [{\"name\": \"Miramax Films\", \"id\": 14}, {\"name\":...   \n",
              "1  [{\"name\": \"Lucasfilm\", \"id\": 1}, {\"name\": \"Twe...   \n",
              "2     [{\"name\": \"Pixar Animation Studios\", \"id\": 3}]   \n",
              "3          [{\"name\": \"Paramount Pictures\", \"id\": 4}]   \n",
              "4  [{\"name\": \"DreamWorks SKG\", \"id\": 27}, {\"name\"...   \n",
              "\n",
              "                            Movie_Production_Country  \\\n",
              "0  [{\"iso_3166_1\": \"US\", \"name\": \"United States o...   \n",
              "1  [{\"iso_3166_1\": \"US\", \"name\": \"United States o...   \n",
              "2  [{\"iso_3166_1\": \"US\", \"name\": \"United States o...   \n",
              "3  [{\"iso_3166_1\": \"US\", \"name\": \"United States o...   \n",
              "4  [{\"iso_3166_1\": \"US\", \"name\": \"United States o...   \n",
              "\n",
              "                      Movie_Spoken_Language  \\\n",
              "0  [{\"iso_639_1\": \"en\", \"name\": \"English\"}]   \n",
              "1  [{\"iso_639_1\": \"en\", \"name\": \"English\"}]   \n",
              "2  [{\"iso_639_1\": \"en\", \"name\": \"English\"}]   \n",
              "3  [{\"iso_639_1\": \"en\", \"name\": \"English\"}]   \n",
              "4  [{\"iso_639_1\": \"en\", \"name\": \"English\"}]   \n",
              "\n",
              "                                       Movie_Tagline  \\\n",
              "0  Twelve outrageous guests. Four scandalous requ...   \n",
              "1       A long time ago in a galaxy far, far away...   \n",
              "2  There are 3.7 trillion fish in the ocean, they...   \n",
              "3  The world will never be the same, once you've ...   \n",
              "4                                       Look closer.   \n",
              "\n",
              "                                          Movie_Cast  \\\n",
              "0  Tim Roth Antonio Banderas Jennifer Beals Madon...   \n",
              "1  Mark Hamill Harrison Ford Carrie Fisher Peter ...   \n",
              "2  Albert Brooks Ellen DeGeneres Alexander Gould ...   \n",
              "3  Tom Hanks Robin Wright Gary Sinise Mykelti Wil...   \n",
              "4  Kevin Spacey Annette Bening Thora Birch Wes Be...   \n",
              "\n",
              "                                          Movie_Crew   Movie_Director  \n",
              "0  [{'name': 'Allison Anders', 'gender': 1, 'depa...   Allison Anders  \n",
              "1  [{'name': 'George Lucas', 'gender': 2, 'depart...     George Lucas  \n",
              "2  [{'name': 'Andrew Stanton', 'gender': 2, 'depa...   Andrew Stanton  \n",
              "3  [{'name': 'Alan Silvestri', 'gender': 2, 'depa...  Robert Zemeckis  \n",
              "4  [{'name': 'Thomas Newman', 'gender': 2, 'depar...       Sam Mendes  \n",
              "\n",
              "[5 rows x 21 columns]"
            ],
            "text/html": [
              "\n",
              "  <div id=\"df-983b9b10-cff7-4078-a5ea-28d174480b83\">\n",
              "    <div class=\"colab-df-container\">\n",
              "      <div>\n",
              "<style scoped>\n",
              "    .dataframe tbody tr th:only-of-type {\n",
              "        vertical-align: middle;\n",
              "    }\n",
              "\n",
              "    .dataframe tbody tr th {\n",
              "        vertical-align: top;\n",
              "    }\n",
              "\n",
              "    .dataframe thead th {\n",
              "        text-align: right;\n",
              "    }\n",
              "</style>\n",
              "<table border=\"1\" class=\"dataframe\">\n",
              "  <thead>\n",
              "    <tr style=\"text-align: right;\">\n",
              "      <th></th>\n",
              "      <th>Movie_ID</th>\n",
              "      <th>Movie_Title</th>\n",
              "      <th>Movie_Genre</th>\n",
              "      <th>Movie_Language</th>\n",
              "      <th>Movie_Budget</th>\n",
              "      <th>Movie_Popularity</th>\n",
              "      <th>Movie_Release_Date</th>\n",
              "      <th>Movie_Revenue</th>\n",
              "      <th>Movie_Runtime</th>\n",
              "      <th>Movie_Vote</th>\n",
              "      <th>...</th>\n",
              "      <th>Movie_Homepage</th>\n",
              "      <th>Movie_Keywords</th>\n",
              "      <th>Movie_Overview</th>\n",
              "      <th>Movie_Production_House</th>\n",
              "      <th>Movie_Production_Country</th>\n",
              "      <th>Movie_Spoken_Language</th>\n",
              "      <th>Movie_Tagline</th>\n",
              "      <th>Movie_Cast</th>\n",
              "      <th>Movie_Crew</th>\n",
              "      <th>Movie_Director</th>\n",
              "    </tr>\n",
              "  </thead>\n",
              "  <tbody>\n",
              "    <tr>\n",
              "      <th>0</th>\n",
              "      <td>1</td>\n",
              "      <td>Four Rooms</td>\n",
              "      <td>Crime Comedy</td>\n",
              "      <td>en</td>\n",
              "      <td>4000000</td>\n",
              "      <td>22.876230</td>\n",
              "      <td>09-12-1995</td>\n",
              "      <td>4300000</td>\n",
              "      <td>98.0</td>\n",
              "      <td>6.5</td>\n",
              "      <td>...</td>\n",
              "      <td>NaN</td>\n",
              "      <td>hotel new year's eve witch bet hotel room</td>\n",
              "      <td>It's Ted the Bellhop's first night on the job....</td>\n",
              "      <td>[{\"name\": \"Miramax Films\", \"id\": 14}, {\"name\":...</td>\n",
              "      <td>[{\"iso_3166_1\": \"US\", \"name\": \"United States o...</td>\n",
              "      <td>[{\"iso_639_1\": \"en\", \"name\": \"English\"}]</td>\n",
              "      <td>Twelve outrageous guests. Four scandalous requ...</td>\n",
              "      <td>Tim Roth Antonio Banderas Jennifer Beals Madon...</td>\n",
              "      <td>[{'name': 'Allison Anders', 'gender': 1, 'depa...</td>\n",
              "      <td>Allison Anders</td>\n",
              "    </tr>\n",
              "    <tr>\n",
              "      <th>1</th>\n",
              "      <td>2</td>\n",
              "      <td>Star Wars</td>\n",
              "      <td>Adventure Action Science Fiction</td>\n",
              "      <td>en</td>\n",
              "      <td>11000000</td>\n",
              "      <td>126.393695</td>\n",
              "      <td>25-05-1977</td>\n",
              "      <td>775398007</td>\n",
              "      <td>121.0</td>\n",
              "      <td>8.1</td>\n",
              "      <td>...</td>\n",
              "      <td>http://www.starwars.com/films/star-wars-episod...</td>\n",
              "      <td>android galaxy hermit death star lightsaber</td>\n",
              "      <td>Princess Leia is captured and held hostage by ...</td>\n",
              "      <td>[{\"name\": \"Lucasfilm\", \"id\": 1}, {\"name\": \"Twe...</td>\n",
              "      <td>[{\"iso_3166_1\": \"US\", \"name\": \"United States o...</td>\n",
              "      <td>[{\"iso_639_1\": \"en\", \"name\": \"English\"}]</td>\n",
              "      <td>A long time ago in a galaxy far, far away...</td>\n",
              "      <td>Mark Hamill Harrison Ford Carrie Fisher Peter ...</td>\n",
              "      <td>[{'name': 'George Lucas', 'gender': 2, 'depart...</td>\n",
              "      <td>George Lucas</td>\n",
              "    </tr>\n",
              "    <tr>\n",
              "      <th>2</th>\n",
              "      <td>3</td>\n",
              "      <td>Finding Nemo</td>\n",
              "      <td>Animation Family</td>\n",
              "      <td>en</td>\n",
              "      <td>94000000</td>\n",
              "      <td>85.688789</td>\n",
              "      <td>30-05-2003</td>\n",
              "      <td>940335536</td>\n",
              "      <td>100.0</td>\n",
              "      <td>7.6</td>\n",
              "      <td>...</td>\n",
              "      <td>http://movies.disney.com/finding-nemo</td>\n",
              "      <td>father son relationship harbor underwater fish...</td>\n",
              "      <td>Nemo, an adventurous young clownfish, is unexp...</td>\n",
              "      <td>[{\"name\": \"Pixar Animation Studios\", \"id\": 3}]</td>\n",
              "      <td>[{\"iso_3166_1\": \"US\", \"name\": \"United States o...</td>\n",
              "      <td>[{\"iso_639_1\": \"en\", \"name\": \"English\"}]</td>\n",
              "      <td>There are 3.7 trillion fish in the ocean, they...</td>\n",
              "      <td>Albert Brooks Ellen DeGeneres Alexander Gould ...</td>\n",
              "      <td>[{'name': 'Andrew Stanton', 'gender': 2, 'depa...</td>\n",
              "      <td>Andrew Stanton</td>\n",
              "    </tr>\n",
              "    <tr>\n",
              "      <th>3</th>\n",
              "      <td>4</td>\n",
              "      <td>Forrest Gump</td>\n",
              "      <td>Comedy Drama Romance</td>\n",
              "      <td>en</td>\n",
              "      <td>55000000</td>\n",
              "      <td>138.133331</td>\n",
              "      <td>06-07-1994</td>\n",
              "      <td>677945399</td>\n",
              "      <td>142.0</td>\n",
              "      <td>8.2</td>\n",
              "      <td>...</td>\n",
              "      <td>NaN</td>\n",
              "      <td>vietnam veteran hippie mentally disabled runni...</td>\n",
              "      <td>A man with a low IQ has accomplished great thi...</td>\n",
              "      <td>[{\"name\": \"Paramount Pictures\", \"id\": 4}]</td>\n",
              "      <td>[{\"iso_3166_1\": \"US\", \"name\": \"United States o...</td>\n",
              "      <td>[{\"iso_639_1\": \"en\", \"name\": \"English\"}]</td>\n",
              "      <td>The world will never be the same, once you've ...</td>\n",
              "      <td>Tom Hanks Robin Wright Gary Sinise Mykelti Wil...</td>\n",
              "      <td>[{'name': 'Alan Silvestri', 'gender': 2, 'depa...</td>\n",
              "      <td>Robert Zemeckis</td>\n",
              "    </tr>\n",
              "    <tr>\n",
              "      <th>4</th>\n",
              "      <td>5</td>\n",
              "      <td>American Beauty</td>\n",
              "      <td>Drama</td>\n",
              "      <td>en</td>\n",
              "      <td>15000000</td>\n",
              "      <td>80.878605</td>\n",
              "      <td>15-09-1999</td>\n",
              "      <td>356296601</td>\n",
              "      <td>122.0</td>\n",
              "      <td>7.9</td>\n",
              "      <td>...</td>\n",
              "      <td>http://www.dreamworks.com/ab/</td>\n",
              "      <td>male nudity female nudity adultery midlife cri...</td>\n",
              "      <td>Lester Burnham, a depressed suburban father in...</td>\n",
              "      <td>[{\"name\": \"DreamWorks SKG\", \"id\": 27}, {\"name\"...</td>\n",
              "      <td>[{\"iso_3166_1\": \"US\", \"name\": \"United States o...</td>\n",
              "      <td>[{\"iso_639_1\": \"en\", \"name\": \"English\"}]</td>\n",
              "      <td>Look closer.</td>\n",
              "      <td>Kevin Spacey Annette Bening Thora Birch Wes Be...</td>\n",
              "      <td>[{'name': 'Thomas Newman', 'gender': 2, 'depar...</td>\n",
              "      <td>Sam Mendes</td>\n",
              "    </tr>\n",
              "  </tbody>\n",
              "</table>\n",
              "<p>5 rows × 21 columns</p>\n",
              "</div>\n",
              "      <button class=\"colab-df-convert\" onclick=\"convertToInteractive('df-983b9b10-cff7-4078-a5ea-28d174480b83')\"\n",
              "              title=\"Convert this dataframe to an interactive table.\"\n",
              "              style=\"display:none;\">\n",
              "        \n",
              "  <svg xmlns=\"http://www.w3.org/2000/svg\" height=\"24px\"viewBox=\"0 0 24 24\"\n",
              "       width=\"24px\">\n",
              "    <path d=\"M0 0h24v24H0V0z\" fill=\"none\"/>\n",
              "    <path d=\"M18.56 5.44l.94 2.06.94-2.06 2.06-.94-2.06-.94-.94-2.06-.94 2.06-2.06.94zm-11 1L8.5 8.5l.94-2.06 2.06-.94-2.06-.94L8.5 2.5l-.94 2.06-2.06.94zm10 10l.94 2.06.94-2.06 2.06-.94-2.06-.94-.94-2.06-.94 2.06-2.06.94z\"/><path d=\"M17.41 7.96l-1.37-1.37c-.4-.4-.92-.59-1.43-.59-.52 0-1.04.2-1.43.59L10.3 9.45l-7.72 7.72c-.78.78-.78 2.05 0 2.83L4 21.41c.39.39.9.59 1.41.59.51 0 1.02-.2 1.41-.59l7.78-7.78 2.81-2.81c.8-.78.8-2.07 0-2.86zM5.41 20L4 18.59l7.72-7.72 1.47 1.35L5.41 20z\"/>\n",
              "  </svg>\n",
              "      </button>\n",
              "      \n",
              "  <style>\n",
              "    .colab-df-container {\n",
              "      display:flex;\n",
              "      flex-wrap:wrap;\n",
              "      gap: 12px;\n",
              "    }\n",
              "\n",
              "    .colab-df-convert {\n",
              "      background-color: #E8F0FE;\n",
              "      border: none;\n",
              "      border-radius: 50%;\n",
              "      cursor: pointer;\n",
              "      display: none;\n",
              "      fill: #1967D2;\n",
              "      height: 32px;\n",
              "      padding: 0 0 0 0;\n",
              "      width: 32px;\n",
              "    }\n",
              "\n",
              "    .colab-df-convert:hover {\n",
              "      background-color: #E2EBFA;\n",
              "      box-shadow: 0px 1px 2px rgba(60, 64, 67, 0.3), 0px 1px 3px 1px rgba(60, 64, 67, 0.15);\n",
              "      fill: #174EA6;\n",
              "    }\n",
              "\n",
              "    [theme=dark] .colab-df-convert {\n",
              "      background-color: #3B4455;\n",
              "      fill: #D2E3FC;\n",
              "    }\n",
              "\n",
              "    [theme=dark] .colab-df-convert:hover {\n",
              "      background-color: #434B5C;\n",
              "      box-shadow: 0px 1px 3px 1px rgba(0, 0, 0, 0.15);\n",
              "      filter: drop-shadow(0px 1px 2px rgba(0, 0, 0, 0.3));\n",
              "      fill: #FFFFFF;\n",
              "    }\n",
              "  </style>\n",
              "\n",
              "      <script>\n",
              "        const buttonEl =\n",
              "          document.querySelector('#df-983b9b10-cff7-4078-a5ea-28d174480b83 button.colab-df-convert');\n",
              "        buttonEl.style.display =\n",
              "          google.colab.kernel.accessAllowed ? 'block' : 'none';\n",
              "\n",
              "        async function convertToInteractive(key) {\n",
              "          const element = document.querySelector('#df-983b9b10-cff7-4078-a5ea-28d174480b83');\n",
              "          const dataTable =\n",
              "            await google.colab.kernel.invokeFunction('convertToInteractive',\n",
              "                                                     [key], {});\n",
              "          if (!dataTable) return;\n",
              "\n",
              "          const docLinkHtml = 'Like what you see? Visit the ' +\n",
              "            '<a target=\"_blank\" href=https://colab.research.google.com/notebooks/data_table.ipynb>data table notebook</a>'\n",
              "            + ' to learn more about interactive tables.';\n",
              "          element.innerHTML = '';\n",
              "          dataTable['output_type'] = 'display_data';\n",
              "          await google.colab.output.renderOutput(dataTable, element);\n",
              "          const docLink = document.createElement('div');\n",
              "          docLink.innerHTML = docLinkHtml;\n",
              "          element.appendChild(docLink);\n",
              "        }\n",
              "      </script>\n",
              "    </div>\n",
              "  </div>\n",
              "  "
            ]
          },
          "metadata": {},
          "execution_count": 3
        }
      ]
    },
    {
      "cell_type": "markdown",
      "source": [
        "##**Get Information of DataFrame**"
      ],
      "metadata": {
        "id": "NBK2cTLY2FAS"
      }
    },
    {
      "cell_type": "code",
      "source": [
        "df.info()"
      ],
      "metadata": {
        "colab": {
          "base_uri": "https://localhost:8080/"
        },
        "id": "0_X5rW-_2Laj",
        "outputId": "7ef02466-65e8-4ea9-b257-5bd9ef0acefe"
      },
      "execution_count": null,
      "outputs": [
        {
          "output_type": "stream",
          "name": "stdout",
          "text": [
            "<class 'pandas.core.frame.DataFrame'>\n",
            "RangeIndex: 4760 entries, 0 to 4759\n",
            "Data columns (total 21 columns):\n",
            " #   Column                    Non-Null Count  Dtype  \n",
            "---  ------                    --------------  -----  \n",
            " 0   Movie_ID                  4760 non-null   int64  \n",
            " 1   Movie_Title               4760 non-null   object \n",
            " 2   Movie_Genre               4760 non-null   object \n",
            " 3   Movie_Language            4760 non-null   object \n",
            " 4   Movie_Budget              4760 non-null   int64  \n",
            " 5   Movie_Popularity          4760 non-null   float64\n",
            " 6   Movie_Release_Date        4760 non-null   object \n",
            " 7   Movie_Revenue             4760 non-null   int64  \n",
            " 8   Movie_Runtime             4758 non-null   float64\n",
            " 9   Movie_Vote                4760 non-null   float64\n",
            " 10  Movie_Vote_Count          4760 non-null   int64  \n",
            " 11  Movie_Homepage            1699 non-null   object \n",
            " 12  Movie_Keywords            4373 non-null   object \n",
            " 13  Movie_Overview            4757 non-null   object \n",
            " 14  Movie_Production_House    4760 non-null   object \n",
            " 15  Movie_Production_Country  4760 non-null   object \n",
            " 16  Movie_Spoken_Language     4760 non-null   object \n",
            " 17  Movie_Tagline             3942 non-null   object \n",
            " 18  Movie_Cast                4733 non-null   object \n",
            " 19  Movie_Crew                4760 non-null   object \n",
            " 20  Movie_Director            4738 non-null   object \n",
            "dtypes: float64(3), int64(4), object(14)\n",
            "memory usage: 781.1+ KB\n"
          ]
        }
      ]
    },
    {
      "cell_type": "markdown",
      "source": [
        "##**Get Shape of DataFrame**"
      ],
      "metadata": {
        "id": "UlRx6JNz2PI8"
      }
    },
    {
      "cell_type": "code",
      "source": [
        "df.shape"
      ],
      "metadata": {
        "colab": {
          "base_uri": "https://localhost:8080/"
        },
        "id": "4TzmS-5p2TsU",
        "outputId": "2767f467-77d9-412f-e5f6-cfe7f0772a74"
      },
      "execution_count": null,
      "outputs": [
        {
          "output_type": "execute_result",
          "data": {
            "text/plain": [
              "(4760, 21)"
            ]
          },
          "metadata": {},
          "execution_count": 5
        }
      ]
    },
    {
      "cell_type": "markdown",
      "source": [
        "##**Get Column Names**"
      ],
      "metadata": {
        "id": "Db8WnFCCrjm-"
      }
    },
    {
      "cell_type": "code",
      "source": [
        "df.columns"
      ],
      "metadata": {
        "colab": {
          "base_uri": "https://localhost:8080/"
        },
        "id": "_RqgNiT92eCT",
        "outputId": "d28a1a22-b4a8-4732-fcb1-b99e571c3ce5"
      },
      "execution_count": null,
      "outputs": [
        {
          "output_type": "execute_result",
          "data": {
            "text/plain": [
              "Index(['Movie_ID', 'Movie_Title', 'Movie_Genre', 'Movie_Language',\n",
              "       'Movie_Budget', 'Movie_Popularity', 'Movie_Release_Date',\n",
              "       'Movie_Revenue', 'Movie_Runtime', 'Movie_Vote', 'Movie_Vote_Count',\n",
              "       'Movie_Homepage', 'Movie_Keywords', 'Movie_Overview',\n",
              "       'Movie_Production_House', 'Movie_Production_Country',\n",
              "       'Movie_Spoken_Language', 'Movie_Tagline', 'Movie_Cast', 'Movie_Crew',\n",
              "       'Movie_Director'],\n",
              "      dtype='object')"
            ]
          },
          "metadata": {},
          "execution_count": 6
        }
      ]
    },
    {
      "cell_type": "markdown",
      "source": [
        "##**Get Features Selection**"
      ],
      "metadata": {
        "id": "geu8S9Om2dbD"
      }
    },
    {
      "cell_type": "code",
      "source": [
        "df_features = df[['Movie_Genre', 'Movie_Keywords', 'Movie_Tagline', 'Movie_Cast', 'Movie_Director']].fillna('')"
      ],
      "metadata": {
        "id": "4zFKbZ_D2mGT"
      },
      "execution_count": null,
      "outputs": []
    },
    {
      "cell_type": "markdown",
      "source": [
        "Selected five existing features to recommend movies. It may vary from one project to another. like one can add vote counts. budget, language etc."
      ],
      "metadata": {
        "id": "5wRWfXsH3KML"
      }
    },
    {
      "cell_type": "code",
      "source": [
        "df_features.shape"
      ],
      "metadata": {
        "colab": {
          "base_uri": "https://localhost:8080/"
        },
        "id": "dSpR4tyo3jta",
        "outputId": "97d96a8a-9111-4118-d56b-005f1c0acc2b"
      },
      "execution_count": null,
      "outputs": [
        {
          "output_type": "execute_result",
          "data": {
            "text/plain": [
              "(4760, 5)"
            ]
          },
          "metadata": {},
          "execution_count": 8
        }
      ]
    },
    {
      "cell_type": "code",
      "source": [
        "df_features"
      ],
      "metadata": {
        "colab": {
          "base_uri": "https://localhost:8080/"
        },
        "id": "BdNbHNzx3r-T",
        "outputId": "3a23491e-7499-41e0-d74a-085fc6e97e1c"
      },
      "execution_count": null,
      "outputs": [
        {
          "output_type": "execute_result",
          "data": {
            "text/plain": [
              "                           Movie_Genre  \\\n",
              "0                         Crime Comedy   \n",
              "1     Adventure Action Science Fiction   \n",
              "2                     Animation Family   \n",
              "3                 Comedy Drama Romance   \n",
              "4                                Drama   \n",
              "...                                ...   \n",
              "4755                            Horror   \n",
              "4756               Comedy Family Drama   \n",
              "4757                    Thriller Drama   \n",
              "4758                            Family   \n",
              "4759                       Documentary   \n",
              "\n",
              "                                         Movie_Keywords  \\\n",
              "0             hotel new year's eve witch bet hotel room   \n",
              "1           android galaxy hermit death star lightsaber   \n",
              "2     father son relationship harbor underwater fish...   \n",
              "3     vietnam veteran hippie mentally disabled runni...   \n",
              "4     male nudity female nudity adultery midlife cri...   \n",
              "...                                                 ...   \n",
              "4755                                                      \n",
              "4756                                                      \n",
              "4757                     christian film sex trafficking   \n",
              "4758                                                      \n",
              "4759  music actors legendary perfomer classic hollyw...   \n",
              "\n",
              "                                          Movie_Tagline  \\\n",
              "0     Twelve outrageous guests. Four scandalous requ...   \n",
              "1          A long time ago in a galaxy far, far away...   \n",
              "2     There are 3.7 trillion fish in the ocean, they...   \n",
              "3     The world will never be the same, once you've ...   \n",
              "4                                          Look closer.   \n",
              "...                                                 ...   \n",
              "4755                The hot spot where Satan's waitin'.   \n",
              "4756           It’s better to stand out than to fit in.   \n",
              "4757           She never knew it could happen to her...   \n",
              "4758                                                      \n",
              "4759                                                      \n",
              "\n",
              "                                             Movie_Cast     Movie_Director  \n",
              "0     Tim Roth Antonio Banderas Jennifer Beals Madon...     Allison Anders  \n",
              "1     Mark Hamill Harrison Ford Carrie Fisher Peter ...       George Lucas  \n",
              "2     Albert Brooks Ellen DeGeneres Alexander Gould ...     Andrew Stanton  \n",
              "3     Tom Hanks Robin Wright Gary Sinise Mykelti Wil...    Robert Zemeckis  \n",
              "4     Kevin Spacey Annette Bening Thora Birch Wes Be...         Sam Mendes  \n",
              "...                                                 ...                ...  \n",
              "4755  Lisa Hart Carroll Michael Des Barres Paul Drak...         Pece Dingo  \n",
              "4756  Roni Akurati Brighton Sharbino Jason Lee Anjul...       Frank Lotito  \n",
              "4757  Nicole Smolen Kim Baldwin Ariana Stephens Brys...       Jaco Booyens  \n",
              "4758                                                                        \n",
              "4759                                    Tony Oppedisano  Simon Napier-Bell  \n",
              "\n",
              "[4760 rows x 5 columns]"
            ],
            "text/html": [
              "\n",
              "  <div id=\"df-f3bde204-9c91-4a2b-b99f-f45dfa87927c\">\n",
              "    <div class=\"colab-df-container\">\n",
              "      <div>\n",
              "<style scoped>\n",
              "    .dataframe tbody tr th:only-of-type {\n",
              "        vertical-align: middle;\n",
              "    }\n",
              "\n",
              "    .dataframe tbody tr th {\n",
              "        vertical-align: top;\n",
              "    }\n",
              "\n",
              "    .dataframe thead th {\n",
              "        text-align: right;\n",
              "    }\n",
              "</style>\n",
              "<table border=\"1\" class=\"dataframe\">\n",
              "  <thead>\n",
              "    <tr style=\"text-align: right;\">\n",
              "      <th></th>\n",
              "      <th>Movie_Genre</th>\n",
              "      <th>Movie_Keywords</th>\n",
              "      <th>Movie_Tagline</th>\n",
              "      <th>Movie_Cast</th>\n",
              "      <th>Movie_Director</th>\n",
              "    </tr>\n",
              "  </thead>\n",
              "  <tbody>\n",
              "    <tr>\n",
              "      <th>0</th>\n",
              "      <td>Crime Comedy</td>\n",
              "      <td>hotel new year's eve witch bet hotel room</td>\n",
              "      <td>Twelve outrageous guests. Four scandalous requ...</td>\n",
              "      <td>Tim Roth Antonio Banderas Jennifer Beals Madon...</td>\n",
              "      <td>Allison Anders</td>\n",
              "    </tr>\n",
              "    <tr>\n",
              "      <th>1</th>\n",
              "      <td>Adventure Action Science Fiction</td>\n",
              "      <td>android galaxy hermit death star lightsaber</td>\n",
              "      <td>A long time ago in a galaxy far, far away...</td>\n",
              "      <td>Mark Hamill Harrison Ford Carrie Fisher Peter ...</td>\n",
              "      <td>George Lucas</td>\n",
              "    </tr>\n",
              "    <tr>\n",
              "      <th>2</th>\n",
              "      <td>Animation Family</td>\n",
              "      <td>father son relationship harbor underwater fish...</td>\n",
              "      <td>There are 3.7 trillion fish in the ocean, they...</td>\n",
              "      <td>Albert Brooks Ellen DeGeneres Alexander Gould ...</td>\n",
              "      <td>Andrew Stanton</td>\n",
              "    </tr>\n",
              "    <tr>\n",
              "      <th>3</th>\n",
              "      <td>Comedy Drama Romance</td>\n",
              "      <td>vietnam veteran hippie mentally disabled runni...</td>\n",
              "      <td>The world will never be the same, once you've ...</td>\n",
              "      <td>Tom Hanks Robin Wright Gary Sinise Mykelti Wil...</td>\n",
              "      <td>Robert Zemeckis</td>\n",
              "    </tr>\n",
              "    <tr>\n",
              "      <th>4</th>\n",
              "      <td>Drama</td>\n",
              "      <td>male nudity female nudity adultery midlife cri...</td>\n",
              "      <td>Look closer.</td>\n",
              "      <td>Kevin Spacey Annette Bening Thora Birch Wes Be...</td>\n",
              "      <td>Sam Mendes</td>\n",
              "    </tr>\n",
              "    <tr>\n",
              "      <th>...</th>\n",
              "      <td>...</td>\n",
              "      <td>...</td>\n",
              "      <td>...</td>\n",
              "      <td>...</td>\n",
              "      <td>...</td>\n",
              "    </tr>\n",
              "    <tr>\n",
              "      <th>4755</th>\n",
              "      <td>Horror</td>\n",
              "      <td></td>\n",
              "      <td>The hot spot where Satan's waitin'.</td>\n",
              "      <td>Lisa Hart Carroll Michael Des Barres Paul Drak...</td>\n",
              "      <td>Pece Dingo</td>\n",
              "    </tr>\n",
              "    <tr>\n",
              "      <th>4756</th>\n",
              "      <td>Comedy Family Drama</td>\n",
              "      <td></td>\n",
              "      <td>It’s better to stand out than to fit in.</td>\n",
              "      <td>Roni Akurati Brighton Sharbino Jason Lee Anjul...</td>\n",
              "      <td>Frank Lotito</td>\n",
              "    </tr>\n",
              "    <tr>\n",
              "      <th>4757</th>\n",
              "      <td>Thriller Drama</td>\n",
              "      <td>christian film sex trafficking</td>\n",
              "      <td>She never knew it could happen to her...</td>\n",
              "      <td>Nicole Smolen Kim Baldwin Ariana Stephens Brys...</td>\n",
              "      <td>Jaco Booyens</td>\n",
              "    </tr>\n",
              "    <tr>\n",
              "      <th>4758</th>\n",
              "      <td>Family</td>\n",
              "      <td></td>\n",
              "      <td></td>\n",
              "      <td></td>\n",
              "      <td></td>\n",
              "    </tr>\n",
              "    <tr>\n",
              "      <th>4759</th>\n",
              "      <td>Documentary</td>\n",
              "      <td>music actors legendary perfomer classic hollyw...</td>\n",
              "      <td></td>\n",
              "      <td>Tony Oppedisano</td>\n",
              "      <td>Simon Napier-Bell</td>\n",
              "    </tr>\n",
              "  </tbody>\n",
              "</table>\n",
              "<p>4760 rows × 5 columns</p>\n",
              "</div>\n",
              "      <button class=\"colab-df-convert\" onclick=\"convertToInteractive('df-f3bde204-9c91-4a2b-b99f-f45dfa87927c')\"\n",
              "              title=\"Convert this dataframe to an interactive table.\"\n",
              "              style=\"display:none;\">\n",
              "        \n",
              "  <svg xmlns=\"http://www.w3.org/2000/svg\" height=\"24px\"viewBox=\"0 0 24 24\"\n",
              "       width=\"24px\">\n",
              "    <path d=\"M0 0h24v24H0V0z\" fill=\"none\"/>\n",
              "    <path d=\"M18.56 5.44l.94 2.06.94-2.06 2.06-.94-2.06-.94-.94-2.06-.94 2.06-2.06.94zm-11 1L8.5 8.5l.94-2.06 2.06-.94-2.06-.94L8.5 2.5l-.94 2.06-2.06.94zm10 10l.94 2.06.94-2.06 2.06-.94-2.06-.94-.94-2.06-.94 2.06-2.06.94z\"/><path d=\"M17.41 7.96l-1.37-1.37c-.4-.4-.92-.59-1.43-.59-.52 0-1.04.2-1.43.59L10.3 9.45l-7.72 7.72c-.78.78-.78 2.05 0 2.83L4 21.41c.39.39.9.59 1.41.59.51 0 1.02-.2 1.41-.59l7.78-7.78 2.81-2.81c.8-.78.8-2.07 0-2.86zM5.41 20L4 18.59l7.72-7.72 1.47 1.35L5.41 20z\"/>\n",
              "  </svg>\n",
              "      </button>\n",
              "      \n",
              "  <style>\n",
              "    .colab-df-container {\n",
              "      display:flex;\n",
              "      flex-wrap:wrap;\n",
              "      gap: 12px;\n",
              "    }\n",
              "\n",
              "    .colab-df-convert {\n",
              "      background-color: #E8F0FE;\n",
              "      border: none;\n",
              "      border-radius: 50%;\n",
              "      cursor: pointer;\n",
              "      display: none;\n",
              "      fill: #1967D2;\n",
              "      height: 32px;\n",
              "      padding: 0 0 0 0;\n",
              "      width: 32px;\n",
              "    }\n",
              "\n",
              "    .colab-df-convert:hover {\n",
              "      background-color: #E2EBFA;\n",
              "      box-shadow: 0px 1px 2px rgba(60, 64, 67, 0.3), 0px 1px 3px 1px rgba(60, 64, 67, 0.15);\n",
              "      fill: #174EA6;\n",
              "    }\n",
              "\n",
              "    [theme=dark] .colab-df-convert {\n",
              "      background-color: #3B4455;\n",
              "      fill: #D2E3FC;\n",
              "    }\n",
              "\n",
              "    [theme=dark] .colab-df-convert:hover {\n",
              "      background-color: #434B5C;\n",
              "      box-shadow: 0px 1px 3px 1px rgba(0, 0, 0, 0.15);\n",
              "      filter: drop-shadow(0px 1px 2px rgba(0, 0, 0, 0.3));\n",
              "      fill: #FFFFFF;\n",
              "    }\n",
              "  </style>\n",
              "\n",
              "      <script>\n",
              "        const buttonEl =\n",
              "          document.querySelector('#df-f3bde204-9c91-4a2b-b99f-f45dfa87927c button.colab-df-convert');\n",
              "        buttonEl.style.display =\n",
              "          google.colab.kernel.accessAllowed ? 'block' : 'none';\n",
              "\n",
              "        async function convertToInteractive(key) {\n",
              "          const element = document.querySelector('#df-f3bde204-9c91-4a2b-b99f-f45dfa87927c');\n",
              "          const dataTable =\n",
              "            await google.colab.kernel.invokeFunction('convertToInteractive',\n",
              "                                                     [key], {});\n",
              "          if (!dataTable) return;\n",
              "\n",
              "          const docLinkHtml = 'Like what you see? Visit the ' +\n",
              "            '<a target=\"_blank\" href=https://colab.research.google.com/notebooks/data_table.ipynb>data table notebook</a>'\n",
              "            + ' to learn more about interactive tables.';\n",
              "          element.innerHTML = '';\n",
              "          dataTable['output_type'] = 'display_data';\n",
              "          await google.colab.output.renderOutput(dataTable, element);\n",
              "          const docLink = document.createElement('div');\n",
              "          docLink.innerHTML = docLinkHtml;\n",
              "          element.appendChild(docLink);\n",
              "        }\n",
              "      </script>\n",
              "    </div>\n",
              "  </div>\n",
              "  "
            ]
          },
          "metadata": {},
          "execution_count": 9
        }
      ]
    },
    {
      "cell_type": "code",
      "source": [
        "X = df_features['Movie_Genre']+' '+df_features['Movie_Keywords']+' '+df_features['Movie_Tagline']+' '+df_features['Movie_Cast']+' '+df_features['Movie_Director']"
      ],
      "metadata": {
        "id": "mbLiA-6Q36q0"
      },
      "execution_count": null,
      "outputs": []
    },
    {
      "cell_type": "code",
      "source": [
        "X"
      ],
      "metadata": {
        "colab": {
          "base_uri": "https://localhost:8080/"
        },
        "id": "JsHwh5l44y9z",
        "outputId": "a5cc9888-69a5-410c-a1cf-620def93691a"
      },
      "execution_count": null,
      "outputs": [
        {
          "output_type": "execute_result",
          "data": {
            "text/plain": [
              "0       Crime Comedy hotel new year's eve witch bet ho...\n",
              "1       Adventure Action Science Fiction android galax...\n",
              "2       Animation Family father son relationship harbo...\n",
              "3       Comedy Drama Romance vietnam veteran hippie me...\n",
              "4       Drama male nudity female nudity adultery midli...\n",
              "                              ...                        \n",
              "4755    Horror  The hot spot where Satan's waitin'. Li...\n",
              "4756    Comedy Family Drama  It’s better to stand out ...\n",
              "4757    Thriller Drama christian film sex trafficking ...\n",
              "4758                                           Family    \n",
              "4759    Documentary music actors legendary perfomer cl...\n",
              "Length: 4760, dtype: object"
            ]
          },
          "metadata": {},
          "execution_count": 11
        }
      ]
    },
    {
      "cell_type": "code",
      "source": [
        "X.shape"
      ],
      "metadata": {
        "colab": {
          "base_uri": "https://localhost:8080/"
        },
        "id": "Cs76jujr402L",
        "outputId": "947acf65-c1df-4043-a0ac-f15ef5d41a36"
      },
      "execution_count": null,
      "outputs": [
        {
          "output_type": "execute_result",
          "data": {
            "text/plain": [
              "(4760,)"
            ]
          },
          "metadata": {},
          "execution_count": 12
        }
      ]
    },
    {
      "cell_type": "markdown",
      "source": [
        "##**Get Feature Text Conversion to Tokens**"
      ],
      "metadata": {
        "id": "_NdHhlUZ44Wz"
      }
    },
    {
      "cell_type": "code",
      "source": [
        "from sklearn.feature_extraction.text import TfidfVectorizer"
      ],
      "metadata": {
        "id": "qWI427E25Daj"
      },
      "execution_count": null,
      "outputs": []
    },
    {
      "cell_type": "code",
      "source": [
        "tfidf = TfidfVectorizer()"
      ],
      "metadata": {
        "id": "XpVanzkkAGBe"
      },
      "execution_count": null,
      "outputs": []
    },
    {
      "cell_type": "code",
      "source": [
        "X = tfidf.fit_transform(X)"
      ],
      "metadata": {
        "id": "I9B6rNr7ARNu"
      },
      "execution_count": null,
      "outputs": []
    },
    {
      "cell_type": "code",
      "source": [
        "X.shape"
      ],
      "metadata": {
        "colab": {
          "base_uri": "https://localhost:8080/"
        },
        "id": "4T7oxWzDAg_G",
        "outputId": "566da502-55ce-4829-92d6-ba834df4507b"
      },
      "execution_count": null,
      "outputs": [
        {
          "output_type": "execute_result",
          "data": {
            "text/plain": [
              "(4760, 17258)"
            ]
          },
          "metadata": {},
          "execution_count": 16
        }
      ]
    },
    {
      "cell_type": "code",
      "source": [
        "print(X)"
      ],
      "metadata": {
        "colab": {
          "base_uri": "https://localhost:8080/"
        },
        "id": "8MGuzwbMA08F",
        "outputId": "a46adb3b-c800-447b-a4aa-40eead987f6e"
      },
      "execution_count": null,
      "outputs": [
        {
          "output_type": "stream",
          "name": "stdout",
          "text": [
            "  (0, 617)\t0.1633382144407513\n",
            "  (0, 492)\t0.1432591540388685\n",
            "  (0, 15413)\t0.1465525095337543\n",
            "  (0, 9675)\t0.14226057295252661\n",
            "  (0, 9465)\t0.1659841367820977\n",
            "  (0, 1390)\t0.16898383612799558\n",
            "  (0, 7825)\t0.09799561597509843\n",
            "  (0, 1214)\t0.13865857545144072\n",
            "  (0, 729)\t0.13415063359531618\n",
            "  (0, 13093)\t0.1432591540388685\n",
            "  (0, 15355)\t0.10477815972666779\n",
            "  (0, 9048)\t0.0866842116160778\n",
            "  (0, 11161)\t0.06250380151644369\n",
            "  (0, 16773)\t0.17654247479915475\n",
            "  (0, 5612)\t0.08603537588547631\n",
            "  (0, 16735)\t0.10690083751525419\n",
            "  (0, 7904)\t0.13348000542112332\n",
            "  (0, 15219)\t0.09800472886453934\n",
            "  (0, 11242)\t0.07277788238484746\n",
            "  (0, 3878)\t0.11998399582562203\n",
            "  (0, 5499)\t0.11454057510303811\n",
            "  (0, 7071)\t0.19822417598406614\n",
            "  (0, 7454)\t0.14745635785412262\n",
            "  (0, 1495)\t0.19712637387361423\n",
            "  (0, 9206)\t0.15186283580984414\n",
            "  :\t:\n",
            "  (4757, 5455)\t0.12491480594769522\n",
            "  (4757, 2967)\t0.16273475835631626\n",
            "  (4757, 8464)\t0.23522565554066333\n",
            "  (4757, 6938)\t0.17088173678136628\n",
            "  (4757, 8379)\t0.17480603856721913\n",
            "  (4757, 15303)\t0.07654356007668191\n",
            "  (4757, 15384)\t0.09754322497537371\n",
            "  (4757, 7649)\t0.11479421494340192\n",
            "  (4757, 10896)\t0.14546473055066447\n",
            "  (4757, 4494)\t0.05675298448720501\n",
            "  (4758, 5238)\t1.0\n",
            "  (4759, 11264)\t0.33947721804318337\n",
            "  (4759, 11708)\t0.33947721804318337\n",
            "  (4759, 205)\t0.3237911628497312\n",
            "  (4759, 8902)\t0.3040290704566037\n",
            "  (4759, 14062)\t0.3237911628497312\n",
            "  (4759, 3058)\t0.2812896191863103\n",
            "  (4759, 7130)\t0.26419662449963793\n",
            "  (4759, 10761)\t0.3126617295732147\n",
            "  (4759, 4358)\t0.18306542312175342\n",
            "  (4759, 14051)\t0.20084315377640435\n",
            "  (4759, 5690)\t0.19534291014627303\n",
            "  (4759, 15431)\t0.19628653185946862\n",
            "  (4759, 1490)\t0.21197258705292082\n",
            "  (4759, 10666)\t0.15888268987343043\n"
          ]
        }
      ]
    },
    {
      "cell_type": "markdown",
      "source": [
        "##**Get Similarty Score using Cosine Similarity**"
      ],
      "metadata": {
        "id": "472AnG27A9pl"
      }
    },
    {
      "cell_type": "markdown",
      "source": [
        "cosine_similarity computes the L2-normalized dot product of vectors. Euclidean (L2) normalization projects the vectors onto the unit sphere.\n",
        "and their dot product is the cosine of the angle between the points denoted by the vectors."
      ],
      "metadata": {
        "id": "bbfdRKSsBFhe"
      }
    },
    {
      "cell_type": "code",
      "source": [
        "from sklearn.metrics.pairwise import cosine_similarity"
      ],
      "metadata": {
        "id": "ELKG0CKRB7E3"
      },
      "execution_count": null,
      "outputs": []
    },
    {
      "cell_type": "code",
      "source": [
        "Similarity_Score = cosine_similarity(X)"
      ],
      "metadata": {
        "id": "m5_6ZraOCIte"
      },
      "execution_count": null,
      "outputs": []
    },
    {
      "cell_type": "code",
      "source": [
        "Similarity_Score"
      ],
      "metadata": {
        "colab": {
          "base_uri": "https://localhost:8080/"
        },
        "id": "fV7te3eBCPHv",
        "outputId": "658f2ecf-fc58-4d40-c1bd-979ad7965aca"
      },
      "execution_count": null,
      "outputs": [
        {
          "output_type": "execute_result",
          "data": {
            "text/plain": [
              "array([[1.        , 0.01351235, 0.03570468, ..., 0.        , 0.        ,\n",
              "        0.        ],\n",
              "       [0.01351235, 1.        , 0.00806674, ..., 0.        , 0.        ,\n",
              "        0.        ],\n",
              "       [0.03570468, 0.00806674, 1.        , ..., 0.        , 0.08014876,\n",
              "        0.        ],\n",
              "       ...,\n",
              "       [0.        , 0.        , 0.        , ..., 1.        , 0.        ,\n",
              "        0.        ],\n",
              "       [0.        , 0.        , 0.08014876, ..., 0.        , 1.        ,\n",
              "        0.        ],\n",
              "       [0.        , 0.        , 0.        , ..., 0.        , 0.        ,\n",
              "        1.        ]])"
            ]
          },
          "metadata": {},
          "execution_count": 20
        }
      ]
    },
    {
      "cell_type": "code",
      "source": [
        "Similarity_Score.shape"
      ],
      "metadata": {
        "colab": {
          "base_uri": "https://localhost:8080/"
        },
        "id": "3idkh26eCo1t",
        "outputId": "08f95f68-e39d-4d70-85da-11ce37f9c2f8"
      },
      "execution_count": null,
      "outputs": [
        {
          "output_type": "execute_result",
          "data": {
            "text/plain": [
              "(4760, 4760)"
            ]
          },
          "metadata": {},
          "execution_count": 21
        }
      ]
    },
    {
      "cell_type": "markdown",
      "source": [
        "##**Get Movie Name as Input from User and Validate for Closest Spelling**"
      ],
      "metadata": {
        "id": "_C5dxRNLCzuO"
      }
    },
    {
      "cell_type": "code",
      "source": [
        "Favourite_Movie_Name = input('Enter your favourite movie name : ')"
      ],
      "metadata": {
        "colab": {
          "base_uri": "https://localhost:8080/"
        },
        "id": "DheGeQ0vDDMG",
        "outputId": "a3d4c0de-040a-4dc1-b695-ff0b38e71df7"
      },
      "execution_count": null,
      "outputs": [
        {
          "name": "stdout",
          "output_type": "stream",
          "text": [
            "Enter your favourite movie name : ava\n"
          ]
        }
      ]
    },
    {
      "cell_type": "code",
      "source": [
        "All_Movies_Title_List = df['Movie_Title'].tolist()"
      ],
      "metadata": {
        "id": "DGx7aXotDei2"
      },
      "execution_count": null,
      "outputs": []
    },
    {
      "cell_type": "code",
      "source": [
        "import difflib"
      ],
      "metadata": {
        "id": "pBTVrCthDzTH"
      },
      "execution_count": null,
      "outputs": []
    },
    {
      "cell_type": "code",
      "source": [
        "Movie_Recommendation = difflib.get_close_matches(Favourite_Movie_Name, All_Movies_Title_List)\n",
        "print(Movie_Recommendation)"
      ],
      "metadata": {
        "colab": {
          "base_uri": "https://localhost:8080/"
        },
        "id": "tzt1O6hvD1bm",
        "outputId": "73de8fee-e6d4-40ab-ad1e-d4f649b642f1"
      },
      "execution_count": null,
      "outputs": [
        {
          "output_type": "stream",
          "name": "stdout",
          "text": [
            "['Paa', 'Savages']\n"
          ]
        }
      ]
    },
    {
      "cell_type": "code",
      "source": [
        "Close_Matches = Movie_Recommendation[0]\n",
        "print(Close_Matches)"
      ],
      "metadata": {
        "colab": {
          "base_uri": "https://localhost:8080/"
        },
        "id": "mpeg_EDFEYfH",
        "outputId": "57d02232-3010-48c6-cbe8-252f69021b0a"
      },
      "execution_count": null,
      "outputs": [
        {
          "output_type": "stream",
          "name": "stdout",
          "text": [
            "Paa\n"
          ]
        }
      ]
    },
    {
      "cell_type": "code",
      "source": [
        "Index_of_Close_Matche_Movie = df[df.Movie_Title == Close_Matches]['Movie_ID'].values[0]\n",
        "print(Index_of_Close_Matche_Movie)"
      ],
      "metadata": {
        "id": "CA8ZZaRRIiQg",
        "colab": {
          "base_uri": "https://localhost:8080/"
        },
        "outputId": "4d8615a6-558c-4ede-ba6f-c9bd5c269514"
      },
      "execution_count": null,
      "outputs": [
        {
          "output_type": "stream",
          "name": "stdout",
          "text": [
            "2917\n"
          ]
        }
      ]
    },
    {
      "cell_type": "code",
      "source": [
        "# getting a list of similar movies\n",
        "Recommendation_Score = list(enumerate(Similarity_Score[Index_of_Close_Matche_Movie]))\n",
        "print(Recommendation_Score)"
      ],
      "metadata": {
        "colab": {
          "base_uri": "https://localhost:8080/"
        },
        "id": "oq8k5HapJj0H",
        "outputId": "b853d4a4-d14c-4b16-fec3-4300260832f7"
      },
      "execution_count": null,
      "outputs": [
        {
          "output_type": "stream",
          "name": "stdout",
          "text": [
            "[(0, 0.008563799838952222), (1, 0.01326711202787747), (2, 0.0), (3, 0.02154750798093318), (4, 0.02009381266783118), (5, 0.0023073075892864454), (6, 0.019757367563683924), (7, 0.01183787940965113), (8, 0.0024983395265115887), (9, 0.026522383536504317), (10, 0.0), (11, 0.0023822211390903815), (12, 0.013448923072252374), (13, 0.0), (14, 0.0), (15, 0.028557176758471442), (16, 0.07065107292090758), (17, 0.0), (18, 0.006218459240885462), (19, 0.023245493697913323), (20, 0.0024062038194196367), (21, 0.006935045266510206), (22, 0.022052931809199112), (23, 0.013124048573321917), (24, 0.001502494196886526), (25, 0.039412659767417604), (26, 0.0022508818444605962), (27, 0.0043468658941312344), (28, 0.0), (29, 0.013538734801404603), (30, 0.07486770569719679), (31, 0.006099024897065172), (32, 0.012467523948807924), (33, 0.0020330224255117333), (34, 0.02461539124375937), (35, 0.010995776129540561), (36, 0.0), (37, 0.013559526394273227), (38, 0.0), (39, 0.004201787382811634), (40, 0.013367491747559005), (41, 0.002559772464074741), (42, 0.0), (43, 0.022497718190094412), (44, 0.015318083048487882), (45, 0.03460232216102419), (46, 0.0038893727847558335), (47, 0.003714294297031836), (48, 0.018487544173678823), (49, 0.0), (50, 0.0), (51, 0.006823059307737547), (52, 0.06672380907989169), (53, 0.0), (54, 0.0), (55, 0.0), (56, 0.012132795903343476), (57, 0.01965595632422127), (58, 0.0), (59, 0.0), (60, 0.06368949690852962), (61, 0.026686080334103406), (62, 0.028853033366779038), (63, 0.011314896972248445), (64, 0.0), (65, 0.02000121476858983), (66, 0.0022959754821496796), (67, 0.025406359593667306), (68, 0.006877754110786011), (69, 0.004594714599875603), (70, 0.08086560088975579), (71, 0.0023567473481499244), (72, 0.07496738234035522), (73, 0.031564565229431386), (74, 0.02594021339082788), (75, 0.012475648743863131), (76, 0.03765158480324697), (77, 0.0031538223666085956), (78, 0.01353444956004607), (79, 0.02443421029348794), (80, 0.0038342326059755956), (81, 0.00978499996655773), (82, 0.019831637149598756), (83, 0.030684092754263544), (84, 0.043583548161528554), (85, 0.023177718707211876), (86, 0.019100923270300465), (87, 0.030132809282824434), (88, 0.011941483558733014), (89, 0.032310962370523694), (90, 0.004092008453697116), (91, 0.022262612239996954), (92, 0.002024496792563371), (93, 0.004007976829903417), (94, 0.0038428280210279393), (95, 0.00430454161308049), (96, 0.01165608138307384), (97, 0.0020188130212970903), (98, 0.012331973590779017), (99, 0.0036190508952466845), (100, 0.0), (101, 0.0), (102, 0.004571742705136224), (103, 0.0019925309194952757), (104, 0.024245067048603103), (105, 0.002281520615256037), (106, 0.020117319759639183), (107, 0.026278825045232424), (108, 0.0461178112865315), (109, 0.024436375964105195), (110, 0.0), (111, 0.03681527113790471), (112, 0.05727368820905105), (113, 0.025411782874969376), (114, 0.0023026507886854167), (115, 0.002352272985336387), (116, 0.015441542934192927), (117, 0.0), (118, 0.004293681983366343), (119, 0.013948240228644108), (120, 0.0023725298959027443), (121, 0.0021143196054190716), (122, 0.0), (123, 0.002516882979276784), (124, 0.02768403119314883), (125, 0.018432864868625203), (126, 0.002170502451218497), (127, 0.0022399416305588604), (128, 0.016061652904967902), (129, 0.0016064124627916466), (130, 0.021636714969686922), (131, 0.012073196022222468), (132, 0.0020395225563255427), (133, 0.0), (134, 0.0), (135, 0.00418101235079729), (136, 0.01124433541587414), (137, 0.01657708350520206), (138, 0.0040179540756464325), (139, 0.0), (140, 0.0021549100869219092), (141, 0.0), (142, 0.020279099150441328), (143, 0.0), (144, 0.015301236241357048), (145, 0.014333682710456748), (146, 0.0), (147, 0.024464685535294305), (148, 0.03785783418199491), (149, 0.005355285029178102), (150, 0.0), (151, 0.0), (152, 0.018488319824961276), (153, 0.0), (154, 0.002159350699735438), (155, 0.008892351576702514), (156, 0.011549340468159015), (157, 0.011994452534478232), (158, 0.010922251747164664), (159, 0.011126996349184409), (160, 0.016831558508210016), (161, 0.023490339645994233), (162, 0.0), (163, 0.0), (164, 0.013528119691782114), (165, 0.001988661337206287), (166, 0.005727326306749953), (167, 0.002222382356466643), (168, 0.08496522403139439), (169, 0.0022601917048189913), (170, 0.0037915034123478337), (171, 0.0), (172, 0.0023077572781854605), (173, 0.13502240147133962), (174, 0.014042911899426032), (175, 0.012004961070856541), (176, 0.002363820851381753), (177, 0.010158699599778073), (178, 0.017335255774921954), (179, 0.0), (180, 0.0), (181, 0.0), (182, 0.014330443012996274), (183, 0.03821078818033657), (184, 0.0020257497745512438), (185, 0.011265965356082933), (186, 0.0), (187, 0.04639608589690137), (188, 0.010226367481989337), (189, 0.00433333753329102), (190, 0.03756388854419987), (191, 0.003733610971660822), (192, 0.026380045600796865), (193, 0.015031582883571669), (194, 0.0018457171143350722), (195, 0.0019336133080659183), (196, 0.0019322522747111924), (197, 0.013423907368410336), (198, 0.0023340920303191763), (199, 0.016778940412178034), (200, 0.02698487944265933), (201, 0.004365935746636346), (202, 0.001509500407182478), (203, 0.002176687480167854), (204, 0.0024033545093326593), (205, 0.0), (206, 0.0024402914193945805), (207, 0.004726585211219715), (208, 0.019536389978477675), (209, 0.01434586407211996), (210, 0.006989281189656834), (211, 0.002404558900231362), (212, 0.002152879719963484), (213, 0.002141091740677656), (214, 0.008905429790820209), (215, 0.0022600345578144593), (216, 0.027756069011550054), (217, 0.0), (218, 0.027988883467970353), (219, 0.0), (220, 0.004424068234426587), (221, 0.002187244072316171), (222, 0.05463804524555092), (223, 0.01612334467317187), (224, 0.04231459129865758), (225, 0.0), (226, 0.0023001474563287957), (227, 0.02446030076727501), (228, 0.0017422640709059162), (229, 0.002144706152684678), (230, 0.011604982882368541), (231, 0.024992130701140744), (232, 0.012830322375616824), (233, 0.004130065117332877), (234, 0.0036014814281922726), (235, 0.08474163354700785), (236, 0.015368111229058729), (237, 0.022281108657132148), (238, 0.0066143176421023), (239, 0.015356961073498725), (240, 0.00387328454334558), (241, 0.018991342967268964), (242, 0.01230919898770644), (243, 0.012955348886268148), (244, 0.029690562044285055), (245, 0.0), (246, 0.013393421996059937), (247, 0.002274582687984064), (248, 0.02016049496314304), (249, 0.07036240491642806), (250, 0.015733585734446123), (251, 0.020650127850389995), (252, 0.03189670292290574), (253, 0.0025151458173882516), (254, 0.0552509865505731), (255, 0.006790948583193903), (256, 0.0017186438002510852), (257, 0.008987214567493585), (258, 0.0), (259, 0.0), (260, 0.0039690664065386155), (261, 0.0040373484765057225), (262, 0.013230408518896519), (263, 0.011276998024268622), (264, 0.0), (265, 0.0), (266, 0.014158852642961565), (267, 0.0019495097842094603), (268, 0.002051786769753426), (269, 0.04287499237887714), (270, 0.012734502843622283), (271, 0.026934703066068585), (272, 0.0), (273, 0.02520842528596596), (274, 0.01446048261015884), (275, 0.0), (276, 0.035215707080898204), (277, 0.010474914721161896), (278, 0.001981304570039327), (279, 0.018228033673923068), (280, 0.014179903745954538), (281, 0.0025969884631016904), (282, 0.024146815749847228), (283, 0.010404088027223703), (284, 0.003990778382140331), (285, 0.028377113848639182), (286, 0.0019740706945777214), (287, 0.013340146143197791), (288, 0.03663489467176388), (289, 0.0033585682778306102), (290, 0.01707784944269278), (291, 0.003814306915643665), (292, 0.013793626687731868), (293, 0.0016356910601848923), (294, 0.02092047452107932), (295, 0.01706731877356581), (296, 0.030124688076084455), (297, 0.0), (298, 0.0), (299, 0.022086498724686435), (300, 0.01135298749888732), (301, 0.023052345865590105), (302, 0.0), (303, 0.020658990815362478), (304, 0.0038579877704938603), (305, 0.004180550137834917), (306, 0.02238332007896497), (307, 0.03225438701171984), (308, 0.01408304389708566), (309, 0.01130786924483617), (310, 0.004020497733387048), (311, 0.0), (312, 0.010364787139491153), (313, 0.05558451698001176), (314, 0.003507844978289177), (315, 0.018419608995476965), (316, 0.01764443355301737), (317, 0.02288326362814926), (318, 0.0025140206064533845), (319, 0.0), (320, 0.004386955981592845), (321, 0.03514617202498791), (322, 0.02599128529801944), (323, 0.04179144275141844), (324, 0.002120298641502822), (325, 0.0021738610221414627), (326, 0.002817265765142562), (327, 0.014443721678824276), (328, 0.02314716861756561), (329, 0.038991487015617776), (330, 0.034525116347929936), (331, 0.0), (332, 0.045965384755062955), (333, 0.0037221305262162274), (334, 0.02375064773361088), (335, 0.0), (336, 0.008546441203157125), (337, 0.0), (338, 0.0), (339, 0.014373918202353711), (340, 0.012803644110702672), (341, 0.027970447187585994), (342, 0.026700919878560343), (343, 0.04129801500601504), (344, 0.0), (345, 0.0), (346, 0.014127011484151693), (347, 0.02833464079506615), (348, 0.0022772636020527365), (349, 0.002231158012650994), (350, 0.007060043473972936), (351, 0.0017551111769129571), (352, 0.0), (353, 0.01443923478366267), (354, 0.03674761424748002), (355, 0.01795420008210125), (356, 0.03393087085683041), (357, 0.014802799975232825), (358, 0.02541685545925722), (359, 0.01117430940768089), (360, 0.013341637549546974), (361, 0.0), (362, 0.016399533329244438), (363, 0.013021573156307685), (364, 0.001979100151282193), (365, 0.0), (366, 0.008394461461825483), (367, 0.0), (368, 0.012355768609778195), (369, 0.015390117442694246), (370, 0.016751458116843043), (371, 0.007136109331359249), (372, 0.0021434432771581806), (373, 0.029054778317444893), (374, 0.025784183716516293), (375, 0.004135564227807633), (376, 0.008578855953178645), (377, 0.029329687199384242), (378, 0.0023103152544568547), (379, 0.04972282112864348), (380, 0.016152768279705396), (381, 0.008066181880831632), (382, 0.0), (383, 0.0), (384, 0.0), (385, 0.0), (386, 0.027172371435529634), (387, 0.0021696075956666202), (388, 0.01792278223913841), (389, 0.004166018772416059), (390, 0.051891555082331293), (391, 0.0), (392, 0.0), (393, 0.0), (394, 0.021600025956215563), (395, 0.002468163226599571), (396, 0.002210666543114356), (397, 0.003826087677821773), (398, 0.026589025657394433), (399, 0.0021316196784462397), (400, 0.012478393910194556), (401, 0.0), (402, 0.01733147454526523), (403, 0.012050260000401925), (404, 0.0), (405, 0.017887265762591434), (406, 0.018774621530537453), (407, 0.020968797014047476), (408, 0.00217498046564071), (409, 0.02408959437060898), (410, 0.0021402160226213496), (411, 0.0), (412, 0.01161498137144301), (413, 0.012724865271806628), (414, 0.02152239826647255), (415, 0.021744792548927642), (416, 0.00210808227587541), (417, 0.0038869616580000745), (418, 0.004426286787518754), (419, 0.0025909266513755957), (420, 0.004499723421904791), (421, 0.0), (422, 0.0), (423, 0.0), (424, 0.004751348604880619), (425, 0.004747226281516703), (426, 0.003914029854202465), (427, 0.0), (428, 0.012835667616385462), (429, 0.06864811902093193), (430, 0.002476051341109625), (431, 0.0027129923340823755), (432, 0.01071395546796728), (433, 0.0328786034566621), (434, 0.02900354261183324), (435, 0.02638711812537615), (436, 0.029821841349504948), (437, 0.02479728047019465), (438, 0.011494570390219179), (439, 0.009817769748634806), (440, 0.01356504249969015), (441, 0.01174849032788551), (442, 0.005377248095453594), (443, 0.018923663335535447), (444, 0.02496931761175119), (445, 0.05754726853976226), (446, 0.030145352482314265), (447, 0.006733911354901351), (448, 0.002655301847950921), (449, 0.012858084897673726), (450, 0.007115996380358163), (451, 0.004202686847203617), (452, 0.019683069993917366), (453, 0.0017590885550476233), (454, 0.0), (455, 0.0016324130449190822), (456, 0.0024373085731902483), (457, 0.011558923706232776), (458, 0.02305655767715404), (459, 0.0), (460, 0.004165160531176847), (461, 0.0), (462, 0.0), (463, 0.08563858911633239), (464, 0.03903593324667642), (465, 0.023858835604089947), (466, 0.002274342930605861), (467, 0.018766939979794353), (468, 0.015066940164420561), (469, 0.015733353776493656), (470, 0.019407965745053206), (471, 0.0021483001760553445), (472, 0.031813928205002076), (473, 0.03081394562605859), (474, 0.0), (475, 0.023500342809167227), (476, 0.0025252332514092775), (477, 0.020815414876717057), (478, 0.0026035360068664398), (479, 0.0022977464407166904), (480, 0.0020186513347592553), (481, 0.007052566675460616), (482, 0.02951531017094308), (483, 0.0024289065247923036), (484, 0.03352340221127423), (485, 0.002465292589940907), (486, 0.0), (487, 0.0022021834055474523), (488, 0.0022251259560864727), (489, 0.0027519293767491446), (490, 0.022190797264617968), (491, 0.0), (492, 0.0), (493, 0.006885468484937167), (494, 0.0), (495, 0.0020346722913725307), (496, 0.03441653834757845), (497, 0.0), (498, 0.02832106120041879), (499, 0.002503518321777913), (500, 0.030386081919124827), (501, 0.016489620372701047), (502, 0.00678915086808369), (503, 0.0), (504, 0.002314365423497388), (505, 0.01629593429329817), (506, 0.0), (507, 0.0021600702290666685), (508, 0.002645139416109468), (509, 0.006650571794117814), (510, 0.0018388486183993733), (511, 0.0348916462932016), (512, 0.004973642947952758), (513, 0.03681538280536332), (514, 0.004538032137003326), (515, 0.0020736081431000897), (516, 0.017898029509610638), (517, 0.0), (518, 0.014764347925978145), (519, 0.028766598500819404), (520, 0.025934938276529033), (521, 0.011473321728078738), (522, 0.002233059296011437), (523, 0.027307152420226743), (524, 0.0021103863536575747), (525, 0.0), (526, 0.00289279391007297), (527, 0.020689122998577586), (528, 0.0), (529, 0.010357183964511024), (530, 0.01425199513077717), (531, 0.0), (532, 0.013444184085095515), (533, 0.026606720137642356), (534, 0.016571643968304628), (535, 0.0), (536, 0.0), (537, 0.03523536726257523), (538, 0.01965988846653894), (539, 0.0), (540, 0.003862120068082071), (541, 0.041247966946745526), (542, 0.05124359823235121), (543, 0.0222244101597852), (544, 0.0023344888529050075), (545, 0.02770556769129051), (546, 0.014331284697271313), (547, 0.011986549764182376), (548, 0.0), (549, 0.020495248855482342), (550, 0.023587900049164327), (551, 0.027140968762688164), (552, 0.0335076842875335), (553, 0.040921401693777976), (554, 0.0), (555, 0.01960309134029723), (556, 0.0), (557, 0.013816614179170395), (558, 0.002121298048682366), (559, 0.0037280863229771856), (560, 0.004197266700230238), (561, 0.008787356928932719), (562, 0.016188509577790052), (563, 0.005847727679894999), (564, 0.002410077641661873), (565, 0.0), (566, 0.030561042279979845), (567, 0.010037873351859341), (568, 0.011052305746273128), (569, 0.015288067072349329), (570, 0.0), (571, 0.017864598831380835), (572, 0.0), (573, 0.009544793086965016), (574, 0.0), (575, 0.0), (576, 0.0025932772417565928), (577, 0.0), (578, 0.002171165526942933), (579, 0.0023319795920167014), (580, 0.01709654790063319), (581, 0.056952558833910406), (582, 0.014038739378931872), (583, 0.01080306305861291), (584, 0.006710249114833543), (585, 0.0), (586, 0.0), (587, 0.018123287114238044), (588, 0.012652774580492136), (589, 0.0021320025515944425), (590, 0.005977056941729205), (591, 0.0), (592, 0.0), (593, 0.002346398862482402), (594, 0.0020561930451651225), (595, 0.004602199488748977), (596, 0.0025775564662612153), (597, 0.012780041065535569), (598, 0.002143392846241088), (599, 0.0), (600, 0.012539144650055359), (601, 0.0), (602, 0.0), (603, 0.0), (604, 0.019004121993692166), (605, 0.0020242186650838937), (606, 0.016894716383249023), (607, 0.0017726539544447308), (608, 0.005878537757107791), (609, 0.020735380519345554), (610, 0.0), (611, 0.0036960255086081707), (612, 0.002442462025002455), (613, 0.0), (614, 0.002639445395367384), (615, 0.012344222358926633), (616, 0.011847714461234438), (617, 0.013813403502293061), (618, 0.011633584503860105), (619, 0.0041652170766936555), (620, 0.06549057519936782), (621, 0.0035405449047067653), (622, 0.05179527130827291), (623, 0.024308433789267263), (624, 0.020497588029653034), (625, 0.01638340836233511), (626, 0.00194953809912707), (627, 0.016487793209094728), (628, 0.038558614027821), (629, 0.02243160949431807), (630, 0.0), (631, 0.01461783891203814), (632, 0.0), (633, 0.013774556969841928), (634, 0.004110801644745327), (635, 0.017578960191913514), (636, 0.01652327252393936), (637, 0.03745294608221425), (638, 0.002120247961576777), (639, 0.003533561244720157), (640, 0.0035031660013209657), (641, 0.010180821612970731), (642, 0.005601572404363361), (643, 0.02780646589963264), (644, 0.0061605429084151085), (645, 0.0018788839532803707), (646, 0.0022122458615814102), (647, 0.031747314401008954), (648, 0.02227350531768388), (649, 0.01407712235082167), (650, 0.024498298729113792), (651, 0.013725894581952065), (652, 0.016734755438226556), (653, 0.005642361017615453), (654, 0.01481931613401664), (655, 0.025241243091098525), (656, 0.0), (657, 0.027441807738153547), (658, 0.03924800052378577), (659, 0.0021428617682242956), (660, 0.01709033565866605), (661, 0.013190020401119783), (662, 0.0), (663, 0.0), (664, 0.01068194186174415), (665, 0.0), (666, 0.053744186505672906), (667, 0.004399512723977692), (668, 0.0033106068179377356), (669, 0.016931623981544713), (670, 0.020677765359656593), (671, 0.012304909506337941), (672, 0.0020513251230993225), (673, 0.02254938844861494), (674, 0.0), (675, 0.007072207105964568), (676, 0.01586157358653598), (677, 0.03995620401504501), (678, 0.020754733997488457), (679, 0.011863093893758357), (680, 0.002446502871079652), (681, 0.03363280665486543), (682, 0.024017636188379998), (683, 0.030224237518958325), (684, 0.010432293238192485), (685, 0.004298673614768001), (686, 0.034856818475670286), (687, 0.0046426748765911645), (688, 0.007183972085831651), (689, 0.02246241819495297), (690, 0.04066222507717592), (691, 0.011490539926429042), (692, 0.01391620611455185), (693, 0.0022390234802687325), (694, 0.006098383111701125), (695, 0.012950627425866256), (696, 0.00652758926625795), (697, 0.031090204633484546), (698, 0.002176525617755331), (699, 0.019865268236005783), (700, 0.011293499406364234), (701, 0.018263362756237144), (702, 0.0), (703, 0.011186978336803845), (704, 0.0), (705, 0.012586386676206221), (706, 0.06849389826753816), (707, 0.001934922823249574), (708, 0.0), (709, 0.0), (710, 0.011070558858947118), (711, 0.033308716462150154), (712, 0.002032443702021331), (713, 0.0), (714, 0.010415323365878944), (715, 0.04482658187684888), (716, 0.006800487801522851), (717, 0.0023989986269520773), (718, 0.0), (719, 0.02271760268873512), (720, 0.05192812954518457), (721, 0.002635842065782808), (722, 0.0020670595350309), (723, 0.0035424701455749933), (724, 0.0), (725, 0.008756519929053005), (726, 0.016814457592009415), (727, 0.01607433637750771), (728, 0.006994578013579585), (729, 0.018244319872961202), (730, 0.0), (731, 0.0022005600383604167), (732, 0.01642718364859932), (733, 0.03195933064739002), (734, 0.013314707104539634), (735, 0.0031412857061058454), (736, 0.0), (737, 0.02764539227961042), (738, 0.055037669412802304), (739, 0.013894320614606912), (740, 0.0015432442962959615), (741, 0.009774111053958113), (742, 0.026580853801675353), (743, 0.006664006714296402), (744, 0.02464972538135984), (745, 0.0), (746, 0.04533630418438164), (747, 0.011010629582488905), (748, 0.03888593316423975), (749, 0.002301845735330865), (750, 0.01666814809224558), (751, 0.07268793889168021), (752, 0.012470236263138331), (753, 0.01678313674379644), (754, 0.0), (755, 0.0022356539701307784), (756, 0.003674566690236814), (757, 0.02087520172690504), (758, 0.012009051890800327), (759, 0.002094503239931325), (760, 0.016129929645416145), (761, 0.006486037280998292), (762, 0.04807578511620267), (763, 0.011250068240529086), (764, 0.0), (765, 0.014860003473952839), (766, 0.031761294605067394), (767, 0.021711249939416543), (768, 0.0), (769, 0.006400177946118536), (770, 0.0), (771, 0.0), (772, 0.0), (773, 0.0), (774, 0.002383616614616704), (775, 0.0322816800170179), (776, 0.0), (777, 0.002764899293477365), (778, 0.027549690383646415), (779, 0.0035770413911935524), (780, 0.009396165909915509), (781, 0.0), (782, 0.023519961128042437), (783, 0.0024233478224874485), (784, 0.0), (785, 0.014862302789782803), (786, 0.0), (787, 0.017368760017281944), (788, 0.04148066801390789), (789, 0.0), (790, 0.013627890373930918), (791, 0.036589219861066814), (792, 0.0024470658670078596), (793, 0.004345868566710278), (794, 0.028242634056718795), (795, 0.0), (796, 0.01616531959413503), (797, 0.010742797363979054), (798, 0.0021953329089886313), (799, 0.022587429924388405), (800, 0.016540037900971465), (801, 0.049080061815405134), (802, 0.01584181968714119), (803, 0.030291374922254984), (804, 0.0058328181734129195), (805, 0.0021272978424168353), (806, 0.04491728054147922), (807, 0.0), (808, 0.035434481020828336), (809, 0.016530030732726565), (810, 0.07155315027430478), (811, 0.014254903358640495), (812, 0.011267587388341323), (813, 0.01367577686862223), (814, 0.024482467901211887), (815, 0.01739536551352611), (816, 0.00991046269298499), (817, 0.013758111497720778), (818, 0.0021732621697353426), (819, 0.0), (820, 0.0), (821, 0.010913675153292616), (822, 0.0), (823, 0.022443382167605122), (824, 0.0016019670641511873), (825, 0.05546685393476392), (826, 0.00245342348022623), (827, 0.00396982438651719), (828, 0.0021731263248368255), (829, 0.005957375539171214), (830, 0.002418232166087512), (831, 0.11073838367474823), (832, 0.01663555942198589), (833, 0.020395071891019537), (834, 0.02161507521344805), (835, 0.020604787330688455), (836, 0.0), (837, 0.03269736443806441), (838, 0.013219887436183941), (839, 0.0), (840, 0.0), (841, 0.0), (842, 0.005116733361827288), (843, 0.011691684461819306), (844, 0.03381339223222647), (845, 0.0067892729959759274), (846, 0.010540158040793186), (847, 0.03550373217964072), (848, 0.002320021847407776), (849, 0.004181851100587125), (850, 0.041110922896807164), (851, 0.014436186729693271), (852, 0.0022005666258840375), (853, 0.01422776168235954), (854, 0.0021954543534814263), (855, 0.0047780617703331784), (856, 0.048778463525867746), (857, 0.0025403584602589767), (858, 0.0015532671694803751), (859, 0.0), (860, 0.007513860906317841), (861, 0.005584460709551663), (862, 0.017518782081295644), (863, 0.02612005209373139), (864, 0.02434515150842062), (865, 0.002362111933755161), (866, 0.00602880067856225), (867, 0.042257607418054136), (868, 0.04086967817543632), (869, 0.0), (870, 0.03730716722250392), (871, 0.0023636827811698603), (872, 0.0024627777901685844), (873, 0.0), (874, 0.012260461410885519), (875, 0.020154399497576803), (876, 0.007402151439472467), (877, 0.0033464474365208496), (878, 0.006125236078282956), (879, 0.006765774759599896), (880, 0.055077652129827584), (881, 0.0), (882, 0.0), (883, 0.018136015698321732), (884, 0.0023934164821502782), (885, 0.0020634076058557572), (886, 0.0021566982917993176), (887, 0.013693905872070209), (888, 0.007187418615237732), (889, 0.042151898774505515), (890, 0.0023992320775354336), (891, 0.004407941646072027), (892, 0.0), (893, 0.013055338713884378), (894, 0.0022788524941605194), (895, 0.04894852297774041), (896, 0.01787315886959986), (897, 0.014325199274336838), (898, 0.00376966482398946), (899, 0.024090423618456192), (900, 0.017205297103811433), (901, 0.0019054172364369683), (902, 0.014423305499035706), (903, 0.002156380318040343), (904, 0.004925918659764457), (905, 0.004840695159088875), (906, 0.03852509928938227), (907, 0.0021155312824804075), (908, 0.030694023059394657), (909, 0.010403769139833789), (910, 0.024399485039300783), (911, 0.006143853137527997), (912, 0.0), (913, 0.0), (914, 0.0), (915, 0.013529795331677252), (916, 0.028682560146824413), (917, 0.0020591271554945756), (918, 0.0149830594040916), (919, 0.004252535963208332), (920, 0.0), (921, 0.013231601164639471), (922, 0.03674663419852537), (923, 0.006245270954825639), (924, 0.012383738559186104), (925, 0.002645146674850923), (926, 0.0), (927, 0.013791864612393082), (928, 0.0043668600758740555), (929, 0.0016594726567802105), (930, 0.03964478955716375), (931, 0.018350454037224684), (932, 0.012569055255163528), (933, 0.0023494086958030986), (934, 0.03907756393346151), (935, 0.0021397211031314737), (936, 0.01655726472863988), (937, 0.019114934955321544), (938, 0.0), (939, 0.011878851325273254), (940, 0.01987284669155988), (941, 0.0021546120759608493), (942, 0.00527214816610891), (943, 0.0), (944, 0.002143295263120744), (945, 0.0), (946, 0.0), (947, 0.00874791431611445), (948, 0.0), (949, 0.01691065217169513), (950, 0.0), (951, 0.0019420231274804587), (952, 0.05633117108754581), (953, 0.0052214949636086635), (954, 0.0), (955, 0.0), (956, 0.0), (957, 0.023863158680146476), (958, 0.010892001630952365), (959, 0.038691036919110085), (960, 0.010924553689792551), (961, 0.0), (962, 0.01348086094015934), (963, 0.0172010917240474), (964, 0.0), (965, 0.02634766530074597), (966, 0.013423433261529621), (967, 0.007159884395293609), (968, 0.027463883456593667), (969, 0.00234804214822643), (970, 0.013603737475014095), (971, 0.0), (972, 0.0), (973, 0.01918320586021547), (974, 0.003917329436443781), (975, 0.0021535858768136976), (976, 0.014819760287874906), (977, 0.0), (978, 0.0), (979, 0.022970485254576282), (980, 0.03156334898041488), (981, 0.00583836301563982), (982, 0.016339465100569755), (983, 0.0), (984, 0.0021882137179894045), (985, 0.0026315589976403327), (986, 0.006480123833904214), (987, 0.002386072681275688), (988, 0.016250650360013687), (989, 0.020324199468594983), (990, 0.010848849708250147), (991, 0.006961250823158241), (992, 0.004476785446458384), (993, 0.01268664941342796), (994, 0.016746624688361373), (995, 0.0), (996, 0.005904881467753373), (997, 0.0037634978061829106), (998, 0.002607878596332363), (999, 0.002605744229460369), (1000, 0.005832932640039885), (1001, 0.03233990784721841), (1002, 0.0373915387101733), (1003, 0.004277281506285388), (1004, 0.002061946943344357), (1005, 0.0675060080714973), (1006, 0.014853214566803965), (1007, 0.012818671303480187), (1008, 0.012149398361224901), (1009, 0.01632461989953429), (1010, 0.008706197768022094), (1011, 0.0), (1012, 0.015950421003818254), (1013, 0.0), (1014, 0.044120599036534404), (1015, 0.019891711463897677), (1016, 0.0), (1017, 0.02748524592777949), (1018, 0.01404069697591772), (1019, 0.0156740690805303), (1020, 0.01363970539094195), (1021, 0.03126477008247237), (1022, 0.0), (1023, 0.015980969749033888), (1024, 0.04974425081685401), (1025, 0.013236424822870952), (1026, 0.0022573849801919166), (1027, 0.03131937476905763), (1028, 0.0), (1029, 0.08628940609879755), (1030, 0.006277493312913003), (1031, 0.0), (1032, 0.034608351397008436), (1033, 0.04593848685229057), (1034, 0.02335772717849623), (1035, 0.0063000888813760075), (1036, 0.0021696778330997602), (1037, 0.01156507290950853), (1038, 0.018365741058634977), (1039, 0.0), (1040, 0.0017967602353770931), (1041, 0.006087375656231937), (1042, 0.020370575285583673), (1043, 0.015536327195603222), (1044, 0.0062822290007434976), (1045, 0.0), (1046, 0.012616006344631404), (1047, 0.004359883669467855), (1048, 0.014773878873687826), (1049, 0.03932770207507411), (1050, 0.04747570047333077), (1051, 0.012078138061295958), (1052, 0.026719347394505773), (1053, 0.0027057914932772185), (1054, 0.01367124208167855), (1055, 0.0), (1056, 0.0), (1057, 0.0), (1058, 0.005129047824437924), (1059, 0.0022771703770050845), (1060, 0.0022195567285830816), (1061, 0.0037672708293490773), (1062, 0.014000122134200065), (1063, 0.013988820152234778), (1064, 0.019821865348255273), (1065, 0.005927328331050082), (1066, 0.0), (1067, 0.0), (1068, 0.02402362604678615), (1069, 0.013332788070309428), (1070, 0.01718736660110172), (1071, 0.01745966883016288), (1072, 0.0022785009941957246), (1073, 0.0), (1074, 0.016150681503744), (1075, 0.014976689896278945), (1076, 0.019384158628055523), (1077, 0.0145243519364963), (1078, 0.026634730088677634), (1079, 0.002115490794720118), (1080, 0.01133755218704896), (1081, 0.009086068846111036), (1082, 0.004109808837844768), (1083, 0.07217300043143723), (1084, 0.002254153654273191), (1085, 0.0), (1086, 0.03310195169756923), (1087, 0.024918791693655094), (1088, 0.001966526909212161), (1089, 0.0), (1090, 0.04407473914515937), (1091, 0.0), (1092, 0.0034878872333675625), (1093, 0.01817527155605779), (1094, 0.054307096480538816), (1095, 0.010649545928762766), (1096, 0.013831264268499307), (1097, 0.009685367141822067), (1098, 0.0018758923436084031), (1099, 0.017073332020384472), (1100, 0.002262390130681966), (1101, 0.0), (1102, 0.0022831634332538043), (1103, 0.0), (1104, 0.004404498992953399), (1105, 0.0), (1106, 0.04582079405111482), (1107, 0.0419945834618743), (1108, 0.0), (1109, 0.0025508763944687898), (1110, 0.0022612074332240446), (1111, 0.012177409652456424), (1112, 0.002291264568559689), (1113, 0.0), (1114, 0.024070772560612436), (1115, 0.003362418480955894), (1116, 0.01262438758243558), (1117, 0.0022099507948021625), (1118, 0.011449818111414075), (1119, 0.0069238961769903205), (1120, 0.003567660143876122), (1121, 0.0028821188288215725), (1122, 0.012821850926167194), (1123, 0.006163353055709348), (1124, 0.02541133724022887), (1125, 0.0), (1126, 0.0), (1127, 0.004118688246079229), (1128, 0.021353722567521258), (1129, 0.04471985916667698), (1130, 0.0), (1131, 0.0023081401065448938), (1132, 0.00616318654973068), (1133, 0.0), (1134, 0.018864631692363472), (1135, 0.056239195933793784), (1136, 0.012463894034582111), (1137, 0.02782609172310076), (1138, 0.016550258923631697), (1139, 0.00968193825496494), (1140, 0.017518085212255737), (1141, 0.019665370184252143), (1142, 0.0), (1143, 0.0), (1144, 0.011334803230839604), (1145, 0.026924803836721155), (1146, 0.015568295369909118), (1147, 0.0), (1148, 0.02616070958950983), (1149, 0.0), (1150, 0.004513471141687866), (1151, 0.0), (1152, 0.0), (1153, 0.002933994694745096), (1154, 0.0037298692189235527), (1155, 0.0), (1156, 0.0), (1157, 0.021867750728398354), (1158, 0.004675225979200678), (1159, 0.0), (1160, 0.00218351992929407), (1161, 0.002076608749800163), (1162, 0.030567108841516314), (1163, 0.04174586854245773), (1164, 0.01493151803227467), (1165, 0.0), (1166, 0.06140179140278797), (1167, 0.004584494481592742), (1168, 0.03572165956547819), (1169, 0.014739560088194305), (1170, 0.038238273577661255), (1171, 0.0), (1172, 0.011931095374436129), (1173, 0.02972347701735896), (1174, 0.006629693974173295), (1175, 0.01270988814298177), (1176, 0.0023482396382805944), (1177, 0.031129530357655248), (1178, 0.0), (1179, 0.016776309770569386), (1180, 0.0), (1181, 0.003939759513052733), (1182, 0.014505271094057467), (1183, 0.019179933406877913), (1184, 0.018665074526639125), (1185, 0.004408687438093261), (1186, 0.01709680277762942), (1187, 0.0027028240305563256), (1188, 0.006806746208732071), (1189, 0.0), (1190, 0.0), (1191, 0.006510650354752651), (1192, 0.0296271587539038), (1193, 0.0), (1194, 0.019405075500858696), (1195, 0.012352447108793697), (1196, 0.0), (1197, 0.012927808781707156), (1198, 0.0), (1199, 0.002029341572402249), (1200, 0.0), (1201, 0.0), (1202, 0.005500786483344201), (1203, 0.0021599405296728745), (1204, 0.0023340469153150614), (1205, 0.0), (1206, 0.06460607309607874), (1207, 0.032354630726144626), (1208, 0.0029328827600129622), (1209, 0.001917033509784839), (1210, 0.00304287744658109), (1211, 0.003965146639642756), (1212, 0.037571165605289766), (1213, 0.0), (1214, 0.0), (1215, 0.015751170569507915), (1216, 0.002086057497424584), (1217, 0.010933663607419902), (1218, 0.0), (1219, 0.0020637550795717897), (1220, 0.03166817650004213), (1221, 0.0448877912434648), (1222, 0.0), (1223, 0.006510157443724152), (1224, 0.006769566433065113), (1225, 0.08491099620081412), (1226, 0.015939116551919735), (1227, 0.044998723691331344), (1228, 0.015215035220803079), (1229, 0.027827189134604653), (1230, 0.020031548994888463), (1231, 0.0), (1232, 0.006535100200958328), (1233, 0.021132925844034513), (1234, 0.05194390286084291), (1235, 0.013770187267605776), (1236, 0.003805609513706239), (1237, 0.0058868820670462535), (1238, 0.011835379035433665), (1239, 0.050417550484119195), (1240, 0.0), (1241, 0.001891158742456528), (1242, 0.0), (1243, 0.0495729373015263), (1244, 0.0), (1245, 0.012207836507414652), (1246, 0.05061534813242455), (1247, 0.012164107773294281), (1248, 0.022728114496563527), (1249, 0.03517867314968657), (1250, 0.012145749804155634), (1251, 0.0020356686318849346), (1252, 0.01620983968762157), (1253, 0.0), (1254, 0.02678401679593699), (1255, 0.03664847955700397), (1256, 0.015809133945142065), (1257, 0.029875917657131008), (1258, 0.0), (1259, 0.0038247416856182137), (1260, 0.0), (1261, 0.002227306774541095), (1262, 0.016058307062914827), (1263, 0.013981931313665878), (1264, 0.020663235611593552), (1265, 0.016143532659315358), (1266, 0.016426757894787168), (1267, 0.02522615326024071), (1268, 0.030801709636363674), (1269, 0.0), (1270, 0.0038362951851837607), (1271, 0.010361794968007312), (1272, 0.03453522662263331), (1273, 0.0021893921252557364), (1274, 0.0), (1275, 0.007482822424074931), (1276, 0.010798978074978057), (1277, 0.014197533084899853), (1278, 0.03432286435909451), (1279, 0.02606195552700749), (1280, 0.004455966233757634), (1281, 0.0038194004694663804), (1282, 0.0), (1283, 0.0), (1284, 0.0022393887767202924), (1285, 0.0), (1286, 0.0022552579258417584), (1287, 0.0), (1288, 0.0), (1289, 0.012203206352566307), (1290, 0.026354209639568527), (1291, 0.0), (1292, 0.004115036857067466), (1293, 0.03653585988265039), (1294, 0.012928650988479964), (1295, 0.009779081509470135), (1296, 0.0), (1297, 0.010302182896765598), (1298, 0.00228771803378326), (1299, 0.0), (1300, 0.0035383968492296593), (1301, 0.025988876244687244), (1302, 0.01633050090425083), (1303, 0.013191161619306824), (1304, 0.024398630520655898), (1305, 0.0019018197166470712), (1306, 0.010364038289838987), (1307, 0.05064473630923655), (1308, 0.013043606953625834), (1309, 0.016293811463891836), (1310, 0.02151069582765452), (1311, 0.0), (1312, 0.011997757617857234), (1313, 0.002266891610724), (1314, 0.013831559449243554), (1315, 0.01622942344091484), (1316, 0.010722839674394042), (1317, 0.037119923557859216), (1318, 0.0020516465762878714), (1319, 0.0022569828462924183), (1320, 0.0378557549733118), (1321, 0.01184680850254468), (1322, 0.0), (1323, 0.0), (1324, 0.0024539160912479285), (1325, 0.017733344933795442), (1326, 0.02314878381877527), (1327, 0.011331817446449266), (1328, 0.010854949397326764), (1329, 0.028703702917782098), (1330, 0.0), (1331, 0.0), (1332, 0.00466236966211881), (1333, 0.0), (1334, 0.012499679617693448), (1335, 0.00654964698400573), (1336, 0.0), (1337, 0.006618057506507458), (1338, 0.002262610579637782), (1339, 0.00244520488593487), (1340, 0.0106953924551773), (1341, 0.02141744249122618), (1342, 0.03551934908378889), (1343, 0.004974516847787577), (1344, 0.04027957518273206), (1345, 0.011890196252505664), (1346, 0.031940516471814055), (1347, 0.10657057489678057), (1348, 0.012247380027021438), (1349, 0.0025920336582492196), (1350, 0.002240851580872613), (1351, 0.004782560963291268), (1352, 0.001954100398997221), (1353, 0.0), (1354, 0.01370221384092669), (1355, 0.0023557913990386054), (1356, 0.02256007645358104), (1357, 0.0021199850109640803), (1358, 0.010144894483991808), (1359, 0.015276975459518062), (1360, 0.014890436276384748), (1361, 0.0), (1362, 0.0), (1363, 0.0), (1364, 0.019774649404573436), (1365, 0.06443444102433545), (1366, 0.0020751184407903824), (1367, 0.01432512673631972), (1368, 0.0), (1369, 0.024814627846667076), (1370, 0.021030646693320106), (1371, 0.0), (1372, 0.002157974040239573), (1373, 0.08543074929833537), (1374, 0.011925227003581385), (1375, 0.015550201690871557), (1376, 0.02263096471984436), (1377, 0.04738837104583738), (1378, 0.012166011999354551), (1379, 0.01032877965453067), (1380, 0.004413229164038993), (1381, 0.016135245942276912), (1382, 0.014674644003709313), (1383, 0.023325654540167894), (1384, 0.0037243505575896303), (1385, 0.018424830354512034), (1386, 0.0), (1387, 0.010992110984117055), (1388, 0.009918892937071945), (1389, 0.0), (1390, 0.0), (1391, 0.015686486602144327), (1392, 0.0020453400398221296), (1393, 0.01758105340373923), (1394, 0.0020381606674440642), (1395, 0.003368377373122335), (1396, 0.016838316780623308), (1397, 0.0019893592420313997), (1398, 0.0026630549833113757), (1399, 0.0), (1400, 0.01724626899680624), (1401, 0.025166714914705762), (1402, 0.0024122898543673323), (1403, 0.029234590618912402), (1404, 0.002174549793074655), (1405, 0.0), (1406, 0.02966233399744684), (1407, 0.017110835458453523), (1408, 0.002240488457794515), (1409, 0.002461087221942193), (1410, 0.0023250477950438587), (1411, 0.0022732434489940324), (1412, 0.026667842464502683), (1413, 0.018675493501752082), (1414, 0.04278459874776182), (1415, 0.13216853311877574), (1416, 0.0021983525628104994), (1417, 0.014364262425403123), (1418, 0.01831971108683649), (1419, 0.004189597580015734), (1420, 0.02587137457013175), (1421, 0.00625183297372974), (1422, 0.028507783842797625), (1423, 0.019888432915722485), (1424, 0.0), (1425, 0.012122662608133173), (1426, 0.004433449911602557), (1427, 0.0018857786204521459), (1428, 0.003966752899048414), (1429, 0.01966875910182765), (1430, 0.0038910207562316192), (1431, 0.00428497542764365), (1432, 0.0043589046120715725), (1433, 0.006033327544227327), (1434, 0.011498314596033617), (1435, 0.004278200879669967), (1436, 0.004427608879914015), (1437, 0.0), (1438, 0.0022782420312650953), (1439, 0.019878683390781877), (1440, 0.0023359766328846987), (1441, 0.0), (1442, 0.018888568164987282), (1443, 0.028906700283939938), (1444, 0.0), (1445, 0.0), (1446, 0.013624207028132905), (1447, 0.0), (1448, 0.005992254654962023), (1449, 0.004405381815326652), (1450, 0.0019824461085477586), (1451, 0.003930661334599857), (1452, 0.03343426359498639), (1453, 0.009588111086968455), (1454, 0.0071230080875120194), (1455, 0.045148691788732376), (1456, 0.015295601814174645), (1457, 0.0), (1458, 0.01771317199666258), (1459, 0.025991433389341775), (1460, 0.0313927486880094), (1461, 0.012049950073742887), (1462, 0.019572184558902), (1463, 0.0022180107677363834), (1464, 0.010316300209934846), (1465, 0.022657380273349025), (1466, 0.03199681457502772), (1467, 0.0), (1468, 0.0), (1469, 0.004332086903884732), (1470, 0.0), (1471, 0.02248286498791176), (1472, 0.021586661486899784), (1473, 0.0), (1474, 0.0025655030908675013), (1475, 0.01482104497611058), (1476, 0.0023306781453353844), (1477, 0.02855695525066002), (1478, 0.022652617465996838), (1479, 0.002523118818255472), (1480, 0.0038895112916253745), (1481, 0.055519101041196076), (1482, 0.008997436693639513), (1483, 0.006434773753223708), (1484, 0.0068599087469701945), (1485, 0.0), (1486, 0.013123612426601887), (1487, 0.0), (1488, 0.020715548068590446), (1489, 0.007287047305329459), (1490, 0.030344455251140903), (1491, 0.0), (1492, 0.010312523136900877), (1493, 0.02701172908931408), (1494, 0.03740328143599773), (1495, 0.0), (1496, 0.0), (1497, 0.0026254475381379877), (1498, 0.018189303200066908), (1499, 0.0025751965711128763), (1500, 0.01404719956591316), (1501, 0.011901527926407264), (1502, 0.004419007376232009), (1503, 0.0020857551380394856), (1504, 0.0), (1505, 0.02617066930180311), (1506, 0.031117187088265816), (1507, 0.011787687111174817), (1508, 0.0), (1509, 0.019317797387666792), (1510, 0.030607428231087547), (1511, 0.010724063649280378), (1512, 0.0), (1513, 0.002396398470988189), (1514, 0.0385587918955977), (1515, 0.011994260417410706), (1516, 0.002369159417364076), (1517, 0.0), (1518, 0.0024776016548650383), (1519, 0.039884609395745244), (1520, 0.0), (1521, 0.0), (1522, 0.01684882146640265), (1523, 0.008794066369637374), (1524, 0.0), (1525, 0.0), (1526, 0.011387601978908701), (1527, 0.01905581395690248), (1528, 0.0020894691887280424), (1529, 0.0), (1530, 0.0034269601055134137), (1531, 0.019402381719769653), (1532, 0.0), (1533, 0.01740067857353005), (1534, 0.021425523183580642), (1535, 0.0), (1536, 0.0), (1537, 0.00694312080078093), (1538, 0.012904699083066528), (1539, 0.012677196791856714), (1540, 0.016562929968890586), (1541, 0.0), (1542, 0.004332536624862911), (1543, 0.0021194498831737514), (1544, 0.02120521447020095), (1545, 0.0), (1546, 0.0035999275311584637), (1547, 0.0026793291269215707), (1548, 0.0), (1549, 0.0), (1550, 0.002268409102602889), (1551, 0.015824920931630612), (1552, 0.02123515141314632), (1553, 0.01254741442740259), (1554, 0.004607267788141163), (1555, 0.046603232852465794), (1556, 0.0), (1557, 0.010577254737844967), (1558, 0.002138461569495175), (1559, 0.0036216127724490992), (1560, 0.0), (1561, 0.0), (1562, 0.013410462373806597), (1563, 0.0), (1564, 0.0), (1565, 0.001966349123954622), (1566, 0.019053398851763742), (1567, 0.02424971096643635), (1568, 0.003818704593199873), (1569, 0.0), (1570, 0.02047721136111732), (1571, 0.011754154830953368), (1572, 0.030932385767893283), (1573, 0.014263264754093903), (1574, 0.0023214723140234303), (1575, 0.015054785851003297), (1576, 0.014708388856873155), (1577, 0.0), (1578, 0.0), (1579, 0.009675628569483135), (1580, 0.0025384732638021614), (1581, 0.0), (1582, 0.002208540119997034), (1583, 0.046871202479337695), (1584, 0.0), (1585, 0.0), (1586, 0.0), (1587, 0.004259576725647429), (1588, 0.03256147337644901), (1589, 0.0), (1590, 0.0036484571227792324), (1591, 0.004846401031156594), (1592, 0.009983226314155168), (1593, 0.0027878747573491726), (1594, 0.0025756521721386127), (1595, 0.014806184665499326), (1596, 0.0), (1597, 0.0022160121950225114), (1598, 0.0022708897824368487), (1599, 0.0), (1600, 0.0), (1601, 0.0), (1602, 0.014710695635948923), (1603, 0.0), (1604, 0.0), (1605, 0.002078297147809599), (1606, 0.0), (1607, 0.010024212767514556), (1608, 0.005724265894422131), (1609, 0.0), (1610, 0.0), (1611, 0.010402605427628905), (1612, 0.04489324158690303), (1613, 0.0), (1614, 0.015488477750297807), (1615, 0.0), (1616, 0.0020216252644297958), (1617, 0.016087793912513863), (1618, 0.0), (1619, 0.015150943099330664), (1620, 0.002151064196574762), (1621, 0.006393129161525594), (1622, 0.013821483843790418), (1623, 0.0384360500449775), (1624, 0.0018719961393255991), (1625, 0.0020686047467728835), (1626, 0.015171521778809706), (1627, 0.014342510791369844), (1628, 0.0021049124182140294), (1629, 0.033630824340369056), (1630, 0.013737609967530269), (1631, 0.018062496605894353), (1632, 0.004012150800452485), (1633, 0.003998472062618357), (1634, 0.0022800369384203545), (1635, 0.0041039047151170275), (1636, 0.0), (1637, 0.002467617581186421), (1638, 0.03850069656776288), (1639, 0.008714160287362218), (1640, 0.0), (1641, 0.018055945455091826), (1642, 0.00212911033820433), (1643, 0.006808399348362057), (1644, 0.011903141934589101), (1645, 0.01176307999204575), (1646, 0.0), (1647, 0.01126453037623006), (1648, 0.01673531972357506), (1649, 0.01874108081036671), (1650, 0.013183230539931094), (1651, 0.0), (1652, 0.04418718944845983), (1653, 0.006324044780929817), (1654, 0.03873212566564237), (1655, 0.01729392495523799), (1656, 0.0026374590085410945), (1657, 0.0), (1658, 0.015740220463668422), (1659, 0.03371566217961485), (1660, 0.02548399100785967), (1661, 0.004506250451742309), (1662, 0.024600394031906163), (1663, 0.01834318655515321), (1664, 0.011286143626254885), (1665, 0.05749440904631462), (1666, 0.0022685804853516305), (1667, 0.005976692381763873), (1668, 0.0), (1669, 0.020601782759956867), (1670, 0.013255337492317703), (1671, 0.015840194196306383), (1672, 0.0021059362392268238), (1673, 0.0), (1674, 0.0), (1675, 0.015285287891301095), (1676, 0.013322305759567487), (1677, 0.0018098630925523027), (1678, 0.018296552572685212), (1679, 0.0), (1680, 0.018766603220941803), (1681, 0.03848104217980731), (1682, 0.02452425903015175), (1683, 0.0024617042088225303), (1684, 0.010438424742796045), (1685, 0.015041885528847231), (1686, 0.02699555455029013), (1687, 0.024566628755329438), (1688, 0.0144973060150584), (1689, 0.0), (1690, 0.01280909181044041), (1691, 0.0019628892576053314), (1692, 0.047864131377605104), (1693, 0.0021599387072921404), (1694, 0.003715361229167686), (1695, 0.009645304400337387), (1696, 0.06710456585914586), (1697, 0.0), (1698, 0.0), (1699, 0.0036204980989957237), (1700, 0.0), (1701, 0.05204862191831735), (1702, 0.0), (1703, 0.0023801926221811566), (1704, 0.0), (1705, 0.06391659237178698), (1706, 0.002321414940437894), (1707, 0.0590639845498897), (1708, 0.04474932492747044), (1709, 0.0), (1710, 0.029732284041671848), (1711, 0.002884832445293467), (1712, 0.015196617399691364), (1713, 0.018283390663467614), (1714, 0.031201326939020932), (1715, 0.010672725080058891), (1716, 0.007272958647710454), (1717, 0.00236922302398258), (1718, 0.012490825241217234), (1719, 0.002076155758792315), (1720, 0.0), (1721, 0.03796975627625134), (1722, 0.012717740757200214), (1723, 0.029058969596676924), (1724, 0.004505684656352609), (1725, 0.01844588740473702), (1726, 0.0), (1727, 0.0023918520266775593), (1728, 0.05352768068039515), (1729, 0.0), (1730, 0.01296153956064701), (1731, 0.017951188769482353), (1732, 0.0044724745279366455), (1733, 0.0025223639786665325), (1734, 0.010785730803398182), (1735, 0.0), (1736, 0.0024082610457571915), (1737, 0.030572099719946295), (1738, 0.0), (1739, 0.005831049879378429), (1740, 0.00661543350743758), (1741, 0.0), (1742, 0.04315079682230686), (1743, 0.02474457624884745), (1744, 0.0021945959180800436), (1745, 0.0), (1746, 0.011121616894653071), (1747, 0.011064101973088077), (1748, 0.022228241146069718), (1749, 0.00392480622368195), (1750, 0.0), (1751, 0.0), (1752, 0.0), (1753, 0.0035969594155323523), (1754, 0.002534168028853998), (1755, 0.014134389975159712), (1756, 0.009313022228189687), (1757, 0.0), (1758, 0.0), (1759, 0.002173613998458412), (1760, 0.031002123936158317), (1761, 0.02654646947359541), (1762, 0.03238968431593076), (1763, 0.0019699918897978183), (1764, 0.012323529319324168), (1765, 0.0023792850927039475), (1766, 0.0), (1767, 0.0), (1768, 0.017636685581951833), (1769, 0.0), (1770, 0.012813533883611538), (1771, 0.0), (1772, 0.0036312544936450697), (1773, 0.015775346059347745), (1774, 0.04716020057372452), (1775, 0.02637315810144711), (1776, 0.026999501525195792), (1777, 0.017201728809670937), (1778, 0.0), (1779, 0.030106158038101835), (1780, 0.0015006770014488302), (1781, 0.048661085566062114), (1782, 0.002104029013362692), (1783, 0.0), (1784, 0.012767595865224034), (1785, 0.0), (1786, 0.015593983547858797), (1787, 0.03843177978354578), (1788, 0.04875782189556239), (1789, 0.0038641268215108557), (1790, 0.02647658963408704), (1791, 0.004454917433690485), (1792, 0.022311391582191635), (1793, 0.03689464560663824), (1794, 0.0), (1795, 0.0), (1796, 0.014927861159538067), (1797, 0.012430242661777047), (1798, 0.0263130548751446), (1799, 0.017634760277395536), (1800, 0.0), (1801, 0.01057659749535997), (1802, 0.0), (1803, 0.08369415745392256), (1804, 0.020170296528932232), (1805, 0.020685168419705382), (1806, 0.0), (1807, 0.024041938702129874), (1808, 0.002063128450668067), (1809, 0.01455145413435919), (1810, 0.0), (1811, 0.016229394044826356), (1812, 0.027749818699360697), (1813, 0.0022333969731967293), (1814, 0.015173067948096367), (1815, 0.0048440571098184995), (1816, 0.0), (1817, 0.012618220445307594), (1818, 0.01129246892714009), (1819, 0.0060417515922714495), (1820, 0.0), (1821, 0.0024140305432129197), (1822, 0.002428417476695495), (1823, 0.0), (1824, 0.0), (1825, 0.0), (1826, 0.0020802214025214052), (1827, 0.0020802666318152745), (1828, 0.001984982813469974), (1829, 0.0339952043500975), (1830, 0.0146014293367211), (1831, 0.002274582871281521), (1832, 0.004273787906820366), (1833, 0.020630515405219145), (1834, 0.0), (1835, 0.027868953071530856), (1836, 0.03762043296326269), (1837, 0.0), (1838, 0.03097572781006902), (1839, 0.0), (1840, 0.019430153751962866), (1841, 0.012394185306882119), (1842, 0.0), (1843, 0.02964111066769336), (1844, 0.02425242478063303), (1845, 0.015561314542285513), (1846, 0.004076454840986834), (1847, 0.0), (1848, 0.0024764264594633835), (1849, 0.01173133579856679), (1850, 0.0), (1851, 0.01976562389227423), (1852, 0.025616828083637327), (1853, 0.006864363391694769), (1854, 0.0021964046645718614), (1855, 0.009237326318812964), (1856, 0.0), (1857, 0.013842017763944614), (1858, 0.0025741076009448568), (1859, 0.014826166151604219), (1860, 0.0322795718996964), (1861, 0.02742666004519213), (1862, 0.0025764244848430827), (1863, 0.010291697026103948), (1864, 0.027599641990570845), (1865, 0.005883212530148235), (1866, 0.007081201455147921), (1867, 0.011768753091475558), (1868, 0.0), (1869, 0.015531196338479755), (1870, 0.021301644241443225), (1871, 0.001830974536452195), (1872, 0.0023267350387497767), (1873, 0.06982712608640801), (1874, 0.002486137644965899), (1875, 0.013055523363088873), (1876, 0.02886009485411193), (1877, 0.027392345795422712), (1878, 0.002184269464034642), (1879, 0.0), (1880, 0.0), (1881, 0.004376846405942603), (1882, 0.0022539622110814674), (1883, 0.0), (1884, 0.002150170866310247), (1885, 0.0026954504142309163), (1886, 0.0018284576742406116), (1887, 0.002606971081276651), (1888, 0.0), (1889, 0.0), (1890, 0.0025526174764068893), (1891, 0.018878925624692754), (1892, 0.014856504735387079), (1893, 0.0024263615429138), (1894, 0.0), (1895, 0.0), (1896, 0.020140977026647192), (1897, 0.03065979348299092), (1898, 0.03977318833274914), (1899, 0.0), (1900, 0.0175657587268196), (1901, 0.06310447363186447), (1902, 0.021719581488916142), (1903, 0.041104354349962346), (1904, 0.004425413716528596), (1905, 0.020698692123982343), (1906, 0.029807782608637454), (1907, 0.002476218068223689), (1908, 0.011979943991304537), (1909, 0.002611108668357998), (1910, 0.0035351597177914517), (1911, 0.01237505667651663), (1912, 0.06338577017093808), (1913, 0.011759830471116327), (1914, 0.013606925163226917), (1915, 0.0), (1916, 0.00242421623418903), (1917, 0.0), (1918, 0.0068500505769804945), (1919, 0.0016078843706470727), (1920, 0.022276680787314616), (1921, 0.0020559250500645273), (1922, 0.002322259913490553), (1923, 0.0025548812655432304), (1924, 0.01869146148159664), (1925, 0.0036530053840672957), (1926, 0.015783257670242253), (1927, 0.004122452103050109), (1928, 0.0), (1929, 0.002193083021465045), (1930, 0.004230220941740984), (1931, 0.006625912441192396), (1932, 0.0), (1933, 0.018557584479198284), (1934, 0.04000825657359896), (1935, 0.010816741959254188), (1936, 0.03158339573743271), (1937, 0.02814826669294871), (1938, 0.013960063326315011), (1939, 0.0055534580043170075), (1940, 0.01643333484183409), (1941, 0.005008473482589709), (1942, 0.03569715468522853), (1943, 0.002002335283060305), (1944, 0.0), (1945, 0.012007072355473417), (1946, 0.002363932742334906), (1947, 0.002670530647663394), (1948, 0.01633097741221402), (1949, 0.01457681041718286), (1950, 0.043332805574931126), (1951, 0.015083981619201875), (1952, 0.015140753295567192), (1953, 0.02552940132106967), (1954, 0.0020378119084111693), (1955, 0.027484253170518298), (1956, 0.04407653139529532), (1957, 0.03691672600102003), (1958, 0.01435185227672751), (1959, 0.002488454834827264), (1960, 0.026191393343773538), (1961, 0.01530182880584559), (1962, 0.004661741958689918), (1963, 0.0), (1964, 0.042691063597854254), (1965, 0.015514762846512375), (1966, 0.0), (1967, 0.022566088408779533), (1968, 0.0076158619086981825), (1969, 0.0022200641281027076), (1970, 0.014325776196106973), (1971, 0.0019498680362536166), (1972, 0.0), (1973, 0.0462148011951145), (1974, 0.0), (1975, 0.03238430865156826), (1976, 0.0046746432158075515), (1977, 0.0020482209189239546), (1978, 0.0), (1979, 0.0), (1980, 0.002063351922518802), (1981, 0.0), (1982, 0.0), (1983, 0.017039662181859015), (1984, 0.0), (1985, 0.018594378726823648), (1986, 0.011785221844193656), (1987, 0.0), (1988, 0.02258523929276237), (1989, 0.005208725895663701), (1990, 0.003812419351640363), (1991, 0.07411887091263547), (1992, 0.003909406449711317), (1993, 0.023252674032279215), (1994, 0.03610368915107099), (1995, 0.0024736467871311367), (1996, 0.013510084318134857), (1997, 0.0070458109988579595), (1998, 0.014230157909678597), (1999, 0.0), (2000, 0.0290284503675941), (2001, 0.03232004035129353), (2002, 0.0), (2003, 0.0), (2004, 0.002162139463571798), (2005, 0.021430567762827302), (2006, 0.027084756124586752), (2007, 0.0), (2008, 0.02749978454785395), (2009, 0.0), (2010, 0.001816708738429779), (2011, 0.012927617532093346), (2012, 0.004812393271729933), (2013, 0.012828583723705775), (2014, 0.031587483717230275), (2015, 0.004369546317712365), (2016, 0.012640583226771411), (2017, 0.010505096681835335), (2018, 0.02851766801181408), (2019, 0.0), (2020, 0.010164794504181899), (2021, 0.0), (2022, 0.05819758896970363), (2023, 0.00216633419162988), (2024, 0.006210076021631131), (2025, 0.02752762495569773), (2026, 0.0), (2027, 0.049465844295687), (2028, 0.0), (2029, 0.018535544550148775), (2030, 0.0), (2031, 0.01925554008327576), (2032, 0.0), (2033, 0.0), (2034, 0.0018952894076632017), (2035, 0.00194884646110838), (2036, 0.0), (2037, 0.03304078090117632), (2038, 0.0), (2039, 0.010242343596885691), (2040, 0.020329526347202538), (2041, 0.01692138878695361), (2042, 0.0), (2043, 0.0), (2044, 0.014935141197018803), (2045, 0.07997770874952377), (2046, 0.0), (2047, 0.00203283802648746), (2048, 0.002367763136747776), (2049, 0.0156735461513882), (2050, 0.0), (2051, 0.01615288523903104), (2052, 0.022226803871361986), (2053, 0.024422621248803508), (2054, 0.018029666516450032), (2055, 0.02368564221787032), (2056, 0.027618172870266113), (2057, 0.004058195083437396), (2058, 0.024157824122755158), (2059, 0.0), (2060, 0.0022771034709229455), (2061, 0.006568408134866484), (2062, 0.015590613946461076), (2063, 0.03856236511299848), (2064, 0.008777309423619492), (2065, 0.002066782991918131), (2066, 0.004707482724483941), (2067, 0.0023142938558507096), (2068, 0.011967270647830618), (2069, 0.006371694398913257), (2070, 0.015739811412148474), (2071, 0.029545717365725567), (2072, 0.013050050600296619), (2073, 0.07631895945699643), (2074, 0.014214389208970805), (2075, 0.03099606902377911), (2076, 0.0019402083713529936), (2077, 0.0), (2078, 0.0033280503144699066), (2079, 0.0), (2080, 0.0022226604525826094), (2081, 0.017188792488444925), (2082, 0.03252956040300233), (2083, 0.0024074684925003663), (2084, 0.004516087126625887), (2085, 0.0), (2086, 0.0), (2087, 0.013905300905042144), (2088, 0.021649383661745392), (2089, 0.01922485800773514), (2090, 0.0), (2091, 0.02163557766271329), (2092, 0.0), (2093, 0.003870153486785787), (2094, 0.031025680272721276), (2095, 0.04243676745356011), (2096, 0.03472626941749417), (2097, 0.013250295661634957), (2098, 0.02451565514166627), (2099, 0.0021501938245821113), (2100, 0.0), (2101, 0.01304051750462691), (2102, 0.0022489556688345316), (2103, 0.013843549215047235), (2104, 0.006925855481714981), (2105, 0.0024496529086814084), (2106, 0.0), (2107, 0.0), (2108, 0.002553338623636154), (2109, 0.01433120738765279), (2110, 0.027782055838948234), (2111, 0.012336367394855146), (2112, 0.031210553950436044), (2113, 0.009325150723288045), (2114, 0.03009709390721715), (2115, 0.0), (2116, 0.015344244359612978), (2117, 0.04011389490162728), (2118, 0.0), (2119, 0.05774312469698025), (2120, 0.0), (2121, 0.031016860408676565), (2122, 0.0023223752010612013), (2123, 0.002381126518910685), (2124, 0.0), (2125, 0.009414356592308312), (2126, 0.02008028744342571), (2127, 0.0019312243880802874), (2128, 0.0), (2129, 0.03811523280772779), (2130, 0.014213006994290303), (2131, 0.002209916128255152), (2132, 0.001921880550610982), (2133, 0.0021759040126474653), (2134, 0.002573162116065112), (2135, 0.0), (2136, 0.004535226639160191), (2137, 0.0032605029587323975), (2138, 0.0), (2139, 0.003927405695150886), (2140, 0.0), (2141, 0.002198818200017105), (2142, 0.002682996769274982), (2143, 0.02954541648069435), (2144, 0.06228816922257104), (2145, 0.021166819755511643), (2146, 0.0019659621610720155), (2147, 0.0), (2148, 0.0023844159547732795), (2149, 0.04284137973469811), (2150, 0.0), (2151, 0.0024527243064729493), (2152, 0.008398185054233252), (2153, 0.0), (2154, 0.023570640742603483), (2155, 0.014465602118433252), (2156, 0.0232363846816433), (2157, 0.0019343717474112905), (2158, 0.0), (2159, 0.013887408958206898), (2160, 0.011213384359268731), (2161, 0.0), (2162, 0.002470417720075967), (2163, 0.002052668519498019), (2164, 0.0), (2165, 0.0), (2166, 0.0021665360184635347), (2167, 0.0), (2168, 0.0), (2169, 0.002315333133964726), (2170, 0.0), (2171, 0.0), (2172, 0.0), (2173, 0.04186903233656087), (2174, 0.018240041957231567), (2175, 0.020509329441426253), (2176, 0.03142412578131139), (2177, 0.008849410741900012), (2178, 0.004070281676690591), (2179, 0.028996095633092366), (2180, 0.0), (2181, 0.015959706945164888), (2182, 0.0), (2183, 0.0), (2184, 0.0), (2185, 0.010675513619034462), (2186, 0.0), (2187, 0.022346788662654726), (2188, 0.007914509564955164), (2189, 0.00322924105054238), (2190, 0.017762811525688097), (2191, 0.014672869919844293), (2192, 0.002316690296629445), (2193, 0.04162961742784458), (2194, 0.0), (2195, 0.0022943970899593977), (2196, 0.0068579431609933905), (2197, 0.013618127488972596), (2198, 0.011939317164598074), (2199, 0.01639388585049342), (2200, 0.0), (2201, 0.002139996659975054), (2202, 0.01122644450796961), (2203, 0.010904193363086588), (2204, 0.0), (2205, 0.0336704422204253), (2206, 0.04111874070091254), (2207, 0.0), (2208, 0.004435179091019903), (2209, 0.03446843258492125), (2210, 0.02710042704557221), (2211, 0.011912694055380098), (2212, 0.018944449265953428), (2213, 0.0020514635040128565), (2214, 0.007051074400102017), (2215, 0.0), (2216, 0.006355720825643885), (2217, 0.027392117819963924), (2218, 0.016513081725410706), (2219, 0.0), (2220, 0.0), (2221, 0.034074272045183124), (2222, 0.01534226721939693), (2223, 0.0026156440346417776), (2224, 0.01592137182066234), (2225, 0.015282435349392639), (2226, 0.002249447452872173), (2227, 0.013913155016402548), (2228, 0.0), (2229, 0.018336243524316856), (2230, 0.002362541567708329), (2231, 0.015537776875976805), (2232, 0.004088230966531558), (2233, 0.01630029820045381), (2234, 0.010572154618029139), (2235, 0.014448066754302807), (2236, 0.012900993288906617), (2237, 0.0020186197389167877), (2238, 0.0), (2239, 0.011624065099188305), (2240, 0.028088148089765716), (2241, 0.08619572714251203), (2242, 0.0021865830289838455), (2243, 0.0), (2244, 0.013106038027092719), (2245, 0.004041780172095353), (2246, 0.014034081592101925), (2247, 0.012139808882318574), (2248, 0.0020681649468793917), (2249, 0.0), (2250, 0.02242141301626478), (2251, 0.003200794036094915), (2252, 0.004508688415209477), (2253, 0.0311818203798331), (2254, 0.017556880917086543), (2255, 0.030519834818075124), (2256, 0.0), (2257, 0.002961805565461111), (2258, 0.0), (2259, 0.0), (2260, 0.002460904007992133), (2261, 0.016434739450515278), (2262, 0.0), (2263, 0.0), (2264, 0.01118866393671943), (2265, 0.05840105373056099), (2266, 0.020290891913416084), (2267, 0.0), (2268, 0.016566944315454326), (2269, 0.002669949657770032), (2270, 0.0019876409699385125), (2271, 0.0), (2272, 0.0), (2273, 0.0165955572383907), (2274, 0.0), (2275, 0.00566686066903067), (2276, 0.0165389651567508), (2277, 0.03947954944377244), (2278, 0.004245285069962417), (2279, 0.021834835243096054), (2280, 0.0041452777341886415), (2281, 0.0), (2282, 0.0), (2283, 0.032343365201297415), (2284, 0.006520064169280744), (2285, 0.0326699330896498), (2286, 0.016094641714154662), (2287, 0.0019192525123906854), (2288, 0.002433288349310066), (2289, 0.0022845326179354282), (2290, 0.01708629497946875), (2291, 0.010209387673577666), (2292, 0.002343004947530173), (2293, 0.002507553067524929), (2294, 0.03342147053501141), (2295, 0.0065881801142703205), (2296, 0.01191042148584224), (2297, 0.010089667431638387), (2298, 0.0), (2299, 0.003678688493136594), (2300, 0.0), (2301, 0.08412473123039113), (2302, 0.002612921361626049), (2303, 0.013408612161024017), (2304, 0.0), (2305, 0.0), (2306, 0.017987349720403), (2307, 0.0), (2308, 0.0), (2309, 0.01358092552518174), (2310, 0.026033360360938645), (2311, 0.0), (2312, 0.0), (2313, 0.0023355933312662505), (2314, 0.03382230777963931), (2315, 0.0), (2316, 0.026488157218953756), (2317, 0.0021285475898123094), (2318, 0.013294322010303164), (2319, 0.0023898214048804424), (2320, 0.0026743402647147097), (2321, 0.002363507860407204), (2322, 0.0), (2323, 0.0020759921207628733), (2324, 0.005936258941371769), (2325, 0.02943824421891314), (2326, 0.02661270328222643), (2327, 0.0), (2328, 0.005136054764475263), (2329, 0.0), (2330, 0.004424379844305622), (2331, 0.0), (2332, 0.0), (2333, 0.0), (2334, 0.00667490822713519), (2335, 0.02891354943690385), (2336, 0.05026835586824298), (2337, 0.010898067065334631), (2338, 0.0020784271963356147), (2339, 0.013534578947667512), (2340, 0.0023061617200738137), (2341, 0.0), (2342, 0.0), (2343, 0.0), (2344, 0.016394972214498642), (2345, 0.0), (2346, 0.0026156054606750116), (2347, 0.0021147436873495532), (2348, 0.006108409613805349), (2349, 0.0031851964668961033), (2350, 0.028796385436857082), (2351, 0.0), (2352, 0.0), (2353, 0.017678606709652763), (2354, 0.017171066354647626), (2355, 0.030173170922100107), (2356, 0.0025716609595802555), (2357, 0.0), (2358, 0.0), (2359, 0.045665583688404766), (2360, 0.014797669491506986), (2361, 0.0024401016055381657), (2362, 0.002108754487539633), (2363, 0.0), (2364, 0.04261752630042871), (2365, 0.0), (2366, 0.0), (2367, 0.018173539822583965), (2368, 0.016898955501752005), (2369, 0.009483645437563788), (2370, 0.019779745097682874), (2371, 0.0), (2372, 0.0), (2373, 0.0), (2374, 0.016581230151398504), (2375, 0.002527282901203423), (2376, 0.027904192078266665), (2377, 0.0), (2378, 0.0027072974351773377), (2379, 0.003320000532891376), (2380, 0.0), (2381, 0.0), (2382, 0.0019706285298240777), (2383, 0.004652842908368022), (2384, 0.0), (2385, 0.002422965441508003), (2386, 0.0023519530563829672), (2387, 0.002295460236886365), (2388, 0.005648605020114064), (2389, 0.0), (2390, 0.002521886323914381), (2391, 0.0024570175769078324), (2392, 0.003003669249268199), (2393, 0.002455000548832096), (2394, 0.002424005014731422), (2395, 0.0), (2396, 0.0023213709186097006), (2397, 0.002339641770126484), (2398, 0.007771615826527983), (2399, 0.0021235068011918354), (2400, 0.00260194543303114), (2401, 0.002235742495159133), (2402, 0.0020833502225201523), (2403, 0.016385973798795552), (2404, 0.003128954623893247), (2405, 0.0023926241746843), (2406, 0.007617508100893086), (2407, 0.0031799502108930625), (2408, 0.0), (2409, 0.0), (2410, 0.0025236766587487408), (2411, 0.02149811253035691), (2412, 0.005631015291322948), (2413, 0.02189120288225665), (2414, 0.0), (2415, 0.0027914503912073257), (2416, 0.01690653162211404), (2417, 0.016646087381991987), (2418, 0.015070006510725018), (2419, 0.0024168713913935245), (2420, 0.016637768433923325), (2421, 0.09899467001170308), (2422, 0.0022330633750974817), (2423, 0.002899152544850503), (2424, 0.0), (2425, 0.002981483410464762), (2426, 0.010740926913922264), (2427, 0.007532866750217732), (2428, 0.007156834549013924), (2429, 0.05564849129684452), (2430, 0.01277761299925622), (2431, 0.0), (2432, 0.03338653166021192), (2433, 0.0), (2434, 0.002750160822228727), (2435, 0.014000880424693206), (2436, 0.04540240046551027), (2437, 0.0026111369251414756), (2438, 0.0028494628447612805), (2439, 0.018234858104297355), (2440, 0.004672544800298776), (2441, 0.001862857691614444), (2442, 0.0038917795228528614), (2443, 0.02773751226563968), (2444, 0.010499818608055241), (2445, 0.0), (2446, 0.002136659671396173), (2447, 0.005562079715794303), (2448, 0.024794663036866605), (2449, 0.0), (2450, 0.0), (2451, 0.0), (2452, 0.018837413764535987), (2453, 0.002114327088629178), (2454, 0.002777876152006433), (2455, 0.0), (2456, 0.0), (2457, 0.002069361605149561), (2458, 0.0), (2459, 0.00789339432502878), (2460, 0.0), (2461, 0.0022304942708192233), (2462, 0.0), (2463, 0.013974782473340167), (2464, 0.002522993711313279), (2465, 0.029745863131978842), (2466, 0.012933879350112044), (2467, 0.018373843765926), (2468, 0.004889329914033097), (2469, 0.011131104424858937), (2470, 0.0), (2471, 0.0), (2472, 0.0), (2473, 0.013539898228529877), (2474, 0.02005021014801124), (2475, 0.0024739443238732924), (2476, 0.004758215857400114), (2477, 0.03570379041433419), (2478, 0.025725701333766705), (2479, 0.0), (2480, 0.026167928178254647), (2481, 0.021763244656901663), (2482, 0.026988138837458656), (2483, 0.0), (2484, 0.003075876011426994), (2485, 0.0), (2486, 0.03565768980501678), (2487, 0.012076937126605843), (2488, 0.002811418568447776), (2489, 0.0023443966074286416), (2490, 0.0033156895112171083), (2491, 0.0), (2492, 0.01726132529126377), (2493, 0.011360583282891495), (2494, 0.015327995499674268), (2495, 0.017152447564417236), (2496, 0.006064678721569459), (2497, 0.06930194216253044), (2498, 0.0), (2499, 0.0182563094549473), (2500, 0.0), (2501, 0.004204737815743537), (2502, 0.002029676847573795), (2503, 0.011816792479324214), (2504, 0.0), (2505, 0.015789044582004984), (2506, 0.004198198903190734), (2507, 0.00249899016830939), (2508, 0.021856643967855666), (2509, 0.0018904669334856813), (2510, 0.01366023987137696), (2511, 0.0), (2512, 0.029127210474817478), (2513, 0.033156402879289365), (2514, 0.0), (2515, 0.0), (2516, 0.0), (2517, 0.011328191975652926), (2518, 0.0), (2519, 0.017271052589243913), (2520, 0.0019942296082096247), (2521, 0.0), (2522, 0.006911613833683435), (2523, 0.0), (2524, 0.03053458992340195), (2525, 0.011859085153655698), (2526, 0.027136460502290474), (2527, 0.02752885944414162), (2528, 0.011695482254910617), (2529, 0.027559702929445005), (2530, 0.0029238694567168644), (2531, 0.002397495879639947), (2532, 0.0), (2533, 0.002313745084013555), (2534, 0.0175063649799923), (2535, 0.002549713239095249), (2536, 0.0), (2537, 0.0031557860848418027), (2538, 0.0013764374513216815), (2539, 0.0), (2540, 0.020337312509284895), (2541, 0.0035510722973929715), (2542, 0.0), (2543, 0.0), (2544, 0.0026767069923343124), (2545, 0.035762722591182725), (2546, 0.002394818637031481), (2547, 0.0), (2548, 0.0), (2549, 0.0), (2550, 0.010631238953271307), (2551, 0.0), (2552, 0.01820423434118546), (2553, 0.0022427413923455544), (2554, 0.0023207249172190777), (2555, 0.009990589389661082), (2556, 0.002133125392152563), (2557, 0.00285309847461721), (2558, 0.006485928124396228), (2559, 0.003024113812414337), (2560, 0.0026402768343731244), (2561, 0.002400020279437453), (2562, 0.010675388771803566), (2563, 0.025557586368198593), (2564, 0.0), (2565, 0.026001058087086484), (2566, 0.0), (2567, 0.017180797168291222), (2568, 0.017387959719973693), (2569, 0.0022731321706709285), (2570, 0.019395250940995208), (2571, 0.03848557297912501), (2572, 0.013467447375385178), (2573, 0.0034301669076960513), (2574, 0.00962693014285744), (2575, 0.0), (2576, 0.004734052069365613), (2577, 0.0), (2578, 0.0), (2579, 0.002578587456195293), (2580, 0.005791393994989548), (2581, 0.04852746379430552), (2582, 0.04697250281092795), (2583, 0.0), (2584, 0.00949128040459462), (2585, 0.002560913237589425), (2586, 0.0), (2587, 0.012616627469355041), (2588, 0.0), (2589, 0.0), (2590, 0.00958229097064969), (2591, 0.0020638688399532566), (2592, 0.002546760448019397), (2593, 0.0021224523092848216), (2594, 0.0), (2595, 0.03228362760775677), (2596, 0.015161529927748227), (2597, 0.01699783430782585), (2598, 0.015479258364923754), (2599, 0.004522782413479337), (2600, 0.0), (2601, 0.0148269551358396), (2602, 0.026352864289711914), (2603, 0.011940615117407313), (2604, 0.04629016354071217), (2605, 0.01550545788734525), (2606, 0.006529862404020609), (2607, 0.016494267432243484), (2608, 0.0), (2609, 0.013433060811969174), (2610, 0.04848317378793867), (2611, 0.0019735906076080276), (2612, 0.01656709974052036), (2613, 0.0027101375681106983), (2614, 0.004995764792365351), (2615, 0.0), (2616, 0.0), (2617, 0.005717609393534384), (2618, 0.0039854134301033324), (2619, 0.002770331210489385), (2620, 0.0), (2621, 0.057430838424343454), (2622, 0.0035502787919682015), (2623, 0.0026042944593992015), (2624, 0.00251720335731866), (2625, 0.04576577141024337), (2626, 0.03420184828273154), (2627, 0.027252599337813113), (2628, 0.04287629658749227), (2629, 0.02550704929190631), (2630, 0.06480439711408002), (2631, 0.0), (2632, 0.02761289824353825), (2633, 0.014925607571377956), (2634, 0.002149513748266888), (2635, 0.0), (2636, 0.0017271031495493592), (2637, 0.011051628384421194), (2638, 0.03212906981150799), (2639, 0.0), (2640, 0.014875477798630236), (2641, 0.0), (2642, 0.0022163968342079087), (2643, 0.0029751973350275692), (2644, 0.013491126110246894), (2645, 0.00834598201541989), (2646, 0.0), (2647, 0.006568267062767882), (2648, 0.0), (2649, 0.017789563520766664), (2650, 0.020229932311599533), (2651, 0.0021765095889579606), (2652, 0.002325686687715406), (2653, 0.029876735189402294), (2654, 0.012921661937557134), (2655, 0.022235446733506983), (2656, 0.0), (2657, 0.03867842602821207), (2658, 0.0), (2659, 0.0), (2660, 0.007781287347675284), (2661, 0.0024695524481412588), (2662, 0.0), (2663, 0.0), (2664, 0.002452527120917322), (2665, 0.03427366694538497), (2666, 0.01365438698753535), (2667, 0.0), (2668, 0.018933972726641605), (2669, 0.0), (2670, 0.015176349871068728), (2671, 0.010909643763756537), (2672, 0.0), (2673, 0.0030602411250219997), (2674, 0.002117633875680982), (2675, 0.017490919205244322), (2676, 0.0), (2677, 0.0), (2678, 0.003746552331301947), (2679, 0.002176854154096608), (2680, 0.05121011580166694), (2681, 0.013631181179315003), (2682, 0.0039041977686050675), (2683, 0.015749306129922865), (2684, 0.0), (2685, 0.0), (2686, 0.05375502917548852), (2687, 0.002263291766629335), (2688, 0.020447258316876125), (2689, 0.004435917191677867), (2690, 0.0), (2691, 0.029756789458944288), (2692, 0.01597938404955991), (2693, 0.0), (2694, 0.025289880375257312), (2695, 0.01638114719921113), (2696, 0.002674198442957125), (2697, 0.005309068253068003), (2698, 0.023473858364965766), (2699, 0.0), (2700, 0.004700981803984743), (2701, 0.0), (2702, 0.0026292657743503443), (2703, 0.0), (2704, 0.04212400865226272), (2705, 0.0024908966405195214), (2706, 0.013516127822163966), (2707, 0.0026999566307471462), (2708, 0.012146599141692796), (2709, 0.0), (2710, 0.0), (2711, 0.003981734199081347), (2712, 0.07834924334139252), (2713, 0.0), (2714, 0.006863385140939973), (2715, 0.0), (2716, 0.006246555197654288), (2717, 0.0), (2718, 0.0), (2719, 0.0), (2720, 0.020104847221524776), (2721, 0.001998906100129053), (2722, 0.0032294559891967193), (2723, 0.002467194992505405), (2724, 0.033189995758520406), (2725, 0.013468878905814097), (2726, 0.0786772455322266), (2727, 0.0050331132526382095), (2728, 0.0020939430490407016), (2729, 0.010981788390465206), (2730, 0.0), (2731, 0.003087932051923141), (2732, 0.02265116685225769), (2733, 0.004648404785881421), (2734, 0.0), (2735, 0.002124015658871223), (2736, 0.013388154382627703), (2737, 0.0), (2738, 0.002714788508875443), (2739, 0.002524555086423232), (2740, 0.06504337195946205), (2741, 0.02563043776505737), (2742, 0.014949250915364734), (2743, 0.001972332062378436), (2744, 0.03253001307816304), (2745, 0.05260095120229698), (2746, 0.0023390362521653893), (2747, 0.001993329668885511), (2748, 0.002501560371474024), (2749, 0.0402082833114228), (2750, 0.0), (2751, 0.015268738496535976), (2752, 0.0022002802162755814), (2753, 0.002026621726853778), (2754, 0.0), (2755, 0.0024325384347806084), (2756, 0.01239167766037326), (2757, 0.02980196214039289), (2758, 0.001953763412166352), (2759, 0.015689280231734506), (2760, 0.001765697233714275), (2761, 0.001979642492152036), (2762, 0.0), (2763, 0.0), (2764, 0.02704861837756188), (2765, 0.053966086941879494), (2766, 0.013075726844485132), (2767, 0.0017947581152543879), (2768, 0.009218480582612326), (2769, 0.016780809103321873), (2770, 0.0), (2771, 0.014237166111798538), (2772, 0.0027250722753311696), (2773, 0.0), (2774, 0.00952233218972765), (2775, 0.0031230202254314264), (2776, 0.002477651495190263), (2777, 0.022679543593750295), (2778, 0.007841586165747096), (2779, 0.0021960598092944476), (2780, 0.014558534283033216), (2781, 0.0), (2782, 0.002560793348020184), (2783, 0.0023151198043957974), (2784, 0.006628489838586234), (2785, 0.011307351753479888), (2786, 0.002463538569094775), (2787, 0.003979075620257272), (2788, 0.004260194848007975), (2789, 0.02159259755640775), (2790, 0.004399777403264047), (2791, 0.0038377268778625744), (2792, 0.0024372161986881175), (2793, 0.0), (2794, 0.0), (2795, 0.008189804575121484), (2796, 0.0026326642800964467), (2797, 0.0028157415453564085), (2798, 0.01443700027854638), (2799, 0.0), (2800, 0.002173434506481408), (2801, 0.0035896647785452333), (2802, 0.0022494450057681838), (2803, 0.032372270977934235), (2804, 0.02971608842910019), (2805, 0.0), (2806, 0.0), (2807, 0.0), (2808, 0.017830894988029165), (2809, 0.01567770519806784), (2810, 0.0), (2811, 0.0241906687608445), (2812, 0.013398472204927875), (2813, 0.0), (2814, 0.0), (2815, 0.0), (2816, 0.012330108146083603), (2817, 0.0), (2818, 0.0), (2819, 0.0044329294318183905), (2820, 0.03209006968808532), (2821, 0.002442189292838016), (2822, 0.0), (2823, 0.0), (2824, 0.0), (2825, 0.03308154609986684), (2826, 0.0023127465982906276), (2827, 0.00918690494064224), (2828, 0.052204523943887936), (2829, 0.0), (2830, 0.014016381236908475), (2831, 0.014233410054796959), (2832, 0.0030190131789427084), (2833, 0.0), (2834, 0.0028540249101074735), (2835, 0.0), (2836, 0.014068296158819051), (2837, 0.0), (2838, 0.0029399390240845242), (2839, 0.0), (2840, 0.00723291291568481), (2841, 0.0012849390996452405), (2842, 0.0), (2843, 0.013232983527287216), (2844, 0.011742023692419947), (2845, 0.017528471914501756), (2846, 0.002691779652853041), (2847, 0.004131529215084229), (2848, 0.015372605853786917), (2849, 0.0024320296995314662), (2850, 0.010230619019189615), (2851, 0.0), (2852, 0.0), (2853, 0.002288936848074572), (2854, 0.007202298930009808), (2855, 0.02143371979963592), (2856, 0.017197910757385377), (2857, 0.030107349853583515), (2858, 0.0032606849768580877), (2859, 0.01347880364258481), (2860, 0.0), (2861, 0.0030492147670399096), (2862, 0.0021439100568035586), (2863, 0.002371953942247293), (2864, 0.0), (2865, 0.03559806787533864), (2866, 0.0), (2867, 0.009293297026415293), (2868, 0.024178501148800775), (2869, 0.0), (2870, 0.0031185563263530914), (2871, 0.0037208174749819574), (2872, 0.0026480508833995474), (2873, 0.025225821571623362), (2874, 0.020225867695001197), (2875, 0.0), (2876, 0.001921310130814239), (2877, 0.0), (2878, 0.013275777110830302), (2879, 0.019925113794092376), (2880, 0.0), (2881, 0.018529851217105587), (2882, 0.002499825703015965), (2883, 0.003113079225602012), (2884, 0.02247709325072021), (2885, 0.0), (2886, 0.06312845283257432), (2887, 0.002330969598081381), (2888, 0.002491942159233815), (2889, 0.01676200832990759), (2890, 0.00253845606909569), (2891, 0.0), (2892, 0.002183696154345073), (2893, 0.0026087731561025072), (2894, 0.0023607335252599426), (2895, 0.0027535863424992695), (2896, 0.03645108407529651), (2897, 0.0), (2898, 0.0), (2899, 0.03189755395716895), (2900, 0.002293147365629345), (2901, 0.0029535863266985426), (2902, 0.0016919281524483785), (2903, 0.007272569704384662), (2904, 0.0023927322753122377), (2905, 0.0), (2906, 0.008694629028009104), (2907, 0.0021335323856966092), (2908, 0.014787690053022632), (2909, 0.012282735856685713), (2910, 0.016007863009563895), (2911, 0.0023942026785450684), (2912, 0.0022275208237791592), (2913, 0.0), (2914, 0.00260167045877056), (2915, 0.033668963950220586), (2916, 0.0025767739748391023), (2917, 1.0000000000000007), (2918, 0.01769144909985118), (2919, 0.006699421853263257), (2920, 0.0021048371198776283), (2921, 0.0), (2922, 0.0), (2923, 0.003099567683870786), (2924, 0.0026679415256914744), (2925, 0.005206840515075004), (2926, 0.002405858303595066), (2927, 0.05277609389066627), (2928, 0.0132920643779871), (2929, 0.023168392183094747), (2930, 0.0), (2931, 0.021794053891973978), (2932, 0.021631828558677332), (2933, 0.012073619124961465), (2934, 0.0023172233718272753), (2935, 0.010583489363029365), (2936, 0.01609384275919869), (2937, 0.0033033693737305647), (2938, 0.0), (2939, 0.025992735260097235), (2940, 0.0024588270001312086), (2941, 0.0), (2942, 0.012302352700671385), (2943, 0.00229219491400138), (2944, 0.039222525613165776), (2945, 0.0022518610281104467), (2946, 0.002263951329584192), (2947, 0.03135321123495912), (2948, 0.0), (2949, 0.0069291547040216265), (2950, 0.0), (2951, 0.0), (2952, 0.0), (2953, 0.0024349882043492367), (2954, 0.01566302539943406), (2955, 0.025679587829097825), (2956, 0.0), (2957, 0.002814380336562844), (2958, 0.0), (2959, 0.014801827361504222), (2960, 0.004268006955048593), (2961, 0.006383380196489187), (2962, 0.0), (2963, 0.004468013817225719), (2964, 0.09062763624134662), (2965, 0.002185271875043458), (2966, 0.002796558936219006), (2967, 0.0), (2968, 0.011235648224463799), (2969, 0.06190263719962584), (2970, 0.0024520445737562934), (2971, 0.017497263402143335), (2972, 0.0021684115772004357), (2973, 0.0), (2974, 0.002582800460451392), (2975, 0.012490253531097173), (2976, 0.09702611340855123), (2977, 0.04573737515284683), (2978, 0.004550125107914449), (2979, 0.0), (2980, 0.013943329843337706), (2981, 0.03845922013184587), (2982, 0.0), (2983, 0.0), (2984, 0.012908847493215985), (2985, 0.0118586281554981), (2986, 0.0027210893641064315), (2987, 0.0026557947148690415), (2988, 0.046804681697502466), (2989, 0.0032054950233406125), (2990, 0.0), (2991, 0.014670977122104061), (2992, 0.06535560418917548), (2993, 0.0027747225084646513), (2994, 0.0), (2995, 0.0021802647081024334), (2996, 0.01800516923461867), (2997, 0.043338314076201916), (2998, 0.0034535942410423787), (2999, 0.0022874181382127904), (3000, 0.002355371313328271), (3001, 0.0), (3002, 0.009980340072416027), (3003, 0.0025555208508990833), (3004, 0.00283346474889696), (3005, 0.004229468023465417), (3006, 0.010325138569858595), (3007, 0.0024576073994664435), (3008, 0.013322119672933988), (3009, 0.0), (3010, 0.0022183367394508473), (3011, 0.013577443468878889), (3012, 0.007270747439702218), (3013, 0.0025951071896762154), (3014, 0.0021717011865871436), (3015, 0.002915128294264737), (3016, 0.002361636313284316), (3017, 0.02389222568302567), (3018, 0.021063498673316618), (3019, 0.007549438608477293), (3020, 0.0027927393203501113), (3021, 0.0), (3022, 0.00486823527459083), (3023, 0.011274538159012725), (3024, 0.0019030129864839199), (3025, 0.02055174567579258), (3026, 0.0025416351024798354), (3027, 0.010957011728974203), (3028, 0.018346692836941344), (3029, 0.0), (3030, 0.003116435116571558), (3031, 0.002810137712087681), (3032, 0.007258909189877632), (3033, 0.011909859744707608), (3034, 0.01685265639836507), (3035, 0.00617373955351723), (3036, 0.0021871468304856204), (3037, 0.0024282669732251377), (3038, 0.0), (3039, 0.025132882834653224), (3040, 0.0032126388066612967), (3041, 0.0), (3042, 0.01706411206495651), (3043, 0.042280297387875476), (3044, 0.0025076080387817223), (3045, 0.0034556846231135335), (3046, 0.013944065072506841), (3047, 0.0), (3048, 0.010903910938104097), (3049, 0.00519575721165182), (3050, 0.002107655690894595), (3051, 0.003281464243138063), (3052, 0.003142193044017025), (3053, 0.0), (3054, 0.0), (3055, 0.003130343922653905), (3056, 0.010433202981289073), (3057, 0.015458976072092418), (3058, 0.0), (3059, 0.0), (3060, 0.0), (3061, 0.0), (3062, 0.0025504337717584253), (3063, 0.014755271059689294), (3064, 0.002503179977320978), (3065, 0.015630302179484773), (3066, 0.021699732501128985), (3067, 0.014044929602278294), (3068, 0.04424452719724994), (3069, 0.0022465171538488785), (3070, 0.04173400922295861), (3071, 0.002154738176431331), (3072, 0.002673752886047305), (3073, 0.014654972821719257), (3074, 0.0028224188756306233), (3075, 0.002234220249464983), (3076, 0.0030106637385446445), (3077, 0.0), (3078, 0.0), (3079, 0.012958217080281349), (3080, 0.0), (3081, 0.002707330660373173), (3082, 0.03795724318750969), (3083, 0.0138078215677731), (3084, 0.002439894707464253), (3085, 0.02521528551917719), (3086, 0.030868784405046725), (3087, 0.0), (3088, 0.0), (3089, 0.0), (3090, 0.0), (3091, 0.0019255205575879086), (3092, 0.0), (3093, 0.03600796132264801), (3094, 0.016635150512440057), (3095, 0.019755987785373356), (3096, 0.026862371865810336), (3097, 0.002536665233252342), (3098, 0.0), (3099, 0.012506468393975519), (3100, 0.003908872418748398), (3101, 0.020975315062958785), (3102, 0.0), (3103, 0.0), (3104, 0.0), (3105, 0.04754576572991728), (3106, 0.0), (3107, 0.0), (3108, 0.040790801966125514), (3109, 0.0), (3110, 0.06683834249016657), (3111, 0.0020589573856723276), (3112, 0.006973470557144923), (3113, 0.002346354005975245), (3114, 0.011016376628597238), (3115, 0.0), (3116, 0.002527931960838913), (3117, 0.00479720182807517), (3118, 0.013048010983021404), (3119, 0.0031538051946994054), (3120, 0.03808307511616404), (3121, 0.00961314564284916), (3122, 0.015607865726350019), (3123, 0.019956360149062782), (3124, 0.004344555743052091), (3125, 0.0065171064929983626), (3126, 0.004007466308073611), (3127, 0.0), (3128, 0.0028998707656495114), (3129, 0.012439011185742867), (3130, 0.03044310326088386), (3131, 0.05109759784100129), (3132, 0.0), (3133, 0.017894611415550432), (3134, 0.004367533641807678), (3135, 0.00391936825357635), (3136, 0.003902878283948044), (3137, 0.004270283666608394), (3138, 0.0), (3139, 0.0032570222172149826), (3140, 0.002895124272694683), (3141, 0.01431033283737676), (3142, 0.0), (3143, 0.0038864363291667998), (3144, 0.00887284636040781), (3145, 0.0), (3146, 0.02506637763875767), (3147, 0.05148697500250794), (3148, 0.103259061236593), (3149, 0.02607922167292638), (3150, 0.00240690508024049), (3151, 0.013542773010187664), (3152, 0.011094303326480339), (3153, 0.01684751670011211), (3154, 0.007937372305040973), (3155, 0.002316199409559957), (3156, 0.01768646338655609), (3157, 0.015824359554333343), (3158, 0.03500402969977133), (3159, 0.002847168398403241), (3160, 0.003675728059298401), (3161, 0.004128189488374264), (3162, 0.0), (3163, 0.004554677207731214), (3164, 0.010091471420930575), (3165, 0.0026422575403104633), (3166, 0.00319101456438001), (3167, 0.0020601852763469223), (3168, 0.016302908140532188), (3169, 0.0), (3170, 0.021319256166388807), (3171, 0.01158266393164338), (3172, 0.01999352685587598), (3173, 0.002265529545650393), (3174, 0.0022943212010894808), (3175, 0.0), (3176, 0.0), (3177, 0.009778151278030386), (3178, 0.003637154441057499), (3179, 0.004296901289317351), (3180, 0.004655540337166122), (3181, 0.0), (3182, 0.002343436251267685), (3183, 0.002519115074371323), (3184, 0.0024708597104604203), (3185, 0.031666918320900156), (3186, 0.022077585898429695), (3187, 0.0024208441515589586), (3188, 0.0), (3189, 0.0), (3190, 0.0), (3191, 0.004308056229697744), (3192, 0.0), (3193, 0.0), (3194, 0.0021713384140406296), (3195, 0.006381928934714649), (3196, 0.00727204452814591), (3197, 0.0), (3198, 0.0023764681418137496), (3199, 0.0017814619448912048), (3200, 0.0019546303376581325), (3201, 0.0), (3202, 0.0), (3203, 0.020094528283099784), (3204, 0.0), (3205, 0.008864051322868684), (3206, 0.0027833259965146266), (3207, 0.0), (3208, 0.0), (3209, 0.0), (3210, 0.026825408072054857), (3211, 0.0019917847412345654), (3212, 0.018312563550023263), (3213, 0.003507751365027939), (3214, 0.0021962303408025238), (3215, 0.013465688223083753), (3216, 0.002289241509457918), (3217, 0.0), (3218, 0.015156850977420706), (3219, 0.055448153856994566), (3220, 0.00224832314980831), (3221, 0.0), (3222, 0.026702101293565546), (3223, 0.012671907421141725), (3224, 0.019766357920558662), (3225, 0.0023573934719407236), (3226, 0.026151777891834937), (3227, 0.023421276972452873), (3228, 0.02233180254900695), (3229, 0.010690613175757703), (3230, 0.03286363382634588), (3231, 0.0), (3232, 0.012658550166520193), (3233, 0.006671579674101251), (3234, 0.002514534843675433), (3235, 0.002452380332006503), (3236, 0.0), (3237, 0.014042314070776458), (3238, 0.0019797385569224188), (3239, 0.0029003503956991114), (3240, 0.01596154762339694), (3241, 0.023877670701975873), (3242, 0.0024152444007371704), (3243, 0.0021546037859813357), (3244, 0.010916284746695532), (3245, 0.009978291046413025), (3246, 0.013629401179155199), (3247, 0.016608006198475495), (3248, 0.0025656084454816677), (3249, 0.002877217944815196), (3250, 0.0), (3251, 0.0), (3252, 0.0019168727969828326), (3253, 0.027102704256917434), (3254, 0.013473952986551447), (3255, 0.0), (3256, 0.033409309268729585), (3257, 0.0027719433566069968), (3258, 0.002501508137044363), (3259, 0.0), (3260, 0.0022570650030305723), (3261, 0.020617726251385478), (3262, 0.04214340704543083), (3263, 0.004558770713616255), (3264, 0.01501188748428085), (3265, 0.012280600557738624), (3266, 0.0), (3267, 0.0020873816090113346), (3268, 0.002195637312367048), (3269, 0.0024884341121382977), (3270, 0.04427076172640807), (3271, 0.0024856480209356348), (3272, 0.02248270655347569), (3273, 0.0025611076751196867), (3274, 0.04790714466128104), (3275, 0.024151544686456507), (3276, 0.003472640885899256), (3277, 0.0), (3278, 0.011071763294761469), (3279, 0.003585740238695776), (3280, 0.027634704275519208), (3281, 0.010970859685963348), (3282, 0.0029833685581683593), (3283, 0.0023431916064447274), (3284, 0.027767495975431992), (3285, 0.001729429983789354), (3286, 0.024538939658489575), (3287, 0.0), (3288, 0.011659516497986367), (3289, 0.00235757590314693), (3290, 0.012960605035895089), (3291, 0.003091423853131833), (3292, 0.0030030659547021403), (3293, 0.015597280897071972), (3294, 0.010991074418984838), (3295, 0.0), (3296, 0.0026164703540137012), (3297, 0.03685436329641387), (3298, 0.016570310050232427), (3299, 0.025968540310943956), (3300, 0.0021618536854887643), (3301, 0.025648253506924276), (3302, 0.0028029017666161907), (3303, 0.006599456396806468), (3304, 0.002083039529367257), (3305, 0.0), (3306, 0.002109021782690558), (3307, 0.0026722151480812733), (3308, 0.0027234818287635736), (3309, 0.011379205622898427), (3310, 0.0), (3311, 0.002080960531991084), (3312, 0.004860338730851468), (3313, 0.0018781548681414799), (3314, 0.0024398127683691088), (3315, 0.0021975905267946874), (3316, 0.01093620799829314), (3317, 0.005311624122288399), (3318, 0.005844780833304432), (3319, 0.0), (3320, 0.0), (3321, 0.013743274318360066), (3322, 0.0029607245749166005), (3323, 0.0), (3324, 0.0), (3325, 0.0292313740203437), (3326, 0.0024364948322953073), (3327, 0.0020634353893860748), (3328, 0.0015120625054337205), (3329, 0.02869483201151811), (3330, 0.016305246408714703), (3331, 0.017224980522193695), (3332, 0.03869077766970474), (3333, 0.0), (3334, 0.004402792588174161), (3335, 0.0023243343805186755), (3336, 0.002070597189112677), (3337, 0.0026543782255652854), (3338, 0.013099501448089895), (3339, 0.134513019247355), (3340, 0.0), (3341, 0.012629292946757794), (3342, 0.01918786284579345), (3343, 0.016726767514918525), (3344, 0.015627862888349407), (3345, 0.0), (3346, 0.03621062449987949), (3347, 0.061236024076611946), (3348, 0.002226294887402948), (3349, 0.006728141220329587), (3350, 0.0), (3351, 0.002400951685059253), (3352, 0.0022122554950928155), (3353, 0.0023916416237166754), (3354, 0.0028963116854021395), (3355, 0.002646605969592237), (3356, 0.11323637918209074), (3357, 0.027930326284344147), (3358, 0.0027928490064250346), (3359, 0.002677210106350447), (3360, 0.03640781620300667), (3361, 0.003961243341021752), (3362, 0.030130303709470393), (3363, 0.0028690438287197217), (3364, 0.002655677606831495), (3365, 0.011621040913420129), (3366, 0.0), (3367, 0.047835772958326174), (3368, 0.02679705567608112), (3369, 0.0021219525918054405), (3370, 0.006294857630282593), (3371, 0.0), (3372, 0.061233656664484), (3373, 0.0025892188163453424), (3374, 0.006435925625592655), (3375, 0.014399324204269221), (3376, 0.0019644295739369294), (3377, 0.016941946299725737), (3378, 0.0), (3379, 0.002255392908707436), (3380, 0.0020421146836045847), (3381, 0.002272993561507327), (3382, 0.0024004518994749685), (3383, 0.0), (3384, 0.018876575957694874), (3385, 0.015758695269402597), (3386, 0.04131818609180135), (3387, 0.017780334810800442), (3388, 0.0024237909538131425), (3389, 0.040397317448880525), (3390, 0.0021918546297693938), (3391, 0.016603112552961253), (3392, 0.0015285429707865394), (3393, 0.0019785227229695665), (3394, 0.01753727548634317), (3395, 0.04822293270496279), (3396, 0.002653465128268607), (3397, 0.0), (3398, 0.004315774065233878), (3399, 0.013282499220489633), (3400, 0.016374486468940744), (3401, 0.0), (3402, 0.002241753134661448), (3403, 0.02937743713671751), (3404, 0.004257524053759068), (3405, 0.003556653474154233), (3406, 0.020548903064200097), (3407, 0.026657648714782527), (3408, 0.0026603115663220932), (3409, 0.02055518082801506), (3410, 0.01144060090193721), (3411, 0.0), (3412, 0.002243607353153712), (3413, 0.002763130894330211), (3414, 0.0025751239824969726), (3415, 0.0), (3416, 0.016086156138331396), (3417, 0.0025336922052050723), (3418, 0.017670271815774716), (3419, 0.0026548071571645773), (3420, 0.02206648637270946), (3421, 0.011867691295398946), (3422, 0.0), (3423, 0.016267524024525564), (3424, 0.0), (3425, 0.0026655343948290082), (3426, 0.03974063162563047), (3427, 0.0), (3428, 0.010634538447193741), (3429, 0.002845127457884524), (3430, 0.001914831905802326), (3431, 0.0018473398006365108), (3432, 0.013957504076890084), (3433, 0.0061062987490175845), (3434, 0.002447385606138388), (3435, 0.006422042010084715), (3436, 0.006526769607577245), (3437, 0.006789018639964357), (3438, 0.04592474021155396), (3439, 0.0), (3440, 0.004862002745899329), (3441, 0.0022815681908738466), (3442, 0.015039423713069202), (3443, 0.01877814714953349), (3444, 0.028842206539282277), (3445, 0.0023559689942634805), (3446, 0.004297565067944137), (3447, 0.035477864366998936), (3448, 0.017563380653779163), (3449, 0.0024858700384187723), (3450, 0.007531752412285174), (3451, 0.0044852155231742494), (3452, 0.006047199229455227), (3453, 0.0), (3454, 0.0), (3455, 0.02057649700216388), (3456, 0.02243207329414539), (3457, 0.012704286055194157), (3458, 0.009740187800904163), (3459, 0.0), (3460, 0.015044760563884926), (3461, 0.04644921465585407), (3462, 0.04411712411995085), (3463, 0.0), (3464, 0.05709223776627961), (3465, 0.07809437643032369), (3466, 0.003939426087379117), (3467, 0.030841695834652343), (3468, 0.11496289894213799), (3469, 0.0), (3470, 0.004697009757241641), (3471, 0.005156306424613357), (3472, 0.0), (3473, 0.0), (3474, 0.03999838094692226), (3475, 0.0), (3476, 0.0), (3477, 0.017009811537103313), (3478, 0.002300468187984743), (3479, 0.0030722110910892924), (3480, 0.0), (3481, 0.0), (3482, 0.0), (3483, 0.03766353237521207), (3484, 0.017759613826085686), (3485, 0.0), (3486, 0.004272606467758594), (3487, 0.006235185395184956), (3488, 0.03562289287169208), (3489, 0.0), (3490, 0.0), (3491, 0.055523164914705034), (3492, 0.012578528521450852), (3493, 0.02037957527415302), (3494, 0.0), (3495, 0.0037210161322929866), (3496, 0.0024693268844018603), (3497, 0.002513497530109485), (3498, 0.006196220317160068), (3499, 0.006370856250713712), (3500, 0.002134276652330042), (3501, 0.006592026713127607), (3502, 0.005064998881938441), (3503, 0.0022059173614779725), (3504, 0.040665403021054404), (3505, 0.018646477329750374), (3506, 0.014525250017304998), (3507, 0.004337958941077111), (3508, 0.023454787043491604), (3509, 0.010338859886531306), (3510, 0.0), (3511, 0.0024215514853961075), (3512, 0.0035275594472803317), (3513, 0.004384326473722812), (3514, 0.006770197489790962), (3515, 0.01295599325230425), (3516, 0.039334589171459246), (3517, 0.00238191688172464), (3518, 0.02372263645770333), (3519, 0.0), (3520, 0.004236187788175536), (3521, 0.007989304327620333), (3522, 0.017076543273318534), (3523, 0.018053829695716582), (3524, 0.016727173652365226), (3525, 0.0), (3526, 0.002354271479768357), (3527, 0.002377972696259868), (3528, 0.0), (3529, 0.0), (3530, 0.0), (3531, 0.0), (3532, 0.0), (3533, 0.01590582713814202), (3534, 0.02928592044894033), (3535, 0.04101482395461788), (3536, 0.014751523749437253), (3537, 0.0028533735656098604), (3538, 0.0018343127044020803), (3539, 0.0), (3540, 0.0026831267479965545), (3541, 0.043130995126546876), (3542, 0.0023537166790951634), (3543, 0.0), (3544, 0.002800252724402851), (3545, 0.0), (3546, 0.018197202403276075), (3547, 0.0), (3548, 0.04629213088603296), (3549, 0.0), (3550, 0.038674521468136054), (3551, 0.012710940159689146), (3552, 0.003741466968851511), (3553, 0.018237752389969622), (3554, 0.012460601520171624), (3555, 0.045281015514079606), (3556, 0.018475960061103282), (3557, 0.03998532026740503), (3558, 0.024126962055968124), (3559, 0.051743372524618775), (3560, 0.002584782946814646), (3561, 0.0031185119685961326), (3562, 0.0), (3563, 0.022229756316141047), (3564, 0.0023093880899444645), (3565, 0.0022767046063437795), (3566, 0.011193673379817127), (3567, 0.0), (3568, 0.0), (3569, 0.001972357144236711), (3570, 0.0), (3571, 0.02369290564290787), (3572, 0.0), (3573, 0.0), (3574, 0.0), (3575, 0.0018584936381676135), (3576, 0.004250070704017631), (3577, 0.0028429914174071588), (3578, 0.0), (3579, 0.012135408807130403), (3580, 0.0), (3581, 0.0), (3582, 0.017690122447171837), (3583, 0.02032117452660486), (3584, 0.004494116448834497), (3585, 0.016319276947708145), (3586, 0.021706304344828543), (3587, 0.0025914026983553805), (3588, 0.0051413958989193894), (3589, 0.0), (3590, 0.00244366650809573), (3591, 0.0), (3592, 0.0), (3593, 0.002568008641602241), (3594, 0.011869534897019985), (3595, 0.0), (3596, 0.03106339580369184), (3597, 0.0), (3598, 0.02369755306675031), (3599, 0.014844377579029568), (3600, 0.03563523661228467), (3601, 0.002453406950382521), (3602, 0.0609023478218163), (3603, 0.03236520310993549), (3604, 0.015443419527793528), (3605, 0.018199965031750243), (3606, 0.0023455568135246066), (3607, 0.0), (3608, 0.0014984056220341724), (3609, 0.0), (3610, 0.012157478892024546), (3611, 0.0026138422369057016), (3612, 0.012598840710508574), (3613, 0.002837468360876007), (3614, 0.0020822383970075515), (3615, 0.002166323036405787), (3616, 0.0028607179517689037), (3617, 0.011928297963055737), (3618, 0.0068740931053121205), (3619, 0.012336072123046382), (3620, 0.0028012566745605934), (3621, 0.0027069733087637807), (3622, 0.0), (3623, 0.006689900216087407), (3624, 0.006424980565705341), (3625, 0.0), (3626, 0.017192913193555658), (3627, 0.039340884885884206), (3628, 0.0), (3629, 0.001975668851040929), (3630, 0.03410900858914404), (3631, 0.0), (3632, 0.02929480827071501), (3633, 0.0), (3634, 0.012020463493192328), (3635, 0.008767873134674765), (3636, 0.0023707206607054463), (3637, 0.005671313808539265), (3638, 0.04230563623600775), (3639, 0.0026328115597382953), (3640, 0.007232359849250232), (3641, 0.030888322814706194), (3642, 0.0070323463330532205), (3643, 0.014443083243939923), (3644, 0.010113413179056664), (3645, 0.0017339589573852794), (3646, 0.023062843486341543), (3647, 0.016213200432485725), (3648, 0.01232988164753897), (3649, 0.0), (3650, 0.0), (3651, 0.018851302380212043), (3652, 0.0046237614181142295), (3653, 0.006610666946330163), (3654, 0.002419392908680164), (3655, 0.01237273725712658), (3656, 0.0284793668666568), (3657, 0.0019413260825392165), (3658, 0.0), (3659, 0.0045607464559711515), (3660, 0.03648485655096066), (3661, 0.02098704259251198), (3662, 0.010288408435774997), (3663, 0.0), (3664, 0.00402230261192752), (3665, 0.012564054056691023), (3666, 0.006733532589965585), (3667, 0.012628340325810722), (3668, 0.05351436158885454), (3669, 0.0233688801774127), (3670, 0.01650083643334839), (3671, 0.0), (3672, 0.003268908253497113), (3673, 0.002291146082797634), (3674, 0.0035323380536367967), (3675, 0.007730488019554501), (3676, 0.0), (3677, 0.013824239254521349), (3678, 0.020714150013065914), (3679, 0.008794504635071233), (3680, 0.007333352143970922), (3681, 0.0), (3682, 0.0), (3683, 0.031592611923876315), (3684, 0.003631652539760279), (3685, 0.0164262197076504), (3686, 0.0), (3687, 0.002873301316832814), (3688, 0.0), (3689, 0.014705385921177648), (3690, 0.010519511832709945), (3691, 0.0021889971073727503), (3692, 0.006982516393349355), (3693, 0.0), (3694, 0.017706325214372782), (3695, 0.0), (3696, 0.006254054400608373), (3697, 0.011340086410517142), (3698, 0.0), (3699, 0.006623825287594222), (3700, 0.029315997121692347), (3701, 0.0023584027643731562), (3702, 0.022555951033043076), (3703, 0.015364213525314691), (3704, 0.01768052857353012), (3705, 0.02824546913883256), (3706, 0.0022450888067559066), (3707, 0.0023413483839630446), (3708, 0.004831569111624335), (3709, 0.0), (3710, 0.019522126609867886), (3711, 0.08208993660904082), (3712, 0.0), (3713, 0.013424352673702159), (3714, 0.018749850526428198), (3715, 0.005399763269089552), (3716, 0.0), (3717, 0.0), (3718, 0.009157694652946266), (3719, 0.002245380578304226), (3720, 0.004038254150624034), (3721, 0.005551239642871537), (3722, 0.0), (3723, 0.003949174768276286), (3724, 0.0), (3725, 0.0021420017721651276), (3726, 0.0), (3727, 0.006429893009600323), (3728, 0.015202856592943362), (3729, 0.0026660312663081003), (3730, 0.0), (3731, 0.010162535479016495), (3732, 0.0), (3733, 0.027044131228880865), (3734, 0.006116553752632024), (3735, 0.0), (3736, 0.0), (3737, 0.0025687507121103926), (3738, 0.0), (3739, 0.002325753874200106), (3740, 0.0), (3741, 0.016817772183941725), (3742, 0.0021012939724406156), (3743, 0.03193704039981307), (3744, 0.005092737635506112), (3745, 0.0027061310207193404), (3746, 0.0), (3747, 0.017005882720260785), (3748, 0.02770946855116587), (3749, 0.002508269274658926), (3750, 0.0), (3751, 0.011685361534843404), (3752, 0.010123746345862949), (3753, 0.0), (3754, 0.002667872041690799), (3755, 0.019805573463573284), (3756, 0.005304665518028873), (3757, 0.09837964817115229), (3758, 0.0), (3759, 0.0), (3760, 0.0), (3761, 0.0), (3762, 0.002997025377264601), (3763, 0.0027111610851962165), (3764, 0.0), (3765, 0.0022346312937794126), (3766, 0.007733655574949301), (3767, 0.013059838005692435), (3768, 0.00449658722686365), (3769, 0.04573650881764546), (3770, 0.002405635956686813), (3771, 0.04767778577096533), (3772, 0.002617919632237635), (3773, 0.009659132012485493), (3774, 0.1460406824567961), (3775, 0.017040968880400013), (3776, 0.003583866888811834), (3777, 0.006851916399730763), (3778, 0.0023895367932847958), (3779, 0.002777885709198342), (3780, 0.00692426263841567), (3781, 0.0024648405047896665), (3782, 0.004482340452414466), (3783, 0.0), (3784, 0.013532288901530201), (3785, 0.0), (3786, 0.0), (3787, 0.004581261974830774), (3788, 0.017165145194026083), (3789, 0.029849336892185607), (3790, 0.0), (3791, 0.0), (3792, 0.019366979530339046), (3793, 0.004113840426322128), (3794, 0.03796163307830186), (3795, 0.027423995478298758), (3796, 0.0), (3797, 0.020363215892454902), (3798, 0.0), (3799, 0.002180655336911068), (3800, 0.0), (3801, 0.027163091260269775), (3802, 0.004582068477297778), (3803, 0.0), (3804, 0.002566190822297493), (3805, 0.0), (3806, 0.029569468669166876), (3807, 0.006451071227713546), (3808, 0.0), (3809, 0.0023569835084902148), (3810, 0.004264051557816333), (3811, 0.002168676141200859), (3812, 0.0), (3813, 0.0025100422758092336), (3814, 0.004115972635688242), (3815, 0.004266334716243884), (3816, 0.1257039157702296), (3817, 0.0), (3818, 0.0), (3819, 0.03635994325864239), (3820, 0.019411765602260826), (3821, 0.011923079359737238), (3822, 0.01596327538538497), (3823, 0.0039344830958670685), (3824, 0.003993959777053532), (3825, 0.03755872228683802), (3826, 0.013667938637613283), (3827, 0.0022555501169432934), (3828, 0.008201661786507525), (3829, 0.037538017279484), (3830, 0.0), (3831, 0.011287852145439817), (3832, 0.002808383951336334), (3833, 0.004249649572759808), (3834, 0.02151617009030438), (3835, 0.008562540679205411), (3836, 0.0), (3837, 0.0), (3838, 0.0), (3839, 0.013113377770767506), (3840, 0.0), (3841, 0.005815711229793991), (3842, 0.04824464931906798), (3843, 0.0), (3844, 0.005243817999444356), (3845, 0.017892420464534115), (3846, 0.0), (3847, 0.0), (3848, 0.0029185722158669787), (3849, 0.021737076123751083), (3850, 0.03745552751796274), (3851, 0.0), (3852, 0.018235355179907264), (3853, 0.013276349550204585), (3854, 0.005997055780067179), (3855, 0.001951971454779739), (3856, 0.01486014520662749), (3857, 0.0025551130957733605), (3858, 0.031004351433246532), (3859, 0.0), (3860, 0.003794069760460735), (3861, 0.0), (3862, 0.0691298434865163), (3863, 0.020137344465865067), (3864, 0.01124561251433221), (3865, 0.010627355509408047), (3866, 0.014517029909809154), (3867, 0.0026133366355872672), (3868, 0.00220115239597282), (3869, 0.0), (3870, 0.0), (3871, 0.01550302069715715), (3872, 0.0), (3873, 0.0024598439615528063), (3874, 0.0028130910786920375), (3875, 0.03092746430203831), (3876, 0.02623010439320353), (3877, 0.0025613191246886056), (3878, 0.016552436242286854), (3879, 0.0), (3880, 0.02994773430199963), (3881, 0.003990598873372922), (3882, 0.0024211415901273492), (3883, 0.0073922322137755635), (3884, 0.002676546943170599), (3885, 0.0), (3886, 0.004018769640810533), (3887, 0.0), (3888, 0.002276189227548361), (3889, 0.018603744639059693), (3890, 0.002225604600636055), (3891, 0.0), (3892, 0.0029905210851325394), (3893, 0.020510137886736973), (3894, 0.0020175556591825313), (3895, 0.031650918017503166), (3896, 0.0), (3897, 0.004436720817419237), (3898, 0.0021830571021296792), (3899, 0.006988117985127981), (3900, 0.011708681997834296), (3901, 0.019731330282921712), (3902, 0.0023935733679714384), (3903, 0.016284486426376484), (3904, 0.0024605876325070487), (3905, 0.0), (3906, 0.0022633699535336825), (3907, 0.004341512421479852), (3908, 0.032047854119108626), (3909, 0.01111811382587871), (3910, 0.005693479847350434), (3911, 0.015048806905647558), (3912, 0.010516371210657528), (3913, 0.0021237850227804997), (3914, 0.0), (3915, 0.013679262384124214), (3916, 0.012081519921844404), (3917, 0.002212929699531268), (3918, 0.0), (3919, 0.014861984003559032), (3920, 0.0023828270609552375), (3921, 0.0), (3922, 0.002839861128900341), (3923, 0.018477242286893847), (3924, 0.0025288055998816976), (3925, 0.0034241776446137335), (3926, 0.01193576141783693), (3927, 0.056773868923526705), (3928, 0.001921606828546609), (3929, 0.029759165130715675), (3930, 0.0), (3931, 0.0), (3932, 0.004243577498687511), (3933, 0.0), (3934, 0.0), (3935, 0.0027107507745497816), (3936, 0.0), (3937, 0.0), (3938, 0.004537172280706095), (3939, 0.003063952647752348), (3940, 0.07504221540453554), (3941, 0.0021557725040007815), (3942, 0.02239996022047724), (3943, 0.0424783723909833), (3944, 0.0033731757896207437), (3945, 0.0066987124778723735), (3946, 0.012486333034700009), (3947, 0.0162483901240431), (3948, 0.0), (3949, 0.0), (3950, 0.0), (3951, 0.07843723350258776), (3952, 0.002638134531377392), (3953, 0.002093096742552332), (3954, 0.013417785367138979), (3955, 0.05388057348011782), (3956, 0.017354540907374295), (3957, 0.015167569512687345), (3958, 0.0), (3959, 0.011050979438151604), (3960, 0.0073520589719458015), (3961, 0.007157930854048035), (3962, 0.00258365516779675), (3963, 0.0), (3964, 0.0), (3965, 0.0), (3966, 0.0269662812628395), (3967, 0.002543067497425981), (3968, 0.010809560506386788), (3969, 0.0), (3970, 0.004002264341659152), (3971, 0.013455613792313335), (3972, 0.011789937899872231), (3973, 0.03341831910855644), (3974, 0.005836947305371621), (3975, 0.03174404327782203), (3976, 0.0), (3977, 0.0), (3978, 0.006185598493573461), (3979, 0.015053389860967615), (3980, 0.008257779142846563), (3981, 0.0), (3982, 0.0), (3983, 0.010650952288954194), (3984, 0.0024193350130711695), (3985, 0.01600632629559473), (3986, 0.0020698601831113804), (3987, 0.0024501551193022103), (3988, 0.0), (3989, 0.003371140581293058), (3990, 0.0031753010965405843), (3991, 0.0), (3992, 0.002600390498740543), (3993, 0.036729077199167674), (3994, 0.0), (3995, 0.004338468617702829), (3996, 0.03786693893369194), (3997, 0.04788828305718828), (3998, 0.011480534316746635), (3999, 0.0403291490520244), (4000, 0.00643251230438972), (4001, 0.011936674061279426), (4002, 0.002671614977737426), (4003, 0.0), (4004, 0.0065767567060725975), (4005, 0.05414864361839879), (4006, 0.0), (4007, 0.03806497569687177), (4008, 0.012367191832043637), (4009, 0.01101076751631342), (4010, 0.0), (4011, 0.0021604832402738736), (4012, 0.0), (4013, 0.00706050699821586), (4014, 0.002327607358912044), (4015, 0.0018976608364603968), (4016, 0.0022941292786541473), (4017, 0.003121757014687666), (4018, 0.008773453941193604), (4019, 0.0029821468301191234), (4020, 0.0022568584718786855), (4021, 0.0), (4022, 0.0), (4023, 0.002716723150645909), (4024, 0.0024842658691866283), (4025, 0.014749435857251553), (4026, 0.0), (4027, 0.0), (4028, 0.0), (4029, 0.0), (4030, 0.0026926097977861513), (4031, 0.0), (4032, 0.03612686502191627), (4033, 0.0024269200218061723), (4034, 0.0), (4035, 0.010368783794359413), (4036, 0.0022477592743461866), (4037, 0.0), (4038, 0.006933089552475461), (4039, 0.004079202933079009), (4040, 0.022156817712838377), (4041, 0.0), (4042, 0.013909881981604887), (4043, 0.03481070155496578), (4044, 0.003796869255536666), (4045, 0.0), (4046, 0.007109394625334506), (4047, 0.005289101860041621), (4048, 0.050195598793977336), (4049, 0.0023347212110702746), (4050, 0.00462257387920342), (4051, 0.0025665078779738663), (4052, 0.015025746186274919), (4053, 0.017280535688272355), (4054, 0.01818921035856652), (4055, 0.01074830442840744), (4056, 0.022348497006306735), (4057, 0.01059211769499987), (4058, 0.0), (4059, 0.0021513160153187), (4060, 0.016372157738855128), (4061, 0.013016454177991504), (4062, 0.03749989959944731), (4063, 0.0), (4064, 0.0), (4065, 0.0), (4066, 0.002020246225549722), (4067, 0.0), (4068, 0.006588361857414312), (4069, 0.002222000647971023), (4070, 0.01485623510146797), (4071, 0.003959380304293646), (4072, 0.0), (4073, 0.0), (4074, 0.0020702550087094776), (4075, 0.0026842656820658737), (4076, 0.004508116016960944), (4077, 0.013130450154228875), (4078, 0.0), (4079, 0.002384760900025114), (4080, 0.0020626590548357767), (4081, 0.002313195449367478), (4082, 0.0032498075327097252), (4083, 0.002401709926911489), (4084, 0.013236084626300722), (4085, 0.0021895219320681994), (4086, 0.0), (4087, 0.09368397651885235), (4088, 0.00428838141614796), (4089, 0.006752404543829748), (4090, 0.028312649785157046), (4091, 0.004597965569950549), (4092, 0.007338909161065232), (4093, 0.0), (4094, 0.0), (4095, 0.027709149680565676), (4096, 0.003625312935181854), (4097, 0.01127251468374647), (4098, 0.021181101355459208), (4099, 0.011913465628968478), (4100, 0.015515909327421496), (4101, 0.013289863605851986), (4102, 0.002920885897939616), (4103, 0.004207255680647247), (4104, 0.0020391045084129584), (4105, 0.0), (4106, 0.014415222482587515), (4107, 0.002840585909800072), (4108, 0.0), (4109, 0.01282911153675745), (4110, 0.010576159639486632), (4111, 0.0024626898926498023), (4112, 0.0), (4113, 0.002555144493752502), (4114, 0.0), (4115, 0.0), (4116, 0.022528012187221447), (4117, 0.002626028003940774), (4118, 0.0), (4119, 0.004650968781206833), (4120, 0.004664448527187298), (4121, 0.004759440247936734), (4122, 0.02079447386839172), (4123, 0.006847402673802656), (4124, 0.006136323177541242), (4125, 0.0), (4126, 0.002676913198717998), (4127, 0.0), (4128, 0.0), (4129, 0.0022266867603094485), (4130, 0.002514391356122625), (4131, 0.0), (4132, 0.002476190627982243), (4133, 0.007071252135704219), (4134, 0.022096482077036336), (4135, 0.002333092523838294), (4136, 0.002396469851860162), (4137, 0.002321578526452222), (4138, 0.002549898608930062), (4139, 0.0022214557630661864), (4140, 0.002513524243923073), (4141, 0.032106384219751476), (4142, 0.016101507059355036), (4143, 0.0020678695795085687), (4144, 0.09079510315600617), (4145, 0.002702295635783402), (4146, 0.0), (4147, 0.023708579056973864), (4148, 0.0041682369606857814), (4149, 0.0), (4150, 0.0), (4151, 0.003952511006612604), (4152, 0.0021948278747568207), (4153, 0.028941442849282375), (4154, 0.014783978073646932), (4155, 0.01860156860289326), (4156, 0.06119337373367867), (4157, 0.0), (4158, 0.046052485359265045), (4159, 0.0), (4160, 0.0025792531973872898), (4161, 0.0024748431242034978), (4162, 0.004816440476692061), (4163, 0.007518685349073063), (4164, 0.0038215889198738454), (4165, 0.0038589785388811948), (4166, 0.0), (4167, 0.0), (4168, 0.010100439948236216), (4169, 0.013415326748576099), (4170, 0.0), (4171, 0.0016258285357389165), (4172, 0.0030412489721199612), (4173, 0.0), (4174, 0.0021173896519342144), (4175, 0.020216152040692593), (4176, 0.005963112840056678), (4177, 0.0), (4178, 0.0068094550227446385), (4179, 0.0), (4180, 0.0), (4181, 0.035007211521439964), (4182, 0.010786258254982214), (4183, 0.002231226106552194), (4184, 0.0), (4185, 0.0293418183136142), (4186, 0.0), (4187, 0.0026102489199221397), (4188, 0.0), (4189, 0.028924800830699315), (4190, 0.0), (4191, 0.0), (4192, 0.01179106943222982), (4193, 0.030799162815255444), (4194, 0.0), (4195, 0.05297336700563776), (4196, 0.012975467221772374), (4197, 0.0023451950257466487), (4198, 0.0), (4199, 0.0), (4200, 0.0019019971930057619), (4201, 0.0), (4202, 0.0032167040018668933), (4203, 0.016479670711509672), (4204, 0.0), (4205, 0.012698691468743941), (4206, 0.0021851739735932745), (4207, 0.0), (4208, 0.005236109791300891), (4209, 0.0028189431723581087), (4210, 0.029503339298659316), (4211, 0.00410772231915369), (4212, 0.0), (4213, 0.0021874905805777034), (4214, 0.0), (4215, 0.0), (4216, 0.004044017798708215), (4217, 0.01150968159770987), (4218, 0.0), (4219, 0.0180755145786411), (4220, 0.0020294129177392665), (4221, 0.0030757170098166067), (4222, 0.0030852505562428507), (4223, 0.0), (4224, 0.0), (4225, 0.042987523646279044), (4226, 0.03133258243455049), (4227, 0.004619484040490172), (4228, 0.09265045054951353), (4229, 0.0), (4230, 0.00294759803125337), (4231, 0.006917843438659763), (4232, 0.0019999312089518484), (4233, 0.0), (4234, 0.0), (4235, 0.00383416763908704), (4236, 0.011020727791067005), (4237, 0.0), (4238, 0.0), (4239, 0.0), (4240, 0.0045681616178607784), (4241, 0.0), (4242, 0.00805658114299289), (4243, 0.0026188967483577502), (4244, 0.00742942887943369), (4245, 0.0024716431180551324), (4246, 0.00217814796887931), (4247, 0.002021931139313009), (4248, 0.10469604933913011), (4249, 0.06138194219470947), (4250, 0.0), (4251, 0.004290224344896932), (4252, 0.0), (4253, 0.0), (4254, 0.0021600272425322297), (4255, 0.04647786265813711), (4256, 0.0), (4257, 0.013392892523051647), (4258, 0.0), (4259, 0.024892034268600947), (4260, 0.0), (4261, 0.02202194214012429), (4262, 0.0023883262088278427), (4263, 0.002533751978593937), (4264, 0.013855865942643224), (4265, 0.004428626184495906), (4266, 0.07306944222804346), (4267, 0.0026415535024823552), (4268, 0.026248433910063828), (4269, 0.002467555030840723), (4270, 0.0), (4271, 0.012220220232748324), (4272, 0.027189700639044558), (4273, 0.0023540966653973175), (4274, 0.003837059011624805), (4275, 0.014578575271948438), (4276, 0.0), (4277, 0.0173899669910116), (4278, 0.0), (4279, 0.0), (4280, 0.027124900709482473), (4281, 0.004836442229932722), (4282, 0.005969560946872085), (4283, 0.006610521969310463), (4284, 0.01605315173249869), (4285, 0.004910722887155335), (4286, 0.0024322126973905034), (4287, 0.002376664897380565), (4288, 0.061573992057616045), (4289, 0.015090842378565804), (4290, 0.0037768307755735343), (4291, 0.0), (4292, 0.013247515091272328), (4293, 0.002567035917867453), (4294, 0.0), (4295, 0.002626519553692695), (4296, 0.0020038010148827243), (4297, 0.0), (4298, 0.00282224087799645), (4299, 0.01597175701958531), (4300, 0.0), (4301, 0.0017067633767903776), (4302, 0.0), (4303, 0.011443114150198568), (4304, 0.002064683877275674), (4305, 0.0), (4306, 0.0028441119534630896), (4307, 0.004698165250224126), (4308, 0.0025227834311264143), (4309, 0.00632962455607416), (4310, 0.004188850743190281), (4311, 0.0018690018780535217), (4312, 0.0044958858758660045), (4313, 0.017891641853975643), (4314, 0.0), (4315, 0.0), (4316, 0.0), (4317, 0.0), (4318, 0.05844123954724282), (4319, 0.0), (4320, 0.0022946206272368088), (4321, 0.0021901415135010074), (4322, 0.00383146572791289), (4323, 0.0), (4324, 0.0), (4325, 0.01342899360084128), (4326, 0.0021091130170076667), (4327, 0.030951067927579085), (4328, 0.01313516800733364), (4329, 0.0), (4330, 0.032771157915656775), (4331, 0.02403972269964658), (4332, 0.0), (4333, 0.014171415181805388), (4334, 0.0023776495169516737), (4335, 0.0), (4336, 0.04024394748554184), (4337, 0.017877950073656744), (4338, 0.0), (4339, 0.044526977412609), (4340, 0.0023792653775751836), (4341, 0.01979217647046951), (4342, 0.010981077714571304), (4343, 0.002034797210202563), (4344, 0.015730038210949527), (4345, 0.002182091189508383), (4346, 0.0), (4347, 0.0), (4348, 0.0021155579834543025), (4349, 0.0022620713785795384), (4350, 0.002073506801014161), (4351, 0.012779338477775369), (4352, 0.0), (4353, 0.0), (4354, 0.002406529471038721), (4355, 0.034892865356543075), (4356, 0.0021394507494107242), (4357, 0.0024522014757980943), (4358, 0.012509436838868333), (4359, 0.0021002538034007047), (4360, 0.004206935602003147), (4361, 0.0023933928882289637), (4362, 0.006349886362367397), (4363, 0.012752956668834995), (4364, 0.014191986436628643), (4365, 0.05076654005325702), (4366, 0.00376258441987483), (4367, 0.011547959739439931), (4368, 0.0025890548589662943), (4369, 0.002646634329375416), (4370, 0.0), (4371, 0.015245728428238951), (4372, 0.0), (4373, 0.008970687977587094), (4374, 0.006155882342851113), (4375, 0.021683273603953196), (4376, 0.004290269208930367), (4377, 0.014429607056389484), (4378, 0.015605166866307951), (4379, 0.03164181177567258), (4380, 0.014309060275043521), (4381, 0.0022302087957325185), (4382, 0.0022244664190457456), (4383, 0.014528741532279035), (4384, 0.004432211068709763), (4385, 0.01037195727184873), (4386, 0.0019840498904252356), (4387, 0.006323428650028898), (4388, 0.04280412240140989), (4389, 0.004741232496301385), (4390, 0.0), (4391, 0.0023248428229637186), (4392, 0.03330806271313857), (4393, 0.0), (4394, 0.024203032203313105), (4395, 0.0022379925838370987), (4396, 0.002573775921444978), (4397, 0.0025602468550554006), (4398, 0.0026582375849934373), (4399, 0.03218872401248715), (4400, 0.002932572943555736), (4401, 0.002570235260348586), (4402, 0.0059965460596326636), (4403, 0.03397323448128692), (4404, 0.0), (4405, 0.024944723383062854), (4406, 0.0), (4407, 0.0030090644084774538), (4408, 0.020032526644479128), (4409, 0.0022868540385704793), (4410, 0.0), (4411, 0.001970810259060635), (4412, 0.00759672276763285), (4413, 0.0), (4414, 0.0), (4415, 0.0), (4416, 0.002707869889278447), (4417, 0.0), (4418, 0.0030213300256776627), (4419, 0.0023982352228493625), (4420, 0.012839377035571106), (4421, 0.010745268958551175), (4422, 0.0023772925777279046), (4423, 0.0029830673958765983), (4424, 0.0), (4425, 0.0), (4426, 0.0036106623093313177), (4427, 0.0022978808831091106), (4428, 0.0021844083798516754), (4429, 0.0019973978513878254), (4430, 0.006789821093599463), (4431, 0.006935394647084597), (4432, 0.00567621228121074), (4433, 0.0), (4434, 0.0), (4435, 0.012654107459409125), (4436, 0.03541719544128592), (4437, 0.0), (4438, 0.004011872119437337), (4439, 0.0), (4440, 0.015239683648353966), (4441, 0.040864557058171866), (4442, 0.0470322626762279), (4443, 0.007944359001825125), (4444, 0.008495090214137203), (4445, 0.0017269794982075427), (4446, 0.002523570640652006), (4447, 0.0), (4448, 0.0024024549064047356), (4449, 0.0), (4450, 0.0037094663098980215), (4451, 0.0), (4452, 0.011642822629497696), (4453, 0.0), (4454, 0.05405343688502406), (4455, 0.0), (4456, 0.0), (4457, 0.0), (4458, 0.002743659131978834), (4459, 0.011464235171287591), (4460, 0.0), (4461, 0.002214628562871278), (4462, 0.004728921962168794), (4463, 0.0), (4464, 0.03096614845804925), (4465, 0.0026365025575454714), (4466, 0.04814640882315289), (4467, 0.055747595049313384), (4468, 0.025610019552837315), (4469, 0.00287428063568536), (4470, 0.06000075780567546), (4471, 0.0024394877486570883), (4472, 0.03850574343839665), (4473, 0.0020035529053409216), (4474, 0.09607861892316052), (4475, 0.005831693246853958), (4476, 0.0019685101248666154), (4477, 0.00268759845855202), (4478, 0.0), (4479, 0.017485994490199174), (4480, 0.0), (4481, 0.003998171684945204), (4482, 0.0), (4483, 0.0), (4484, 0.003067168202314415), (4485, 0.0), (4486, 0.038549624019363626), (4487, 0.01690028246734383), (4488, 0.012552043659561135), (4489, 0.012914159979924488), (4490, 0.028053861067634876), (4491, 0.0), (4492, 0.0), (4493, 0.011147812121078036), (4494, 0.018483110893964406), (4495, 0.0024640531061947963), (4496, 0.0), (4497, 0.03998872374459992), (4498, 0.0), (4499, 0.0), (4500, 0.0220504879703135), (4501, 0.0023241825688744833), (4502, 0.02407064520758806), (4503, 0.01650050681046311), (4504, 0.0216287503607991), (4505, 0.002435033395916091), (4506, 0.0), (4507, 0.014465651041610978), (4508, 0.01200236847996351), (4509, 0.0), (4510, 0.004441547261844526), (4511, 0.014140462246196993), (4512, 0.004688770453539439), (4513, 0.0034615676920135142), (4514, 0.025243433982140247), (4515, 0.0783277258983369), (4516, 0.0026379408808345772), (4517, 0.006524301248123012), (4518, 0.005079873789947976), (4519, 0.01613289776094127), (4520, 0.002277310252977612), (4521, 0.002871404499136685), (4522, 0.00706727095693549), (4523, 0.006203670761567583), (4524, 0.019214114025673783), (4525, 0.00942613676389342), (4526, 0.0), (4527, 0.023996569160288833), (4528, 0.0024983043466633693), (4529, 0.003084450755047866), (4530, 0.02191655463776409), (4531, 0.05022398472534216), (4532, 0.0), (4533, 0.01717201567932159), (4534, 0.014081358917523462), (4535, 0.044585124762959547), (4536, 0.0116332023169416), (4537, 0.005447153323011837), (4538, 0.0), (4539, 0.024693259606709275), (4540, 0.0024718462198499167), (4541, 0.0), (4542, 0.0), (4543, 0.004030627326849019), (4544, 0.0028697889132130667), (4545, 0.002489460196184278), (4546, 0.00838263325594267), (4547, 0.0), (4548, 0.003922672760104162), (4549, 0.018509402936384457), (4550, 0.002230160020918019), (4551, 0.013475486926892771), (4552, 0.004337472463086116), (4553, 0.0036590213018285896), (4554, 0.03361352431196522), (4555, 0.003467131145744974), (4556, 0.0), (4557, 0.010475911525662197), (4558, 0.009019130318703359), (4559, 0.03203932621327447), (4560, 0.0), (4561, 0.0), (4562, 0.04779690482123409), (4563, 0.06731151537598044), (4564, 0.053431709626469565), (4565, 0.008332775800722805), (4566, 0.0024250683683822364), (4567, 0.0182012782024609), (4568, 0.0), (4569, 0.0), (4570, 0.0), (4571, 0.0036554879554896195), (4572, 0.0028233419885764412), (4573, 0.002230105499349535), (4574, 0.0024631547267855124), (4575, 0.0024340492693349838), (4576, 0.034550710569550926), (4577, 0.0), (4578, 0.0), (4579, 0.006990100164332769), (4580, 0.0), (4581, 0.0), (4582, 0.016379696046944538), (4583, 0.029989877711177875), (4584, 0.0027045288774270346), (4585, 0.019982450508182016), (4586, 0.004357391384939418), (4587, 0.0039882561732556745), (4588, 0.0), (4589, 0.0026925963775344323), (4590, 0.005807009601951527), (4591, 0.0315587036031171), (4592, 0.0), (4593, 0.01819287935111324), (4594, 0.0027096401107414045), (4595, 0.004527999272743234), (4596, 0.02100592105017478), (4597, 0.050488951483179445), (4598, 0.0018047802747841535), (4599, 0.0), (4600, 0.015713546644351466), (4601, 0.00709820232212101), (4602, 0.05033402405849787), (4603, 0.013261679071265731), (4604, 0.0023128887727396834), (4605, 0.01579207754833555), (4606, 0.0029123800919950826), (4607, 0.0033405301412163615), (4608, 0.002041440553479086), (4609, 0.016799840770168953), (4610, 0.025984373752287727), (4611, 0.0030663211524235125), (4612, 0.008073304773522003), (4613, 0.0), (4614, 0.015627629540300888), (4615, 0.01964755205326648), (4616, 0.02070108529066018), (4617, 0.003146309782208495), (4618, 0.014379934331213533), (4619, 0.002538180187454649), (4620, 0.017790454177745225), (4621, 0.00437278688129029), (4622, 0.0), (4623, 0.07900065939166022), (4624, 0.00680034848593725), (4625, 0.0023886009227677375), (4626, 0.0018599052947623003), (4627, 0.0284569849037536), (4628, 0.0), (4629, 0.006765168788956378), (4630, 0.0046927494227771765), (4631, 0.024419892734576103), (4632, 0.0027121164570099096), (4633, 0.022882819310377254), (4634, 0.002146585840970773), (4635, 0.0), (4636, 0.0019399785796451316), (4637, 0.04940518979808239), (4638, 0.002098485711128129), (4639, 0.014712732519684699), (4640, 0.0023047172842258976), (4641, 0.002247275663317629), (4642, 0.016593176292150805), (4643, 0.0023663289438033484), (4644, 0.0), (4645, 0.0), (4646, 0.005335379832824275), (4647, 0.0), (4648, 0.0), (4649, 0.02837937546912022), (4650, 0.002651141371764347), (4651, 0.061948675063971365), (4652, 0.0108668640177729), (4653, 0.005116244946111695), (4654, 0.0), (4655, 0.0), (4656, 0.0), (4657, 0.0024741536262062637), (4658, 0.04822368071839353), (4659, 0.0), (4660, 0.00799688675442034), (4661, 0.018316517695496238), (4662, 0.0), (4663, 0.04260329991035205), (4664, 0.016839806019197292), (4665, 0.04266604420421656), (4666, 0.005665256091543629), (4667, 0.027149789898929737), (4668, 0.011997796634979779), (4669, 0.03695661028894995), (4670, 0.006212070492071052), (4671, 0.0), (4672, 0.0), (4673, 0.0062810972993259055), (4674, 0.07061803305809795), (4675, 0.0), (4676, 0.021827402101502868), (4677, 0.006554663541233604), (4678, 0.01479761027955116), (4679, 0.005701407995635269), (4680, 0.0024596422918625543), (4681, 0.0), (4682, 0.03718508637632507), (4683, 0.041765739445678726), (4684, 0.014774782865589812), (4685, 0.013957991285677524), (4686, 0.002314487807745369), (4687, 0.002249385741741257), (4688, 0.0), (4689, 0.0038183833821947245), (4690, 0.0), (4691, 0.019045102592985894), (4692, 0.0028716037512439272), (4693, 0.0022346041289705533), (4694, 0.0027029772868410666), (4695, 0.016968846008038024), (4696, 0.003013795213526813), (4697, 0.05660762969333348), (4698, 0.005048733265687332), (4699, 0.018459781938878306), (4700, 0.0), (4701, 0.01949957860458307), (4702, 0.022431302699409652), (4703, 0.022888310677925357), (4704, 0.003142714216007868), (4705, 0.003289065463561724), (4706, 0.06477582631002356), (4707, 0.0), (4708, 0.004152648873565199), (4709, 0.033021502947065746), (4710, 0.008197285000533615), (4711, 0.0), (4712, 0.002072345445858255), (4713, 0.0026630495080695003), (4714, 0.0), (4715, 0.03401964926984057), (4716, 0.0), (4717, 0.014870814766672567), (4718, 0.0025800429654770514), (4719, 0.00445548611064077), (4720, 0.02084073748075765), (4721, 0.017499614941817412), (4722, 0.024812568085909436), (4723, 0.002812700888212827), (4724, 0.007994190737380006), (4725, 0.020368105543807705), (4726, 0.00971905639450464), (4727, 0.0), (4728, 0.0), (4729, 0.03668866233551535), (4730, 0.0), (4731, 0.007342470575635951), (4732, 0.0025091303998988454), (4733, 0.08171451830891768), (4734, 0.0024860907782966223), (4735, 0.007673994112320177), (4736, 0.031739726183971625), (4737, 0.0), (4738, 0.011911205146063562), (4739, 0.02899159253585256), (4740, 0.0), (4741, 0.0), (4742, 0.0), (4743, 0.07552348170182123), (4744, 0.013358757386067064), (4745, 0.0), (4746, 0.004746257734701653), (4747, 0.02113358057069477), (4748, 0.012312943590762088), (4749, 0.0030873030747856365), (4750, 0.0), (4751, 0.0), (4752, 0.0016478369591026718), (4753, 0.002623164494560846), (4754, 0.0), (4755, 0.0), (4756, 0.019767129882100665), (4757, 0.006810275786137473), (4758, 0.0), (4759, 0.0)]\n"
          ]
        }
      ]
    },
    {
      "cell_type": "code",
      "source": [
        "len(Recommendation_Score)"
      ],
      "metadata": {
        "colab": {
          "base_uri": "https://localhost:8080/"
        },
        "id": "9Gp1KxArKKb1",
        "outputId": "684b6492-74af-4cff-e1cc-b4119e3e8907"
      },
      "execution_count": null,
      "outputs": [
        {
          "output_type": "execute_result",
          "data": {
            "text/plain": [
              "4760"
            ]
          },
          "metadata": {},
          "execution_count": 29
        }
      ]
    },
    {
      "cell_type": "markdown",
      "source": [
        "##**Get All Movies Sort Based on Recommendation Score wrt Favourite Movie**"
      ],
      "metadata": {
        "id": "vb2o5dz0KR60"
      }
    },
    {
      "cell_type": "code",
      "source": [
        "# sorting the movies based on their score\n",
        "\n",
        "Sorted_Similar_Movies = sorted(Recommendation_Score, key = lambda x:x[1], reverse =True)\n",
        "print(Sorted_Similar_Movies)"
      ],
      "metadata": {
        "colab": {
          "base_uri": "https://localhost:8080/"
        },
        "id": "tju_tZavKPeU",
        "outputId": "cb5ae015-5f27-4d92-8c03-adb511b91438"
      },
      "execution_count": null,
      "outputs": [
        {
          "output_type": "stream",
          "name": "stdout",
          "text": [
            "[(2917, 1.0000000000000007), (3774, 0.1460406824567961), (173, 0.13502240147133962), (3339, 0.134513019247355), (1415, 0.13216853311877574), (3816, 0.1257039157702296), (3468, 0.11496289894213799), (3356, 0.11323637918209074), (831, 0.11073838367474823), (1347, 0.10657057489678057), (4248, 0.10469604933913011), (3148, 0.103259061236593), (2421, 0.09899467001170308), (3757, 0.09837964817115229), (2976, 0.09702611340855123), (4474, 0.09607861892316052), (4087, 0.09368397651885235), (4228, 0.09265045054951353), (4144, 0.09079510315600617), (2964, 0.09062763624134662), (1029, 0.08628940609879755), (2241, 0.08619572714251203), (463, 0.08563858911633239), (1373, 0.08543074929833537), (168, 0.08496522403139439), (1225, 0.08491099620081412), (235, 0.08474163354700785), (2301, 0.08412473123039113), (1803, 0.08369415745392256), (3711, 0.08208993660904082), (4733, 0.08171451830891768), (70, 0.08086560088975579), (2045, 0.07997770874952377), (4623, 0.07900065939166022), (2726, 0.0786772455322266), (3951, 0.07843723350258776), (2712, 0.07834924334139252), (4515, 0.0783277258983369), (3465, 0.07809437643032369), (2073, 0.07631895945699643), (4743, 0.07552348170182123), (3940, 0.07504221540453554), (72, 0.07496738234035522), (30, 0.07486770569719679), (1991, 0.07411887091263547), (4266, 0.07306944222804346), (751, 0.07268793889168021), (1083, 0.07217300043143723), (810, 0.07155315027430478), (16, 0.07065107292090758), (4674, 0.07061803305809795), (249, 0.07036240491642806), (1873, 0.06982712608640801), (2497, 0.06930194216253044), (3862, 0.0691298434865163), (429, 0.06864811902093193), (706, 0.06849389826753816), (1005, 0.0675060080714973), (4563, 0.06731151537598044), (1696, 0.06710456585914586), (3110, 0.06683834249016657), (52, 0.06672380907989169), (620, 0.06549057519936782), (2992, 0.06535560418917548), (2740, 0.06504337195946205), (2630, 0.06480439711408002), (4706, 0.06477582631002356), (1206, 0.06460607309607874), (1365, 0.06443444102433545), (1705, 0.06391659237178698), (60, 0.06368949690852962), (1912, 0.06338577017093808), (2886, 0.06312845283257432), (1901, 0.06310447363186447), (2144, 0.06228816922257104), (4651, 0.061948675063971365), (2969, 0.06190263719962584), (4288, 0.061573992057616045), (1166, 0.06140179140278797), (4249, 0.06138194219470947), (3347, 0.061236024076611946), (3372, 0.061233656664484), (4156, 0.06119337373367867), (3602, 0.0609023478218163), (4470, 0.06000075780567546), (1707, 0.0590639845498897), (4318, 0.05844123954724282), (2265, 0.05840105373056099), (2022, 0.05819758896970363), (2119, 0.05774312469698025), (445, 0.05754726853976226), (1665, 0.05749440904631462), (2621, 0.057430838424343454), (112, 0.05727368820905105), (3464, 0.05709223776627961), (581, 0.056952558833910406), (3927, 0.056773868923526705), (4697, 0.05660762969333348), (952, 0.05633117108754581), (1135, 0.056239195933793784), (4467, 0.055747595049313384), (2429, 0.05564849129684452), (313, 0.05558451698001176), (3491, 0.055523164914705034), (1481, 0.055519101041196076), (825, 0.05546685393476392), (3219, 0.055448153856994566), (254, 0.0552509865505731), (880, 0.055077652129827584), (738, 0.055037669412802304), (222, 0.05463804524555092), (1094, 0.054307096480538816), (4005, 0.05414864361839879), (4454, 0.05405343688502406), (2765, 0.053966086941879494), (3955, 0.05388057348011782), (2686, 0.05375502917548852), (666, 0.053744186505672906), (1728, 0.05352768068039515), (3668, 0.05351436158885454), (4564, 0.053431709626469565), (4195, 0.05297336700563776), (2927, 0.05277609389066627), (2745, 0.05260095120229698), (2828, 0.052204523943887936), (1701, 0.05204862191831735), (1234, 0.05194390286084291), (720, 0.05192812954518457), (390, 0.051891555082331293), (622, 0.05179527130827291), (3559, 0.051743372524618775), (3147, 0.05148697500250794), (542, 0.05124359823235121), (2680, 0.05121011580166694), (3131, 0.05109759784100129), (4365, 0.05076654005325702), (1307, 0.05064473630923655), (1246, 0.05061534813242455), (4597, 0.050488951483179445), (1239, 0.050417550484119195), (4602, 0.05033402405849787), (2336, 0.05026835586824298), (4531, 0.05022398472534216), (4048, 0.050195598793977336), (1024, 0.04974425081685401), (379, 0.04972282112864348), (1243, 0.0495729373015263), (2027, 0.049465844295687), (4637, 0.04940518979808239), (801, 0.049080061815405134), (895, 0.04894852297774041), (856, 0.048778463525867746), (1788, 0.04875782189556239), (1781, 0.048661085566062114), (2581, 0.04852746379430552), (2610, 0.04848317378793867), (3842, 0.04824464931906798), (4658, 0.04822368071839353), (3395, 0.04822293270496279), (4466, 0.04814640882315289), (762, 0.04807578511620267), (3274, 0.04790714466128104), (3997, 0.04788828305718828), (1692, 0.047864131377605104), (3367, 0.047835772958326174), (4562, 0.04779690482123409), (3771, 0.04767778577096533), (3105, 0.04754576572991728), (1050, 0.04747570047333077), (1377, 0.04738837104583738), (1774, 0.04716020057372452), (4442, 0.0470322626762279), (2582, 0.04697250281092795), (1583, 0.046871202479337695), (2988, 0.046804681697502466), (1555, 0.046603232852465794), (4255, 0.04647786265813711), (3461, 0.04644921465585407), (187, 0.04639608589690137), (3548, 0.04629213088603296), (2604, 0.04629016354071217), (1973, 0.0462148011951145), (108, 0.0461178112865315), (4158, 0.046052485359265045), (332, 0.045965384755062955), (1033, 0.04593848685229057), (3438, 0.04592474021155396), (1106, 0.04582079405111482), (2625, 0.04576577141024337), (2977, 0.04573737515284683), (3769, 0.04573650881764546), (2359, 0.045665583688404766), (2436, 0.04540240046551027), (746, 0.04533630418438164), (3555, 0.045281015514079606), (1455, 0.045148691788732376), (1227, 0.044998723691331344), (806, 0.04491728054147922), (1612, 0.04489324158690303), (1221, 0.0448877912434648), (715, 0.04482658187684888), (1708, 0.04474932492747044), (1129, 0.04471985916667698), (4535, 0.044585124762959547), (4339, 0.044526977412609), (3270, 0.04427076172640807), (3068, 0.04424452719724994), (1652, 0.04418718944845983), (1014, 0.044120599036534404), (3462, 0.04411712411995085), (1956, 0.04407653139529532), (1090, 0.04407473914515937), (84, 0.043583548161528554), (2997, 0.043338314076201916), (1950, 0.043332805574931126), (1742, 0.04315079682230686), (3541, 0.043130995126546876), (4225, 0.042987523646279044), (2628, 0.04287629658749227), (269, 0.04287499237887714), (2149, 0.04284137973469811), (4388, 0.04280412240140989), (1414, 0.04278459874776182), (1964, 0.042691063597854254), (4665, 0.04266604420421656), (2364, 0.04261752630042871), (4663, 0.04260329991035205), (3943, 0.0424783723909833), (2095, 0.04243676745356011), (224, 0.04231459129865758), (3638, 0.04230563623600775), (3043, 0.042280297387875476), (867, 0.042257607418054136), (889, 0.042151898774505515), (3262, 0.04214340704543083), (2704, 0.04212400865226272), (1107, 0.0419945834618743), (2173, 0.04186903233656087), (323, 0.04179144275141844), (4683, 0.041765739445678726), (1163, 0.04174586854245773), (3070, 0.04173400922295861), (2193, 0.04162961742784458), (788, 0.04148066801390789), (3386, 0.04131818609180135), (343, 0.04129801500601504), (541, 0.041247966946745526), (2206, 0.04111874070091254), (850, 0.041110922896807164), (1903, 0.041104354349962346), (3535, 0.04101482395461788), (553, 0.040921401693777976), (868, 0.04086967817543632), (4441, 0.040864557058171866), (3108, 0.040790801966125514), (3504, 0.040665403021054404), (690, 0.04066222507717592), (3389, 0.040397317448880525), (3999, 0.0403291490520244), (1344, 0.04027957518273206), (4336, 0.04024394748554184), (2749, 0.0402082833114228), (2117, 0.04011389490162728), (1934, 0.04000825657359896), (3474, 0.03999838094692226), (4497, 0.03998872374459992), (3557, 0.03998532026740503), (677, 0.03995620401504501), (1519, 0.039884609395745244), (1898, 0.03977318833274914), (3426, 0.03974063162563047), (930, 0.03964478955716375), (2277, 0.03947954944377244), (25, 0.039412659767417604), (3627, 0.039340884885884206), (3516, 0.039334589171459246), (1049, 0.03932770207507411), (658, 0.03924800052378577), (2944, 0.039222525613165776), (934, 0.03907756393346151), (464, 0.03903593324667642), (329, 0.038991487015617776), (748, 0.03888593316423975), (1654, 0.03873212566564237), (959, 0.038691036919110085), (3332, 0.03869077766970474), (2657, 0.03867842602821207), (3550, 0.038674521468136054), (2063, 0.03856236511299848), (1514, 0.0385587918955977), (628, 0.038558614027821), (4486, 0.038549624019363626), (906, 0.03852509928938227), (4472, 0.03850574343839665), (1638, 0.03850069656776288), (2571, 0.03848557297912501), (1681, 0.03848104217980731), (2981, 0.03845922013184587), (1623, 0.0384360500449775), (1787, 0.03843177978354578), (1170, 0.038238273577661255), (183, 0.03821078818033657), (2129, 0.03811523280772779), (3120, 0.03808307511616404), (4007, 0.03806497569687177), (1721, 0.03796975627625134), (3794, 0.03796163307830186), (3082, 0.03795724318750969), (3996, 0.03786693893369194), (148, 0.03785783418199491), (1320, 0.0378557549733118), (3483, 0.03766353237521207), (76, 0.03765158480324697), (1836, 0.03762043296326269), (1212, 0.037571165605289766), (190, 0.03756388854419987), (3825, 0.03755872228683802), (3829, 0.037538017279484), (4062, 0.03749989959944731), (3850, 0.03745552751796274), (637, 0.03745294608221425), (1494, 0.03740328143599773), (1002, 0.0373915387101733), (870, 0.03730716722250392), (4682, 0.03718508637632507), (1317, 0.037119923557859216), (4669, 0.03695661028894995), (1957, 0.03691672600102003), (1793, 0.03689464560663824), (3297, 0.03685436329641387), (513, 0.03681538280536332), (111, 0.03681527113790471), (354, 0.03674761424748002), (922, 0.03674663419852537), (3993, 0.036729077199167674), (4729, 0.03668866233551535), (1255, 0.03664847955700397), (288, 0.03663489467176388), (791, 0.036589219861066814), (1293, 0.03653585988265039), (3660, 0.03648485655096066), (2896, 0.03645108407529651), (3360, 0.03640781620300667), (3819, 0.03635994325864239), (3346, 0.03621062449987949), (4032, 0.03612686502191627), (1994, 0.03610368915107099), (3093, 0.03600796132264801), (2545, 0.035762722591182725), (1168, 0.03572165956547819), (2477, 0.03570379041433419), (1942, 0.03569715468522853), (2486, 0.03565768980501678), (3600, 0.03563523661228467), (3488, 0.03562289287169208), (2865, 0.03559806787533864), (1342, 0.03551934908378889), (847, 0.03550373217964072), (3447, 0.035477864366998936), (808, 0.035434481020828336), (4436, 0.03541719544128592), (537, 0.03523536726257523), (276, 0.035215707080898204), (1249, 0.03517867314968657), (321, 0.03514617202498791), (4181, 0.035007211521439964), (3158, 0.03500402969977133), (4355, 0.034892865356543075), (511, 0.0348916462932016), (686, 0.034856818475670286), (4043, 0.03481070155496578), (2096, 0.03472626941749417), (1032, 0.034608351397008436), (45, 0.03460232216102419), (4576, 0.034550710569550926), (1272, 0.03453522662263331), (330, 0.034525116347929936), (2209, 0.03446843258492125), (496, 0.03441653834757845), (1278, 0.03432286435909451), (2665, 0.03427366694538497), (2626, 0.03420184828273154), (3630, 0.03410900858914404), (2221, 0.034074272045183124), (4715, 0.03401964926984057), (1829, 0.0339952043500975), (4403, 0.03397323448128692), (356, 0.03393087085683041), (2314, 0.03382230777963931), (844, 0.03381339223222647), (1659, 0.03371566217961485), (2205, 0.0336704422204253), (2915, 0.033668963950220586), (681, 0.03363280665486543), (1629, 0.033630824340369056), (4554, 0.03361352431196522), (484, 0.03352340221127423), (552, 0.0335076842875335), (1452, 0.03343426359498639), (2294, 0.03342147053501141), (3973, 0.03341831910855644), (3256, 0.033409309268729585), (2432, 0.03338653166021192), (711, 0.033308716462150154), (4392, 0.03330806271313857), (2724, 0.033189995758520406), (2513, 0.033156402879289365), (1086, 0.03310195169756923), (2825, 0.03308154609986684), (2037, 0.03304078090117632), (4709, 0.033021502947065746), (433, 0.0328786034566621), (3230, 0.03286363382634588), (4330, 0.032771157915656775), (837, 0.03269736443806441), (2285, 0.0326699330896498), (1588, 0.03256147337644901), (2744, 0.03253001307816304), (2082, 0.03252956040300233), (1762, 0.03238968431593076), (1975, 0.03238430865156826), (2803, 0.032372270977934235), (3603, 0.03236520310993549), (1207, 0.032354630726144626), (2283, 0.032343365201297415), (1001, 0.03233990784721841), (2001, 0.03232004035129353), (89, 0.032310962370523694), (2595, 0.03228362760775677), (775, 0.0322816800170179), (1860, 0.0322795718996964), (307, 0.03225438701171984), (4399, 0.03218872401248715), (2638, 0.03212906981150799), (4141, 0.032106384219751476), (2820, 0.03209006968808532), (3908, 0.032047854119108626), (4559, 0.03203932621327447), (1466, 0.03199681457502772), (733, 0.03195933064739002), (1346, 0.031940516471814055), (3743, 0.03193704039981307), (2899, 0.03189755395716895), (252, 0.03189670292290574), (472, 0.031813928205002076), (766, 0.031761294605067394), (647, 0.031747314401008954), (3975, 0.03174404327782203), (4736, 0.031739726183971625), (1220, 0.03166817650004213), (3185, 0.031666918320900156), (3895, 0.031650918017503166), (4379, 0.03164181177567258), (3683, 0.031592611923876315), (2014, 0.031587483717230275), (1936, 0.03158339573743271), (73, 0.031564565229431386), (980, 0.03156334898041488), (4591, 0.0315587036031171), (2176, 0.03142412578131139), (1460, 0.0313927486880094), (2947, 0.03135321123495912), (4226, 0.03133258243455049), (1027, 0.03131937476905763), (1021, 0.03126477008247237), (2112, 0.031210553950436044), (1714, 0.031201326939020932), (2253, 0.0311818203798331), (1177, 0.031129530357655248), (1506, 0.031117187088265816), (697, 0.031090204633484546), (3596, 0.03106339580369184), (2094, 0.031025680272721276), (2121, 0.031016860408676565), (3858, 0.031004351433246532), (1760, 0.031002123936158317), (2075, 0.03099606902377911), (1838, 0.03097572781006902), (4464, 0.03096614845804925), (4327, 0.030951067927579085), (1572, 0.030932385767893283), (3875, 0.03092746430203831), (3641, 0.030888322814706194), (3086, 0.030868784405046725), (3467, 0.030841695834652343), (473, 0.03081394562605859), (1268, 0.030801709636363674), (4193, 0.030799162815255444), (908, 0.030694023059394657), (83, 0.030684092754263544), (1897, 0.03065979348299092), (1510, 0.030607428231087547), (1737, 0.030572099719946295), (1162, 0.030567108841516314), (566, 0.030561042279979845), (2524, 0.03053458992340195), (2255, 0.030519834818075124), (3130, 0.03044310326088386), (500, 0.030386081919124827), (1490, 0.030344455251140903), (803, 0.030291374922254984), (683, 0.030224237518958325), (2355, 0.030173170922100107), (446, 0.030145352482314265), (87, 0.030132809282824434), (3362, 0.030130303709470393), (296, 0.030124688076084455), (2857, 0.030107349853583515), (1779, 0.030106158038101835), (2114, 0.03009709390721715), (4583, 0.029989877711177875), (3880, 0.02994773430199963), (2653, 0.029876735189402294), (1257, 0.029875917657131008), (3789, 0.029849336892185607), (436, 0.029821841349504948), (1906, 0.029807782608637454), (2757, 0.02980196214039289), (3929, 0.029759165130715675), (2691, 0.029756789458944288), (2465, 0.029745863131978842), (1710, 0.029732284041671848), (1173, 0.02972347701735896), (2804, 0.02971608842910019), (244, 0.029690562044285055), (1406, 0.02966233399744684), (1843, 0.02964111066769336), (1192, 0.0296271587539038), (3806, 0.029569468669166876), (2071, 0.029545717365725567), (2143, 0.02954541648069435), (482, 0.02951531017094308), (4210, 0.029503339298659316), (2325, 0.02943824421891314), (3403, 0.02937743713671751), (4185, 0.0293418183136142), (377, 0.029329687199384242), (3700, 0.029315997121692347), (3632, 0.02929480827071501), (3534, 0.02928592044894033), (1403, 0.029234590618912402), (3325, 0.0292313740203437), (2512, 0.029127210474817478), (1723, 0.029058969596676924), (373, 0.029054778317444893), (2000, 0.0290284503675941), (434, 0.02900354261183324), (2179, 0.028996095633092366), (4739, 0.02899159253585256), (4153, 0.028941442849282375), (4189, 0.028924800830699315), (2335, 0.02891354943690385), (1443, 0.028906700283939938), (1876, 0.02886009485411193), (62, 0.028853033366779038), (3444, 0.028842206539282277), (2350, 0.028796385436857082), (519, 0.028766598500819404), (1329, 0.028703702917782098), (3329, 0.02869483201151811), (916, 0.028682560146824413), (15, 0.028557176758471442), (1477, 0.02855695525066002), (2018, 0.02851766801181408), (1422, 0.028507783842797625), (3656, 0.0284793668666568), (4627, 0.0284569849037536), (4649, 0.02837937546912022), (285, 0.028377113848639182), (347, 0.02833464079506615), (498, 0.02832106120041879), (4090, 0.028312649785157046), (3705, 0.02824546913883256), (794, 0.028242634056718795), (1937, 0.02814826669294871), (2240, 0.028088148089765716), (4490, 0.028053861067634876), (218, 0.027988883467970353), (341, 0.027970447187585994), (3357, 0.027930326284344147), (2376, 0.027904192078266665), (1835, 0.027868953071530856), (1229, 0.027827189134604653), (1137, 0.02782609172310076), (643, 0.02780646589963264), (2110, 0.027782055838948234), (3284, 0.027767495975431992), (216, 0.027756069011550054), (1812, 0.027749818699360697), (2443, 0.02773751226563968), (3748, 0.02770946855116587), (4095, 0.027709149680565676), (545, 0.02770556769129051), (124, 0.02768403119314883), (737, 0.02764539227961042), (3280, 0.027634704275519208), (2056, 0.027618172870266113), (2632, 0.02761289824353825), (1864, 0.027599641990570845), (2529, 0.027559702929445005), (778, 0.027549690383646415), (2527, 0.02752885944414162), (2025, 0.02752762495569773), (2008, 0.02749978454785395), (1017, 0.02748524592777949), (1955, 0.027484253170518298), (968, 0.027463883456593667), (657, 0.027441807738153547), (1861, 0.02742666004519213), (3795, 0.027423995478298758), (1877, 0.027392345795422712), (2217, 0.027392117819963924), (523, 0.027307152420226743), (2627, 0.027252599337813113), (4272, 0.027189700639044558), (386, 0.027172371435529634), (3801, 0.027163091260269775), (4667, 0.027149789898929737), (551, 0.027140968762688164), (2526, 0.027136460502290474), (4280, 0.027124900709482473), (3253, 0.027102704256917434), (2210, 0.02710042704557221), (2006, 0.027084756124586752), (2764, 0.02704861837756188), (3733, 0.027044131228880865), (1493, 0.02701172908931408), (1776, 0.026999501525195792), (1686, 0.02699555455029013), (2482, 0.026988138837458656), (200, 0.02698487944265933), (3966, 0.0269662812628395), (271, 0.026934703066068585), (1145, 0.026924803836721155), (3096, 0.026862371865810336), (3210, 0.026825408072054857), (3368, 0.02679705567608112), (1254, 0.02678401679593699), (1052, 0.026719347394505773), (3222, 0.026702101293565546), (342, 0.026700919878560343), (61, 0.026686080334103406), (1412, 0.026667842464502683), (3407, 0.026657648714782527), (1078, 0.026634730088677634), (2326, 0.02661270328222643), (533, 0.026606720137642356), (398, 0.026589025657394433), (742, 0.026580853801675353), (1761, 0.02654646947359541), (9, 0.026522383536504317), (2316, 0.026488157218953756), (1790, 0.02647658963408704), (435, 0.02638711812537615), (192, 0.026380045600796865), (1775, 0.02637315810144711), (1290, 0.026354209639568527), (2602, 0.026352864289711914), (965, 0.02634766530074597), (1798, 0.0263130548751446), (107, 0.026278825045232424), (4268, 0.026248433910063828), (3876, 0.02623010439320353), (1960, 0.026191393343773538), (1505, 0.02617066930180311), (2480, 0.026167928178254647), (1148, 0.02616070958950983), (3226, 0.026151777891834937), (863, 0.02612005209373139), (3149, 0.02607922167292638), (1279, 0.02606195552700749), (2310, 0.026033360360938645), (2565, 0.026001058087086484), (2939, 0.025992735260097235), (1459, 0.025991433389341775), (322, 0.02599128529801944), (1301, 0.025988876244687244), (4610, 0.025984373752287727), (3299, 0.025968540310943956), (74, 0.02594021339082788), (520, 0.025934938276529033), (1420, 0.02587137457013175), (374, 0.025784183716516293), (2478, 0.025725701333766705), (2955, 0.025679587829097825), (3301, 0.025648253506924276), (2741, 0.02563043776505737), (1852, 0.025616828083637327), (4468, 0.025610019552837315), (2563, 0.025557586368198593), (1953, 0.02552940132106967), (2629, 0.02550704929190631), (1660, 0.02548399100785967), (358, 0.02541685545925722), (113, 0.025411782874969376), (1124, 0.02541133724022887), (67, 0.025406359593667306), (2694, 0.025289880375257312), (4514, 0.025243433982140247), (655, 0.025241243091098525), (1267, 0.02522615326024071), (2873, 0.025225821571623362), (3085, 0.02521528551917719), (273, 0.02520842528596596), (1401, 0.025166714914705762), (3039, 0.025132882834653224), (3146, 0.02506637763875767), (231, 0.024992130701140744), (444, 0.02496931761175119), (4405, 0.024944723383062854), (1087, 0.024918791693655094), (4259, 0.024892034268600947), (1369, 0.024814627846667076), (4722, 0.024812568085909436), (437, 0.02479728047019465), (2448, 0.024794663036866605), (1743, 0.02474457624884745), (4539, 0.024693259606709275), (744, 0.02464972538135984), (34, 0.02461539124375937), (1662, 0.024600394031906163), (1687, 0.024566628755329438), (3286, 0.024538939658489575), (1682, 0.02452425903015175), (2098, 0.02451565514166627), (650, 0.024498298729113792), (814, 0.024482467901211887), (147, 0.024464685535294305), (227, 0.02446030076727501), (109, 0.024436375964105195), (79, 0.02443421029348794), (2053, 0.024422621248803508), (4631, 0.024419892734576103), (910, 0.024399485039300783), (1304, 0.024398630520655898), (864, 0.02434515150842062), (623, 0.024308433789267263), (1844, 0.02425242478063303), (1567, 0.02424971096643635), (104, 0.024245067048603103), (4394, 0.024203032203313105), (2811, 0.0241906687608445), (2868, 0.024178501148800775), (2058, 0.024157824122755158), (3275, 0.024151544686456507), (282, 0.024146815749847228), (3558, 0.024126962055968124), (899, 0.024090423618456192), (409, 0.02408959437060898), (1114, 0.024070772560612436), (4502, 0.02407064520758806), (1807, 0.024041938702129874), (4331, 0.02403972269964658), (1068, 0.02402362604678615), (682, 0.024017636188379998), (4527, 0.023996569160288833), (3017, 0.02389222568302567), (3241, 0.023877670701975873), (957, 0.023863158680146476), (465, 0.023858835604089947), (334, 0.02375064773361088), (3518, 0.02372263645770333), (4147, 0.023708579056973864), (3598, 0.02369755306675031), (3571, 0.02369290564290787), (2055, 0.02368564221787032), (550, 0.023587900049164327), (2154, 0.023570640742603483), (782, 0.023519961128042437), (475, 0.023500342809167227), (161, 0.023490339645994233), (2698, 0.023473858364965766), (3508, 0.023454787043491604), (3227, 0.023421276972452873), (3669, 0.0233688801774127), (1034, 0.02335772717849623), (1383, 0.023325654540167894), (1993, 0.023252674032279215), (19, 0.023245493697913323), (2156, 0.0232363846816433), (85, 0.023177718707211876), (2929, 0.023168392183094747), (1326, 0.02314878381877527), (328, 0.02314716861756561), (3646, 0.023062843486341543), (458, 0.02305655767715404), (301, 0.023052345865590105), (979, 0.022970485254576282), (4703, 0.022888310677925357), (317, 0.02288326362814926), (4633, 0.022882819310377254), (1248, 0.022728114496563527), (719, 0.02271760268873512), (2777, 0.022679543593750295), (1465, 0.022657380273349025), (1478, 0.022652617465996838), (2732, 0.02265116685225769), (1376, 0.02263096471984436), (799, 0.022587429924388405), (1988, 0.02258523929276237), (1967, 0.022566088408779533), (1356, 0.02256007645358104), (3702, 0.022555951033043076), (673, 0.02254938844861494), (4116, 0.022528012187221447), (43, 0.022497718190094412), (1471, 0.02248286498791176), (3272, 0.02248270655347569), (2884, 0.02247709325072021), (689, 0.02246241819495297), (823, 0.022443382167605122), (3456, 0.02243207329414539), (629, 0.02243160949431807), (4702, 0.022431302699409652), (2250, 0.02242141301626478), (3942, 0.02239996022047724), (306, 0.02238332007896497), (4056, 0.022348497006306735), (2187, 0.022346788662654726), (3228, 0.02233180254900695), (1792, 0.022311391582191635), (237, 0.022281108657132148), (1920, 0.022276680787314616), (648, 0.02227350531768388), (91, 0.022262612239996954), (2655, 0.022235446733506983), (3563, 0.022229756316141047), (1748, 0.022228241146069718), (2052, 0.022226803871361986), (543, 0.0222244101597852), (490, 0.022190797264617968), (4040, 0.022156817712838377), (4134, 0.022096482077036336), (299, 0.022086498724686435), (3186, 0.022077585898429695), (3420, 0.02206648637270946), (22, 0.022052931809199112), (4500, 0.0220504879703135), (4261, 0.02202194214012429), (4530, 0.02191655463776409), (2413, 0.02189120288225665), (1157, 0.021867750728398354), (2508, 0.021856643967855666), (2279, 0.021834835243096054), (4676, 0.021827402101502868), (2931, 0.021794053891973978), (2481, 0.021763244656901663), (415, 0.021744792548927642), (3849, 0.021737076123751083), (1902, 0.021719581488916142), (767, 0.021711249939416543), (3586, 0.021706304344828543), (3066, 0.021699732501128985), (4375, 0.021683273603953196), (2088, 0.021649383661745392), (130, 0.021636714969686922), (2091, 0.02163557766271329), (2932, 0.021631828558677332), (4504, 0.0216287503607991), (834, 0.02161507521344805), (394, 0.021600025956215563), (2789, 0.02159259755640775), (1472, 0.021586661486899784), (3, 0.02154750798093318), (414, 0.02152239826647255), (3834, 0.02151617009030438), (1310, 0.02151069582765452), (2411, 0.02149811253035691), (2855, 0.02143371979963592), (2005, 0.021430567762827302), (1534, 0.021425523183580642), (1341, 0.02141744249122618), (1128, 0.021353722567521258), (3170, 0.021319256166388807), (1870, 0.021301644241443225), (1552, 0.02123515141314632), (1544, 0.02120521447020095), (4098, 0.021181101355459208), (2145, 0.021166819755511643), (4747, 0.02113358057069477), (1233, 0.021132925844034513), (3018, 0.021063498673316618), (1370, 0.021030646693320106), (4596, 0.02100592105017478), (3661, 0.02098704259251198), (3101, 0.020975315062958785), (407, 0.020968797014047476), (294, 0.02092047452107932), (757, 0.02087520172690504), (4720, 0.02084073748075765), (477, 0.020815414876717057), (4122, 0.02079447386839172), (678, 0.020754733997488457), (609, 0.020735380519345554), (1488, 0.020715548068590446), (3678, 0.020714150013065914), (4616, 0.02070108529066018), (1905, 0.020698692123982343), (527, 0.020689122998577586), (1805, 0.020685168419705382), (670, 0.020677765359656593), (1264, 0.020663235611593552), (303, 0.020658990815362478), (251, 0.020650127850389995), (1833, 0.020630515405219145), (3261, 0.020617726251385478), (835, 0.020604787330688455), (1669, 0.020601782759956867), (3455, 0.02057649700216388), (3409, 0.02055518082801506), (3025, 0.02055174567579258), (3406, 0.020548903064200097), (3893, 0.020510137886736973), (2175, 0.020509329441426253), (624, 0.020497588029653034), (549, 0.020495248855482342), (1570, 0.02047721136111732), (2688, 0.020447258316876125), (833, 0.020395071891019537), (3493, 0.02037957527415302), (1042, 0.020370575285583673), (4725, 0.020368105543807705), (3797, 0.020363215892454902), (2540, 0.020337312509284895), (2040, 0.020329526347202538), (989, 0.020324199468594983), (3583, 0.02032117452660486), (2266, 0.020290891913416084), (142, 0.020279099150441328), (2650, 0.020229932311599533), (2874, 0.020225867695001197), (4175, 0.020216152040692593), (1804, 0.020170296528932232), (248, 0.02016049496314304), (875, 0.020154399497576803), (1896, 0.020140977026647192), (3863, 0.020137344465865067), (106, 0.020117319759639183), (2720, 0.020104847221524776), (3203, 0.020094528283099784), (4, 0.02009381266783118), (2126, 0.02008028744342571), (2474, 0.02005021014801124), (4408, 0.020032526644479128), (1230, 0.020031548994888463), (65, 0.02000121476858983), (3172, 0.01999352685587598), (4585, 0.019982450508182016), (3123, 0.019956360149062782), (2879, 0.019925113794092376), (1015, 0.019891711463897677), (1423, 0.019888432915722485), (1439, 0.019878683390781877), (940, 0.01987284669155988), (699, 0.019865268236005783), (82, 0.019831637149598756), (1064, 0.019821865348255273), (3755, 0.019805573463573284), (4341, 0.01979217647046951), (2370, 0.019779745097682874), (1364, 0.019774649404573436), (4756, 0.019767129882100665), (3224, 0.019766357920558662), (1851, 0.01976562389227423), (6, 0.019757367563683924), (3095, 0.019755987785373356), (3901, 0.019731330282921712), (452, 0.019683069993917366), (1429, 0.01966875910182765), (1141, 0.019665370184252143), (538, 0.01965988846653894), (57, 0.01965595632422127), (4615, 0.01964755205326648), (555, 0.01960309134029723), (1462, 0.019572184558902), (208, 0.019536389978477675), (3710, 0.019522126609867886), (4701, 0.01949957860458307), (1840, 0.019430153751962866), (3820, 0.019411765602260826), (470, 0.019407965745053206), (1194, 0.019405075500858696), (1531, 0.019402381719769653), (2570, 0.019395250940995208), (1076, 0.019384158628055523), (3792, 0.019366979530339046), (1509, 0.019317797387666792), (2031, 0.01925554008327576), (2089, 0.01922485800773514), (4524, 0.019214114025673783), (3342, 0.01918786284579345), (973, 0.01918320586021547), (1183, 0.019179933406877913), (937, 0.019114934955321544), (86, 0.019100923270300465), (1527, 0.01905581395690248), (1566, 0.019053398851763742), (4691, 0.019045102592985894), (604, 0.019004121993692166), (241, 0.018991342967268964), (2212, 0.018944449265953428), (2668, 0.018933972726641605), (443, 0.018923663335535447), (1442, 0.018888568164987282), (1891, 0.018878925624692754), (3384, 0.018876575957694874), (1134, 0.018864631692363472), (3651, 0.018851302380212043), (2452, 0.018837413764535987), (3443, 0.01877814714953349), (406, 0.018774621530537453), (467, 0.018766939979794353), (1680, 0.018766603220941803), (3714, 0.018749850526428198), (1649, 0.01874108081036671), (1924, 0.01869146148159664), (1413, 0.018675493501752082), (1184, 0.018665074526639125), (3505, 0.018646477329750374), (3889, 0.018603744639059693), (4155, 0.01860156860289326), (1985, 0.018594378726823648), (1933, 0.018557584479198284), (2029, 0.018535544550148775), (2881, 0.018529851217105587), (4549, 0.018509402936384457), (152, 0.018488319824961276), (48, 0.018487544173678823), (4494, 0.018483110893964406), (3923, 0.018477242286893847), (3556, 0.018475960061103282), (4699, 0.018459781938878306), (1725, 0.01844588740473702), (125, 0.018432864868625203), (1385, 0.018424830354512034), (315, 0.018419608995476965), (2467, 0.018373843765926), (1038, 0.018365741058634977), (931, 0.018350454037224684), (3028, 0.018346692836941344), (1663, 0.01834318655515321), (2229, 0.018336243524316856), (1418, 0.01831971108683649), (4661, 0.018316517695496238), (3212, 0.018312563550023263), (1678, 0.018296552572685212), (1713, 0.018283390663467614), (701, 0.018263362756237144), (2499, 0.0182563094549473), (729, 0.018244319872961202), (2174, 0.018240041957231567), (3553, 0.018237752389969622), (3852, 0.018235355179907264), (2439, 0.018234858104297355), (279, 0.018228033673923068), (2552, 0.01820423434118546), (4567, 0.0182012782024609), (3605, 0.018199965031750243), (3546, 0.018197202403276075), (4593, 0.01819287935111324), (1498, 0.018189303200066908), (4054, 0.01818921035856652), (1093, 0.01817527155605779), (2367, 0.018173539822583965), (883, 0.018136015698321732), (587, 0.018123287114238044), (4219, 0.0180755145786411), (1631, 0.018062496605894353), (1641, 0.018055945455091826), (3523, 0.018053829695716582), (2054, 0.018029666516450032), (2996, 0.01800516923461867), (2306, 0.017987349720403), (355, 0.01795420008210125), (1731, 0.017951188769482353), (388, 0.01792278223913841), (516, 0.017898029509610638), (3133, 0.017894611415550432), (3845, 0.017892420464534115), (4313, 0.017891641853975643), (405, 0.017887265762591434), (4337, 0.017877950073656744), (896, 0.01787315886959986), (571, 0.017864598831380835), (2808, 0.017830894988029165), (4620, 0.017790454177745225), (2649, 0.017789563520766664), (3387, 0.017780334810800442), (2190, 0.017762811525688097), (3484, 0.017759613826085686), (1325, 0.017733344933795442), (1458, 0.01771317199666258), (3694, 0.017706325214372782), (2918, 0.01769144909985118), (3582, 0.017690122447171837), (3156, 0.01768646338655609), (3704, 0.01768052857353012), (2353, 0.017678606709652763), (3418, 0.017670271815774716), (316, 0.01764443355301737), (1768, 0.017636685581951833), (1799, 0.017634760277395536), (1393, 0.01758105340373923), (635, 0.017578960191913514), (1900, 0.0175657587268196), (3448, 0.017563380653779163), (2254, 0.017556880917086543), (3394, 0.01753727548634317), (2845, 0.017528471914501756), (862, 0.017518782081295644), (1140, 0.017518085212255737), (2534, 0.0175063649799923), (4721, 0.017499614941817412), (2971, 0.017497263402143335), (2675, 0.017490919205244322), (4479, 0.017485994490199174), (1071, 0.01745966883016288), (1533, 0.01740067857353005), (815, 0.01739536551352611), (4277, 0.0173899669910116), (2568, 0.017387959719973693), (787, 0.017368760017281944), (3956, 0.017354540907374295), (178, 0.017335255774921954), (402, 0.01733147454526523), (1655, 0.01729392495523799), (4053, 0.017280535688272355), (2519, 0.017271052589243913), (2492, 0.01726132529126377), (1400, 0.01724626899680624), (3331, 0.017224980522193695), (900, 0.017205297103811433), (1777, 0.017201728809670937), (963, 0.0172010917240474), (2856, 0.017197910757385377), (3626, 0.017192913193555658), (2081, 0.017188792488444925), (1070, 0.01718736660110172), (2567, 0.017180797168291222), (4533, 0.01717201567932159), (2354, 0.017171066354647626), (3788, 0.017165145194026083), (2495, 0.017152447564417236), (1407, 0.017110835458453523), (1186, 0.01709680277762942), (580, 0.01709654790063319), (660, 0.01709033565866605), (2290, 0.01708629497946875), (290, 0.01707784944269278), (3522, 0.017076543273318534), (1099, 0.017073332020384472), (295, 0.01706731877356581), (3042, 0.01706411206495651), (3775, 0.017040968880400013), (1983, 0.017039662181859015), (3477, 0.017009811537103313), (3747, 0.017005882720260785), (2597, 0.01699783430782585), (4695, 0.016968846008038024), (3377, 0.016941946299725737), (669, 0.016931623981544713), (2041, 0.01692138878695361), (949, 0.01691065217169513), (2416, 0.01690653162211404), (4487, 0.01690028246734383), (2368, 0.016898955501752005), (606, 0.016894716383249023), (3034, 0.01685265639836507), (1522, 0.01684882146640265), (3153, 0.01684751670011211), (4664, 0.016839806019197292), (1396, 0.016838316780623308), (160, 0.016831558508210016), (3741, 0.016817772183941725), (726, 0.016814457592009415), (4609, 0.016799840770168953), (753, 0.01678313674379644), (2769, 0.016780809103321873), (199, 0.016778940412178034), (1179, 0.016776309770569386), (2889, 0.01676200832990759), (370, 0.016751458116843043), (994, 0.016746624688361373), (1648, 0.01673531972357506), (652, 0.016734755438226556), (3524, 0.016727173652365226), (3343, 0.016726767514918525), (750, 0.01666814809224558), (2417, 0.016646087381991987), (2420, 0.016637768433923325), (832, 0.01663555942198589), (3094, 0.016635150512440057), (3247, 0.016608006198475495), (3391, 0.016603112552961253), (2273, 0.0165955572383907), (4642, 0.016593176292150805), (2374, 0.016581230151398504), (137, 0.01657708350520206), (534, 0.016571643968304628), (3298, 0.016570310050232427), (2612, 0.01656709974052036), (2268, 0.016566944315454326), (1540, 0.016562929968890586), (936, 0.01655726472863988), (3878, 0.016552436242286854), (1138, 0.016550258923631697), (800, 0.016540037900971465), (2276, 0.0165389651567508), (809, 0.016530030732726565), (636, 0.01652327252393936), (2218, 0.016513081725410706), (3670, 0.01650083643334839), (4503, 0.01650050681046311), (2607, 0.016494267432243484), (501, 0.016489620372701047), (627, 0.016487793209094728), (4203, 0.016479670711509672), (2261, 0.016434739450515278), (1940, 0.01643333484183409), (732, 0.01642718364859932), (1266, 0.016426757894787168), (3685, 0.0164262197076504), (362, 0.016399533329244438), (2344, 0.016394972214498642), (2199, 0.01639388585049342), (2403, 0.016385973798795552), (625, 0.01638340836233511), (2695, 0.01638114719921113), (4582, 0.016379696046944538), (3400, 0.016374486468940744), (4060, 0.016372157738855128), (982, 0.016339465100569755), (1948, 0.01633097741221402), (1302, 0.01633050090425083), (1009, 0.01632461989953429), (3585, 0.016319276947708145), (3330, 0.016305246408714703), (3168, 0.016302908140532188), (2233, 0.01630029820045381), (505, 0.01629593429329817), (1309, 0.016293811463891836), (3903, 0.016284486426376484), (3423, 0.016267524024525564), (988, 0.016250650360013687), (3947, 0.0162483901240431), (1315, 0.01622942344091484), (1811, 0.016229394044826356), (3647, 0.016213200432485725), (1252, 0.01620983968762157), (562, 0.016188509577790052), (796, 0.01616531959413503), (2051, 0.01615288523903104), (380, 0.016152768279705396), (1074, 0.016150681503744), (1265, 0.016143532659315358), (1381, 0.016135245942276912), (4519, 0.01613289776094127), (760, 0.016129929645416145), (223, 0.01612334467317187), (4142, 0.016101507059355036), (2286, 0.016094641714154662), (2936, 0.01609384275919869), (1617, 0.016087793912513863), (3416, 0.016086156138331396), (727, 0.01607433637750771), (128, 0.016061652904967902), (1262, 0.016058307062914827), (4284, 0.01605315173249869), (2910, 0.016007863009563895), (3985, 0.01600632629559473), (1023, 0.015980969749033888), (2692, 0.01597938404955991), (4299, 0.01597175701958531), (3822, 0.01596327538538497), (3240, 0.01596154762339694), (2181, 0.015959706945164888), (1012, 0.015950421003818254), (1226, 0.015939116551919735), (2224, 0.01592137182066234), (3533, 0.01590582713814202), (676, 0.01586157358653598), (802, 0.01584181968714119), (1671, 0.015840194196306383), (1551, 0.015824920931630612), (3157, 0.015824359554333343), (1256, 0.015809133945142065), (4605, 0.01579207754833555), (2505, 0.015789044582004984), (1926, 0.015783257670242253), (1773, 0.015775346059347745), (3385, 0.015758695269402597), (1215, 0.015751170569507915), (2683, 0.015749306129922865), (1658, 0.015740220463668422), (2070, 0.015739811412148474), (250, 0.015733585734446123), (469, 0.015733353776493656), (4344, 0.015730038210949527), (4600, 0.015713546644351466), (2759, 0.015689280231734506), (1391, 0.015686486602144327), (2809, 0.01567770519806784), (1019, 0.0156740690805303), (2049, 0.0156735461513882), (2954, 0.01566302539943406), (3065, 0.015630302179484773), (3344, 0.015627862888349407), (4614, 0.015627629540300888), (3122, 0.015607865726350019), (4378, 0.015605166866307951), (3293, 0.015597280897071972), (1786, 0.015593983547858797), (2062, 0.015590613946461076), (1146, 0.015568295369909118), (1845, 0.015561314542285513), (1375, 0.015550201690871557), (2231, 0.015537776875976805), (1043, 0.015536327195603222), (1869, 0.015531196338479755), (4100, 0.015515909327421496), (1965, 0.015514762846512375), (2605, 0.01550545788734525), (3871, 0.01550302069715715), (1614, 0.015488477750297807), (2598, 0.015479258364923754), (3057, 0.015458976072092418), (3604, 0.015443419527793528), (116, 0.015441542934192927), (369, 0.015390117442694246), (2848, 0.015372605853786917), (236, 0.015368111229058729), (3703, 0.015364213525314691), (239, 0.015356961073498725), (2116, 0.015344244359612978), (2222, 0.01534226721939693), (2494, 0.015327995499674268), (44, 0.015318083048487882), (1961, 0.01530182880584559), (144, 0.015301236241357048), (1456, 0.015295601814174645), (569, 0.015288067072349329), (1675, 0.015285287891301095), (2225, 0.015282435349392639), (1359, 0.015276975459518062), (2751, 0.015268738496535976), (4371, 0.015245728428238951), (4440, 0.015239683648353966), (1228, 0.015215035220803079), (3728, 0.015202856592943362), (1712, 0.015196617399691364), (2670, 0.015176349871068728), (1814, 0.015173067948096367), (1626, 0.015171521778809706), (3957, 0.015167569512687345), (2596, 0.015161529927748227), (3218, 0.015156850977420706), (1619, 0.015150943099330664), (1952, 0.015140753295567192), (4289, 0.015090842378565804), (1951, 0.015083981619201875), (2418, 0.015070006510725018), (468, 0.015066940164420561), (1575, 0.015054785851003297), (3979, 0.015053389860967615), (3911, 0.015048806905647558), (3460, 0.015044760563884926), (1685, 0.015041885528847231), (3442, 0.015039423713069202), (193, 0.015031582883571669), (4052, 0.015025746186274919), (3264, 0.01501188748428085), (918, 0.0149830594040916), (1075, 0.014976689896278945), (2742, 0.014949250915364734), (2044, 0.014935141197018803), (1164, 0.01493151803227467), (1796, 0.014927861159538067), (2633, 0.014925607571377956), (1360, 0.014890436276384748), (2640, 0.014875477798630236), (4717, 0.014870814766672567), (785, 0.014862302789782803), (3919, 0.014861984003559032), (3856, 0.01486014520662749), (765, 0.014860003473952839), (1892, 0.014856504735387079), (4070, 0.01485623510146797), (1006, 0.014853214566803965), (3599, 0.014844377579029568), (2601, 0.0148269551358396), (1859, 0.014826166151604219), (1475, 0.01482104497611058), (976, 0.014819760287874906), (654, 0.01481931613401664), (1595, 0.014806184665499326), (357, 0.014802799975232825), (2959, 0.014801827361504222), (2360, 0.014797669491506986), (4678, 0.01479761027955116), (2908, 0.014787690053022632), (4154, 0.014783978073646932), (4684, 0.014774782865589812), (1048, 0.014773878873687826), (518, 0.014764347925978145), (3063, 0.014755271059689294), (3536, 0.014751523749437253), (4025, 0.014749435857251553), (1169, 0.014739560088194305), (4639, 0.014712732519684699), (1602, 0.014710695635948923), (1576, 0.014708388856873155), (3689, 0.014705385921177648), (1382, 0.014674644003709313), (2191, 0.014672869919844293), (2991, 0.014670977122104061), (3073, 0.014654972821719257), (631, 0.01461783891203814), (1830, 0.0146014293367211), (4275, 0.014578575271948438), (1949, 0.01457681041718286), (2780, 0.014558534283033216), (1809, 0.01455145413435919), (4383, 0.014528741532279035), (3506, 0.014525250017304998), (1077, 0.0145243519364963), (3866, 0.014517029909809154), (1182, 0.014505271094057467), (1688, 0.0144973060150584), (4507, 0.014465651041610978), (2155, 0.014465602118433252), (274, 0.01446048261015884), (2235, 0.014448066754302807), (327, 0.014443721678824276), (3643, 0.014443083243939923), (353, 0.01443923478366267), (2798, 0.01443700027854638), (851, 0.014436186729693271), (4377, 0.014429607056389484), (902, 0.014423305499035706), (4106, 0.014415222482587515), (3375, 0.014399324204269221), (4618, 0.014379934331213533), (339, 0.014373918202353711), (1417, 0.014364262425403123), (1958, 0.01435185227672751), (209, 0.01434586407211996), (1627, 0.014342510791369844), (145, 0.014333682710456748), (546, 0.014331284697271313), (2109, 0.01433120738765279), (182, 0.014330443012996274), (1970, 0.014325776196106973), (897, 0.014325199274336838), (1367, 0.01432512673631972), (3141, 0.01431033283737676), (4380, 0.014309060275043521), (1573, 0.014263264754093903), (811, 0.014254903358640495), (530, 0.01425199513077717), (2771, 0.014237166111798538), (2831, 0.014233410054796959), (1998, 0.014230157909678597), (853, 0.01422776168235954), (2074, 0.014214389208970805), (2130, 0.014213006994290303), (1277, 0.014197533084899853), (4364, 0.014191986436628643), (280, 0.014179903745954538), (4333, 0.014171415181805388), (266, 0.014158852642961565), (4511, 0.014140462246196993), (1755, 0.014134389975159712), (346, 0.014127011484151693), (308, 0.01408304389708566), (4534, 0.014081358917523462), (649, 0.01407712235082167), (2836, 0.014068296158819051), (1500, 0.01404719956591316), (3067, 0.014044929602278294), (174, 0.014042911899426032), (3237, 0.014042314070776458), (1018, 0.01404069697591772), (582, 0.014038739378931872), (2246, 0.014034081592101925), (2830, 0.014016381236908475), (2435, 0.014000880424693206), (1062, 0.014000122134200065), (1063, 0.013988820152234778), (1263, 0.013981931313665878), (2463, 0.013974782473340167), (1938, 0.013960063326315011), (4685, 0.013957991285677524), (3432, 0.013957504076890084), (119, 0.013948240228644108), (3046, 0.013944065072506841), (2980, 0.013943329843337706), (692, 0.01391620611455185), (2227, 0.013913155016402548), (4042, 0.013909881981604887), (2087, 0.013905300905042144), (739, 0.013894320614606912), (2159, 0.013887408958206898), (4264, 0.013855865942643224), (2103, 0.013843549215047235), (1857, 0.013842017763944614), (1314, 0.013831559449243554), (1096, 0.013831264268499307), (3677, 0.013824239254521349), (1622, 0.013821483843790418), (557, 0.013816614179170395), (617, 0.013813403502293061), (3083, 0.0138078215677731), (292, 0.013793626687731868), (927, 0.013791864612393082), (633, 0.013774556969841928), (1235, 0.013770187267605776), (817, 0.013758111497720778), (3321, 0.013743274318360066), (1630, 0.013737609967530269), (651, 0.013725894581952065), (1354, 0.01370221384092669), (887, 0.013693905872070209), (3915, 0.013679262384124214), (813, 0.01367577686862223), (1054, 0.01367124208167855), (3826, 0.013667938637613283), (2510, 0.01366023987137696), (2666, 0.01365438698753535), (1020, 0.01363970539094195), (2681, 0.013631181179315003), (3246, 0.013629401179155199), (790, 0.013627890373930918), (1446, 0.013624207028132905), (2197, 0.013618127488972596), (1914, 0.013606925163226917), (970, 0.013603737475014095), (2309, 0.01358092552518174), (3011, 0.013577443468878889), (440, 0.01356504249969015), (37, 0.013559526394273227), (3151, 0.013542773010187664), (2473, 0.013539898228529877), (29, 0.013538734801404603), (2339, 0.013534578947667512), (78, 0.01353444956004607), (3784, 0.013532288901530201), (915, 0.013529795331677252), (164, 0.013528119691782114), (2706, 0.013516127822163966), (1996, 0.013510084318134857), (2644, 0.013491126110246894), (962, 0.01348086094015934), (2859, 0.01347880364258481), (4551, 0.013475486926892771), (3254, 0.013473952986551447), (2725, 0.013468878905814097), (2572, 0.013467447375385178), (3215, 0.013465688223083753), (3971, 0.013455613792313335), (12, 0.013448923072252374), (532, 0.013444184085095515), (2609, 0.013433060811969174), (4325, 0.01342899360084128), (3713, 0.013424352673702159), (197, 0.013423907368410336), (966, 0.013423433261529621), (3954, 0.013417785367138979), (4169, 0.013415326748576099), (1562, 0.013410462373806597), (2303, 0.013408612161024017), (2812, 0.013398472204927875), (246, 0.013393421996059937), (4257, 0.013392892523051647), (2736, 0.013388154382627703), (40, 0.013367491747559005), (4744, 0.013358757386067064), (360, 0.013341637549546974), (287, 0.013340146143197791), (1069, 0.013332788070309428), (1676, 0.013322305759567487), (3008, 0.013322119672933988), (734, 0.013314707104539634), (2318, 0.013294322010303164), (2928, 0.0132920643779871), (4101, 0.013289863605851986), (3399, 0.013282499220489633), (3853, 0.013276349550204585), (2878, 0.013275777110830302), (1, 0.01326711202787747), (4603, 0.013261679071265731), (1670, 0.013255337492317703), (2097, 0.013250295661634957), (4292, 0.013247515091272328), (1025, 0.013236424822870952), (4084, 0.013236084626300722), (2843, 0.013232983527287216), (921, 0.013231601164639471), (262, 0.013230408518896519), (838, 0.013219887436183941), (1303, 0.013191161619306824), (661, 0.013190020401119783), (1650, 0.013183230539931094), (4328, 0.01313516800733364), (4077, 0.013130450154228875), (23, 0.013124048573321917), (1486, 0.013123612426601887), (3839, 0.013113377770767506), (2244, 0.013106038027092719), (3338, 0.013099501448089895), (2766, 0.013075726844485132), (3767, 0.013059838005692435), (1875, 0.013055523363088873), (893, 0.013055338713884378), (2072, 0.013050050600296619), (3118, 0.013048010983021404), (1308, 0.013043606953625834), (2101, 0.01304051750462691), (363, 0.013021573156307685), (4061, 0.013016454177991504), (4196, 0.012975467221772374), (1730, 0.01296153956064701), (3290, 0.012960605035895089), (3079, 0.012958217080281349), (3515, 0.01295599325230425), (243, 0.012955348886268148), (695, 0.012950627425866256), (2466, 0.012933879350112044), (1294, 0.012928650988479964), (1197, 0.012927808781707156), (2011, 0.012927617532093346), (2654, 0.012921661937557134), (4489, 0.012914159979924488), (2984, 0.012908847493215985), (1538, 0.012904699083066528), (2236, 0.012900993288906617), (449, 0.012858084897673726), (4420, 0.012839377035571106), (428, 0.012835667616385462), (232, 0.012830322375616824), (4109, 0.01282911153675745), (2013, 0.012828583723705775), (1122, 0.012821850926167194), (1007, 0.012818671303480187), (1770, 0.012813533883611538), (1690, 0.01280909181044041), (340, 0.012803644110702672), (597, 0.012780041065535569), (4351, 0.012779338477775369), (2430, 0.01277761299925622), (1784, 0.012767595865224034), (4363, 0.012752956668834995), (270, 0.012734502843622283), (413, 0.012724865271806628), (1722, 0.012717740757200214), (3551, 0.012710940159689146), (1175, 0.01270988814298177), (3457, 0.012704286055194157), (4205, 0.012698691468743941), (993, 0.01268664941342796), (1539, 0.012677196791856714), (3223, 0.012671907421141725), (3232, 0.012658550166520193), (4435, 0.012654107459409125), (588, 0.012652774580492136), (2016, 0.012640583226771411), (3341, 0.012629292946757794), (3667, 0.012628340325810722), (1116, 0.01262438758243558), (1817, 0.012618220445307594), (2587, 0.012616627469355041), (1046, 0.012616006344631404), (3612, 0.012598840710508574), (705, 0.012586386676206221), (3492, 0.012578528521450852), (932, 0.012569055255163528), (3665, 0.012564054056691023), (4488, 0.012552043659561135), (1553, 0.01254741442740259), (600, 0.012539144650055359), (4358, 0.012509436838868333), (3099, 0.012506468393975519), (1334, 0.012499679617693448), (1718, 0.012490825241217234), (2975, 0.012490253531097173), (3946, 0.012486333034700009), (400, 0.012478393910194556), (75, 0.012475648743863131), (752, 0.012470236263138331), (32, 0.012467523948807924), (1136, 0.012463894034582111), (3554, 0.012460601520171624), (3129, 0.012439011185742867), (1797, 0.012430242661777047), (1841, 0.012394185306882119), (2756, 0.01239167766037326), (924, 0.012383738559186104), (1911, 0.01237505667651663), (3655, 0.01237273725712658), (4008, 0.012367191832043637), (368, 0.012355768609778195), (1195, 0.012352447108793697), (615, 0.012344222358926633), (2111, 0.012336367394855146), (3619, 0.012336072123046382), (98, 0.012331973590779017), (2816, 0.012330108146083603), (3648, 0.01232988164753897), (1764, 0.012323529319324168), (4748, 0.012312943590762088), (242, 0.01230919898770644), (671, 0.012304909506337941), (2942, 0.012302352700671385), (2909, 0.012282735856685713), (3265, 0.012280600557738624), (874, 0.012260461410885519), (1348, 0.012247380027021438), (4271, 0.012220220232748324), (1245, 0.012207836507414652), (1289, 0.012203206352566307), (1111, 0.012177409652456424), (1378, 0.012166011999354551), (1247, 0.012164107773294281), (3610, 0.012157478892024546), (1008, 0.012149398361224901), (2708, 0.012146599141692796), (1250, 0.012145749804155634), (2247, 0.012139808882318574), (3579, 0.012135408807130403), (56, 0.012132795903343476), (1425, 0.012122662608133173), (3916, 0.012081519921844404), (1051, 0.012078138061295958), (2487, 0.012076937126605843), (2933, 0.012073619124961465), (131, 0.012073196022222468), (403, 0.012050260000401925), (1461, 0.012049950073742887), (3634, 0.012020463493192328), (758, 0.012009051890800327), (1945, 0.012007072355473417), (175, 0.012004961070856541), (4508, 0.01200236847996351), (4668, 0.011997796634979779), (1312, 0.011997757617857234), (157, 0.011994452534478232), (1515, 0.011994260417410706), (547, 0.011986549764182376), (1908, 0.011979943991304537), (2068, 0.011967270647830618), (88, 0.011941483558733014), (2603, 0.011940615117407313), (2198, 0.011939317164598074), (4001, 0.011936674061279426), (3926, 0.01193576141783693), (1172, 0.011931095374436129), (3617, 0.011928297963055737), (1374, 0.011925227003581385), (3821, 0.011923079359737238), (4099, 0.011913465628968478), (2211, 0.011912694055380098), (4738, 0.011911205146063562), (2296, 0.01191042148584224), (3033, 0.011909859744707608), (1644, 0.011903141934589101), (1501, 0.011901527926407264), (1345, 0.011890196252505664), (939, 0.011878851325273254), (3594, 0.011869534897019985), (3421, 0.011867691295398946), (679, 0.011863093893758357), (2525, 0.011859085153655698), (2985, 0.0118586281554981), (616, 0.011847714461234438), (1321, 0.01184680850254468), (7, 0.01183787940965113), (1238, 0.011835379035433665), (2503, 0.011816792479324214), (4192, 0.01179106943222982), (3972, 0.011789937899872231), (1507, 0.011787687111174817), (1986, 0.011785221844193656), (1867, 0.011768753091475558), (1645, 0.01176307999204575), (1913, 0.011759830471116327), (1571, 0.011754154830953368), (441, 0.01174849032788551), (2844, 0.011742023692419947), (1849, 0.01173133579856679), (3900, 0.011708681997834296), (2528, 0.011695482254910617), (843, 0.011691684461819306), (3751, 0.011685361534843404), (3288, 0.011659516497986367), (96, 0.01165608138307384), (4452, 0.011642822629497696), (618, 0.011633584503860105), (4536, 0.0116332023169416), (2239, 0.011624065099188305), (3365, 0.011621040913420129), (412, 0.01161498137144301), (230, 0.011604982882368541), (3171, 0.01158266393164338), (1037, 0.01156507290950853), (457, 0.011558923706232776), (156, 0.011549340468159015), (4367, 0.011547959739439931), (4217, 0.01150968159770987), (1434, 0.011498314596033617), (438, 0.011494570390219179), (691, 0.011490539926429042), (3998, 0.011480534316746635), (521, 0.011473321728078738), (4459, 0.011464235171287591), (1118, 0.011449818111414075), (4303, 0.011443114150198568), (3410, 0.01144060090193721), (1526, 0.011387601978908701), (3309, 0.011379205622898427), (2493, 0.011360583282891495), (300, 0.01135298749888732), (3697, 0.011340086410517142), (1080, 0.01133755218704896), (1144, 0.011334803230839604), (1327, 0.011331817446449266), (2517, 0.011328191975652926), (63, 0.011314896972248445), (309, 0.01130786924483617), (2785, 0.011307351753479888), (700, 0.011293499406364234), (1818, 0.01129246892714009), (3831, 0.011287852145439817), (1664, 0.011286143626254885), (263, 0.011276998024268622), (3023, 0.011274538159012725), (4097, 0.01127251468374647), (812, 0.011267587388341323), (185, 0.011265965356082933), (1647, 0.01126453037623006), (763, 0.011250068240529086), (3864, 0.01124561251433221), (136, 0.01124433541587414), (2968, 0.011235648224463799), (2202, 0.01122644450796961), (2160, 0.011213384359268731), (3566, 0.011193673379817127), (2264, 0.01118866393671943), (703, 0.011186978336803845), (359, 0.01117430940768089), (4493, 0.011147812121078036), (2469, 0.011131104424858937), (159, 0.011126996349184409), (1746, 0.011121616894653071), (3909, 0.01111811382587871), (3152, 0.011094303326480339), (3278, 0.011071763294761469), (710, 0.011070558858947118), (1747, 0.011064101973088077), (568, 0.011052305746273128), (2637, 0.011051628384421194), (3959, 0.011050979438151604), (4236, 0.011020727791067005), (3114, 0.011016376628597238), (4009, 0.01101076751631342), (747, 0.011010629582488905), (35, 0.010995776129540561), (1387, 0.010992110984117055), (3294, 0.010991074418984838), (2729, 0.010981788390465206), (4342, 0.010981077714571304), (3281, 0.010970859685963348), (3027, 0.010957011728974203), (3316, 0.01093620799829314), (1217, 0.010933663607419902), (960, 0.010924553689792551), (158, 0.010922251747164664), (3244, 0.010916284746695532), (821, 0.010913675153292616), (2671, 0.010909643763756537), (2203, 0.010904193363086588), (3048, 0.010903910938104097), (2337, 0.010898067065334631), (958, 0.010892001630952365), (4652, 0.0108668640177729), (1328, 0.010854949397326764), (990, 0.010848849708250147), (1935, 0.010816741959254188), (3968, 0.010809560506386788), (583, 0.01080306305861291), (1276, 0.010798978074978057), (4182, 0.010786258254982214), (1734, 0.010785730803398182), (4055, 0.01074830442840744), (4421, 0.010745268958551175), (797, 0.010742797363979054), (2426, 0.010740926913922264), (1511, 0.010724063649280378), (1316, 0.010722839674394042), (432, 0.01071395546796728), (1340, 0.0106953924551773), (3229, 0.010690613175757703), (664, 0.01068194186174415), (2185, 0.010675513619034462), (2562, 0.010675388771803566), (1715, 0.010672725080058891), (3983, 0.010650952288954194), (1095, 0.010649545928762766), (3428, 0.010634538447193741), (2550, 0.010631238953271307), (3865, 0.010627355509408047), (4057, 0.01059211769499987), (2935, 0.010583489363029365), (1557, 0.010577254737844967), (1801, 0.01057659749535997), (4110, 0.010576159639486632), (2234, 0.010572154618029139), (846, 0.010540158040793186), (3690, 0.010519511832709945), (3912, 0.010516371210657528), (2017, 0.010505096681835335), (2444, 0.010499818608055241), (4557, 0.010475911525662197), (277, 0.010474914721161896), (1684, 0.010438424742796045), (3056, 0.010433202981289073), (684, 0.010432293238192485), (714, 0.010415323365878944), (283, 0.010404088027223703), (909, 0.010403769139833789), (1611, 0.010402605427628905), (4385, 0.01037195727184873), (4035, 0.010368783794359413), (312, 0.010364787139491153), (1306, 0.010364038289838987), (1271, 0.010361794968007312), (529, 0.010357183964511024), (3509, 0.010338859886531306), (1379, 0.01032877965453067), (3006, 0.010325138569858595), (1464, 0.010316300209934846), (1492, 0.010312523136900877), (1297, 0.010302182896765598), (1863, 0.010291697026103948), (3662, 0.010288408435774997), (2039, 0.010242343596885691), (2850, 0.010230619019189615), (188, 0.010226367481989337), (2291, 0.010209387673577666), (641, 0.010180821612970731), (2020, 0.010164794504181899), (3731, 0.010162535479016495), (177, 0.010158699599778073), (1358, 0.010144894483991808), (3752, 0.010123746345862949), (3644, 0.010113413179056664), (4168, 0.010100439948236216), (3164, 0.010091471420930575), (2297, 0.010089667431638387), (567, 0.010037873351859341), (1607, 0.010024212767514556), (2555, 0.009990589389661082), (1592, 0.009983226314155168), (3002, 0.009980340072416027), (3245, 0.009978291046413025), (1388, 0.009918892937071945), (816, 0.00991046269298499), (439, 0.009817769748634806), (81, 0.00978499996655773), (1295, 0.009779081509470135), (3177, 0.009778151278030386), (741, 0.009774111053958113), (3458, 0.009740187800904163), (4726, 0.00971905639450464), (1097, 0.009685367141822067), (1139, 0.00968193825496494), (1579, 0.009675628569483135), (3773, 0.009659132012485493), (1695, 0.009645304400337387), (2574, 0.00962693014285744), (3121, 0.00961314564284916), (1453, 0.009588111086968455), (2590, 0.00958229097064969), (573, 0.009544793086965016), (2774, 0.00952233218972765), (2584, 0.00949128040459462), (2369, 0.009483645437563788), (4525, 0.00942613676389342), (2125, 0.009414356592308312), (780, 0.009396165909915509), (2113, 0.009325150723288045), (1756, 0.009313022228189687), (2867, 0.009293297026415293), (1855, 0.009237326318812964), (2768, 0.009218480582612326), (2827, 0.00918690494064224), (3718, 0.009157694652946266), (1081, 0.009086068846111036), (4558, 0.009019130318703359), (1482, 0.008997436693639513), (257, 0.008987214567493585), (4373, 0.008970687977587094), (214, 0.008905429790820209), (155, 0.008892351576702514), (3144, 0.00887284636040781), (3205, 0.008864051322868684), (2177, 0.008849410741900012), (3679, 0.008794504635071233), (1523, 0.008794066369637374), (561, 0.008787356928932719), (2064, 0.008777309423619492), (4018, 0.008773453941193604), (3635, 0.008767873134674765), (725, 0.008756519929053005), (947, 0.00874791431611445), (1639, 0.008714160287362218), (1010, 0.008706197768022094), (2906, 0.008694629028009104), (376, 0.008578855953178645), (0, 0.008563799838952222), (3835, 0.008562540679205411), (336, 0.008546441203157125), (4444, 0.008495090214137203), (2152, 0.008398185054233252), (366, 0.008394461461825483), (4546, 0.00838263325594267), (2645, 0.00834598201541989), (4565, 0.008332775800722805), (3980, 0.008257779142846563), (3828, 0.008201661786507525), (4710, 0.008197285000533615), (2795, 0.008189804575121484), (4612, 0.008073304773522003), (381, 0.008066181880831632), (4242, 0.00805658114299289), (4660, 0.00799688675442034), (4724, 0.007994190737380006), (3521, 0.007989304327620333), (4443, 0.007944359001825125), (3154, 0.007937372305040973), (2188, 0.007914509564955164), (2459, 0.00789339432502878), (2778, 0.007841586165747096), (2660, 0.007781287347675284), (2398, 0.007771615826527983), (3766, 0.007733655574949301), (3675, 0.007730488019554501), (4735, 0.007673994112320177), (2406, 0.007617508100893086), (1968, 0.0076158619086981825), (4412, 0.00759672276763285), (3019, 0.007549438608477293), (2427, 0.007532866750217732), (3450, 0.007531752412285174), (4163, 0.007518685349073063), (860, 0.007513860906317841), (1275, 0.007482822424074931), (4244, 0.00742942887943369), (876, 0.007402151439472467), (3883, 0.0073922322137755635), (3960, 0.0073520589719458015), (4731, 0.007342470575635951), (4092, 0.007338909161065232), (3680, 0.007333352143970922), (1489, 0.007287047305329459), (1716, 0.007272958647710454), (2903, 0.007272569704384662), (3196, 0.00727204452814591), (3012, 0.007270747439702218), (3032, 0.007258909189877632), (2840, 0.00723291291568481), (3640, 0.007232359849250232), (2854, 0.007202298930009808), (888, 0.007187418615237732), (688, 0.007183972085831651), (967, 0.007159884395293609), (3961, 0.007157930854048035), (2428, 0.007156834549013924), (371, 0.007136109331359249), (1454, 0.0071230080875120194), (450, 0.007115996380358163), (4046, 0.007109394625334506), (4601, 0.00709820232212101), (1866, 0.007081201455147921), (675, 0.007072207105964568), (4133, 0.007071252135704219), (4522, 0.00706727095693549), (4013, 0.00706050699821586), (350, 0.007060043473972936), (481, 0.007052566675460616), (2214, 0.007051074400102017), (1997, 0.0070458109988579595), (3642, 0.0070323463330532205), (728, 0.006994578013579585), (4579, 0.006990100164332769), (210, 0.006989281189656834), (3899, 0.006988117985127981), (3692, 0.006982516393349355), (3112, 0.006973470557144923), (991, 0.006961250823158241), (1537, 0.00694312080078093), (4431, 0.006935394647084597), (21, 0.006935045266510206), (4038, 0.006933089552475461), (2949, 0.0069291547040216265), (2104, 0.006925855481714981), (3780, 0.00692426263841567), (1119, 0.0069238961769903205), (4231, 0.006917843438659763), (2522, 0.006911613833683435), (493, 0.006885468484937167), (68, 0.006877754110786011), (3618, 0.0068740931053121205), (1853, 0.006864363391694769), (2714, 0.006863385140939973), (1484, 0.0068599087469701945), (2196, 0.0068579431609933905), (3777, 0.006851916399730763), (1918, 0.0068500505769804945), (4123, 0.006847402673802656), (51, 0.006823059307737547), (4757, 0.006810275786137473), (4178, 0.0068094550227446385), (1643, 0.006808399348362057), (1188, 0.006806746208732071), (716, 0.006800487801522851), (4624, 0.00680034848593725), (255, 0.006790948583193903), (4430, 0.006789821093599463), (845, 0.0067892729959759274), (502, 0.00678915086808369), (3437, 0.006789018639964357), (3514, 0.006770197489790962), (1224, 0.006769566433065113), (879, 0.006765774759599896), (4629, 0.006765168788956378), (4089, 0.006752404543829748), (447, 0.006733911354901351), (3666, 0.006733532589965585), (3349, 0.006728141220329587), (584, 0.006710249114833543), (2919, 0.006699421853263257), (3945, 0.0066987124778723735), (3623, 0.006689900216087407), (2334, 0.00667490822713519), (3233, 0.006671579674101251), (743, 0.006664006714296402), (509, 0.006650571794117814), (1174, 0.006629693974173295), (2784, 0.006628489838586234), (1931, 0.006625912441192396), (3699, 0.006623825287594222), (1337, 0.006618057506507458), (1740, 0.00661543350743758), (238, 0.0066143176421023), (3653, 0.006610666946330163), (4283, 0.006610521969310463), (3303, 0.006599456396806468), (3501, 0.006592026713127607), (4068, 0.006588361857414312), (2295, 0.0065881801142703205), (4004, 0.0065767567060725975), (2061, 0.006568408134866484), (2647, 0.006568267062767882), (4677, 0.006554663541233604), (1335, 0.00654964698400573), (1232, 0.006535100200958328), (2606, 0.006529862404020609), (696, 0.00652758926625795), (3436, 0.006526769607577245), (4517, 0.006524301248123012), (2284, 0.006520064169280744), (3125, 0.0065171064929983626), (1191, 0.006510650354752651), (1223, 0.006510157443724152), (761, 0.006486037280998292), (2558, 0.006485928124396228), (986, 0.006480123833904214), (3807, 0.006451071227713546), (3374, 0.006435925625592655), (1483, 0.006434773753223708), (4000, 0.00643251230438972), (3727, 0.006429893009600323), (3624, 0.006424980565705341), (3435, 0.006422042010084715), (769, 0.006400177946118536), (1621, 0.006393129161525594), (2961, 0.006383380196489187), (3195, 0.006381928934714649), (2069, 0.006371694398913257), (3499, 0.006370856250713712), (2216, 0.006355720825643885), (4362, 0.006349886362367397), (4309, 0.00632962455607416), (1653, 0.006324044780929817), (4387, 0.006323428650028898), (1035, 0.0063000888813760075), (3370, 0.006294857630282593), (1044, 0.0062822290007434976), (4673, 0.0062810972993259055), (1030, 0.006277493312913003), (3696, 0.006254054400608373), (1421, 0.00625183297372974), (2716, 0.006246555197654288), (923, 0.006245270954825639), (3487, 0.006235185395184956), (18, 0.006218459240885462), (4670, 0.006212070492071052), (2024, 0.006210076021631131), (4523, 0.006203670761567583), (3498, 0.006196220317160068), (3978, 0.006185598493573461), (3035, 0.00617373955351723), (1123, 0.006163353055709348), (1132, 0.00616318654973068), (644, 0.0061605429084151085), (4374, 0.006155882342851113), (911, 0.006143853137527997), (4124, 0.006136323177541242), (878, 0.006125236078282956), (3734, 0.006116553752632024), (2348, 0.006108409613805349), (3433, 0.0061062987490175845), (31, 0.006099024897065172), (694, 0.006098383111701125), (1041, 0.006087375656231937), (2496, 0.006064678721569459), (3452, 0.006047199229455227), (1819, 0.0060417515922714495), (1433, 0.006033327544227327), (866, 0.00602880067856225), (3854, 0.005997055780067179), (4402, 0.0059965460596326636), (1448, 0.005992254654962023), (590, 0.005977056941729205), (1667, 0.005976692381763873), (4282, 0.005969560946872085), (4176, 0.005963112840056678), (829, 0.005957375539171214), (2324, 0.005936258941371769), (1065, 0.005927328331050082), (996, 0.005904881467753373), (1237, 0.0058868820670462535), (1865, 0.005883212530148235), (608, 0.005878537757107791), (563, 0.005847727679894999), (3318, 0.005844780833304432), (981, 0.00583836301563982), (3974, 0.005836947305371621), (1000, 0.005832932640039885), (804, 0.0058328181734129195), (4475, 0.005831693246853958), (1739, 0.005831049879378429), (3841, 0.005815711229793991), (4590, 0.005807009601951527), (2580, 0.005791393994989548), (166, 0.005727326306749953), (1608, 0.005724265894422131), (2617, 0.005717609393534384), (4679, 0.005701407995635269), (3910, 0.005693479847350434), (4432, 0.00567621228121074), (3637, 0.005671313808539265), (2275, 0.00566686066903067), (4666, 0.005665256091543629), (2388, 0.005648605020114064), (653, 0.005642361017615453), (2412, 0.005631015291322948), (642, 0.005601572404363361), (861, 0.005584460709551663), (2447, 0.005562079715794303), (1939, 0.0055534580043170075), (3721, 0.005551239642871537), (1202, 0.005500786483344201), (4537, 0.005447153323011837), (3715, 0.005399763269089552), (442, 0.005377248095453594), (149, 0.005355285029178102), (4646, 0.005335379832824275), (3317, 0.005311624122288399), (2697, 0.005309068253068003), (3756, 0.005304665518028873), (4047, 0.005289101860041621), (942, 0.00527214816610891), (3844, 0.005243817999444356), (4208, 0.005236109791300891), (953, 0.0052214949636086635), (1989, 0.005208725895663701), (2925, 0.005206840515075004), (3049, 0.00519575721165182), (3471, 0.005156306424613357), (3588, 0.0051413958989193894), (2328, 0.005136054764475263), (1058, 0.005129047824437924), (842, 0.005116733361827288), (4653, 0.005116244946111695), (3744, 0.005092737635506112), (4518, 0.005079873789947976), (3502, 0.005064998881938441), (4698, 0.005048733265687332), (2727, 0.0050331132526382095), (1941, 0.005008473482589709), (2614, 0.004995764792365351), (1343, 0.004974516847787577), (512, 0.004973642947952758), (904, 0.004925918659764457), (4285, 0.004910722887155335), (2468, 0.004889329914033097), (3022, 0.00486823527459083), (3440, 0.004862002745899329), (3312, 0.004860338730851468), (1591, 0.004846401031156594), (1815, 0.0048440571098184995), (905, 0.004840695159088875), (4281, 0.004836442229932722), (3708, 0.004831569111624335), (4162, 0.004816440476692061), (2012, 0.004812393271729933), (3117, 0.00479720182807517), (1351, 0.004782560963291268), (855, 0.0047780617703331784), (4121, 0.004759440247936734), (2476, 0.004758215857400114), (424, 0.004751348604880619), (425, 0.004747226281516703), (4746, 0.004746257734701653), (4389, 0.004741232496301385), (2576, 0.004734052069365613), (4462, 0.004728921962168794), (207, 0.004726585211219715), (2066, 0.004707482724483941), (2700, 0.004700981803984743), (4307, 0.004698165250224126), (3470, 0.004697009757241641), (4630, 0.0046927494227771765), (4512, 0.004688770453539439), (1158, 0.004675225979200678), (1976, 0.0046746432158075515), (2440, 0.004672544800298776), (4120, 0.004664448527187298), (1332, 0.00466236966211881), (1962, 0.004661741958689918), (3180, 0.004655540337166122), (2383, 0.004652842908368022), (4119, 0.004650968781206833), (2733, 0.004648404785881421), (687, 0.0046426748765911645), (3652, 0.0046237614181142295), (4050, 0.00462257387920342), (4227, 0.004619484040490172), (1554, 0.004607267788141163), (595, 0.004602199488748977), (4091, 0.004597965569950549), (69, 0.004594714599875603), (1167, 0.004584494481592742), (3802, 0.004582068477297778), (3787, 0.004581261974830774), (102, 0.004571742705136224), (4240, 0.0045681616178607784), (3659, 0.0045607464559711515), (3263, 0.004558770713616255), (3163, 0.004554677207731214), (2978, 0.004550125107914449), (514, 0.004538032137003326), (3938, 0.004537172280706095), (2136, 0.004535226639160191), (4595, 0.004527999272743234), (2599, 0.004522782413479337), (2084, 0.004516087126625887), (1150, 0.004513471141687866), (2252, 0.004508688415209477), (4076, 0.004508116016960944), (1661, 0.004506250451742309), (1724, 0.004505684656352609), (420, 0.004499723421904791), (3768, 0.00449658722686365), (4312, 0.0044958858758660045), (3584, 0.004494116448834497), (3451, 0.0044852155231742494), (3782, 0.004482340452414466), (992, 0.004476785446458384), (1732, 0.0044724745279366455), (2963, 0.004468013817225719), (1280, 0.004455966233757634), (4719, 0.00445548611064077), (1791, 0.004454917433690485), (4510, 0.004441547261844526), (3897, 0.004436720817419237), (2689, 0.004435917191677867), (2208, 0.004435179091019903), (1426, 0.004433449911602557), (2819, 0.0044329294318183905), (4384, 0.004432211068709763), (4265, 0.004428626184495906), (1436, 0.004427608879914015), (418, 0.004426286787518754), (1904, 0.004425413716528596), (2330, 0.004424379844305622), (220, 0.004424068234426587), (1502, 0.004419007376232009), (1380, 0.004413229164038993), (1185, 0.004408687438093261), (891, 0.004407941646072027), (1449, 0.004405381815326652), (1104, 0.004404498992953399), (3334, 0.004402792588174161), (2790, 0.004399777403264047), (667, 0.004399512723977692), (320, 0.004386955981592845), (3513, 0.004384326473722812), (1881, 0.004376846405942603), (4621, 0.00437278688129029), (2015, 0.004369546317712365), (3134, 0.004367533641807678), (928, 0.0043668600758740555), (201, 0.004365935746636346), (1047, 0.004359883669467855), (1432, 0.0043589046120715725), (4586, 0.004357391384939418), (27, 0.0043468658941312344), (793, 0.004345868566710278), (3124, 0.004344555743052091), (3907, 0.004341512421479852), (3995, 0.004338468617702829), (3507, 0.004337958941077111), (4552, 0.004337472463086116), (189, 0.00433333753329102), (1542, 0.004332536624862911), (1469, 0.004332086903884732), (3398, 0.004315774065233878), (3191, 0.004308056229697744), (95, 0.00430454161308049), (685, 0.004298673614768001), (3446, 0.004297565067944137), (3179, 0.004296901289317351), (118, 0.004293681983366343), (4376, 0.004290269208930367), (4251, 0.004290224344896932), (4088, 0.00428838141614796), (1431, 0.00428497542764365), (1435, 0.004278200879669967), (1003, 0.004277281506285388), (1832, 0.004273787906820366), (3486, 0.004272606467758594), (3137, 0.004270283666608394), (2960, 0.004268006955048593), (3815, 0.004266334716243884), (3810, 0.004264051557816333), (2788, 0.004260194848007975), (1587, 0.004259576725647429), (3404, 0.004257524053759068), (919, 0.004252535963208332), (3576, 0.004250070704017631), (3833, 0.004249649572759808), (2278, 0.004245285069962417), (3932, 0.004243577498687511), (3520, 0.004236187788175536), (1930, 0.004230220941740984), (3005, 0.004229468023465417), (4103, 0.004207255680647247), (4360, 0.004206935602003147), (2501, 0.004204737815743537), (451, 0.004202686847203617), (39, 0.004201787382811634), (2506, 0.004198198903190734), (560, 0.004197266700230238), (1419, 0.004189597580015734), (4310, 0.004188850743190281), (849, 0.004181851100587125), (135, 0.00418101235079729), (305, 0.004180550137834917), (4148, 0.0041682369606857814), (389, 0.004166018772416059), (619, 0.0041652170766936555), (460, 0.004165160531176847), (4708, 0.004152648873565199), (2280, 0.0041452777341886415), (375, 0.004135564227807633), (2847, 0.004131529215084229), (233, 0.004130065117332877), (3161, 0.004128189488374264), (1927, 0.004122452103050109), (1127, 0.004118688246079229), (3814, 0.004115972635688242), (1292, 0.004115036857067466), (3793, 0.004113840426322128), (634, 0.004110801644745327), (1082, 0.004109808837844768), (4211, 0.00410772231915369), (1635, 0.0041039047151170275), (90, 0.004092008453697116), (2232, 0.004088230966531558), (4039, 0.004079202933079009), (1846, 0.004076454840986834), (2178, 0.004070281676690591), (2057, 0.004058195083437396), (4216, 0.004044017798708215), (2245, 0.004041780172095353), (3720, 0.004038254150624034), (261, 0.0040373484765057225), (4543, 0.004030627326849019), (3664, 0.00402230261192752), (310, 0.004020497733387048), (3886, 0.004018769640810533), (138, 0.0040179540756464325), (1632, 0.004012150800452485), (4438, 0.004011872119437337), (93, 0.004007976829903417), (3126, 0.004007466308073611), (3970, 0.004002264341659152), (1633, 0.003998472062618357), (4481, 0.003998171684945204), (3824, 0.003993959777053532), (284, 0.003990778382140331), (3881, 0.003990598873372922), (4587, 0.0039882561732556745), (2618, 0.0039854134301033324), (2711, 0.003981734199081347), (2787, 0.003979075620257272), (827, 0.00396982438651719), (260, 0.0039690664065386155), (1428, 0.003966752899048414), (1211, 0.003965146639642756), (3361, 0.003961243341021752), (4071, 0.003959380304293646), (4151, 0.003952511006612604), (3723, 0.003949174768276286), (1181, 0.003939759513052733), (3466, 0.003939426087379117), (3823, 0.0039344830958670685), (1451, 0.003930661334599857), (2139, 0.003927405695150886), (1749, 0.00392480622368195), (4548, 0.003922672760104162), (3135, 0.00391936825357635), (974, 0.003917329436443781), (426, 0.003914029854202465), (1992, 0.003909406449711317), (3100, 0.003908872418748398), (2682, 0.0039041977686050675), (3136, 0.003902878283948044), (2442, 0.0038917795228528614), (1430, 0.0038910207562316192), (1480, 0.0038895112916253745), (46, 0.0038893727847558335), (417, 0.0038869616580000745), (3143, 0.0038864363291667998), (240, 0.00387328454334558), (2093, 0.003870153486785787), (1789, 0.0038641268215108557), (540, 0.003862120068082071), (4165, 0.0038589785388811948), (304, 0.0038579877704938603), (94, 0.0038428280210279393), (2791, 0.0038377268778625744), (4274, 0.003837059011624805), (1270, 0.0038362951851837607), (80, 0.0038342326059755956), (4235, 0.00383416763908704), (4322, 0.00383146572791289), (397, 0.003826087677821773), (1259, 0.0038247416856182137), (4164, 0.0038215889198738454), (1281, 0.0038194004694663804), (1568, 0.003818704593199873), (4689, 0.0038183833821947245), (291, 0.003814306915643665), (1990, 0.003812419351640363), (1236, 0.003805609513706239), (4044, 0.003796869255536666), (3860, 0.003794069760460735), (170, 0.0037915034123478337), (4290, 0.0037768307755735343), (898, 0.00376966482398946), (1061, 0.0037672708293490773), (997, 0.0037634978061829106), (4366, 0.00376258441987483), (2678, 0.003746552331301947), (3552, 0.003741466968851511), (191, 0.003733610971660822), (1154, 0.0037298692189235527), (559, 0.0037280863229771856), (1384, 0.0037243505575896303), (333, 0.0037221305262162274), (3495, 0.0037210161322929866), (2871, 0.0037208174749819574), (1694, 0.003715361229167686), (47, 0.003714294297031836), (4450, 0.0037094663098980215), (611, 0.0036960255086081707), (2299, 0.003678688493136594), (3160, 0.003675728059298401), (756, 0.003674566690236814), (4553, 0.0036590213018285896), (4571, 0.0036554879554896195), (1925, 0.0036530053840672957), (1590, 0.0036484571227792324), (3178, 0.003637154441057499), (3684, 0.003631652539760279), (1772, 0.0036312544936450697), (4096, 0.003625312935181854), (1559, 0.0036216127724490992), (1699, 0.0036204980989957237), (99, 0.0036190508952466845), (4426, 0.0036106623093313177), (234, 0.0036014814281922726), (1546, 0.0035999275311584637), (1753, 0.0035969594155323523), (2801, 0.0035896647785452333), (3279, 0.003585740238695776), (3776, 0.003583866888811834), (779, 0.0035770413911935524), (1120, 0.003567660143876122), (3405, 0.003556653474154233), (2541, 0.0035510722973929715), (2622, 0.0035502787919682015), (723, 0.0035424701455749933), (621, 0.0035405449047067653), (1300, 0.0035383968492296593), (1910, 0.0035351597177914517), (639, 0.003533561244720157), (3674, 0.0035323380536367967), (3512, 0.0035275594472803317), (314, 0.003507844978289177), (3213, 0.003507751365027939), (640, 0.0035031660013209657), (1092, 0.0034878872333675625), (3276, 0.003472640885899256), (4555, 0.003467131145744974), (4513, 0.0034615676920135142), (3045, 0.0034556846231135335), (2998, 0.0034535942410423787), (2573, 0.0034301669076960513), (1530, 0.0034269601055134137), (3925, 0.0034241776446137335), (3944, 0.0033731757896207437), (3989, 0.003371140581293058), (1395, 0.003368377373122335), (1115, 0.003362418480955894), (289, 0.0033585682778306102), (877, 0.0033464474365208496), (4607, 0.0033405301412163615), (2078, 0.0033280503144699066), (2379, 0.003320000532891376), (2490, 0.0033156895112171083), (668, 0.0033106068179377356), (2937, 0.0033033693737305647), (4705, 0.003289065463561724), (3051, 0.003281464243138063), (3672, 0.003268908253497113), (2858, 0.0032606849768580877), (2137, 0.0032605029587323975), (3139, 0.0032570222172149826), (4082, 0.0032498075327097252), (2722, 0.0032294559891967193), (2189, 0.00322924105054238), (4202, 0.0032167040018668933), (3040, 0.0032126388066612967), (2989, 0.0032054950233406125), (2251, 0.003200794036094915), (3166, 0.00319101456438001), (2349, 0.0031851964668961033), (2407, 0.0031799502108930625), (3990, 0.0031753010965405843), (2537, 0.0031557860848418027), (77, 0.0031538223666085956), (3119, 0.0031538051946994054), (4617, 0.003146309782208495), (4704, 0.003142714216007868), (3052, 0.003142193044017025), (735, 0.0031412857061058454), (3055, 0.003130343922653905), (2404, 0.003128954623893247), (2775, 0.0031230202254314264), (4017, 0.003121757014687666), (2870, 0.0031185563263530914), (3561, 0.0031185119685961326), (3030, 0.003116435116571558), (2883, 0.003113079225602012), (2923, 0.003099567683870786), (3291, 0.003091423853131833), (2731, 0.003087932051923141), (4749, 0.0030873030747856365), (4222, 0.0030852505562428507), (4529, 0.003084450755047866), (2484, 0.003075876011426994), (4221, 0.0030757170098166067), (3479, 0.0030722110910892924), (4484, 0.003067168202314415), (4611, 0.0030663211524235125), (3939, 0.003063952647752348), (2673, 0.0030602411250219997), (2861, 0.0030492147670399096), (1210, 0.00304287744658109), (4172, 0.0030412489721199612), (2559, 0.003024113812414337), (4418, 0.0030213300256776627), (2832, 0.0030190131789427084), (4696, 0.003013795213526813), (3076, 0.0030106637385446445), (4407, 0.0030090644084774538), (2392, 0.003003669249268199), (3292, 0.0030030659547021403), (3762, 0.002997025377264601), (3892, 0.0029905210851325394), (3282, 0.0029833685581683593), (4423, 0.0029830673958765983), (4019, 0.0029821468301191234), (2425, 0.002981483410464762), (2643, 0.0029751973350275692), (2257, 0.002961805565461111), (3322, 0.0029607245749166005), (2901, 0.0029535863266985426), (4230, 0.00294759803125337), (2838, 0.0029399390240845242), (1153, 0.002933994694745096), (1208, 0.0029328827600129622), (4400, 0.002932572943555736), (2530, 0.0029238694567168644), (4102, 0.002920885897939616), (3848, 0.0029185722158669787), (3015, 0.002915128294264737), (4606, 0.0029123800919950826), (3239, 0.0029003503956991114), (3128, 0.0028998707656495114), (2423, 0.002899152544850503), (3354, 0.0028963116854021395), (3140, 0.002895124272694683), (526, 0.00289279391007297), (1711, 0.002884832445293467), (1121, 0.0028821188288215725), (3249, 0.002877217944815196), (4469, 0.00287428063568536), (3687, 0.002873301316832814), (4692, 0.0028716037512439272), (4521, 0.002871404499136685), (4544, 0.0028697889132130667), (3363, 0.0028690438287197217), (3616, 0.0028607179517689037), (2834, 0.0028540249101074735), (3537, 0.0028533735656098604), (2557, 0.00285309847461721), (2438, 0.0028494628447612805), (3159, 0.002847168398403241), (3429, 0.002845127457884524), (4306, 0.0028441119534630896), (3577, 0.0028429914174071588), (4107, 0.002840585909800072), (3922, 0.002839861128900341), (3613, 0.002837468360876007), (3004, 0.00283346474889696), (4572, 0.0028233419885764412), (3074, 0.0028224188756306233), (4298, 0.00282224087799645), (4209, 0.0028189431723581087), (326, 0.002817265765142562), (2797, 0.0028157415453564085), (2957, 0.002814380336562844), (3874, 0.0028130910786920375), (4723, 0.002812700888212827), (2488, 0.002811418568447776), (3031, 0.002810137712087681), (3832, 0.002808383951336334), (3302, 0.0028029017666161907), (3620, 0.0028012566745605934), (3544, 0.002800252724402851), (2966, 0.002796558936219006), (3358, 0.0027928490064250346), (3020, 0.0027927393203501113), (2415, 0.0027914503912073257), (1593, 0.0027878747573491726), (3206, 0.0027833259965146266), (3779, 0.002777885709198342), (2454, 0.002777876152006433), (2993, 0.0027747225084646513), (3257, 0.0027719433566069968), (2619, 0.002770331210489385), (777, 0.002764899293477365), (3413, 0.002763130894330211), (2895, 0.0027535863424992695), (489, 0.0027519293767491446), (2434, 0.002750160822228727), (4458, 0.002743659131978834), (2772, 0.0027250722753311696), (3308, 0.0027234818287635736), (2986, 0.0027210893641064315), (4023, 0.002716723150645909), (2738, 0.002714788508875443), (431, 0.0027129923340823755), (4632, 0.0027121164570099096), (3763, 0.0027111610851962165), (3935, 0.0027107507745497816), (2613, 0.0027101375681106983), (4594, 0.0027096401107414045), (4416, 0.002707869889278447), (3081, 0.002707330660373173), (2378, 0.0027072974351773377), (3621, 0.0027069733087637807), (3745, 0.0027061310207193404), (1053, 0.0027057914932772185), (4584, 0.0027045288774270346), (4694, 0.0027029772868410666), (1187, 0.0027028240305563256), (4145, 0.002702295635783402), (2707, 0.0026999566307471462), (1885, 0.0026954504142309163), (4030, 0.0026926097977861513), (4589, 0.0026925963775344323), (2846, 0.002691779652853041), (4477, 0.00268759845855202), (4075, 0.0026842656820658737), (3540, 0.0026831267479965545), (2142, 0.002682996769274982), (1547, 0.0026793291269215707), (3359, 0.002677210106350447), (4126, 0.002676913198717998), (2544, 0.0026767069923343124), (3884, 0.002676546943170599), (2320, 0.0026743402647147097), (2696, 0.002674198442957125), (3072, 0.002673752886047305), (3307, 0.0026722151480812733), (4002, 0.002671614977737426), (1947, 0.002670530647663394), (2269, 0.002669949657770032), (2924, 0.0026679415256914744), (3754, 0.002667872041690799), (3729, 0.0026660312663081003), (3425, 0.0026655343948290082), (1398, 0.0026630549833113757), (4713, 0.0026630495080695003), (3408, 0.0026603115663220932), (4398, 0.0026582375849934373), (2987, 0.0026557947148690415), (3364, 0.002655677606831495), (448, 0.002655301847950921), (3419, 0.0026548071571645773), (3337, 0.0026543782255652854), (3396, 0.002653465128268607), (4650, 0.002651141371764347), (2872, 0.0026480508833995474), (4369, 0.002646634329375416), (3355, 0.002646605969592237), (925, 0.002645146674850923), (508, 0.002645139416109468), (3165, 0.0026422575403104633), (4267, 0.0026415535024823552), (2560, 0.0026402768343731244), (614, 0.002639445395367384), (3952, 0.002638134531377392), (4516, 0.0026379408808345772), (1656, 0.0026374590085410945), (4465, 0.0026365025575454714), (721, 0.002635842065782808), (3639, 0.0026328115597382953), (2796, 0.0026326642800964467), (985, 0.0026315589976403327), (2702, 0.0026292657743503443), (4295, 0.002626519553692695), (4117, 0.002626028003940774), (1497, 0.0026254475381379877), (4753, 0.002623164494560846), (4243, 0.0026188967483577502), (3772, 0.002617919632237635), (3296, 0.0026164703540137012), (2223, 0.0026156440346417776), (2346, 0.0026156054606750116), (3611, 0.0026138422369057016), (3867, 0.0026133366355872672), (2302, 0.002612921361626049), (2437, 0.0026111369251414756), (1909, 0.002611108668357998), (4187, 0.0026102489199221397), (2893, 0.0026087731561025072), (998, 0.002607878596332363), (1887, 0.002606971081276651), (999, 0.002605744229460369), (2623, 0.0026042944593992015), (478, 0.0026035360068664398), (2400, 0.00260194543303114), (2914, 0.00260167045877056), (3992, 0.002600390498740543), (281, 0.0025969884631016904), (3013, 0.0025951071896762154), (576, 0.0025932772417565928), (1349, 0.0025920336582492196), (3587, 0.0025914026983553805), (419, 0.0025909266513755957), (3373, 0.0025892188163453424), (4368, 0.0025890548589662943), (3560, 0.002584782946814646), (3962, 0.00258365516779675), (2974, 0.002582800460451392), (4718, 0.0025800429654770514), (4160, 0.0025792531973872898), (2579, 0.002578587456195293), (596, 0.0025775564662612153), (2916, 0.0025767739748391023), (1862, 0.0025764244848430827), (1594, 0.0025756521721386127), (1499, 0.0025751965711128763), (3414, 0.0025751239824969726), (1858, 0.0025741076009448568), (4396, 0.002573775921444978), (2134, 0.002573162116065112), (2356, 0.0025716609595802555), (4401, 0.002570235260348586), (3737, 0.0025687507121103926), (3593, 0.002568008641602241), (4293, 0.002567035917867453), (4051, 0.0025665078779738663), (3804, 0.002566190822297493), (3248, 0.0025656084454816677), (1474, 0.0025655030908675013), (3877, 0.0025613191246886056), (3273, 0.0025611076751196867), (2585, 0.002560913237589425), (2782, 0.002560793348020184), (4397, 0.0025602468550554006), (41, 0.002559772464074741), (3003, 0.0025555208508990833), (4113, 0.002555144493752502), (3857, 0.0025551130957733605), (1923, 0.0025548812655432304), (2108, 0.002553338623636154), (1890, 0.0025526174764068893), (1109, 0.0025508763944687898), (3062, 0.0025504337717584253), (4138, 0.002549898608930062), (2535, 0.002549713239095249), (2592, 0.002546760448019397), (3967, 0.002543067497425981), (3026, 0.0025416351024798354), (857, 0.0025403584602589767), (1580, 0.0025384732638021614), (2890, 0.00253845606909569), (4619, 0.002538180187454649), (3097, 0.002536665233252342), (1754, 0.002534168028853998), (4263, 0.002533751978593937), (3417, 0.0025336922052050723), (3924, 0.0025288055998816976), (3116, 0.002527931960838913), (2375, 0.002527282901203423), (476, 0.0025252332514092775), (2739, 0.002524555086423232), (2410, 0.0025236766587487408), (4446, 0.002523570640652006), (1479, 0.002523118818255472), (2464, 0.002522993711313279), (4308, 0.0025227834311264143), (1733, 0.0025223639786665325), (2390, 0.002521886323914381), (3183, 0.002519115074371323), (2624, 0.00251720335731866), (123, 0.002516882979276784), (253, 0.0025151458173882516), (3234, 0.002514534843675433), (4130, 0.002514391356122625), (318, 0.0025140206064533845), (4140, 0.002513524243923073), (3497, 0.002513497530109485), (3813, 0.0025100422758092336), (4732, 0.0025091303998988454), (3749, 0.002508269274658926), (3044, 0.0025076080387817223), (2293, 0.002507553067524929), (499, 0.002503518321777913), (3064, 0.002503179977320978), (2748, 0.002501560371474024), (3258, 0.002501508137044363), (2882, 0.002499825703015965), (2507, 0.00249899016830939), (8, 0.0024983395265115887), (4528, 0.0024983043466633693), (2888, 0.002491942159233815), (2705, 0.0024908966405195214), (4545, 0.002489460196184278), (1959, 0.002488454834827264), (3269, 0.0024884341121382977), (1874, 0.002486137644965899), (4734, 0.0024860907782966223), (3449, 0.0024858700384187723), (3271, 0.0024856480209356348), (4024, 0.0024842658691866283), (2776, 0.002477651495190263), (1518, 0.0024776016548650383), (1848, 0.0024764264594633835), (1907, 0.002476218068223689), (4132, 0.002476190627982243), (430, 0.002476051341109625), (4161, 0.0024748431242034978), (4657, 0.0024741536262062637), (2475, 0.0024739443238732924), (1995, 0.0024736467871311367), (4540, 0.0024718462198499167), (4245, 0.0024716431180551324), (3184, 0.0024708597104604203), (2162, 0.002470417720075967), (2661, 0.0024695524481412588), (3496, 0.0024693268844018603), (395, 0.002468163226599571), (1637, 0.002467617581186421), (4269, 0.002467555030840723), (2723, 0.002467194992505405), (485, 0.002465292589940907), (3781, 0.0024648405047896665), (4495, 0.0024640531061947963), (2786, 0.002463538569094775), (4574, 0.0024631547267855124), (872, 0.0024627777901685844), (4111, 0.0024626898926498023), (1683, 0.0024617042088225303), (1409, 0.002461087221942193), (2260, 0.002460904007992133), (3904, 0.0024605876325070487), (3873, 0.0024598439615528063), (4680, 0.0024596422918625543), (2940, 0.0024588270001312086), (3007, 0.0024576073994664435), (2391, 0.0024570175769078324), (2393, 0.002455000548832096), (1324, 0.0024539160912479285), (826, 0.00245342348022623), (3601, 0.002453406950382521), (2151, 0.0024527243064729493), (2664, 0.002452527120917322), (3235, 0.002452380332006503), (4357, 0.0024522014757980943), (2970, 0.0024520445737562934), (3987, 0.0024501551193022103), (2105, 0.0024496529086814084), (3434, 0.002447385606138388), (792, 0.0024470658670078596), (680, 0.002446502871079652), (1339, 0.00244520488593487), (3590, 0.00244366650809573), (612, 0.002442462025002455), (2821, 0.002442189292838016), (206, 0.0024402914193945805), (2361, 0.0024401016055381657), (3084, 0.002439894707464253), (3314, 0.0024398127683691088), (4471, 0.0024394877486570883), (456, 0.0024373085731902483), (2792, 0.0024372161986881175), (3326, 0.0024364948322953073), (4505, 0.002435033395916091), (2953, 0.0024349882043492367), (4575, 0.0024340492693349838), (2288, 0.002433288349310066), (2755, 0.0024325384347806084), (4286, 0.0024322126973905034), (2849, 0.0024320296995314662), (483, 0.0024289065247923036), (1822, 0.002428417476695495), (3037, 0.0024282669732251377), (4033, 0.0024269200218061723), (1893, 0.0024263615429138), (4566, 0.0024250683683822364), (1916, 0.00242421623418903), (2394, 0.002424005014731422), (3388, 0.0024237909538131425), (783, 0.0024233478224874485), (2385, 0.002422965441508003), (3511, 0.0024215514853961075), (3882, 0.0024211415901273492), (3187, 0.0024208441515589586), (3654, 0.002419392908680164), (3984, 0.0024193350130711695), (830, 0.002418232166087512), (2419, 0.0024168713913935245), (3242, 0.0024152444007371704), (1821, 0.0024140305432129197), (1402, 0.0024122898543673323), (564, 0.002410077641661873), (1736, 0.0024082610457571915), (2083, 0.0024074684925003663), (3150, 0.00240690508024049), (4354, 0.002406529471038721), (20, 0.0024062038194196367), (2926, 0.002405858303595066), (3770, 0.002405635956686813), (211, 0.002404558900231362), (204, 0.0024033545093326593), (4448, 0.0024024549064047356), (4083, 0.002401709926911489), (3351, 0.002400951685059253), (3382, 0.0024004518994749685), (2561, 0.002400020279437453), (890, 0.0023992320775354336), (717, 0.0023989986269520773), (4419, 0.0023982352228493625), (2531, 0.002397495879639947), (4136, 0.002396469851860162), (1513, 0.002396398470988189), (2546, 0.002394818637031481), (2911, 0.0023942026785450684), (3902, 0.0023935733679714384), (884, 0.0023934164821502782), (4361, 0.0023933928882289637), (2904, 0.0023927322753122377), (2405, 0.0023926241746843), (1727, 0.0023918520266775593), (3353, 0.0023916416237166754), (2319, 0.0023898214048804424), (3778, 0.0023895367932847958), (4625, 0.0023886009227677375), (4262, 0.0023883262088278427), (987, 0.002386072681275688), (4079, 0.002384760900025114), (2148, 0.0023844159547732795), (774, 0.002383616614616704), (3920, 0.0023828270609552375), (11, 0.0023822211390903815), (3517, 0.00238191688172464), (2123, 0.002381126518910685), (1703, 0.0023801926221811566), (1765, 0.0023792850927039475), (4340, 0.0023792653775751836), (3527, 0.002377972696259868), (4334, 0.0023776495169516737), (4422, 0.0023772925777279046), (4287, 0.002376664897380565), (3198, 0.0023764681418137496), (120, 0.0023725298959027443), (2863, 0.002371953942247293), (3636, 0.0023707206607054463), (1717, 0.00236922302398258), (1516, 0.002369159417364076), (2048, 0.002367763136747776), (4643, 0.0023663289438033484), (1946, 0.002363932742334906), (176, 0.002363820851381753), (871, 0.0023636827811698603), (2321, 0.002363507860407204), (2230, 0.002362541567708329), (865, 0.002362111933755161), (3016, 0.002361636313284316), (2894, 0.0023607335252599426), (3701, 0.0023584027643731562), (3289, 0.00235757590314693), (3225, 0.0023573934719407236), (3809, 0.0023569835084902148), (71, 0.0023567473481499244), (3445, 0.0023559689942634805), (1355, 0.0023557913990386054), (3000, 0.002355371313328271), (3526, 0.002354271479768357), (4273, 0.0023540966653973175), (3542, 0.0023537166790951634), (115, 0.002352272985336387), (2386, 0.0023519530563829672), (933, 0.0023494086958030986), (1176, 0.0023482396382805944), (969, 0.00234804214822643), (593, 0.002346398862482402), (3113, 0.002346354005975245), (3606, 0.0023455568135246066), (4197, 0.0023451950257466487), (2489, 0.0023443966074286416), (3182, 0.002343436251267685), (3283, 0.0023431916064447274), (2292, 0.002343004947530173), (3707, 0.0023413483839630446), (2397, 0.002339641770126484), (2746, 0.0023390362521653893), (1440, 0.0023359766328846987), (2313, 0.0023355933312662505), (4049, 0.0023347212110702746), (544, 0.0023344888529050075), (198, 0.0023340920303191763), (1204, 0.0023340469153150614), (4135, 0.002333092523838294), (579, 0.0023319795920167014), (2887, 0.002330969598081381), (1476, 0.0023306781453353844), (4014, 0.002327607358912044), (1872, 0.0023267350387497767), (3739, 0.002325753874200106), (2652, 0.002325686687715406), (1410, 0.0023250477950438587), (4391, 0.0023248428229637186), (3335, 0.0023243343805186755), (4501, 0.0023241825688744833), (2122, 0.0023223752010612013), (1922, 0.002322259913490553), (4137, 0.002321578526452222), (1574, 0.0023214723140234303), (1706, 0.002321414940437894), (2396, 0.0023213709186097006), (2554, 0.0023207249172190777), (848, 0.002320021847407776), (2934, 0.0023172233718272753), (2192, 0.002316690296629445), (3155, 0.002316199409559957), (2169, 0.002315333133964726), (2783, 0.0023151198043957974), (4686, 0.002314487807745369), (504, 0.002314365423497388), (2067, 0.0023142938558507096), (2533, 0.002313745084013555), (4081, 0.002313195449367478), (4604, 0.0023128887727396834), (2826, 0.0023127465982906276), (378, 0.0023103152544568547), (3564, 0.0023093880899444645), (1131, 0.0023081401065448938), (172, 0.0023077572781854605), (5, 0.0023073075892864454), (2340, 0.0023061617200738137), (4640, 0.0023047172842258976), (114, 0.0023026507886854167), (749, 0.002301845735330865), (3478, 0.002300468187984743), (226, 0.0023001474563287957), (4427, 0.0022978808831091106), (479, 0.0022977464407166904), (66, 0.0022959754821496796), (2387, 0.002295460236886365), (4320, 0.0022946206272368088), (2195, 0.0022943970899593977), (3174, 0.0022943212010894808), (4016, 0.0022941292786541473), (2900, 0.002293147365629345), (2943, 0.00229219491400138), (1112, 0.002291264568559689), (3673, 0.002291146082797634), (3216, 0.002289241509457918), (2853, 0.002288936848074572), (1298, 0.00228771803378326), (2999, 0.0022874181382127904), (4409, 0.0022868540385704793), (2289, 0.0022845326179354282), (1102, 0.0022831634332538043), (3441, 0.0022815681908738466), (105, 0.002281520615256037), (1634, 0.0022800369384203545), (894, 0.0022788524941605194), (1072, 0.0022785009941957246), (1438, 0.0022782420312650953), (4520, 0.002277310252977612), (348, 0.0022772636020527365), (1059, 0.0022771703770050845), (2060, 0.0022771034709229455), (3565, 0.0022767046063437795), (3888, 0.002276189227548361), (1831, 0.002274582871281521), (247, 0.002274582687984064), (466, 0.002274342930605861), (1411, 0.0022732434489940324), (2569, 0.0022731321706709285), (3381, 0.002272993561507327), (1598, 0.0022708897824368487), (1666, 0.0022685804853516305), (1550, 0.002268409102602889), (1313, 0.002266891610724), (3173, 0.002265529545650393), (2946, 0.002263951329584192), (3906, 0.0022633699535336825), (2687, 0.002263291766629335), (1338, 0.002262610579637782), (1100, 0.002262390130681966), (4349, 0.0022620713785795384), (1110, 0.0022612074332240446), (169, 0.0022601917048189913), (215, 0.0022600345578144593), (1026, 0.0022573849801919166), (3260, 0.0022570650030305723), (1319, 0.0022569828462924183), (4020, 0.0022568584718786855), (3827, 0.0022555501169432934), (3379, 0.002255392908707436), (1286, 0.0022552579258417584), (1084, 0.002254153654273191), (1882, 0.0022539622110814674), (2945, 0.0022518610281104467), (26, 0.0022508818444605962), (2226, 0.002249447452872173), (2802, 0.0022494450057681838), (4687, 0.002249385741741257), (2102, 0.0022489556688345316), (3220, 0.00224832314980831), (4036, 0.0022477592743461866), (4641, 0.002247275663317629), (3069, 0.0022465171538488785), (3719, 0.002245380578304226), (3706, 0.0022450888067559066), (3412, 0.002243607353153712), (2553, 0.0022427413923455544), (3402, 0.002241753134661448), (1350, 0.002240851580872613), (1408, 0.002240488457794515), (127, 0.0022399416305588604), (1284, 0.0022393887767202924), (693, 0.0022390234802687325), (4395, 0.0022379925838370987), (2401, 0.002235742495159133), (755, 0.0022356539701307784), (3765, 0.0022346312937794126), (4693, 0.0022346041289705533), (3075, 0.002234220249464983), (1813, 0.0022333969731967293), (2422, 0.0022330633750974817), (522, 0.002233059296011437), (4183, 0.002231226106552194), (349, 0.002231158012650994), (2461, 0.0022304942708192233), (4381, 0.0022302087957325185), (4550, 0.002230160020918019), (4573, 0.002230105499349535), (2912, 0.0022275208237791592), (1261, 0.002227306774541095), (4129, 0.0022266867603094485), (3348, 0.002226294887402948), (3890, 0.002225604600636055), (488, 0.0022251259560864727), (4382, 0.0022244664190457456), (2080, 0.0022226604525826094), (167, 0.002222382356466643), (4069, 0.002222000647971023), (4139, 0.0022214557630661864), (1969, 0.0022200641281027076), (1060, 0.0022195567285830816), (3010, 0.0022183367394508473), (1463, 0.0022180107677363834), (2642, 0.0022163968342079087), (1597, 0.0022160121950225114), (4461, 0.002214628562871278), (3917, 0.002212929699531268), (3352, 0.0022122554950928155), (646, 0.0022122458615814102), (396, 0.002210666543114356), (1117, 0.0022099507948021625), (2131, 0.002209916128255152), (1582, 0.002208540119997034), (3503, 0.0022059173614779725), (487, 0.0022021834055474523), (3868, 0.00220115239597282), (852, 0.0022005666258840375), (731, 0.0022005600383604167), (2752, 0.0022002802162755814), (2141, 0.002198818200017105), (1416, 0.0021983525628104994), (3315, 0.0021975905267946874), (1854, 0.0021964046645718614), (3214, 0.0021962303408025238), (2779, 0.0021960598092944476), (3268, 0.002195637312367048), (854, 0.0021954543534814263), (798, 0.0021953329089886313), (4152, 0.0021948278747568207), (1744, 0.0021945959180800436), (1929, 0.002193083021465045), (3390, 0.0021918546297693938), (4321, 0.0021901415135010074), (4085, 0.0021895219320681994), (1273, 0.0021893921252557364), (3691, 0.0021889971073727503), (984, 0.0021882137179894045), (4213, 0.0021874905805777034), (221, 0.002187244072316171), (3036, 0.0021871468304856204), (2242, 0.0021865830289838455), (2965, 0.002185271875043458), (4206, 0.0021851739735932745), (4428, 0.0021844083798516754), (1878, 0.002184269464034642), (2892, 0.002183696154345073), (1160, 0.00218351992929407), (3898, 0.0021830571021296792), (4345, 0.002182091189508383), (3799, 0.002180655336911068), (2995, 0.0021802647081024334), (4246, 0.00217814796887931), (2679, 0.002176854154096608), (203, 0.002176687480167854), (698, 0.002176525617755331), (2651, 0.0021765095889579606), (2133, 0.0021759040126474653), (408, 0.00217498046564071), (1404, 0.002174549793074655), (325, 0.0021738610221414627), (1759, 0.002173613998458412), (2800, 0.002173434506481408), (818, 0.0021732621697353426), (828, 0.0021731263248368255), (3014, 0.0021717011865871436), (3194, 0.0021713384140406296), (578, 0.002171165526942933), (126, 0.002170502451218497), (1036, 0.0021696778330997602), (387, 0.0021696075956666202), (3811, 0.002168676141200859), (2972, 0.0021684115772004357), (2166, 0.0021665360184635347), (2023, 0.00216633419162988), (3615, 0.002166323036405787), (2004, 0.002162139463571798), (3300, 0.0021618536854887643), (4011, 0.0021604832402738736), (507, 0.0021600702290666685), (4254, 0.0021600272425322297), (1203, 0.0021599405296728745), (1693, 0.0021599387072921404), (154, 0.002159350699735438), (1372, 0.002157974040239573), (886, 0.0021566982917993176), (903, 0.002156380318040343), (3941, 0.0021557725040007815), (140, 0.0021549100869219092), (3071, 0.002154738176431331), (941, 0.0021546120759608493), (3243, 0.0021546037859813357), (975, 0.0021535858768136976), (212, 0.002152879719963484), (4059, 0.0021513160153187), (1620, 0.002151064196574762), (2099, 0.0021501938245821113), (1884, 0.002150170866310247), (2634, 0.002149513748266888), (471, 0.0021483001760553445), (4634, 0.002146585840970773), (229, 0.002144706152684678), (2862, 0.0021439100568035586), (372, 0.0021434432771581806), (598, 0.002143392846241088), (944, 0.002143295263120744), (659, 0.0021428617682242956), (3725, 0.0021420017721651276), (213, 0.002141091740677656), (410, 0.0021402160226213496), (2201, 0.002139996659975054), (935, 0.0021397211031314737), (4356, 0.0021394507494107242), (1558, 0.002138461569495175), (2446, 0.002136659671396173), (3500, 0.002134276652330042), (2907, 0.0021335323856966092), (2556, 0.002133125392152563), (589, 0.0021320025515944425), (399, 0.0021316196784462397), (1642, 0.00212911033820433), (2317, 0.0021285475898123094), (805, 0.0021272978424168353), (2735, 0.002124015658871223), (3913, 0.0021237850227804997), (2399, 0.0021235068011918354), (2593, 0.0021224523092848216), (3369, 0.0021219525918054405), (558, 0.002121298048682366), (324, 0.002120298641502822), (638, 0.002120247961576777), (1357, 0.0021199850109640803), (1543, 0.0021194498831737514), (2674, 0.002117633875680982), (4174, 0.0021173896519342144), (4348, 0.0021155579834543025), (907, 0.0021155312824804075), (1079, 0.002115490794720118), (2347, 0.0021147436873495532), (2453, 0.002114327088629178), (121, 0.0021143196054190716), (524, 0.0021103863536575747), (4326, 0.0021091130170076667), (3306, 0.002109021782690558), (2362, 0.002108754487539633), (416, 0.00210808227587541), (3050, 0.002107655690894595), (1672, 0.0021059362392268238), (1628, 0.0021049124182140294), (2920, 0.0021048371198776283), (1782, 0.002104029013362692), (3742, 0.0021012939724406156), (4359, 0.0021002538034007047), (4638, 0.002098485711128129), (759, 0.002094503239931325), (2728, 0.0020939430490407016), (3953, 0.002093096742552332), (1528, 0.0020894691887280424), (3267, 0.0020873816090113346), (1216, 0.002086057497424584), (1503, 0.0020857551380394856), (2402, 0.0020833502225201523), (3304, 0.002083039529367257), (3614, 0.0020822383970075515), (3311, 0.002080960531991084), (1827, 0.0020802666318152745), (1826, 0.0020802214025214052), (2338, 0.0020784271963356147), (1605, 0.002078297147809599), (1161, 0.002076608749800163), (1719, 0.002076155758792315), (2323, 0.0020759921207628733), (1366, 0.0020751184407903824), (515, 0.0020736081431000897), (4350, 0.002073506801014161), (4712, 0.002072345445858255), (3336, 0.002070597189112677), (4074, 0.0020702550087094776), (3986, 0.0020698601831113804), (2457, 0.002069361605149561), (1625, 0.0020686047467728835), (2248, 0.0020681649468793917), (4143, 0.0020678695795085687), (722, 0.0020670595350309), (2065, 0.002066782991918131), (4304, 0.002064683877275674), (2591, 0.0020638688399532566), (1219, 0.0020637550795717897), (3327, 0.0020634353893860748), (885, 0.0020634076058557572), (1980, 0.002063351922518802), (1808, 0.002063128450668067), (4080, 0.0020626590548357767), (1004, 0.002061946943344357), (3167, 0.0020601852763469223), (917, 0.0020591271554945756), (3111, 0.0020589573856723276), (594, 0.0020561930451651225), (1921, 0.0020559250500645273), (2163, 0.002052668519498019), (268, 0.002051786769753426), (1318, 0.0020516465762878714), (2213, 0.0020514635040128565), (672, 0.0020513251230993225), (1977, 0.0020482209189239546), (1392, 0.0020453400398221296), (3380, 0.0020421146836045847), (4608, 0.002041440553479086), (132, 0.0020395225563255427), (4104, 0.0020391045084129584), (1394, 0.0020381606674440642), (1954, 0.0020378119084111693), (1251, 0.0020356686318849346), (4343, 0.002034797210202563), (495, 0.0020346722913725307), (33, 0.0020330224255117333), (2047, 0.00203283802648746), (712, 0.002032443702021331), (2502, 0.002029676847573795), (4220, 0.0020294129177392665), (1199, 0.002029341572402249), (2753, 0.002026621726853778), (184, 0.0020257497745512438), (92, 0.002024496792563371), (605, 0.0020242186650838937), (4247, 0.002021931139313009), (1616, 0.0020216252644297958), (4066, 0.002020246225549722), (97, 0.0020188130212970903), (480, 0.0020186513347592553), (2237, 0.0020186197389167877), (3894, 0.0020175556591825313), (4296, 0.0020038010148827243), (4473, 0.0020035529053409216), (1943, 0.002002335283060305), (4232, 0.0019999312089518484), (2721, 0.001998906100129053), (4429, 0.0019973978513878254), (2520, 0.0019942296082096247), (2747, 0.001993329668885511), (103, 0.0019925309194952757), (3211, 0.0019917847412345654), (1397, 0.0019893592420313997), (165, 0.001988661337206287), (2270, 0.0019876409699385125), (1828, 0.001984982813469974), (4386, 0.0019840498904252356), (1450, 0.0019824461085477586), (278, 0.001981304570039327), (3238, 0.0019797385569224188), (2761, 0.001979642492152036), (364, 0.001979100151282193), (3393, 0.0019785227229695665), (3629, 0.001975668851040929), (286, 0.0019740706945777214), (2611, 0.0019735906076080276), (3569, 0.001972357144236711), (2743, 0.001972332062378436), (4411, 0.001970810259060635), (2382, 0.0019706285298240777), (1763, 0.0019699918897978183), (4476, 0.0019685101248666154), (1088, 0.001966526909212161), (1565, 0.001966349123954622), (2146, 0.0019659621610720155), (3376, 0.0019644295739369294), (1691, 0.0019628892576053314), (3200, 0.0019546303376581325), (1352, 0.001954100398997221), (2758, 0.001953763412166352), (3855, 0.001951971454779739), (1971, 0.0019498680362536166), (626, 0.00194953809912707), (267, 0.0019495097842094603), (2035, 0.00194884646110838), (951, 0.0019420231274804587), (3657, 0.0019413260825392165), (2076, 0.0019402083713529936), (4636, 0.0019399785796451316), (707, 0.001934922823249574), (2157, 0.0019343717474112905), (195, 0.0019336133080659183), (196, 0.0019322522747111924), (2127, 0.0019312243880802874), (3091, 0.0019255205575879086), (2132, 0.001921880550610982), (3928, 0.001921606828546609), (2876, 0.001921310130814239), (2287, 0.0019192525123906854), (1209, 0.001917033509784839), (3252, 0.0019168727969828326), (3430, 0.001914831905802326), (901, 0.0019054172364369683), (3024, 0.0019030129864839199), (4200, 0.0019019971930057619), (1305, 0.0019018197166470712), (4015, 0.0018976608364603968), (2034, 0.0018952894076632017), (1241, 0.001891158742456528), (2509, 0.0018904669334856813), (1427, 0.0018857786204521459), (645, 0.0018788839532803707), (3313, 0.0018781548681414799), (1098, 0.0018758923436084031), (1624, 0.0018719961393255991), (4311, 0.0018690018780535217), (2441, 0.001862857691614444), (4626, 0.0018599052947623003), (3575, 0.0018584936381676135), (3431, 0.0018473398006365108), (194, 0.0018457171143350722), (510, 0.0018388486183993733), (3538, 0.0018343127044020803), (1871, 0.001830974536452195), (1886, 0.0018284576742406116), (2010, 0.001816708738429779), (1677, 0.0018098630925523027), (4598, 0.0018047802747841535), (1040, 0.0017967602353770931), (2767, 0.0017947581152543879), (3199, 0.0017814619448912048), (607, 0.0017726539544447308), (2760, 0.001765697233714275), (453, 0.0017590885550476233), (351, 0.0017551111769129571), (228, 0.0017422640709059162), (3645, 0.0017339589573852794), (3285, 0.001729429983789354), (2636, 0.0017271031495493592), (4445, 0.0017269794982075427), (256, 0.0017186438002510852), (4301, 0.0017067633767903776), (2902, 0.0016919281524483785), (929, 0.0016594726567802105), (4752, 0.0016478369591026718), (293, 0.0016356910601848923), (455, 0.0016324130449190822), (4171, 0.0016258285357389165), (1919, 0.0016078843706470727), (129, 0.0016064124627916466), (824, 0.0016019670641511873), (858, 0.0015532671694803751), (740, 0.0015432442962959615), (3392, 0.0015285429707865394), (3328, 0.0015120625054337205), (202, 0.001509500407182478), (24, 0.001502494196886526), (1780, 0.0015006770014488302), (3608, 0.0014984056220341724), (2538, 0.0013764374513216815), (2841, 0.0012849390996452405), (2, 0.0), (10, 0.0), (13, 0.0), (14, 0.0), (17, 0.0), (28, 0.0), (36, 0.0), (38, 0.0), (42, 0.0), (49, 0.0), (50, 0.0), (53, 0.0), (54, 0.0), (55, 0.0), (58, 0.0), (59, 0.0), (64, 0.0), (100, 0.0), (101, 0.0), (110, 0.0), (117, 0.0), (122, 0.0), (133, 0.0), (134, 0.0), (139, 0.0), (141, 0.0), (143, 0.0), (146, 0.0), (150, 0.0), (151, 0.0), (153, 0.0), (162, 0.0), (163, 0.0), (171, 0.0), (179, 0.0), (180, 0.0), (181, 0.0), (186, 0.0), (205, 0.0), (217, 0.0), (219, 0.0), (225, 0.0), (245, 0.0), (258, 0.0), (259, 0.0), (264, 0.0), (265, 0.0), (272, 0.0), (275, 0.0), (297, 0.0), (298, 0.0), (302, 0.0), (311, 0.0), (319, 0.0), (331, 0.0), (335, 0.0), (337, 0.0), (338, 0.0), (344, 0.0), (345, 0.0), (352, 0.0), (361, 0.0), (365, 0.0), (367, 0.0), (382, 0.0), (383, 0.0), (384, 0.0), (385, 0.0), (391, 0.0), (392, 0.0), (393, 0.0), (401, 0.0), (404, 0.0), (411, 0.0), (421, 0.0), (422, 0.0), (423, 0.0), (427, 0.0), (454, 0.0), (459, 0.0), (461, 0.0), (462, 0.0), (474, 0.0), (486, 0.0), (491, 0.0), (492, 0.0), (494, 0.0), (497, 0.0), (503, 0.0), (506, 0.0), (517, 0.0), (525, 0.0), (528, 0.0), (531, 0.0), (535, 0.0), (536, 0.0), (539, 0.0), (548, 0.0), (554, 0.0), (556, 0.0), (565, 0.0), (570, 0.0), (572, 0.0), (574, 0.0), (575, 0.0), (577, 0.0), (585, 0.0), (586, 0.0), (591, 0.0), (592, 0.0), (599, 0.0), (601, 0.0), (602, 0.0), (603, 0.0), (610, 0.0), (613, 0.0), (630, 0.0), (632, 0.0), (656, 0.0), (662, 0.0), (663, 0.0), (665, 0.0), (674, 0.0), (702, 0.0), (704, 0.0), (708, 0.0), (709, 0.0), (713, 0.0), (718, 0.0), (724, 0.0), (730, 0.0), (736, 0.0), (745, 0.0), (754, 0.0), (764, 0.0), (768, 0.0), (770, 0.0), (771, 0.0), (772, 0.0), (773, 0.0), (776, 0.0), (781, 0.0), (784, 0.0), (786, 0.0), (789, 0.0), (795, 0.0), (807, 0.0), (819, 0.0), (820, 0.0), (822, 0.0), (836, 0.0), (839, 0.0), (840, 0.0), (841, 0.0), (859, 0.0), (869, 0.0), (873, 0.0), (881, 0.0), (882, 0.0), (892, 0.0), (912, 0.0), (913, 0.0), (914, 0.0), (920, 0.0), (926, 0.0), (938, 0.0), (943, 0.0), (945, 0.0), (946, 0.0), (948, 0.0), (950, 0.0), (954, 0.0), (955, 0.0), (956, 0.0), (961, 0.0), (964, 0.0), (971, 0.0), (972, 0.0), (977, 0.0), (978, 0.0), (983, 0.0), (995, 0.0), (1011, 0.0), (1013, 0.0), (1016, 0.0), (1022, 0.0), (1028, 0.0), (1031, 0.0), (1039, 0.0), (1045, 0.0), (1055, 0.0), (1056, 0.0), (1057, 0.0), (1066, 0.0), (1067, 0.0), (1073, 0.0), (1085, 0.0), (1089, 0.0), (1091, 0.0), (1101, 0.0), (1103, 0.0), (1105, 0.0), (1108, 0.0), (1113, 0.0), (1125, 0.0), (1126, 0.0), (1130, 0.0), (1133, 0.0), (1142, 0.0), (1143, 0.0), (1147, 0.0), (1149, 0.0), (1151, 0.0), (1152, 0.0), (1155, 0.0), (1156, 0.0), (1159, 0.0), (1165, 0.0), (1171, 0.0), (1178, 0.0), (1180, 0.0), (1189, 0.0), (1190, 0.0), (1193, 0.0), (1196, 0.0), (1198, 0.0), (1200, 0.0), (1201, 0.0), (1205, 0.0), (1213, 0.0), (1214, 0.0), (1218, 0.0), (1222, 0.0), (1231, 0.0), (1240, 0.0), (1242, 0.0), (1244, 0.0), (1253, 0.0), (1258, 0.0), (1260, 0.0), (1269, 0.0), (1274, 0.0), (1282, 0.0), (1283, 0.0), (1285, 0.0), (1287, 0.0), (1288, 0.0), (1291, 0.0), (1296, 0.0), (1299, 0.0), (1311, 0.0), (1322, 0.0), (1323, 0.0), (1330, 0.0), (1331, 0.0), (1333, 0.0), (1336, 0.0), (1353, 0.0), (1361, 0.0), (1362, 0.0), (1363, 0.0), (1368, 0.0), (1371, 0.0), (1386, 0.0), (1389, 0.0), (1390, 0.0), (1399, 0.0), (1405, 0.0), (1424, 0.0), (1437, 0.0), (1441, 0.0), (1444, 0.0), (1445, 0.0), (1447, 0.0), (1457, 0.0), (1467, 0.0), (1468, 0.0), (1470, 0.0), (1473, 0.0), (1485, 0.0), (1487, 0.0), (1491, 0.0), (1495, 0.0), (1496, 0.0), (1504, 0.0), (1508, 0.0), (1512, 0.0), (1517, 0.0), (1520, 0.0), (1521, 0.0), (1524, 0.0), (1525, 0.0), (1529, 0.0), (1532, 0.0), (1535, 0.0), (1536, 0.0), (1541, 0.0), (1545, 0.0), (1548, 0.0), (1549, 0.0), (1556, 0.0), (1560, 0.0), (1561, 0.0), (1563, 0.0), (1564, 0.0), (1569, 0.0), (1577, 0.0), (1578, 0.0), (1581, 0.0), (1584, 0.0), (1585, 0.0), (1586, 0.0), (1589, 0.0), (1596, 0.0), (1599, 0.0), (1600, 0.0), (1601, 0.0), (1603, 0.0), (1604, 0.0), (1606, 0.0), (1609, 0.0), (1610, 0.0), (1613, 0.0), (1615, 0.0), (1618, 0.0), (1636, 0.0), (1640, 0.0), (1646, 0.0), (1651, 0.0), (1657, 0.0), (1668, 0.0), (1673, 0.0), (1674, 0.0), (1679, 0.0), (1689, 0.0), (1697, 0.0), (1698, 0.0), (1700, 0.0), (1702, 0.0), (1704, 0.0), (1709, 0.0), (1720, 0.0), (1726, 0.0), (1729, 0.0), (1735, 0.0), (1738, 0.0), (1741, 0.0), (1745, 0.0), (1750, 0.0), (1751, 0.0), (1752, 0.0), (1757, 0.0), (1758, 0.0), (1766, 0.0), (1767, 0.0), (1769, 0.0), (1771, 0.0), (1778, 0.0), (1783, 0.0), (1785, 0.0), (1794, 0.0), (1795, 0.0), (1800, 0.0), (1802, 0.0), (1806, 0.0), (1810, 0.0), (1816, 0.0), (1820, 0.0), (1823, 0.0), (1824, 0.0), (1825, 0.0), (1834, 0.0), (1837, 0.0), (1839, 0.0), (1842, 0.0), (1847, 0.0), (1850, 0.0), (1856, 0.0), (1868, 0.0), (1879, 0.0), (1880, 0.0), (1883, 0.0), (1888, 0.0), (1889, 0.0), (1894, 0.0), (1895, 0.0), (1899, 0.0), (1915, 0.0), (1917, 0.0), (1928, 0.0), (1932, 0.0), (1944, 0.0), (1963, 0.0), (1966, 0.0), (1972, 0.0), (1974, 0.0), (1978, 0.0), (1979, 0.0), (1981, 0.0), (1982, 0.0), (1984, 0.0), (1987, 0.0), (1999, 0.0), (2002, 0.0), (2003, 0.0), (2007, 0.0), (2009, 0.0), (2019, 0.0), (2021, 0.0), (2026, 0.0), (2028, 0.0), (2030, 0.0), (2032, 0.0), (2033, 0.0), (2036, 0.0), (2038, 0.0), (2042, 0.0), (2043, 0.0), (2046, 0.0), (2050, 0.0), (2059, 0.0), (2077, 0.0), (2079, 0.0), (2085, 0.0), (2086, 0.0), (2090, 0.0), (2092, 0.0), (2100, 0.0), (2106, 0.0), (2107, 0.0), (2115, 0.0), (2118, 0.0), (2120, 0.0), (2124, 0.0), (2128, 0.0), (2135, 0.0), (2138, 0.0), (2140, 0.0), (2147, 0.0), (2150, 0.0), (2153, 0.0), (2158, 0.0), (2161, 0.0), (2164, 0.0), (2165, 0.0), (2167, 0.0), (2168, 0.0), (2170, 0.0), (2171, 0.0), (2172, 0.0), (2180, 0.0), (2182, 0.0), (2183, 0.0), (2184, 0.0), (2186, 0.0), (2194, 0.0), (2200, 0.0), (2204, 0.0), (2207, 0.0), (2215, 0.0), (2219, 0.0), (2220, 0.0), (2228, 0.0), (2238, 0.0), (2243, 0.0), (2249, 0.0), (2256, 0.0), (2258, 0.0), (2259, 0.0), (2262, 0.0), (2263, 0.0), (2267, 0.0), (2271, 0.0), (2272, 0.0), (2274, 0.0), (2281, 0.0), (2282, 0.0), (2298, 0.0), (2300, 0.0), (2304, 0.0), (2305, 0.0), (2307, 0.0), (2308, 0.0), (2311, 0.0), (2312, 0.0), (2315, 0.0), (2322, 0.0), (2327, 0.0), (2329, 0.0), (2331, 0.0), (2332, 0.0), (2333, 0.0), (2341, 0.0), (2342, 0.0), (2343, 0.0), (2345, 0.0), (2351, 0.0), (2352, 0.0), (2357, 0.0), (2358, 0.0), (2363, 0.0), (2365, 0.0), (2366, 0.0), (2371, 0.0), (2372, 0.0), (2373, 0.0), (2377, 0.0), (2380, 0.0), (2381, 0.0), (2384, 0.0), (2389, 0.0), (2395, 0.0), (2408, 0.0), (2409, 0.0), (2414, 0.0), (2424, 0.0), (2431, 0.0), (2433, 0.0), (2445, 0.0), (2449, 0.0), (2450, 0.0), (2451, 0.0), (2455, 0.0), (2456, 0.0), (2458, 0.0), (2460, 0.0), (2462, 0.0), (2470, 0.0), (2471, 0.0), (2472, 0.0), (2479, 0.0), (2483, 0.0), (2485, 0.0), (2491, 0.0), (2498, 0.0), (2500, 0.0), (2504, 0.0), (2511, 0.0), (2514, 0.0), (2515, 0.0), (2516, 0.0), (2518, 0.0), (2521, 0.0), (2523, 0.0), (2532, 0.0), (2536, 0.0), (2539, 0.0), (2542, 0.0), (2543, 0.0), (2547, 0.0), (2548, 0.0), (2549, 0.0), (2551, 0.0), (2564, 0.0), (2566, 0.0), (2575, 0.0), (2577, 0.0), (2578, 0.0), (2583, 0.0), (2586, 0.0), (2588, 0.0), (2589, 0.0), (2594, 0.0), (2600, 0.0), (2608, 0.0), (2615, 0.0), (2616, 0.0), (2620, 0.0), (2631, 0.0), (2635, 0.0), (2639, 0.0), (2641, 0.0), (2646, 0.0), (2648, 0.0), (2656, 0.0), (2658, 0.0), (2659, 0.0), (2662, 0.0), (2663, 0.0), (2667, 0.0), (2669, 0.0), (2672, 0.0), (2676, 0.0), (2677, 0.0), (2684, 0.0), (2685, 0.0), (2690, 0.0), (2693, 0.0), (2699, 0.0), (2701, 0.0), (2703, 0.0), (2709, 0.0), (2710, 0.0), (2713, 0.0), (2715, 0.0), (2717, 0.0), (2718, 0.0), (2719, 0.0), (2730, 0.0), (2734, 0.0), (2737, 0.0), (2750, 0.0), (2754, 0.0), (2762, 0.0), (2763, 0.0), (2770, 0.0), (2773, 0.0), (2781, 0.0), (2793, 0.0), (2794, 0.0), (2799, 0.0), (2805, 0.0), (2806, 0.0), (2807, 0.0), (2810, 0.0), (2813, 0.0), (2814, 0.0), (2815, 0.0), (2817, 0.0), (2818, 0.0), (2822, 0.0), (2823, 0.0), (2824, 0.0), (2829, 0.0), (2833, 0.0), (2835, 0.0), (2837, 0.0), (2839, 0.0), (2842, 0.0), (2851, 0.0), (2852, 0.0), (2860, 0.0), (2864, 0.0), (2866, 0.0), (2869, 0.0), (2875, 0.0), (2877, 0.0), (2880, 0.0), (2885, 0.0), (2891, 0.0), (2897, 0.0), (2898, 0.0), (2905, 0.0), (2913, 0.0), (2921, 0.0), (2922, 0.0), (2930, 0.0), (2938, 0.0), (2941, 0.0), (2948, 0.0), (2950, 0.0), (2951, 0.0), (2952, 0.0), (2956, 0.0), (2958, 0.0), (2962, 0.0), (2967, 0.0), (2973, 0.0), (2979, 0.0), (2982, 0.0), (2983, 0.0), (2990, 0.0), (2994, 0.0), (3001, 0.0), (3009, 0.0), (3021, 0.0), (3029, 0.0), (3038, 0.0), (3041, 0.0), (3047, 0.0), (3053, 0.0), (3054, 0.0), (3058, 0.0), (3059, 0.0), (3060, 0.0), (3061, 0.0), (3077, 0.0), (3078, 0.0), (3080, 0.0), (3087, 0.0), (3088, 0.0), (3089, 0.0), (3090, 0.0), (3092, 0.0), (3098, 0.0), (3102, 0.0), (3103, 0.0), (3104, 0.0), (3106, 0.0), (3107, 0.0), (3109, 0.0), (3115, 0.0), (3127, 0.0), (3132, 0.0), (3138, 0.0), (3142, 0.0), (3145, 0.0), (3162, 0.0), (3169, 0.0), (3175, 0.0), (3176, 0.0), (3181, 0.0), (3188, 0.0), (3189, 0.0), (3190, 0.0), (3192, 0.0), (3193, 0.0), (3197, 0.0), (3201, 0.0), (3202, 0.0), (3204, 0.0), (3207, 0.0), (3208, 0.0), (3209, 0.0), (3217, 0.0), (3221, 0.0), (3231, 0.0), (3236, 0.0), (3250, 0.0), (3251, 0.0), (3255, 0.0), (3259, 0.0), (3266, 0.0), (3277, 0.0), (3287, 0.0), (3295, 0.0), (3305, 0.0), (3310, 0.0), (3319, 0.0), (3320, 0.0), (3323, 0.0), (3324, 0.0), (3333, 0.0), (3340, 0.0), (3345, 0.0), (3350, 0.0), (3366, 0.0), (3371, 0.0), (3378, 0.0), (3383, 0.0), (3397, 0.0), (3401, 0.0), (3411, 0.0), (3415, 0.0), (3422, 0.0), (3424, 0.0), (3427, 0.0), (3439, 0.0), (3453, 0.0), (3454, 0.0), (3459, 0.0), (3463, 0.0), (3469, 0.0), (3472, 0.0), (3473, 0.0), (3475, 0.0), (3476, 0.0), (3480, 0.0), (3481, 0.0), (3482, 0.0), (3485, 0.0), (3489, 0.0), (3490, 0.0), (3494, 0.0), (3510, 0.0), (3519, 0.0), (3525, 0.0), (3528, 0.0), (3529, 0.0), (3530, 0.0), (3531, 0.0), (3532, 0.0), (3539, 0.0), (3543, 0.0), (3545, 0.0), (3547, 0.0), (3549, 0.0), (3562, 0.0), (3567, 0.0), (3568, 0.0), (3570, 0.0), (3572, 0.0), (3573, 0.0), (3574, 0.0), (3578, 0.0), (3580, 0.0), (3581, 0.0), (3589, 0.0), (3591, 0.0), (3592, 0.0), (3595, 0.0), (3597, 0.0), (3607, 0.0), (3609, 0.0), (3622, 0.0), (3625, 0.0), (3628, 0.0), (3631, 0.0), (3633, 0.0), (3649, 0.0), (3650, 0.0), (3658, 0.0), (3663, 0.0), (3671, 0.0), (3676, 0.0), (3681, 0.0), (3682, 0.0), (3686, 0.0), (3688, 0.0), (3693, 0.0), (3695, 0.0), (3698, 0.0), (3709, 0.0), (3712, 0.0), (3716, 0.0), (3717, 0.0), (3722, 0.0), (3724, 0.0), (3726, 0.0), (3730, 0.0), (3732, 0.0), (3735, 0.0), (3736, 0.0), (3738, 0.0), (3740, 0.0), (3746, 0.0), (3750, 0.0), (3753, 0.0), (3758, 0.0), (3759, 0.0), (3760, 0.0), (3761, 0.0), (3764, 0.0), (3783, 0.0), (3785, 0.0), (3786, 0.0), (3790, 0.0), (3791, 0.0), (3796, 0.0), (3798, 0.0), (3800, 0.0), (3803, 0.0), (3805, 0.0), (3808, 0.0), (3812, 0.0), (3817, 0.0), (3818, 0.0), (3830, 0.0), (3836, 0.0), (3837, 0.0), (3838, 0.0), (3840, 0.0), (3843, 0.0), (3846, 0.0), (3847, 0.0), (3851, 0.0), (3859, 0.0), (3861, 0.0), (3869, 0.0), (3870, 0.0), (3872, 0.0), (3879, 0.0), (3885, 0.0), (3887, 0.0), (3891, 0.0), (3896, 0.0), (3905, 0.0), (3914, 0.0), (3918, 0.0), (3921, 0.0), (3930, 0.0), (3931, 0.0), (3933, 0.0), (3934, 0.0), (3936, 0.0), (3937, 0.0), (3948, 0.0), (3949, 0.0), (3950, 0.0), (3958, 0.0), (3963, 0.0), (3964, 0.0), (3965, 0.0), (3969, 0.0), (3976, 0.0), (3977, 0.0), (3981, 0.0), (3982, 0.0), (3988, 0.0), (3991, 0.0), (3994, 0.0), (4003, 0.0), (4006, 0.0), (4010, 0.0), (4012, 0.0), (4021, 0.0), (4022, 0.0), (4026, 0.0), (4027, 0.0), (4028, 0.0), (4029, 0.0), (4031, 0.0), (4034, 0.0), (4037, 0.0), (4041, 0.0), (4045, 0.0), (4058, 0.0), (4063, 0.0), (4064, 0.0), (4065, 0.0), (4067, 0.0), (4072, 0.0), (4073, 0.0), (4078, 0.0), (4086, 0.0), (4093, 0.0), (4094, 0.0), (4105, 0.0), (4108, 0.0), (4112, 0.0), (4114, 0.0), (4115, 0.0), (4118, 0.0), (4125, 0.0), (4127, 0.0), (4128, 0.0), (4131, 0.0), (4146, 0.0), (4149, 0.0), (4150, 0.0), (4157, 0.0), (4159, 0.0), (4166, 0.0), (4167, 0.0), (4170, 0.0), (4173, 0.0), (4177, 0.0), (4179, 0.0), (4180, 0.0), (4184, 0.0), (4186, 0.0), (4188, 0.0), (4190, 0.0), (4191, 0.0), (4194, 0.0), (4198, 0.0), (4199, 0.0), (4201, 0.0), (4204, 0.0), (4207, 0.0), (4212, 0.0), (4214, 0.0), (4215, 0.0), (4218, 0.0), (4223, 0.0), (4224, 0.0), (4229, 0.0), (4233, 0.0), (4234, 0.0), (4237, 0.0), (4238, 0.0), (4239, 0.0), (4241, 0.0), (4250, 0.0), (4252, 0.0), (4253, 0.0), (4256, 0.0), (4258, 0.0), (4260, 0.0), (4270, 0.0), (4276, 0.0), (4278, 0.0), (4279, 0.0), (4291, 0.0), (4294, 0.0), (4297, 0.0), (4300, 0.0), (4302, 0.0), (4305, 0.0), (4314, 0.0), (4315, 0.0), (4316, 0.0), (4317, 0.0), (4319, 0.0), (4323, 0.0), (4324, 0.0), (4329, 0.0), (4332, 0.0), (4335, 0.0), (4338, 0.0), (4346, 0.0), (4347, 0.0), (4352, 0.0), (4353, 0.0), (4370, 0.0), (4372, 0.0), (4390, 0.0), (4393, 0.0), (4404, 0.0), (4406, 0.0), (4410, 0.0), (4413, 0.0), (4414, 0.0), (4415, 0.0), (4417, 0.0), (4424, 0.0), (4425, 0.0), (4433, 0.0), (4434, 0.0), (4437, 0.0), (4439, 0.0), (4447, 0.0), (4449, 0.0), (4451, 0.0), (4453, 0.0), (4455, 0.0), (4456, 0.0), (4457, 0.0), (4460, 0.0), (4463, 0.0), (4478, 0.0), (4480, 0.0), (4482, 0.0), (4483, 0.0), (4485, 0.0), (4491, 0.0), (4492, 0.0), (4496, 0.0), (4498, 0.0), (4499, 0.0), (4506, 0.0), (4509, 0.0), (4526, 0.0), (4532, 0.0), (4538, 0.0), (4541, 0.0), (4542, 0.0), (4547, 0.0), (4556, 0.0), (4560, 0.0), (4561, 0.0), (4568, 0.0), (4569, 0.0), (4570, 0.0), (4577, 0.0), (4578, 0.0), (4580, 0.0), (4581, 0.0), (4588, 0.0), (4592, 0.0), (4599, 0.0), (4613, 0.0), (4622, 0.0), (4628, 0.0), (4635, 0.0), (4644, 0.0), (4645, 0.0), (4647, 0.0), (4648, 0.0), (4654, 0.0), (4655, 0.0), (4656, 0.0), (4659, 0.0), (4662, 0.0), (4671, 0.0), (4672, 0.0), (4675, 0.0), (4681, 0.0), (4688, 0.0), (4690, 0.0), (4700, 0.0), (4707, 0.0), (4711, 0.0), (4714, 0.0), (4716, 0.0), (4727, 0.0), (4728, 0.0), (4730, 0.0), (4737, 0.0), (4740, 0.0), (4741, 0.0), (4742, 0.0), (4745, 0.0), (4750, 0.0), (4751, 0.0), (4754, 0.0), (4755, 0.0), (4758, 0.0), (4759, 0.0)]\n"
          ]
        }
      ]
    },
    {
      "cell_type": "code",
      "source": [
        "# print thr name of similar movies based on the index\n",
        "\n",
        "print('Top 30 Movies Suggested for You : \\n')\n",
        "\n",
        "i = 1\n",
        "\n",
        "for movie in Sorted_Similar_Movies:\n",
        "  index = movie[0]\n",
        "  title_from_index = df[df.index==index]['Movie_Title'].values[0]\n",
        "  if(i<31):\n",
        "    print(i, '.',title_from_index)\n",
        "    i+=1"
      ],
      "metadata": {
        "colab": {
          "base_uri": "https://localhost:8080/"
        },
        "id": "rJ8bKaceLPW5",
        "outputId": "db7ec03d-66c9-45d7-d219-3e032a12dc77"
      },
      "execution_count": null,
      "outputs": [
        {
          "output_type": "stream",
          "name": "stdout",
          "text": [
            "Top 30 Movies Suggested for You : \n",
            "\n",
            "1 . Buried\n",
            "2 . Red Lights\n",
            "3 . Things to Do in Denver When You're Dead\n",
            "4 . Unstoppable\n",
            "5 . The Lost City\n",
            "6 . Turbo\n",
            "7 . In Time\n",
            "8 . Inside Job\n",
            "9 . Trade\n",
            "10 . FearDotCom\n",
            "11 . No Escape\n",
            "12 . Mother and Child\n",
            "13 . Clockstoppers\n",
            "14 . Albert Nobbs\n",
            "15 . City Island\n",
            "16 . Wild Card\n",
            "17 . Atlas Shrugged Part II\n",
            "18 . Cinco de Mayo: La Batalla\n",
            "19 . Underdogs\n",
            "20 . Rabbit Hole\n",
            "21 . Waiting...\n",
            "22 . Man of the House\n",
            "23 . American Psycho\n",
            "24 . Super Mario Bros.\n",
            "25 . A Fistful of Dollars\n",
            "26 . Broken Arrow\n",
            "27 . Apollo 13\n",
            "28 . Miss Potter\n",
            "29 . In & Out\n",
            "30 . The Raven\n"
          ]
        }
      ]
    },
    {
      "cell_type": "markdown",
      "source": [
        "##**Top 10 Movie Recommendation System**"
      ],
      "metadata": {
        "id": "UKxYFXKiOzfo"
      }
    },
    {
      "cell_type": "code",
      "source": [
        "Movie_Name = input('Enter your favrioute movie name : ')\n",
        "\n",
        "list_of_all_titles =df['Movie_Title'].tolist()\n",
        "\n",
        "Find_Close_Match = difflib.get_close_matches(Movie_Name, list_of_all_titles)\n",
        "\n",
        "Close_Match = Find_Close_Match[0]\n",
        "\n",
        "Index_of_Movie = df[df.Movie_Title == Close_Match]['Movie_ID'].values[0]\n",
        "\n",
        "Recommendation_Score = list(enumerate(Similarity_Score[Index_of_Movie]))\n",
        "\n",
        "sorted_similar_movies = sorted(Recommendation_Score, key = lambda x:x[1], reverse = True)\n",
        "\n",
        "print('TOp 10 Movies suggested for you : \\n')\n",
        "\n",
        "i = 1\n",
        "\n",
        "for movie in sorted_similar_movies:\n",
        "  index = movie[0]\n",
        "  title_from_index = df[df.Movie_ID==index]['Movie_Title'].values\n",
        "  if(i<11):\n",
        "    print(i, '.',title_from_index)\n",
        "    i+=1"
      ],
      "metadata": {
        "colab": {
          "base_uri": "https://localhost:8080/"
        },
        "id": "S8kDL_btMQhZ",
        "outputId": "4d116e2e-bd2d-4202-f694-99d18a164ecc"
      },
      "execution_count": null,
      "outputs": [
        {
          "output_type": "stream",
          "name": "stdout",
          "text": [
            "Enter your favrioute movie name : avatar\n",
            "TOp 10 Movies suggested for you : \n",
            "\n",
            "1 . ['Avatar']\n",
            "2 . ['The Girl on the Train']\n",
            "3 . ['Act of Valor']\n",
            "4 . ['Donnie Darko']\n",
            "5 . ['Precious']\n",
            "6 . ['Freaky Friday']\n",
            "7 . ['The Opposite Sex']\n",
            "8 . ['Heaven is for Real']\n",
            "9 . ['Run Lola Run']\n",
            "10 . ['Elizabethtown']\n"
          ]
        }
      ]
    }
  ]
}