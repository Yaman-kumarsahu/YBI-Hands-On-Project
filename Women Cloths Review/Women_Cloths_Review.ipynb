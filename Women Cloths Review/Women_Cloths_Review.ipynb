{
  "cells": [
    {
      "cell_type": "markdown",
      "id": "9fa66207",
      "metadata": {
        "id": "9fa66207"
      },
      "source": [
        "# <u>WOMEN CLOTHS REVIEW</u>"
      ]
    },
    {
      "cell_type": "markdown",
      "id": "652284c8",
      "metadata": {
        "id": "652284c8"
      },
      "source": [
        "## Import Dependencies"
      ]
    },
    {
      "cell_type": "code",
      "execution_count": null,
      "id": "fcb26776",
      "metadata": {
        "id": "fcb26776"
      },
      "outputs": [],
      "source": [
        "import pandas as pd\n",
        "import numpy as np\n",
        "import matplotlib.pyplot as plt\n",
        "import seaborn as sns"
      ]
    },
    {
      "cell_type": "markdown",
      "id": "4f0f903a",
      "metadata": {
        "id": "4f0f903a"
      },
      "source": [
        "## Load Data"
      ]
    },
    {
      "cell_type": "code",
      "execution_count": null,
      "id": "4088336f",
      "metadata": {
        "id": "4088336f"
      },
      "outputs": [],
      "source": [
        "data = pd.read_csv('/content/Womens Clothing E-Commerce Reviews.csv')"
      ]
    },
    {
      "cell_type": "code",
      "execution_count": null,
      "id": "dee88dd6",
      "metadata": {
        "id": "dee88dd6"
      },
      "outputs": [],
      "source": [
        "data.rename(columns = {\n",
        "    'Review Text': 'Review',\n",
        "    'Recommended IND': 'Recommended',\n",
        "    'Positive Feedback Count': 'Positive Feedback',\n",
        "    'Division Name': 'Division',\n",
        "    'Department Name': 'Department',\n",
        "    'Class Name': 'Category'},\n",
        "            inplace = True)"
      ]
    },
    {
      "cell_type": "code",
      "execution_count": null,
      "id": "edbb701d",
      "metadata": {
        "colab": {
          "base_uri": "https://localhost:8080/",
          "height": 354
        },
        "id": "edbb701d",
        "outputId": "6f09cfe1-7fdd-4844-a363-25ce1cda2d27"
      },
      "outputs": [
        {
          "output_type": "execute_result",
          "data": {
            "text/plain": [
              "   Unnamed: 0  Clothing ID  Age                    Title  \\\n",
              "0           0          767   33                      NaN   \n",
              "1           1         1080   34                      NaN   \n",
              "2           2         1077   60  Some major design flaws   \n",
              "3           3         1049   50         My favorite buy!   \n",
              "4           4          847   47         Flattering shirt   \n",
              "\n",
              "                                              Review  Rating  Recommended  \\\n",
              "0  Absolutely wonderful - silky and sexy and comf...       4            1   \n",
              "1  Love this dress!  it's sooo pretty.  i happene...       5            1   \n",
              "2  I had such high hopes for this dress and reall...       3            0   \n",
              "3  I love, love, love this jumpsuit. it's fun, fl...       5            1   \n",
              "4  This shirt is very flattering to all due to th...       5            1   \n",
              "\n",
              "   Positive Feedback        Division Department   Category  \n",
              "0                  0       Initmates   Intimate  Intimates  \n",
              "1                  4         General    Dresses    Dresses  \n",
              "2                  0         General    Dresses    Dresses  \n",
              "3                  0  General Petite    Bottoms      Pants  \n",
              "4                  6         General       Tops    Blouses  "
            ],
            "text/html": [
              "\n",
              "  <div id=\"df-f2bfe05e-6fbf-40cc-928c-c9e9afa20c33\">\n",
              "    <div class=\"colab-df-container\">\n",
              "      <div>\n",
              "<style scoped>\n",
              "    .dataframe tbody tr th:only-of-type {\n",
              "        vertical-align: middle;\n",
              "    }\n",
              "\n",
              "    .dataframe tbody tr th {\n",
              "        vertical-align: top;\n",
              "    }\n",
              "\n",
              "    .dataframe thead th {\n",
              "        text-align: right;\n",
              "    }\n",
              "</style>\n",
              "<table border=\"1\" class=\"dataframe\">\n",
              "  <thead>\n",
              "    <tr style=\"text-align: right;\">\n",
              "      <th></th>\n",
              "      <th>Unnamed: 0</th>\n",
              "      <th>Clothing ID</th>\n",
              "      <th>Age</th>\n",
              "      <th>Title</th>\n",
              "      <th>Review</th>\n",
              "      <th>Rating</th>\n",
              "      <th>Recommended</th>\n",
              "      <th>Positive Feedback</th>\n",
              "      <th>Division</th>\n",
              "      <th>Department</th>\n",
              "      <th>Category</th>\n",
              "    </tr>\n",
              "  </thead>\n",
              "  <tbody>\n",
              "    <tr>\n",
              "      <th>0</th>\n",
              "      <td>0</td>\n",
              "      <td>767</td>\n",
              "      <td>33</td>\n",
              "      <td>NaN</td>\n",
              "      <td>Absolutely wonderful - silky and sexy and comf...</td>\n",
              "      <td>4</td>\n",
              "      <td>1</td>\n",
              "      <td>0</td>\n",
              "      <td>Initmates</td>\n",
              "      <td>Intimate</td>\n",
              "      <td>Intimates</td>\n",
              "    </tr>\n",
              "    <tr>\n",
              "      <th>1</th>\n",
              "      <td>1</td>\n",
              "      <td>1080</td>\n",
              "      <td>34</td>\n",
              "      <td>NaN</td>\n",
              "      <td>Love this dress!  it's sooo pretty.  i happene...</td>\n",
              "      <td>5</td>\n",
              "      <td>1</td>\n",
              "      <td>4</td>\n",
              "      <td>General</td>\n",
              "      <td>Dresses</td>\n",
              "      <td>Dresses</td>\n",
              "    </tr>\n",
              "    <tr>\n",
              "      <th>2</th>\n",
              "      <td>2</td>\n",
              "      <td>1077</td>\n",
              "      <td>60</td>\n",
              "      <td>Some major design flaws</td>\n",
              "      <td>I had such high hopes for this dress and reall...</td>\n",
              "      <td>3</td>\n",
              "      <td>0</td>\n",
              "      <td>0</td>\n",
              "      <td>General</td>\n",
              "      <td>Dresses</td>\n",
              "      <td>Dresses</td>\n",
              "    </tr>\n",
              "    <tr>\n",
              "      <th>3</th>\n",
              "      <td>3</td>\n",
              "      <td>1049</td>\n",
              "      <td>50</td>\n",
              "      <td>My favorite buy!</td>\n",
              "      <td>I love, love, love this jumpsuit. it's fun, fl...</td>\n",
              "      <td>5</td>\n",
              "      <td>1</td>\n",
              "      <td>0</td>\n",
              "      <td>General Petite</td>\n",
              "      <td>Bottoms</td>\n",
              "      <td>Pants</td>\n",
              "    </tr>\n",
              "    <tr>\n",
              "      <th>4</th>\n",
              "      <td>4</td>\n",
              "      <td>847</td>\n",
              "      <td>47</td>\n",
              "      <td>Flattering shirt</td>\n",
              "      <td>This shirt is very flattering to all due to th...</td>\n",
              "      <td>5</td>\n",
              "      <td>1</td>\n",
              "      <td>6</td>\n",
              "      <td>General</td>\n",
              "      <td>Tops</td>\n",
              "      <td>Blouses</td>\n",
              "    </tr>\n",
              "  </tbody>\n",
              "</table>\n",
              "</div>\n",
              "      <button class=\"colab-df-convert\" onclick=\"convertToInteractive('df-f2bfe05e-6fbf-40cc-928c-c9e9afa20c33')\"\n",
              "              title=\"Convert this dataframe to an interactive table.\"\n",
              "              style=\"display:none;\">\n",
              "        \n",
              "  <svg xmlns=\"http://www.w3.org/2000/svg\" height=\"24px\"viewBox=\"0 0 24 24\"\n",
              "       width=\"24px\">\n",
              "    <path d=\"M0 0h24v24H0V0z\" fill=\"none\"/>\n",
              "    <path d=\"M18.56 5.44l.94 2.06.94-2.06 2.06-.94-2.06-.94-.94-2.06-.94 2.06-2.06.94zm-11 1L8.5 8.5l.94-2.06 2.06-.94-2.06-.94L8.5 2.5l-.94 2.06-2.06.94zm10 10l.94 2.06.94-2.06 2.06-.94-2.06-.94-.94-2.06-.94 2.06-2.06.94z\"/><path d=\"M17.41 7.96l-1.37-1.37c-.4-.4-.92-.59-1.43-.59-.52 0-1.04.2-1.43.59L10.3 9.45l-7.72 7.72c-.78.78-.78 2.05 0 2.83L4 21.41c.39.39.9.59 1.41.59.51 0 1.02-.2 1.41-.59l7.78-7.78 2.81-2.81c.8-.78.8-2.07 0-2.86zM5.41 20L4 18.59l7.72-7.72 1.47 1.35L5.41 20z\"/>\n",
              "  </svg>\n",
              "      </button>\n",
              "      \n",
              "  <style>\n",
              "    .colab-df-container {\n",
              "      display:flex;\n",
              "      flex-wrap:wrap;\n",
              "      gap: 12px;\n",
              "    }\n",
              "\n",
              "    .colab-df-convert {\n",
              "      background-color: #E8F0FE;\n",
              "      border: none;\n",
              "      border-radius: 50%;\n",
              "      cursor: pointer;\n",
              "      display: none;\n",
              "      fill: #1967D2;\n",
              "      height: 32px;\n",
              "      padding: 0 0 0 0;\n",
              "      width: 32px;\n",
              "    }\n",
              "\n",
              "    .colab-df-convert:hover {\n",
              "      background-color: #E2EBFA;\n",
              "      box-shadow: 0px 1px 2px rgba(60, 64, 67, 0.3), 0px 1px 3px 1px rgba(60, 64, 67, 0.15);\n",
              "      fill: #174EA6;\n",
              "    }\n",
              "\n",
              "    [theme=dark] .colab-df-convert {\n",
              "      background-color: #3B4455;\n",
              "      fill: #D2E3FC;\n",
              "    }\n",
              "\n",
              "    [theme=dark] .colab-df-convert:hover {\n",
              "      background-color: #434B5C;\n",
              "      box-shadow: 0px 1px 3px 1px rgba(0, 0, 0, 0.15);\n",
              "      filter: drop-shadow(0px 1px 2px rgba(0, 0, 0, 0.3));\n",
              "      fill: #FFFFFF;\n",
              "    }\n",
              "  </style>\n",
              "\n",
              "      <script>\n",
              "        const buttonEl =\n",
              "          document.querySelector('#df-f2bfe05e-6fbf-40cc-928c-c9e9afa20c33 button.colab-df-convert');\n",
              "        buttonEl.style.display =\n",
              "          google.colab.kernel.accessAllowed ? 'block' : 'none';\n",
              "\n",
              "        async function convertToInteractive(key) {\n",
              "          const element = document.querySelector('#df-f2bfe05e-6fbf-40cc-928c-c9e9afa20c33');\n",
              "          const dataTable =\n",
              "            await google.colab.kernel.invokeFunction('convertToInteractive',\n",
              "                                                     [key], {});\n",
              "          if (!dataTable) return;\n",
              "\n",
              "          const docLinkHtml = 'Like what you see? Visit the ' +\n",
              "            '<a target=\"_blank\" href=https://colab.research.google.com/notebooks/data_table.ipynb>data table notebook</a>'\n",
              "            + ' to learn more about interactive tables.';\n",
              "          element.innerHTML = '';\n",
              "          dataTable['output_type'] = 'display_data';\n",
              "          await google.colab.output.renderOutput(dataTable, element);\n",
              "          const docLink = document.createElement('div');\n",
              "          docLink.innerHTML = docLinkHtml;\n",
              "          element.appendChild(docLink);\n",
              "        }\n",
              "      </script>\n",
              "    </div>\n",
              "  </div>\n",
              "  "
            ]
          },
          "metadata": {},
          "execution_count": 23
        }
      ],
      "source": [
        "data.head()"
      ]
    },
    {
      "cell_type": "code",
      "execution_count": null,
      "id": "70bd5286",
      "metadata": {
        "colab": {
          "base_uri": "https://localhost:8080/"
        },
        "id": "70bd5286",
        "outputId": "253f716e-62a1-45bc-e79f-49d8a77eb6f4"
      },
      "outputs": [
        {
          "output_type": "stream",
          "name": "stdout",
          "text": [
            "<class 'pandas.core.frame.DataFrame'>\n",
            "RangeIndex: 23486 entries, 0 to 23485\n",
            "Data columns (total 11 columns):\n",
            " #   Column             Non-Null Count  Dtype \n",
            "---  ------             --------------  ----- \n",
            " 0   Unnamed: 0         23486 non-null  int64 \n",
            " 1   Clothing ID        23486 non-null  int64 \n",
            " 2   Age                23486 non-null  int64 \n",
            " 3   Title              19676 non-null  object\n",
            " 4   Review             22641 non-null  object\n",
            " 5   Rating             23486 non-null  int64 \n",
            " 6   Recommended        23486 non-null  int64 \n",
            " 7   Positive Feedback  23486 non-null  int64 \n",
            " 8   Division           23472 non-null  object\n",
            " 9   Department         23472 non-null  object\n",
            " 10  Category           23472 non-null  object\n",
            "dtypes: int64(6), object(5)\n",
            "memory usage: 2.0+ MB\n"
          ]
        }
      ],
      "source": [
        "data.info()"
      ]
    },
    {
      "cell_type": "code",
      "execution_count": null,
      "id": "efeb0c1c",
      "metadata": {
        "colab": {
          "base_uri": "https://localhost:8080/"
        },
        "id": "efeb0c1c",
        "outputId": "acccb6d4-3faf-4745-aee7-d7416c738c64"
      },
      "outputs": [
        {
          "output_type": "execute_result",
          "data": {
            "text/plain": [
              "(23486, 11)"
            ]
          },
          "metadata": {},
          "execution_count": 25
        }
      ],
      "source": [
        "data.shape"
      ]
    },
    {
      "cell_type": "markdown",
      "id": "06dfee47",
      "metadata": {
        "id": "06dfee47"
      },
      "source": [
        "## Missing Values"
      ]
    },
    {
      "cell_type": "code",
      "execution_count": null,
      "id": "380e41f4",
      "metadata": {
        "colab": {
          "base_uri": "https://localhost:8080/"
        },
        "id": "380e41f4",
        "outputId": "fcebd70e-70ec-4588-c21f-b2cfcc601a66"
      },
      "outputs": [
        {
          "output_type": "execute_result",
          "data": {
            "text/plain": [
              "Unnamed: 0              0\n",
              "Clothing ID             0\n",
              "Age                     0\n",
              "Title                3810\n",
              "Review                845\n",
              "Rating                  0\n",
              "Recommended             0\n",
              "Positive Feedback       0\n",
              "Division               14\n",
              "Department             14\n",
              "Category               14\n",
              "dtype: int64"
            ]
          },
          "metadata": {},
          "execution_count": 26
        }
      ],
      "source": [
        "data.isna().sum()"
      ]
    },
    {
      "cell_type": "code",
      "execution_count": null,
      "id": "59c37488",
      "metadata": {
        "id": "59c37488"
      },
      "outputs": [],
      "source": [
        "data[data['Review'] == ''] = np.NaN"
      ]
    },
    {
      "cell_type": "code",
      "execution_count": null,
      "id": "d8619c5c",
      "metadata": {
        "id": "d8619c5c"
      },
      "outputs": [],
      "source": [
        "data['Review'].fillna('No Review', inplace = True)"
      ]
    },
    {
      "cell_type": "code",
      "execution_count": null,
      "id": "53e0f797",
      "metadata": {
        "colab": {
          "base_uri": "https://localhost:8080/"
        },
        "id": "53e0f797",
        "outputId": "550f380f-b42d-440b-de32-fbd7a27b71bb"
      },
      "outputs": [
        {
          "output_type": "execute_result",
          "data": {
            "text/plain": [
              "Unnamed: 0              0\n",
              "Clothing ID             0\n",
              "Age                     0\n",
              "Title                3810\n",
              "Review                  0\n",
              "Rating                  0\n",
              "Recommended             0\n",
              "Positive Feedback       0\n",
              "Division               14\n",
              "Department             14\n",
              "Category               14\n",
              "dtype: int64"
            ]
          },
          "metadata": {},
          "execution_count": 29
        }
      ],
      "source": [
        "data.isna().sum()"
      ]
    },
    {
      "cell_type": "code",
      "execution_count": null,
      "id": "3f9cc369",
      "metadata": {
        "colab": {
          "base_uri": "https://localhost:8080/"
        },
        "id": "3f9cc369",
        "outputId": "77f8af42-5b67-4a1a-fd4f-aeb16e621992"
      },
      "outputs": [
        {
          "output_type": "execute_result",
          "data": {
            "text/plain": [
              "0        Absolutely wonderful - silky and sexy and comf...\n",
              "1        Love this dress!  it's sooo pretty.  i happene...\n",
              "2        I had such high hopes for this dress and reall...\n",
              "3        I love, love, love this jumpsuit. it's fun, fl...\n",
              "4        This shirt is very flattering to all due to th...\n",
              "                               ...                        \n",
              "23481    I was very happy to snag this dress at such a ...\n",
              "23482    It reminds me of maternity clothes. soft, stre...\n",
              "23483    This fit well, but the top was very see throug...\n",
              "23484    I bought this dress for a wedding i have this ...\n",
              "23485    This dress in a lovely platinum is feminine an...\n",
              "Name: Review, Length: 23486, dtype: object"
            ]
          },
          "metadata": {},
          "execution_count": 30
        }
      ],
      "source": [
        "data['Review']"
      ]
    },
    {
      "cell_type": "markdown",
      "id": "1fce4d89",
      "metadata": {
        "id": "1fce4d89"
      },
      "source": [
        "## Define Target(y) and Feature(X)"
      ]
    },
    {
      "cell_type": "code",
      "execution_count": null,
      "id": "7c10c80b",
      "metadata": {
        "colab": {
          "base_uri": "https://localhost:8080/"
        },
        "id": "7c10c80b",
        "outputId": "6c062398-9883-4612-c534-ec8ffd04d995"
      },
      "outputs": [
        {
          "output_type": "execute_result",
          "data": {
            "text/plain": [
              "Index(['Unnamed: 0', 'Clothing ID', 'Age', 'Title', 'Review', 'Rating',\n",
              "       'Recommended', 'Positive Feedback', 'Division', 'Department',\n",
              "       'Category'],\n",
              "      dtype='object')"
            ]
          },
          "metadata": {},
          "execution_count": 31
        }
      ],
      "source": [
        "data.columns"
      ]
    },
    {
      "cell_type": "code",
      "execution_count": null,
      "id": "e0df2845",
      "metadata": {
        "id": "e0df2845"
      },
      "outputs": [],
      "source": [
        "X = data['Review']"
      ]
    },
    {
      "cell_type": "code",
      "execution_count": null,
      "id": "82ca2074",
      "metadata": {
        "id": "82ca2074"
      },
      "outputs": [],
      "source": [
        "y = data['Rating']"
      ]
    },
    {
      "cell_type": "code",
      "execution_count": null,
      "id": "feeffb8c",
      "metadata": {
        "colab": {
          "base_uri": "https://localhost:8080/"
        },
        "id": "feeffb8c",
        "outputId": "25b6f2a0-b34c-416e-ffd5-1ec0b422f636"
      },
      "outputs": [
        {
          "output_type": "execute_result",
          "data": {
            "text/plain": [
              "5.0    13131\n",
              "4.0     5077\n",
              "3.0     2871\n",
              "2.0     1565\n",
              "1.0      842\n",
              "Name: Rating, dtype: int64"
            ]
          },
          "metadata": {},
          "execution_count": 34
        }
      ],
      "source": [
        "data['Rating'].value_counts()"
      ]
    },
    {
      "cell_type": "markdown",
      "id": "45d1199f",
      "metadata": {
        "id": "45d1199f"
      },
      "source": [
        "## Train Test Split"
      ]
    },
    {
      "cell_type": "code",
      "execution_count": null,
      "id": "c5a87560",
      "metadata": {
        "id": "c5a87560"
      },
      "outputs": [],
      "source": [
        "from sklearn.model_selection import train_test_split"
      ]
    },
    {
      "cell_type": "code",
      "execution_count": null,
      "id": "440f16bd",
      "metadata": {
        "id": "440f16bd"
      },
      "outputs": [],
      "source": [
        "X_train, X_test, y_train, y_test = train_test_split(X, y, test_size = 0.3, stratify = y, random_state = 252529)"
      ]
    },
    {
      "cell_type": "code",
      "execution_count": null,
      "id": "6558444d",
      "metadata": {
        "scrolled": true,
        "colab": {
          "base_uri": "https://localhost:8080/"
        },
        "id": "6558444d",
        "outputId": "6efa9a82-588e-4bbb-9cc9-b98ce6eff056"
      },
      "outputs": [
        {
          "output_type": "execute_result",
          "data": {
            "text/plain": [
              "((16440,), (7046,), (16440,), (7046,))"
            ]
          },
          "metadata": {},
          "execution_count": 37
        }
      ],
      "source": [
        "X_train.shape, X_test.shape, y_train.shape, y_test.shape"
      ]
    },
    {
      "cell_type": "markdown",
      "id": "633ec49b",
      "metadata": {
        "id": "633ec49b"
      },
      "source": [
        "## Feature text coversion to tokens"
      ]
    },
    {
      "cell_type": "code",
      "execution_count": null,
      "id": "2936e42b",
      "metadata": {
        "id": "2936e42b"
      },
      "outputs": [],
      "source": [
        "from sklearn.feature_extraction.text import CountVectorizer"
      ]
    },
    {
      "cell_type": "code",
      "execution_count": null,
      "id": "3c365b37",
      "metadata": {
        "id": "3c365b37"
      },
      "outputs": [],
      "source": [
        "cv = CountVectorizer(\n",
        "                lowercase = True,\n",
        "                analyzer = 'word',\n",
        "                ngram_range = (2, 3),\n",
        "                stop_words = 'english',\n",
        "                max_features = 5000\n",
        "                    )"
      ]
    },
    {
      "cell_type": "code",
      "execution_count": null,
      "id": "c43b0db7",
      "metadata": {
        "id": "c43b0db7"
      },
      "outputs": [],
      "source": [
        "X_train = cv.fit_transform(X_train)"
      ]
    },
    {
      "cell_type": "code",
      "execution_count": null,
      "id": "82dd4318",
      "metadata": {
        "colab": {
          "base_uri": "https://localhost:8080/"
        },
        "id": "82dd4318",
        "outputId": "923c4134-0827-46af-dc55-978a554d9e2d"
      },
      "outputs": [
        {
          "output_type": "execute_result",
          "data": {
            "text/plain": [
              "array(['10 12', '10 fit', '10 fit perfectly', ..., 'yellow color',\n",
              "       'yoga pants', 'zipper little'], dtype=object)"
            ]
          },
          "metadata": {},
          "execution_count": 41
        }
      ],
      "source": [
        "cv.get_feature_names_out()"
      ]
    },
    {
      "cell_type": "code",
      "execution_count": null,
      "id": "018f629a",
      "metadata": {
        "colab": {
          "base_uri": "https://localhost:8080/"
        },
        "id": "018f629a",
        "outputId": "404600eb-55b3-4c1a-bb97-c4d0f19f54a9"
      },
      "outputs": [
        {
          "output_type": "execute_result",
          "data": {
            "text/plain": [
              "array([[0, 0, 0, ..., 0, 0, 0],\n",
              "       [1, 0, 0, ..., 0, 0, 0],\n",
              "       [0, 0, 0, ..., 0, 0, 0],\n",
              "       ...,\n",
              "       [0, 0, 0, ..., 0, 0, 0],\n",
              "       [0, 0, 0, ..., 0, 0, 0],\n",
              "       [0, 0, 0, ..., 0, 0, 0]])"
            ]
          },
          "metadata": {},
          "execution_count": 42
        }
      ],
      "source": [
        "X_train.toarray()"
      ]
    },
    {
      "cell_type": "code",
      "execution_count": null,
      "id": "225cb4fa",
      "metadata": {
        "id": "225cb4fa"
      },
      "outputs": [],
      "source": [
        "X_test = cv.fit_transform(X_test)"
      ]
    },
    {
      "cell_type": "code",
      "execution_count": null,
      "id": "827bb47e",
      "metadata": {
        "colab": {
          "base_uri": "https://localhost:8080/"
        },
        "id": "827bb47e",
        "outputId": "0438644d-f3c5-4039-d8b6-234d5e433889"
      },
      "outputs": [
        {
          "output_type": "execute_result",
          "data": {
            "text/plain": [
              "array(['10 12', '10 12 tops', '10 bought', ..., 'years ago love',\n",
              "       'years come', 'yellow white'], dtype=object)"
            ]
          },
          "metadata": {},
          "execution_count": 44
        }
      ],
      "source": [
        "cv.get_feature_names_out()"
      ]
    },
    {
      "cell_type": "code",
      "execution_count": null,
      "id": "cb841095",
      "metadata": {
        "scrolled": true,
        "colab": {
          "base_uri": "https://localhost:8080/"
        },
        "id": "cb841095",
        "outputId": "d8165cc1-7c92-4e14-f8a5-a5711e3fea09"
      },
      "outputs": [
        {
          "output_type": "execute_result",
          "data": {
            "text/plain": [
              "array([[0, 0, 0, ..., 0, 0, 0],\n",
              "       [0, 0, 0, ..., 0, 0, 0],\n",
              "       [0, 0, 0, ..., 0, 0, 0],\n",
              "       ...,\n",
              "       [0, 0, 0, ..., 0, 0, 0],\n",
              "       [0, 0, 0, ..., 0, 0, 0],\n",
              "       [0, 0, 0, ..., 0, 0, 0]])"
            ]
          },
          "metadata": {},
          "execution_count": 45
        }
      ],
      "source": [
        "X_test.toarray()"
      ]
    },
    {
      "cell_type": "markdown",
      "id": "e05439cb",
      "metadata": {
        "id": "e05439cb"
      },
      "source": [
        "## Train Model"
      ]
    },
    {
      "cell_type": "code",
      "execution_count": null,
      "id": "1b9eebdd",
      "metadata": {
        "id": "1b9eebdd"
      },
      "outputs": [],
      "source": [
        "from sklearn.naive_bayes import MultinomialNB"
      ]
    },
    {
      "cell_type": "code",
      "execution_count": null,
      "id": "a2de5f11",
      "metadata": {
        "id": "a2de5f11"
      },
      "outputs": [],
      "source": [
        "model = MultinomialNB()"
      ]
    },
    {
      "cell_type": "code",
      "execution_count": null,
      "id": "58eb2d91",
      "metadata": {
        "colab": {
          "base_uri": "https://localhost:8080/"
        },
        "id": "58eb2d91",
        "outputId": "86e49cd7-9425-4446-d040-b2cadc5ac6ff"
      },
      "outputs": [
        {
          "output_type": "execute_result",
          "data": {
            "text/plain": [
              "MultinomialNB()"
            ]
          },
          "metadata": {},
          "execution_count": 48
        }
      ],
      "source": [
        "model.fit(X_train, y_train)"
      ]
    },
    {
      "cell_type": "markdown",
      "id": "991d47e9",
      "metadata": {
        "id": "991d47e9"
      },
      "source": [
        "## Model Prediction"
      ]
    },
    {
      "cell_type": "code",
      "execution_count": null,
      "id": "047c349c",
      "metadata": {
        "id": "047c349c"
      },
      "outputs": [],
      "source": [
        "y_pred = model.predict(X_test)"
      ]
    },
    {
      "cell_type": "code",
      "execution_count": null,
      "id": "91849457",
      "metadata": {
        "colab": {
          "base_uri": "https://localhost:8080/"
        },
        "id": "91849457",
        "outputId": "604b47d0-9d19-4d39-b0de-482a6afe9388"
      },
      "outputs": [
        {
          "output_type": "execute_result",
          "data": {
            "text/plain": [
              "(7046,)"
            ]
          },
          "metadata": {},
          "execution_count": 50
        }
      ],
      "source": [
        "y_pred.shape"
      ]
    },
    {
      "cell_type": "code",
      "execution_count": null,
      "id": "2d0162b9",
      "metadata": {
        "colab": {
          "base_uri": "https://localhost:8080/"
        },
        "id": "2d0162b9",
        "outputId": "41288f9c-a8df-41e1-d19f-ee37a28fe112"
      },
      "outputs": [
        {
          "output_type": "execute_result",
          "data": {
            "text/plain": [
              "array([4., 5., 5., ..., 5., 5., 5.])"
            ]
          },
          "metadata": {},
          "execution_count": 51
        }
      ],
      "source": [
        "y_pred"
      ]
    },
    {
      "cell_type": "markdown",
      "id": "ddaf6cd5",
      "metadata": {
        "id": "ddaf6cd5"
      },
      "source": [
        "## Get Probability of Each Predicted Class"
      ]
    },
    {
      "cell_type": "code",
      "execution_count": null,
      "id": "1b2b5fa7",
      "metadata": {
        "colab": {
          "base_uri": "https://localhost:8080/"
        },
        "id": "1b2b5fa7",
        "outputId": "acc30adb-6232-493a-b6cb-0635d6630818"
      },
      "outputs": [
        {
          "output_type": "execute_result",
          "data": {
            "text/plain": [
              "array([[9.14961339e-02, 2.74423305e-02, 5.87975583e-02, 7.69181589e-01,\n",
              "        5.30823887e-02],\n",
              "       [8.87158732e-03, 1.75299851e-02, 4.95176493e-02, 4.38630012e-01,\n",
              "        4.85450766e-01],\n",
              "       [1.84152769e-02, 6.06467062e-03, 1.37660764e-02, 3.75577198e-01,\n",
              "        5.86176778e-01],\n",
              "       ...,\n",
              "       [8.11306793e-03, 3.28302506e-02, 2.05672249e-02, 1.54512463e-01,\n",
              "        7.83976994e-01],\n",
              "       [6.47846317e-04, 2.47679436e-04, 1.79080891e-03, 5.59465087e-03,\n",
              "        9.91719014e-01],\n",
              "       [6.92310134e-03, 7.67687930e-03, 1.81137143e-01, 1.77091433e-01,\n",
              "        6.27171442e-01]])"
            ]
          },
          "metadata": {},
          "execution_count": 52
        }
      ],
      "source": [
        "model.predict_proba(X_test)"
      ]
    },
    {
      "cell_type": "markdown",
      "id": "cddd7ce8",
      "metadata": {
        "id": "cddd7ce8"
      },
      "source": [
        "## Model Evaluation"
      ]
    },
    {
      "cell_type": "code",
      "execution_count": null,
      "id": "60007acd",
      "metadata": {
        "id": "60007acd"
      },
      "outputs": [],
      "source": [
        "from sklearn.metrics import confusion_matrix, classification_report"
      ]
    },
    {
      "cell_type": "code",
      "execution_count": null,
      "id": "2d3c270f",
      "metadata": {
        "colab": {
          "base_uri": "https://localhost:8080/"
        },
        "id": "2d3c270f",
        "outputId": "05204dd8-80ca-4eea-f2b0-352d9ecfc6f9"
      },
      "outputs": [
        {
          "output_type": "stream",
          "name": "stdout",
          "text": [
            "[[  21   26   40   45  121]\n",
            " [  55   44   71   92  208]\n",
            " [ 103   90  108  193  367]\n",
            " [ 178  106  170  297  772]\n",
            " [ 341  261  390  654 2293]]\n"
          ]
        }
      ],
      "source": [
        "print(confusion_matrix(y_test, y_pred))"
      ]
    },
    {
      "cell_type": "code",
      "execution_count": null,
      "id": "c2725f97",
      "metadata": {
        "scrolled": true,
        "colab": {
          "base_uri": "https://localhost:8080/"
        },
        "id": "c2725f97",
        "outputId": "2b1e055e-0376-4ea8-d24b-0b287358bc9a"
      },
      "outputs": [
        {
          "output_type": "stream",
          "name": "stdout",
          "text": [
            "              precision    recall  f1-score   support\n",
            "\n",
            "         1.0       0.03      0.08      0.04       253\n",
            "         2.0       0.08      0.09      0.09       470\n",
            "         3.0       0.14      0.13      0.13       861\n",
            "         4.0       0.23      0.20      0.21      1523\n",
            "         5.0       0.61      0.58      0.60      3939\n",
            "\n",
            "    accuracy                           0.39      7046\n",
            "   macro avg       0.22      0.22      0.21      7046\n",
            "weighted avg       0.41      0.39      0.40      7046\n",
            "\n"
          ]
        }
      ],
      "source": [
        "print(classification_report(y_test, y_pred))"
      ]
    },
    {
      "cell_type": "markdown",
      "id": "114a169e",
      "metadata": {
        "id": "114a169e"
      },
      "source": [
        "## Recategorize Rating as Poor(0) and Good(1)"
      ]
    },
    {
      "cell_type": "code",
      "execution_count": null,
      "id": "e1008cda",
      "metadata": {
        "id": "e1008cda"
      },
      "outputs": [],
      "source": [
        "data_recategorized = data.replace({'Rating': {1:0, 2:0, 3:0, 4:1, 5:1}})"
      ]
    },
    {
      "cell_type": "code",
      "execution_count": null,
      "id": "02371d9a",
      "metadata": {
        "id": "02371d9a"
      },
      "outputs": [],
      "source": [
        "y = data_recategorized['Rating']"
      ]
    },
    {
      "cell_type": "code",
      "execution_count": null,
      "id": "e575ab54",
      "metadata": {
        "id": "e575ab54"
      },
      "outputs": [],
      "source": [
        "X = data_recategorized['Review']"
      ]
    },
    {
      "cell_type": "markdown",
      "id": "f85201b6",
      "metadata": {
        "id": "f85201b6"
      },
      "source": [
        "## Train Test Split"
      ]
    },
    {
      "cell_type": "code",
      "execution_count": null,
      "id": "6ab40006",
      "metadata": {
        "id": "6ab40006"
      },
      "outputs": [],
      "source": [
        "from sklearn.model_selection import train_test_split"
      ]
    },
    {
      "cell_type": "code",
      "execution_count": null,
      "id": "65c40a63",
      "metadata": {
        "id": "65c40a63"
      },
      "outputs": [],
      "source": [
        "X_train, X_test, y_train, y_test = train_test_split(X, y, test_size = 0.3, stratify = y, random_state = 252529)"
      ]
    },
    {
      "cell_type": "code",
      "execution_count": null,
      "id": "233fbd86",
      "metadata": {
        "scrolled": true,
        "colab": {
          "base_uri": "https://localhost:8080/"
        },
        "id": "233fbd86",
        "outputId": "13510b42-1925-4f7c-82a0-02ae7ba49385"
      },
      "outputs": [
        {
          "output_type": "execute_result",
          "data": {
            "text/plain": [
              "((16440,), (7046,), (16440,), (7046,))"
            ]
          },
          "metadata": {},
          "execution_count": 61
        }
      ],
      "source": [
        "X_train.shape, X_test.shape, y_train.shape, y_test.shape"
      ]
    },
    {
      "cell_type": "markdown",
      "id": "7ce15f27",
      "metadata": {
        "id": "7ce15f27"
      },
      "source": [
        "## Feature text coversion to tokens"
      ]
    },
    {
      "cell_type": "code",
      "execution_count": null,
      "id": "733483b8",
      "metadata": {
        "id": "733483b8"
      },
      "outputs": [],
      "source": [
        "from sklearn.feature_extraction.text import CountVectorizer"
      ]
    },
    {
      "cell_type": "code",
      "execution_count": null,
      "id": "ced77c48",
      "metadata": {
        "id": "ced77c48"
      },
      "outputs": [],
      "source": [
        "cv = CountVectorizer(\n",
        "                lowercase = True,\n",
        "                analyzer = 'word',\n",
        "                ngram_range = (2, 3),\n",
        "                stop_words = 'english',\n",
        "                max_features = 5000\n",
        "                    )"
      ]
    },
    {
      "cell_type": "code",
      "execution_count": null,
      "id": "be16cd09",
      "metadata": {
        "id": "be16cd09"
      },
      "outputs": [],
      "source": [
        "X_train = cv.fit_transform(X_train)"
      ]
    },
    {
      "cell_type": "code",
      "execution_count": null,
      "id": "d0d9b7b4",
      "metadata": {
        "id": "d0d9b7b4"
      },
      "outputs": [],
      "source": [
        "X_test = cv.fit_transform(X_test)"
      ]
    },
    {
      "cell_type": "markdown",
      "id": "90134f78",
      "metadata": {
        "id": "90134f78"
      },
      "source": [
        "## Re-Train Model"
      ]
    },
    {
      "cell_type": "code",
      "execution_count": null,
      "id": "9f4b8b77",
      "metadata": {
        "id": "9f4b8b77"
      },
      "outputs": [],
      "source": [
        "from sklearn.naive_bayes import MultinomialNB"
      ]
    },
    {
      "cell_type": "code",
      "execution_count": null,
      "id": "3e8f160a",
      "metadata": {
        "id": "3e8f160a"
      },
      "outputs": [],
      "source": [
        "model = MultinomialNB()"
      ]
    },
    {
      "cell_type": "code",
      "execution_count": null,
      "id": "5449d21f",
      "metadata": {
        "colab": {
          "base_uri": "https://localhost:8080/"
        },
        "id": "5449d21f",
        "outputId": "925d7361-2320-497b-c6b3-4e770761f864"
      },
      "outputs": [
        {
          "output_type": "execute_result",
          "data": {
            "text/plain": [
              "MultinomialNB()"
            ]
          },
          "metadata": {},
          "execution_count": 68
        }
      ],
      "source": [
        "model.fit(X_train, y_train)"
      ]
    },
    {
      "cell_type": "markdown",
      "id": "eaeef9f8",
      "metadata": {
        "id": "eaeef9f8"
      },
      "source": [
        "## Model Prediction"
      ]
    },
    {
      "cell_type": "code",
      "execution_count": null,
      "id": "bf2ec037",
      "metadata": {
        "id": "bf2ec037"
      },
      "outputs": [],
      "source": [
        "y_pred = model.predict(X_test)"
      ]
    },
    {
      "cell_type": "code",
      "execution_count": null,
      "id": "89b58f2a",
      "metadata": {
        "colab": {
          "base_uri": "https://localhost:8080/"
        },
        "id": "89b58f2a",
        "outputId": "c7f265c4-8fe5-4b3a-e91b-64104b275339"
      },
      "outputs": [
        {
          "output_type": "execute_result",
          "data": {
            "text/plain": [
              "(7046,)"
            ]
          },
          "metadata": {},
          "execution_count": 70
        }
      ],
      "source": [
        "y_pred.shape"
      ]
    },
    {
      "cell_type": "code",
      "execution_count": null,
      "id": "157a5b04",
      "metadata": {
        "colab": {
          "base_uri": "https://localhost:8080/"
        },
        "id": "157a5b04",
        "outputId": "85c25195-206e-400e-dd5e-ef0f50c3915d"
      },
      "outputs": [
        {
          "output_type": "execute_result",
          "data": {
            "text/plain": [
              "array([1., 1., 0., ..., 1., 0., 1.])"
            ]
          },
          "metadata": {},
          "execution_count": 71
        }
      ],
      "source": [
        "y_pred"
      ]
    },
    {
      "cell_type": "markdown",
      "id": "09d627b4",
      "metadata": {
        "id": "09d627b4"
      },
      "source": [
        "## Model Evaluation"
      ]
    },
    {
      "cell_type": "code",
      "execution_count": null,
      "id": "237d8f03",
      "metadata": {
        "id": "237d8f03"
      },
      "outputs": [],
      "source": [
        "from sklearn.metrics import confusion_matrix, classification_report"
      ]
    },
    {
      "cell_type": "code",
      "execution_count": null,
      "id": "a562befa",
      "metadata": {
        "colab": {
          "base_uri": "https://localhost:8080/"
        },
        "id": "a562befa",
        "outputId": "55360ebd-0872-43fa-d5c2-9c767f8bfc0f"
      },
      "outputs": [
        {
          "output_type": "stream",
          "name": "stdout",
          "text": [
            "[[ 476 1107]\n",
            " [ 964 4499]]\n"
          ]
        }
      ],
      "source": [
        "print(confusion_matrix(y_test, y_pred))"
      ]
    },
    {
      "cell_type": "code",
      "execution_count": null,
      "id": "0c72ee4b",
      "metadata": {
        "scrolled": true,
        "colab": {
          "base_uri": "https://localhost:8080/"
        },
        "id": "0c72ee4b",
        "outputId": "fb5f7fa1-30a3-414c-cf65-53023bf1e3ed"
      },
      "outputs": [
        {
          "output_type": "stream",
          "name": "stdout",
          "text": [
            "              precision    recall  f1-score   support\n",
            "\n",
            "         0.0       0.33      0.30      0.31      1583\n",
            "         1.0       0.80      0.82      0.81      5463\n",
            "\n",
            "    accuracy                           0.71      7046\n",
            "   macro avg       0.57      0.56      0.56      7046\n",
            "weighted avg       0.70      0.71      0.70      7046\n",
            "\n"
          ]
        }
      ],
      "source": [
        "print(classification_report(y_test, y_pred))"
      ]
    }
  ],
  "metadata": {
    "kernelspec": {
      "display_name": "Python 3 (ipykernel)",
      "language": "python",
      "name": "python3"
    },
    "language_info": {
      "codemirror_mode": {
        "name": "ipython",
        "version": 3
      },
      "file_extension": ".py",
      "mimetype": "text/x-python",
      "name": "python",
      "nbconvert_exporter": "python",
      "pygments_lexer": "ipython3",
      "version": "3.9.1"
    },
    "colab": {
      "name": "Women_Cloths_Review.ipynb",
      "provenance": [],
      "collapsed_sections": [
        "e05439cb",
        "991d47e9",
        "ddaf6cd5",
        "114a169e",
        "f85201b6",
        "7ce15f27"
      ]
    }
  },
  "nbformat": 4,
  "nbformat_minor": 5
}