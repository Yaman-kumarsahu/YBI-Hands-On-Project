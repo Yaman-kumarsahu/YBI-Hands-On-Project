{
  "nbformat": 4,
  "nbformat_minor": 0,
  "metadata": {
    "colab": {
      "name": "Hand Written Digit Classification",
      "provenance": [],
      "collapsed_sections": [
        "o_o9Dncq0byQ",
        "4ez38JAT1P7a",
        "2eIhnRnf3ZUR",
        "b6A5EVm65LAH",
        "9Gm9nksm7YK-",
        "7WJLG60M70EK"
      ]
    },
    "kernelspec": {
      "name": "python3",
      "display_name": "Python 3"
    },
    "language_info": {
      "name": "python"
    }
  },
  "cells": [
    {
      "cell_type": "markdown",
      "source": [
        "# **Hand Written Digit Classification**"
      ],
      "metadata": {
        "id": "TgTPyaLti_wM"
      }
    },
    {
      "cell_type": "markdown",
      "source": [
        "##**Import Library**"
      ],
      "metadata": {
        "id": "o_o9Dncq0byQ"
      }
    },
    {
      "cell_type": "code",
      "source": [
        "import pandas as pd\n",
        "import numpy as np\n",
        "import matplotlib.pyplot as plt"
      ],
      "metadata": {
        "id": "K-6Cc5OF0sWI"
      },
      "execution_count": null,
      "outputs": []
    },
    {
      "cell_type": "markdown",
      "source": [
        "##**Import Data**"
      ],
      "metadata": {
        "id": "4ez38JAT1P7a"
      }
    },
    {
      "cell_type": "code",
      "source": [
        "from sklearn.datasets import load_digits"
      ],
      "metadata": {
        "id": "rEx38wgc1Stw"
      },
      "execution_count": null,
      "outputs": []
    },
    {
      "cell_type": "code",
      "source": [
        "df = load_digits()"
      ],
      "metadata": {
        "id": "mGU-K7kO1bXQ"
      },
      "execution_count": null,
      "outputs": []
    },
    {
      "cell_type": "code",
      "source": [
        "_,axes = plt.subplots(nrows=1, ncols=4, figsize=(10, 3))\n",
        "for ax, image, label in zip(axes, df.images, df.target):\n",
        "  ax.set_axis_off()\n",
        "  ax.imshow(image, cmap=plt.cm.gray_r, interpolation=\"nearest\")\n",
        "  ax.set_title(\"Training: %i\" % label)"
      ],
      "metadata": {
        "colab": {
          "base_uri": "https://localhost:8080/"
        },
        "id": "jjZQLON01sTO",
        "outputId": "d4395e8e-d3d7-4181-afdb-3848d6a5e6c4"
      },
      "execution_count": null,
      "outputs": [
        {
          "output_type": "display_data",
          "data": {
            "text/plain": [
              "<Figure size 720x216 with 4 Axes>"
            ],
            "image/png": "[encoded data removed]"
          },
          "metadata": {
            "needs_background": "light"
          }
        }
      ]
    },
    {
      "cell_type": "markdown",
      "source": [
        "##**Data Preprocessing**"
      ],
      "metadata": {
        "id": "2eIhnRnf3ZUR"
      }
    },
    {
      "cell_type": "code",
      "source": [
        "df.images.shape"
      ],
      "metadata": {
        "colab": {
          "base_uri": "https://localhost:8080/"
        },
        "id": "3UM17bc13jlK",
        "outputId": "2f9d97c3-949f-418d-b1e3-e5a27304e4f4"
      },
      "execution_count": null,
      "outputs": [
        {
          "output_type": "execute_result",
          "data": {
            "text/plain": [
              "(1797, 8, 8)"
            ]
          },
          "metadata": {},
          "execution_count": 5
        }
      ]
    },
    {
      "cell_type": "code",
      "source": [
        "df.images[0]"
      ],
      "metadata": {
        "colab": {
          "base_uri": "https://localhost:8080/"
        },
        "id": "1s_UyTCw3qUg",
        "outputId": "566464d1-670a-4f44-e898-acc2fa6f30d9"
      },
      "execution_count": null,
      "outputs": [
        {
          "output_type": "execute_result",
          "data": {
            "text/plain": [
              "array([[ 0.,  0.,  5., 13.,  9.,  1.,  0.,  0.],\n",
              "       [ 0.,  0., 13., 15., 10., 15.,  5.,  0.],\n",
              "       [ 0.,  3., 15.,  2.,  0., 11.,  8.,  0.],\n",
              "       [ 0.,  4., 12.,  0.,  0.,  8.,  8.,  0.],\n",
              "       [ 0.,  5.,  8.,  0.,  0.,  9.,  8.,  0.],\n",
              "       [ 0.,  4., 11.,  0.,  1., 12.,  7.,  0.],\n",
              "       [ 0.,  2., 14.,  5., 10., 12.,  0.,  0.],\n",
              "       [ 0.,  0.,  6., 13., 10.,  0.,  0.,  0.]])"
            ]
          },
          "metadata": {},
          "execution_count": 6
        }
      ]
    },
    {
      "cell_type": "code",
      "source": [
        "df.images[0].shape"
      ],
      "metadata": {
        "colab": {
          "base_uri": "https://localhost:8080/"
        },
        "id": "zxkYiuBU3uEN",
        "outputId": "064e4418-ff61-44fa-d0e8-8bae4817d157"
      },
      "execution_count": null,
      "outputs": [
        {
          "output_type": "execute_result",
          "data": {
            "text/plain": [
              "(8, 8)"
            ]
          },
          "metadata": {},
          "execution_count": 7
        }
      ]
    },
    {
      "cell_type": "code",
      "source": [
        "n_samples = len(df.images)\n",
        "data = df.images.reshape((n_samples, -1))"
      ],
      "metadata": {
        "id": "C5Er5L3F363f"
      },
      "execution_count": null,
      "outputs": []
    },
    {
      "cell_type": "code",
      "source": [
        "data[0]"
      ],
      "metadata": {
        "colab": {
          "base_uri": "https://localhost:8080/"
        },
        "id": "rHkMAER649ZQ",
        "outputId": "b26822b8-1ccb-491b-d9ce-2a7640394bba"
      },
      "execution_count": null,
      "outputs": [
        {
          "output_type": "execute_result",
          "data": {
            "text/plain": [
              "array([ 0.,  0.,  5., 13.,  9.,  1.,  0.,  0.,  0.,  0., 13., 15., 10.,\n",
              "       15.,  5.,  0.,  0.,  3., 15.,  2.,  0., 11.,  8.,  0.,  0.,  4.,\n",
              "       12.,  0.,  0.,  8.,  8.,  0.,  0.,  5.,  8.,  0.,  0.,  9.,  8.,\n",
              "        0.,  0.,  4., 11.,  0.,  1., 12.,  7.,  0.,  0.,  2., 14.,  5.,\n",
              "       10., 12.,  0.,  0.,  0.,  0.,  6., 13., 10.,  0.,  0.,  0.])"
            ]
          },
          "metadata": {},
          "execution_count": 9
        }
      ]
    },
    {
      "cell_type": "code",
      "source": [
        "data[0].shape"
      ],
      "metadata": {
        "colab": {
          "base_uri": "https://localhost:8080/"
        },
        "id": "y9oyyJca4_fq",
        "outputId": "9c9653b5-9950-43df-dabe-03b7d9909c9d"
      },
      "execution_count": null,
      "outputs": [
        {
          "output_type": "execute_result",
          "data": {
            "text/plain": [
              "(64,)"
            ]
          },
          "metadata": {},
          "execution_count": 10
        }
      ]
    },
    {
      "cell_type": "code",
      "source": [
        "data.shape"
      ],
      "metadata": {
        "colab": {
          "base_uri": "https://localhost:8080/"
        },
        "id": "klam3t2w5CB-",
        "outputId": "e0487daf-dcd0-4ac1-a2bd-e772717917fa"
      },
      "execution_count": null,
      "outputs": [
        {
          "output_type": "execute_result",
          "data": {
            "text/plain": [
              "(1797, 64)"
            ]
          },
          "metadata": {},
          "execution_count": 11
        }
      ]
    },
    {
      "cell_type": "markdown",
      "source": [
        "##**Scaling Data**"
      ],
      "metadata": {
        "id": "b6A5EVm65LAH"
      }
    },
    {
      "cell_type": "code",
      "source": [
        "data.min()"
      ],
      "metadata": {
        "colab": {
          "base_uri": "https://localhost:8080/"
        },
        "id": "HOPPnGIU5PR_",
        "outputId": "4685e6ab-3498-4cb0-a9cd-0742fe9c32bf"
      },
      "execution_count": null,
      "outputs": [
        {
          "output_type": "execute_result",
          "data": {
            "text/plain": [
              "0.0"
            ]
          },
          "metadata": {},
          "execution_count": 12
        }
      ]
    },
    {
      "cell_type": "code",
      "source": [
        "data.max()"
      ],
      "metadata": {
        "colab": {
          "base_uri": "https://localhost:8080/"
        },
        "id": "Zt_anWOd5y7z",
        "outputId": "75f446a4-4def-49f2-db2c-267df52415e3"
      },
      "execution_count": null,
      "outputs": [
        {
          "output_type": "execute_result",
          "data": {
            "text/plain": [
              "16.0"
            ]
          },
          "metadata": {},
          "execution_count": 13
        }
      ]
    },
    {
      "cell_type": "code",
      "source": [
        "data = data/16"
      ],
      "metadata": {
        "id": "8wA8I8o5501A"
      },
      "execution_count": null,
      "outputs": []
    },
    {
      "cell_type": "code",
      "source": [
        "data.min()"
      ],
      "metadata": {
        "colab": {
          "base_uri": "https://localhost:8080/"
        },
        "id": "ygZtT7xf6G4n",
        "outputId": "0e456c23-cefe-4ffc-b75a-3871a8a81933"
      },
      "execution_count": null,
      "outputs": [
        {
          "output_type": "execute_result",
          "data": {
            "text/plain": [
              "0.0"
            ]
          },
          "metadata": {},
          "execution_count": 15
        }
      ]
    },
    {
      "cell_type": "code",
      "source": [
        "data.max()"
      ],
      "metadata": {
        "colab": {
          "base_uri": "https://localhost:8080/"
        },
        "id": "uwywY2-16IT3",
        "outputId": "da2df607-fab7-4c8a-e285-4e0e304dbd1d"
      },
      "execution_count": null,
      "outputs": [
        {
          "output_type": "execute_result",
          "data": {
            "text/plain": [
              "1.0"
            ]
          },
          "metadata": {},
          "execution_count": 16
        }
      ]
    },
    {
      "cell_type": "code",
      "source": [
        "data[0]"
      ],
      "metadata": {
        "colab": {
          "base_uri": "https://localhost:8080/"
        },
        "id": "XxqR09ps6TFJ",
        "outputId": "f945d071-23f6-41f4-f9cb-b8cb4717113e"
      },
      "execution_count": null,
      "outputs": [
        {
          "output_type": "execute_result",
          "data": {
            "text/plain": [
              "array([0.    , 0.    , 0.3125, 0.8125, 0.5625, 0.0625, 0.    , 0.    ,\n",
              "       0.    , 0.    , 0.8125, 0.9375, 0.625 , 0.9375, 0.3125, 0.    ,\n",
              "       0.    , 0.1875, 0.9375, 0.125 , 0.    , 0.6875, 0.5   , 0.    ,\n",
              "       0.    , 0.25  , 0.75  , 0.    , 0.    , 0.5   , 0.5   , 0.    ,\n",
              "       0.    , 0.3125, 0.5   , 0.    , 0.    , 0.5625, 0.5   , 0.    ,\n",
              "       0.    , 0.25  , 0.6875, 0.    , 0.0625, 0.75  , 0.4375, 0.    ,\n",
              "       0.    , 0.125 , 0.875 , 0.3125, 0.625 , 0.75  , 0.    , 0.    ,\n",
              "       0.    , 0.    , 0.375 , 0.8125, 0.625 , 0.    , 0.    , 0.    ])"
            ]
          },
          "metadata": {},
          "execution_count": 17
        }
      ]
    },
    {
      "cell_type": "markdown",
      "source": [
        "##**Train Test Split Data**"
      ],
      "metadata": {
        "id": "1KrAlC4J6cs4"
      }
    },
    {
      "cell_type": "code",
      "source": [
        "from sklearn.model_selection import train_test_split"
      ],
      "metadata": {
        "id": "tsHbp0s-6gyb"
      },
      "execution_count": null,
      "outputs": []
    },
    {
      "cell_type": "code",
      "source": [
        "X_train, X_test, y_train, y_test = train_test_split(data,df.target, test_size=0.3 , random_state=252529)"
      ],
      "metadata": {
        "id": "NxaKhafa6qCw"
      },
      "execution_count": null,
      "outputs": []
    },
    {
      "cell_type": "code",
      "source": [
        "X_train.shape, X_test.shape, y_train.shape, y_test.shape"
      ],
      "metadata": {
        "colab": {
          "base_uri": "https://localhost:8080/"
        },
        "id": "KAvre1ni7PhC",
        "outputId": "618d8f92-3648-4d3e-a266-b5fd6cc172dd"
      },
      "execution_count": null,
      "outputs": [
        {
          "output_type": "execute_result",
          "data": {
            "text/plain": [
              "((1257, 64), (540, 64), (1257,), (540,))"
            ]
          },
          "metadata": {},
          "execution_count": 20
        }
      ]
    },
    {
      "cell_type": "markdown",
      "source": [
        "##**Random Forest Model**"
      ],
      "metadata": {
        "id": "9Gm9nksm7YK-"
      }
    },
    {
      "cell_type": "code",
      "source": [
        "from sklearn.ensemble import RandomForestClassifier"
      ],
      "metadata": {
        "id": "ev4UQnZF7drl"
      },
      "execution_count": null,
      "outputs": []
    },
    {
      "cell_type": "code",
      "source": [
        "rf = RandomForestClassifier()"
      ],
      "metadata": {
        "id": "9SaQ5xXr7nx5"
      },
      "execution_count": null,
      "outputs": []
    },
    {
      "cell_type": "code",
      "source": [
        "rf.fit(X_train, y_train)"
      ],
      "metadata": {
        "colab": {
          "base_uri": "https://localhost:8080/"
        },
        "id": "Z7io9wtp7r2r",
        "outputId": "0b0ca64b-bb7f-412f-eb60-5cdcaa13593c"
      },
      "execution_count": null,
      "outputs": [
        {
          "output_type": "execute_result",
          "data": {
            "text/plain": [
              "RandomForestClassifier()"
            ]
          },
          "metadata": {},
          "execution_count": 23
        }
      ]
    },
    {
      "cell_type": "markdown",
      "source": [
        "##**Predict Test Data**"
      ],
      "metadata": {
        "id": "7WJLG60M70EK"
      }
    },
    {
      "cell_type": "code",
      "source": [
        "y_pred = rf.predict(X_test)"
      ],
      "metadata": {
        "id": "cvDChtmg73Vk"
      },
      "execution_count": null,
      "outputs": []
    },
    {
      "cell_type": "code",
      "source": [
        "y_pred"
      ],
      "metadata": {
        "colab": {
          "base_uri": "https://localhost:8080/"
        },
        "id": "HzopnHSQ77M7",
        "outputId": "6ebf081e-dbc1-4377-e436-fd91abfddb5a"
      },
      "execution_count": null,
      "outputs": [
        {
          "output_type": "execute_result",
          "data": {
            "text/plain": [
              "array([0, 0, 1, 9, 5, 5, 6, 0, 5, 0, 4, 8, 4, 1, 6, 3, 5, 4, 2, 0, 8, 0,\n",
              "       6, 0, 5, 0, 4, 6, 6, 9, 8, 9, 6, 2, 1, 1, 1, 0, 3, 5, 1, 4, 4, 6,\n",
              "       6, 9, 7, 2, 3, 0, 2, 0, 9, 0, 6, 4, 7, 3, 5, 3, 1, 9, 1, 1, 6, 2,\n",
              "       2, 4, 3, 4, 0, 4, 2, 2, 9, 0, 0, 2, 4, 3, 7, 7, 7, 4, 7, 2, 1, 6,\n",
              "       4, 0, 3, 2, 4, 0, 6, 8, 1, 3, 2, 8, 2, 5, 6, 7, 0, 1, 4, 7, 8, 1,\n",
              "       7, 6, 6, 1, 0, 4, 6, 3, 1, 9, 6, 2, 1, 9, 5, 3, 9, 1, 6, 5, 0, 5,\n",
              "       5, 8, 3, 0, 8, 0, 6, 7, 6, 1, 3, 9, 3, 4, 4, 9, 5, 4, 2, 0, 0, 3,\n",
              "       7, 4, 2, 4, 2, 9, 5, 0, 0, 3, 0, 6, 9, 5, 0, 5, 6, 1, 8, 3, 8, 2,\n",
              "       3, 5, 5, 9, 1, 2, 9, 0, 1, 8, 7, 2, 4, 9, 3, 1, 8, 6, 3, 3, 5, 4,\n",
              "       5, 3, 3, 5, 7, 5, 1, 6, 3, 5, 6, 5, 2, 4, 7, 1, 1, 7, 2, 9, 4, 5,\n",
              "       1, 6, 2, 3, 5, 2, 3, 3, 2, 2, 7, 4, 5, 8, 3, 9, 9, 8, 8, 3, 7, 8,\n",
              "       2, 5, 8, 4, 4, 4, 0, 5, 7, 8, 9, 7, 3, 7, 2, 6, 6, 8, 6, 1, 7, 9,\n",
              "       7, 6, 3, 6, 9, 2, 4, 4, 7, 0, 7, 3, 0, 6, 7, 8, 1, 0, 3, 9, 4, 5,\n",
              "       4, 9, 0, 0, 5, 8, 9, 0, 4, 0, 9, 5, 1, 3, 1, 5, 8, 4, 8, 9, 2, 8,\n",
              "       1, 0, 0, 4, 9, 5, 6, 4, 0, 9, 1, 1, 8, 7, 7, 3, 3, 3, 9, 5, 5, 9,\n",
              "       4, 1, 6, 3, 1, 2, 2, 8, 1, 5, 3, 9, 4, 6, 7, 6, 5, 4, 5, 3, 8, 0,\n",
              "       1, 1, 3, 8, 7, 0, 0, 0, 6, 3, 7, 3, 5, 8, 6, 1, 6, 4, 1, 1, 1, 3,\n",
              "       5, 4, 0, 3, 1, 7, 3, 9, 2, 4, 5, 2, 3, 2, 7, 0, 9, 6, 9, 6, 1, 2,\n",
              "       4, 9, 7, 0, 1, 4, 3, 5, 0, 1, 7, 8, 3, 1, 8, 1, 2, 0, 7, 3, 1, 9,\n",
              "       5, 5, 4, 4, 7, 9, 1, 8, 8, 2, 0, 4, 4, 5, 7, 8, 2, 0, 3, 9, 3, 8,\n",
              "       5, 6, 2, 5, 8, 8, 3, 4, 5, 4, 8, 2, 7, 9, 4, 0, 0, 3, 0, 8, 5, 9,\n",
              "       0, 7, 7, 6, 9, 6, 6, 6, 6, 1, 8, 0, 0, 4, 7, 2, 8, 6, 6, 9, 9, 7,\n",
              "       0, 3, 7, 9, 2, 7, 4, 3, 8, 7, 8, 0, 7, 3, 6, 9, 4, 4, 1, 7, 6, 2,\n",
              "       7, 0, 5, 6, 7, 4, 5, 8, 8, 2, 8, 6, 9, 9, 3, 8, 8, 0, 8, 6, 7, 7,\n",
              "       0, 6, 4, 1, 4, 7, 2, 9, 1, 4, 0, 3])"
            ]
          },
          "metadata": {},
          "execution_count": 25
        }
      ]
    },
    {
      "cell_type": "markdown",
      "source": [
        "##**Model Accuracy**"
      ],
      "metadata": {
        "id": "uPbxJyfR7-dl"
      }
    },
    {
      "cell_type": "code",
      "source": [
        "from sklearn.metrics import confusion_matrix, classification_report"
      ],
      "metadata": {
        "id": "-6CA2Yo78zww"
      },
      "execution_count": null,
      "outputs": []
    },
    {
      "cell_type": "code",
      "source": [
        "confusion_matrix(y_test, y_pred)"
      ],
      "metadata": {
        "colab": {
          "base_uri": "https://localhost:8080/"
        },
        "id": "0fZBDYEQ9DJk",
        "outputId": "a3f9e2c1-71a2-49cf-a1d7-000243ccc3c7"
      },
      "execution_count": null,
      "outputs": [
        {
          "output_type": "execute_result",
          "data": {
            "text/plain": [
              "array([[62,  0,  0,  0,  1,  0,  0,  0,  0,  0],\n",
              "       [ 0, 51,  0,  0,  0,  1,  0,  0,  0,  0],\n",
              "       [ 0,  0, 45,  0,  0,  0,  0,  0,  0,  0],\n",
              "       [ 0,  0,  1, 57,  0,  0,  0,  1,  0,  2],\n",
              "       [ 0,  0,  0,  0, 58,  0,  0,  1,  0,  0],\n",
              "       [ 0,  0,  0,  0,  0, 48,  0,  0,  0,  0],\n",
              "       [ 1,  0,  0,  0,  0,  0, 55,  0,  0,  0],\n",
              "       [ 0,  0,  0,  0,  0,  0,  0, 48,  0,  1],\n",
              "       [ 0,  3,  0,  0,  1,  1,  0,  0, 47,  0],\n",
              "       [ 0,  0,  0,  2,  0,  2,  0,  2,  2, 47]])"
            ]
          },
          "metadata": {},
          "execution_count": 27
        }
      ]
    },
    {
      "cell_type": "code",
      "source": [
        "print(classification_report(y_test, y_pred))"
      ],
      "metadata": {
        "colab": {
          "base_uri": "https://localhost:8080/"
        },
        "id": "Nzn_YjAw9Iba",
        "outputId": "0297afc4-e547-4ada-efe8-24bfc7d35790"
      },
      "execution_count": null,
      "outputs": [
        {
          "output_type": "stream",
          "name": "stdout",
          "text": [
            "              precision    recall  f1-score   support\n",
            "\n",
            "           0       0.98      0.98      0.98        63\n",
            "           1       0.94      0.98      0.96        52\n",
            "           2       0.98      1.00      0.99        45\n",
            "           3       0.97      0.93      0.95        61\n",
            "           4       0.97      0.98      0.97        59\n",
            "           5       0.92      1.00      0.96        48\n",
            "           6       1.00      0.98      0.99        56\n",
            "           7       0.92      0.98      0.95        49\n",
            "           8       0.96      0.90      0.93        52\n",
            "           9       0.94      0.85      0.90        55\n",
            "\n",
            "    accuracy                           0.96       540\n",
            "   macro avg       0.96      0.96      0.96       540\n",
            "weighted avg       0.96      0.96      0.96       540\n",
            "\n"
          ]
        }
      ]
    }
  ]
}